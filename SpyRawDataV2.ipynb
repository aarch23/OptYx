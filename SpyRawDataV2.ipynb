{
 "cells": [
  {
   "cell_type": "code",
   "execution_count": null,
   "id": "8e3afa8f-99b3-4799-8f78-88e6e0a34b34",
   "metadata": {},
   "outputs": [],
   "source": [
    "import pandas as pd \n",
    "import numpy as np \n",
    "from pathlib import Path"
   ]
  },
  {
   "cell_type": "code",
   "execution_count": null,
   "id": "e8ad25bc-9236-42fe-a3b5-552b79492dbe",
   "metadata": {},
   "outputs": [],
   "source": [
    "spy_feb_raw = pd.read_csv(\"./Resources/spy_30x_202202.txt\")\n",
    "spy_feb_raw.to_csv(\"./Resources/spy_30x_202202.csv\", index=None)"
   ]
  },
  {
   "cell_type": "code",
   "execution_count": null,
   "id": "5ecb5e3e-bd9e-4160-9c23-7ede37a2b050",
   "metadata": {},
   "outputs": [],
   "source": [
    "spy_feb_raw.head()\n",
    "    "
   ]
  },
  {
   "cell_type": "code",
   "execution_count": null,
   "id": "f8cd775e-24dc-42ee-976f-92fe09f089ad",
   "metadata": {},
   "outputs": [],
   "source": [
    "# Dropping all the PUT columns since it is not needed - how to get the last 2 rows back tho?\n",
    "\n",
    "spy_feb_raw.drop(spy_feb_raw.iloc[:, 20:31], inplace = True , axis=1)\n",
    "\n",
    "spy_feb_raw.tail()"
   ]
  },
  {
   "cell_type": "code",
   "execution_count": null,
   "id": "2042dc51-fb2c-4361-99a0-7708343c9a7b",
   "metadata": {},
   "outputs": [],
   "source": [
    "spy_jan_raw = pd.read_csv(\"./Resources/spy_30x_202201.txt\")\n",
    "spy_jan_raw.to_csv(\"./Resources/spy_30x_202201.csv\", index=None)"
   ]
  },
  {
   "cell_type": "code",
   "execution_count": null,
   "id": "b040066c-5ae2-42b8-b2f1-ff23faad4281",
   "metadata": {},
   "outputs": [],
   "source": [
    "spy_jan_raw.head()"
   ]
  },
  {
   "cell_type": "code",
   "execution_count": null,
   "id": "2fff0441-87e3-4e1a-8a57-631e28977955",
   "metadata": {},
   "outputs": [],
   "source": [
    "# Dropping all the PUT columns since it is not needed - how to get the last 2 rows back tho?\n",
    "\n",
    "spy_jan_raw.drop(spy_jan_raw.iloc[:, 20:31], inplace = True , axis=1)\n",
    "\n",
    "spy_jan_raw.tail()"
   ]
  },
  {
   "cell_type": "code",
   "execution_count": null,
   "id": "47d8666f-cfc0-43d3-b77a-201f3ed0dd55",
   "metadata": {},
   "outputs": [],
   "source": [
    "spy_mar_raw = pd.read_csv(\"./Resources/spy_30x_202203.txt\")\n",
    "spy_mar_raw.to_csv(\"./Resources/spy_30x_202203.csv\", index=None)"
   ]
  },
  {
   "cell_type": "code",
   "execution_count": null,
   "id": "0a458647-214d-4b73-8caa-9b61623cd88e",
   "metadata": {},
   "outputs": [],
   "source": [
    "# Dropping all the PUT columns since it is not needed - how to get the last 2 rows back tho?\n",
    "\n",
    "spy_mar_raw.drop(spy_mar_raw.iloc[:, 20:31], inplace = True , axis=1)\n",
    "\n",
    "spy_mar_raw.tail()"
   ]
  },
  {
   "cell_type": "code",
   "execution_count": null,
   "id": "8b1907f8-273c-4fdf-94c4-75cff3719403",
   "metadata": {},
   "outputs": [],
   "source": [
    "spy_data_raw = pd.concat([spy_jan_raw, spy_feb_raw, spy_mar_raw])"
   ]
  },
  {
   "cell_type": "code",
   "execution_count": null,
   "id": "306663c2-8087-4708-b2c6-611016211432",
   "metadata": {},
   "outputs": [],
   "source": [
    "display(spy_data_raw.iloc[1380930:])"
   ]
  },
  {
   "cell_type": "code",
   "execution_count": null,
   "id": "75b6a6a7-0363-4a36-8d8e-5c16bc8ddcde",
   "metadata": {},
   "outputs": [],
   "source": [
    "display(spy_data_raw.head())\n",
    "display(spy_data_raw.tail())"
   ]
  },
  {
   "cell_type": "code",
   "execution_count": null,
   "id": "de61598d-8f0c-4988-b8c9-d10b69cafbd3",
   "metadata": {},
   "outputs": [],
   "source": [
    "#spy_data_v1 = spy_data_raw.drop(columns=[\"[QUOTE_UNIXTIME]\", \"[QUOTE_DATE]\",  \"[QUOTE_TIME_HOURS]', '[EXPIRE_UNIX]','[C_BID]', '[C_ASK]' , '[C_SIZE]'])\n",
    "\n",
    "#spy_data_v2 = spy_data_raw.drop(columns=[\"[QUOTE_UNIXTIME]\",\" [QUOTE_DATE]\", \" [QUOTE_TIME_HOURS]\", \" [EXPIRE_UNIX]\", \" [C_BID]\", \" [C_ASK]\", \" [C_SIZE]\"])\n",
    "\n",
    "spy_data_raw.columns"
   ]
  },
  {
   "cell_type": "code",
   "execution_count": null,
   "id": "52323d1f-38fa-417f-8c0c-740f1dcc7552",
   "metadata": {},
   "outputs": [],
   "source": [
    "spy_data_v2 = spy_data_raw.drop(columns=[\"[QUOTE_UNIXTIME]\",\" [QUOTE_DATE]\", \" [QUOTE_TIME_HOURS]\", \" [EXPIRE_UNIX]\", \" [C_BID]\", \" [C_ASK]\", \" [C_SIZE]\"])"
   ]
  },
  {
   "cell_type": "code",
   "execution_count": null,
   "id": "42ec4954-f178-4c56-9b6d-7f3a77733c7e",
   "metadata": {},
   "outputs": [],
   "source": [
    "spy_data_v2.head()"
   ]
  },
  {
   "cell_type": "code",
   "execution_count": null,
   "id": "a70c2fdd-1f13-429b-9d52-54dcff5e7cad",
   "metadata": {},
   "outputs": [],
   "source": [
    "# fixing the format of the column names \n",
    "\n",
    "spy_data_v2.rename(columns = {' [QUOTE_READTIME]': 'QUOTE_READTIME',' [UNDERLYING_LAST]': 'UNDERLYING_LAST', ' [EXPIRE_DATE]' : 'EXPIRE_DATE', ' [DTE]': 'DTE', ' [C_DELTA]' : 'C_DELTA', ' [C_GAMMA]' : 'C_GAMMA', ' [C_VEGA]': 'C_VEGA', ' [C_THETA]': 'C_THETA', ' [C_RHO]': 'C_RHO', ' [C_IV]': 'C_IV', ' [C_VOLUME]': 'C_VOLUME', ' [C_LAST]': 'C_LAST', ' [STRIKE]': 'STRIKE', ' [STRIKE_DISTANCE]': 'STRIKE_DISTANCE', ' [STRIKE_DISTANCE_PCT]': 'STRIKE_DISTANCE_PCT'}, inplace = True)"
   ]
  },
  {
   "cell_type": "code",
   "execution_count": null,
   "id": "fddafc35-d093-43f9-8c4d-fd81bcec721b",
   "metadata": {},
   "outputs": [],
   "source": [
    "spy_data_v2.columns"
   ]
  },
  {
   "cell_type": "code",
   "execution_count": null,
   "id": "67e2f238-8549-4281-b7b0-09596bbaed58",
   "metadata": {},
   "outputs": [],
   "source": [
    "spy_data_v2.head()"
   ]
  },
  {
   "cell_type": "code",
   "execution_count": null,
   "id": "cd3f3161-65bc-4551-9756-dae1aebda733",
   "metadata": {},
   "outputs": [],
   "source": [
    "spy_data_v2['STRIKE DISTANCE'] = spy_data_v2['STRIKE'] - spy_data_v2['UNDERLYING_LAST']\n",
    "\n",
    "display(spy_data_v2.head())"
   ]
  },
  {
   "cell_type": "code",
   "execution_count": null,
   "id": "4b5c1b43-f5dc-4f6b-b3f5-3205d4e3574e",
   "metadata": {},
   "outputs": [],
   "source": [
    "spy_data_v3 = spy_data_v2.drop(columns=['STRIKE_DISTANCE'])\n",
    "spy_data_v3.head()"
   ]
  },
  {
   "cell_type": "code",
   "execution_count": null,
   "id": "7a9d32e1-2969-4415-a79d-437a4e0b0051",
   "metadata": {},
   "outputs": [],
   "source": [
    "# setting the index to the contract readtime  \n",
    "\n",
    "# spy_data_v4 = spy_data_v3.set_index('QUOTE_READTIME')"
   ]
  },
  {
   "cell_type": "code",
   "execution_count": null,
   "id": "da1c5dd3-2449-4635-b547-0086cf63d22d",
   "metadata": {},
   "outputs": [],
   "source": [
    "# filtering out strikes values that will not be used since the spread was quite large - retaining 15 total strikes \n",
    "# Import data\n",
    "\n",
    "\n",
    "spy_data_v3 = spy_data_v3[\n",
    "    (spy_data_v3['STRIKE DISTANCE'] <= 10.00) & (spy_data_v3['STRIKE DISTANCE'] > -5.00)\n",
    "]\n",
    "\n",
    "spy_data_v3"
   ]
  },
  {
   "cell_type": "code",
   "execution_count": null,
   "id": "a66e64f0-5de8-47bb-ac4a-b7ec951eb400",
   "metadata": {},
   "outputs": [],
   "source": [
    "#spy_data_v3.to_csv(\"./Resources/spycallsV8.csv\", index=None)"
   ]
  },
  {
   "cell_type": "markdown",
   "id": "3c0382af-a988-4882-bb94-e522d46e1352",
   "metadata": {},
   "source": [
    "# Start Here"
   ]
  },
  {
   "cell_type": "code",
   "execution_count": null,
   "id": "e6b7808e-eede-4bdf-9758-2f7969196004",
   "metadata": {},
   "outputs": [],
   "source": [
    "import pandas as pd \n",
    "import numpy as np \n",
    "from pathlib import Path"
   ]
  },
  {
   "cell_type": "code",
   "execution_count": null,
   "id": "d44229b0-d4e6-438d-9285-17c794b960db",
   "metadata": {},
   "outputs": [],
   "source": [
    "spy_path = Path('./Resources/spycallsV9.csv')\n",
    "spy_data_v5 = pd.read_csv(spy_path)"
   ]
  },
  {
   "cell_type": "code",
   "execution_count": null,
   "id": "ef9d5ca5-c0d9-4858-a29c-551561bd3c4c",
   "metadata": {},
   "outputs": [],
   "source": [
    "spy_data_v5.tail()"
   ]
  },
  {
   "cell_type": "code",
   "execution_count": null,
   "id": "4df991fd-8e29-4f96-9304-bf9095ef0a3d",
   "metadata": {},
   "outputs": [],
   "source": []
  },
  {
   "cell_type": "code",
   "execution_count": null,
   "id": "922341e7-84af-40f7-b674-8bb4bdf868b5",
   "metadata": {},
   "outputs": [],
   "source": [
    "spy_data_v6 = spy_data_v5[\n",
    "    (spy_data_v5['DTE'] <= 11.0) \n",
    "]\n",
    "\n",
    "spy_data_v6.head()"
   ]
  },
  {
   "cell_type": "code",
   "execution_count": null,
   "id": "b7c37848-cd0b-4e43-a02c-87613c60aa99",
   "metadata": {},
   "outputs": [],
   "source": [
    "# combine strike and expire date to make a unique identifier\n",
    "spy_data_v6['CONTRACT'] = spy_data_v6['STRIKE'].astype(str) + spy_data_v6['EXPIRE_DATE']\n",
    "spy_data_v6"
   ]
  },
  {
   "cell_type": "code",
   "execution_count": null,
   "id": "e8df0848-b1d0-4874-8e76-aa429fb837a6",
   "metadata": {},
   "outputs": [],
   "source": [
    "# spy_data_v6.to_csv(\"./Resources/spycallsV4.csv\", index=None)"
   ]
  },
  {
   "cell_type": "code",
   "execution_count": null,
   "id": "f94b2437-552a-453a-af2f-573222ec400f",
   "metadata": {},
   "outputs": [],
   "source": [
    "spy_data_v7 = spy_data_v6.set_index('CONTRACT')"
   ]
  },
  {
   "cell_type": "code",
   "execution_count": null,
   "id": "0a3d8f63-9663-4e36-9782-33ee47b8f627",
   "metadata": {},
   "outputs": [],
   "source": [
    "spy_data_v7"
   ]
  },
  {
   "cell_type": "code",
   "execution_count": null,
   "id": "c4c6349f-1238-4047-9a49-24effe8d9faf",
   "metadata": {},
   "outputs": [],
   "source": [
    "spy_data_v7.loc['472.01/7/2022', : ]"
   ]
  },
  {
   "cell_type": "code",
   "execution_count": null,
   "id": "fcb335f6-74ab-408c-8c4c-8168a8643b35",
   "metadata": {},
   "outputs": [],
   "source": [
    "spy_data_v7.loc[spy_data_v7['DTE'] == 4.27, 'C_LAST']"
   ]
  },
  {
   "cell_type": "code",
   "execution_count": null,
   "id": "0b15a439-0806-478e-85cf-3be6a1e0aea5",
   "metadata": {},
   "outputs": [],
   "source": [
    "spy_data_v7[\"PRICEOPEN\"] = spy_data_v7.loc[spy_data_v7['DTE'] == 4.27, 'C_LAST']\n",
    "spy_data_v7.head(50)"
   ]
  },
  {
   "cell_type": "code",
   "execution_count": null,
   "id": "81d7101f-e59c-4305-9fb6-f1b2eae17a71",
   "metadata": {},
   "outputs": [],
   "source": [
    "spy_data_v7[\"PRICECLOSE\"] = spy_data_v7.loc[spy_data_v7['DTE'] == 2.0, 'C_LAST']\n",
    "spy_data_v7.head()"
   ]
  },
  {
   "cell_type": "code",
   "execution_count": null,
   "id": "934e0f28-4e9c-4be7-a2d0-1ccc35e1c92f",
   "metadata": {},
   "outputs": [],
   "source": [
    "spy_data_v7['ROI3'] = spy_data_v7[\"PRICECLOSE\"] / spy_data_v7['PRICEOPEN']\n",
    "spy_data_v7.head(100)"
   ]
  },
  {
   "cell_type": "code",
   "execution_count": null,
   "id": "fdd6002f-4445-4389-9a15-e51dbcd77d22",
   "metadata": {},
   "outputs": [],
   "source": [
    "## spy_data_v8 = spy_data_v7.drop(columns= ['ROI2', 'ROI1'])\n",
    "## spy_data_v8.head()"
   ]
  },
  {
   "cell_type": "code",
   "execution_count": null,
   "id": "96bf3844-8b07-4e75-89cf-bc24a92f5966",
   "metadata": {},
   "outputs": [],
   "source": [
    "spy_data_v7['ROI %'] = (spy_data_v7['ROI3'] - 1) * 100\n",
    "spy_data_v7.head(100)"
   ]
  },
  {
   "cell_type": "code",
   "execution_count": null,
   "id": "57cdefff-476e-42dc-9c48-c6c402675eaf",
   "metadata": {},
   "outputs": [],
   "source": [
    "spy_data_v8 = spy_data_v7.drop(columns= ['ROI3'])\n",
    "spy_data_v8.head()"
   ]
  },
  {
   "cell_type": "code",
   "execution_count": null,
   "id": "fa24fc2a-3271-47f6-b1fc-c09f186c2025",
   "metadata": {},
   "outputs": [],
   "source": [
    "# spy_data_v8.to_csv(\"./Resources/spycallsfinal2.csv\")"
   ]
  },
  {
   "cell_type": "markdown",
   "id": "665b37f5-0521-4109-bd98-e2cebac75dc4",
   "metadata": {},
   "source": [
    "## Start Here 2.0 using spycallsfinal2.csv"
   ]
  },
  {
   "cell_type": "code",
   "execution_count": 1,
   "id": "cfdf5070-46cd-441d-ba91-cf00385e0e09",
   "metadata": {},
   "outputs": [],
   "source": [
    "import pandas as pd \n",
    "import numpy as np \n",
    "from pathlib import Path\n",
    "\n",
    "spy_path = Path('./Resources/spycallsfinal2.csv')\n",
    "spy_data_v8 = pd.read_csv(spy_path)"
   ]
  },
  {
   "cell_type": "markdown",
   "id": "82337509-8880-4306-8740-8894206c0f78",
   "metadata": {},
   "source": [
    "# Cut values after 2.0 DTE ***"
   ]
  },
  {
   "cell_type": "markdown",
   "id": "f0a6b94c-2aaf-4b6b-a882-5ecbd6d0bec8",
   "metadata": {},
   "source": [
    "## Y Classification"
   ]
  },
  {
   "cell_type": "markdown",
   "id": "4abfc885-4d83-4413-afad-46495f76176a",
   "metadata": {},
   "source": [
    "# Create a 'y' column for our % profit/loss categories (0,1,2,3,4) \n",
    "# in % terms\n",
    "# 0 is <-60 = strong sell\n",
    "# 1 is (>-60 to -10) = sell\n",
    "# 2 is (>-10 to 10) = pass\n",
    "# 3 is (>10-60) = buy\n",
    "# 4 is >60 = strong buy\n"
   ]
  },
  {
   "cell_type": "code",
   "execution_count": 20,
   "id": "882d5872-21fe-49af-b7ea-f84fd6d492a2",
   "metadata": {},
   "outputs": [],
   "source": [
    "spy_data_v8.loc[spy_data_v8[\"ROI %\"] <= -60, \"y\"] = 0\n",
    "spy_data_v8.loc[(spy_data_v8[\"ROI %\"] <= -10) & (spy_data_v8[\"ROI %\"] > -60), \"y\"] = 1\n",
    "spy_data_v8.loc[(spy_data_v8[\"ROI %\"] <= 10) & (spy_data_v8[\"ROI %\"] > -10), \"y\"] = 2\n",
    "spy_data_v8.loc[(spy_data_v8[\"ROI %\"] <= 60) & (spy_data_v8[\"ROI %\"] > 10), \"y\"] = 3\n",
    "spy_data_v8.loc[spy_data_v8[\"ROI %\"] > 60, \"y\"] = 4"
   ]
  },
  {
   "cell_type": "code",
   "execution_count": 39,
   "id": "e95c8e27-1173-4036-9214-1b0058f891e8",
   "metadata": {},
   "outputs": [
    {
     "data": {
      "text/plain": [
       "1.0    2300\n",
       "0.0    1965\n",
       "4.0    1469\n",
       "3.0     671\n",
       "2.0     464\n",
       "Name: y, dtype: int64"
      ]
     },
     "execution_count": 39,
     "metadata": {},
     "output_type": "execute_result"
    }
   ],
   "source": [
    "spy_data_v8[\"y\"].value_counts()"
   ]
  },
  {
   "cell_type": "code",
   "execution_count": null,
   "id": "b30c714d-d9d2-44a8-b964-99bc65ddacd4",
   "metadata": {},
   "outputs": [],
   "source": []
  },
  {
   "cell_type": "code",
   "execution_count": null,
   "id": "ff662a8b-5b40-405d-9a68-6e7a5914bb77",
   "metadata": {},
   "outputs": [],
   "source": []
  },
  {
   "cell_type": "code",
   "execution_count": null,
   "id": "b45ef222-ea7a-4cee-b6f2-3fbb2858d0ea",
   "metadata": {},
   "outputs": [],
   "source": [
    "ydf = spy_data_v8\n",
    "conditions = [\n",
    "    (ydf['ROI %'] >= -85.000000),\n",
    "    (ydf['ROI %'] > -10.000000) & (ydf['ROI %'] < -85.000000),\n",
    "    (ydf['ROI %'] > -10.000000) & (ydf['ROI %'] < 10.000000),\n",
    "    (ydf['ROI %'] > 10.000000) & (ydf['ROI %'] < 60.000000),\n",
    "    (ydf['ROI %'] >= 60.000000)\n",
    "]\n",
    "\n",
    "values = ['0', '1', '2', '3', '4']"
   ]
  },
  {
   "cell_type": "code",
   "execution_count": null,
   "id": "784a755a-4b57-4282-9c6c-1a93a471e2b0",
   "metadata": {},
   "outputs": [],
   "source": [
    "ydf['Y'] = np.select(conditions, values)"
   ]
  },
  {
   "cell_type": "code",
   "execution_count": null,
   "id": "da64db93-2998-4073-96a5-9bd99580ef39",
   "metadata": {},
   "outputs": [],
   "source": [
    "ydf.head(1000)"
   ]
  },
  {
   "cell_type": "code",
   "execution_count": null,
   "id": "6bdf0e65-f27e-4286-88b7-9a0fc3340934",
   "metadata": {},
   "outputs": [],
   "source": [
    "ydf['Y'] = ydf.apply(lambda x: '0' if x['ROI %'] == '>= -60.00' else \n",
    "                                      ('1' if x['ROI %'] == 'condition_2' else \n",
    "                                      ('value if true 3' if x['column_name_check_3'] == 'condition_3' else 'default_value')),axis=1)"
   ]
  },
  {
   "cell_type": "code",
   "execution_count": null,
   "id": "72695db3-7ec6-4d1c-bb63-a2da975442da",
   "metadata": {},
   "outputs": [],
   "source": [
    "if ydf['ROI %'] >= -60.00 :\n",
    "    ydf['Y'] = 0\n",
    "elif   \n",
    "    ydf['ROI %'] > -10.00 & ydf['ROI %'] < -60.00 :\n",
    "    ydf['Y'] = 1\n",
    "elif\n",
    "    ydf['ROI %'] > -10.00 & (ydf['ROI %'] < 10.00 :\n",
    "    ydf['Y'] = 2\n",
    "elif\n",
    "    ydf['ROI %'] > 10) & ydf['ROI %'] < 60.00 :\n",
    "    ydf['Y'] = 3\n",
    "elif\n",
    "    ydf['ROI %'] >= 60.00 :\n",
    "    ydf['Y'] = 4\n",
    "\n"
   ]
  },
  {
   "cell_type": "code",
   "execution_count": null,
   "id": "ec6d37bc-7ce0-4125-9542-65cae7f61642",
   "metadata": {},
   "outputs": [],
   "source": [
    "# ydf.to_csv(\"./Resources/spycallsfinal1.csv\")"
   ]
  },
  {
   "cell_type": "code",
   "execution_count": null,
   "id": "9752142c-7275-42d5-a2b4-820e4240eff7",
   "metadata": {},
   "outputs": [],
   "source": []
  },
  {
   "cell_type": "code",
   "execution_count": null,
   "id": "80f38efb-39c9-48fd-8af7-b6518e3372e0",
   "metadata": {},
   "outputs": [],
   "source": []
  },
  {
   "cell_type": "code",
   "execution_count": null,
   "id": "97d0588b-ddcf-499c-904b-8a94e7043580",
   "metadata": {},
   "outputs": [],
   "source": []
  },
  {
   "cell_type": "code",
   "execution_count": null,
   "id": "69c1758e-c73e-4aba-a275-d6d5b953db97",
   "metadata": {},
   "outputs": [],
   "source": []
  }
 ],
 "metadata": {
  "kernelspec": {
   "display_name": "Python 3 (ipykernel)",
   "language": "python",
   "name": "python3"
  },
  "language_info": {
   "codemirror_mode": {
    "name": "ipython",
    "version": 3
   },
   "file_extension": ".py",
   "mimetype": "text/x-python",
   "name": "python",
   "nbconvert_exporter": "python",
   "pygments_lexer": "ipython3",
   "version": "3.7.13"
  }
 },
 "nbformat": 4,
 "nbformat_minor": 5
}
