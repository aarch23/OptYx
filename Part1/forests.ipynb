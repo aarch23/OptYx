{
 "cells": [
  {
   "cell_type": "markdown",
   "id": "b366d032-876c-4dda-aeda-dfb5a480e1b9",
   "metadata": {},
   "source": [
    "# __Predicting Outcomes of Call Option Contracts__"
   ]
  },
  {
   "cell_type": "markdown",
   "id": "5de779b2-e98b-413a-be63-fc4f7e4d2e73",
   "metadata": {},
   "source": [
    "# SECTION 1: Preparation"
   ]
  },
  {
   "cell_type": "markdown",
   "id": "897998b3-a994-4368-ae10-23b716c78032",
   "metadata": {},
   "source": [
    "##  1.1.) Loading the python packages"
   ]
  },
  {
   "cell_type": "code",
   "execution_count": 1,
   "id": "1a812aef-4bde-4fc4-aa1e-86db161f6432",
   "metadata": {},
   "outputs": [],
   "source": [
    "\n",
    "from sklearn import datasets\n",
    "\n",
    "# Import the modules\n",
    "import numpy as np\n",
    "import pandas as pd\n",
    "from pathlib import Path\n",
    "import random\n",
    "\n",
    "# Load libraries\n",
    "import numpy as np\n",
    "import pandas as pd\n",
    "from matplotlib import pyplot\n",
    "from pandas import read_csv, set_option\n",
    "from pandas.plotting import scatter_matrix\n",
    "import seaborn as sns\n",
    "from sklearn.preprocessing import StandardScaler\n",
    "from sklearn.model_selection import train_test_split, KFold, StratifiedKFold, cross_val_score, GridSearchCV\n",
    "from evolutionary_search import EvolutionaryAlgorithmSearchCV\n",
    "\n",
    "import xgboost as xgb\n",
    "from xgboost import XGBClassifier\n",
    "from sklearn.tree import DecisionTreeClassifier\n",
    "from sklearn.neighbors import KNeighborsClassifier\n",
    "from sklearn.svm import SVC\n",
    "#from sklearn.neural_network import MLPClassifier\n",
    "from sklearn.pipeline import Pipeline\n",
    "from sklearn.ensemble import AdaBoostClassifier, GradientBoostingClassifier, RandomForestClassifier, ExtraTreesClassifier\n",
    "\n",
    "#importing classification_report, confusion_matrix\n",
    "from sklearn.metrics import classification_report, confusion_matrix\n",
    "\n",
    "#importing accuracy_score, precision_score, recall_score, f1_score\n",
    "from sklearn.metrics import accuracy_score, precision_score, recall_score, f1_score, roc_auc_score\n",
    "\n",
    "# import packages for hyperparameters tuning\n",
    "from hyperopt import STATUS_OK, Trials, fmin, hp, tpe\n",
    "\n",
    "#from sklearn.metrics import balanced_accuracy_score\n",
    "#from sklearn.metrics import confusion_matrix\n",
    "#from imblearn.metrics import classification_report_imbalanced\n",
    "\n",
    "#Libraries for Saving the Model\n",
    "from pickle import dump\n",
    "from pickle import load\n",
    "\n",
    "import warnings\n",
    "warnings.filterwarnings('ignore')\n",
    "\n"
   ]
  },
  {
   "cell_type": "markdown",
   "id": "fbcef949-f988-4c36-a2d8-e6da60be991e",
   "metadata": {},
   "source": [
    "## 1.2.) Loading the Data"
   ]
  },
  {
   "cell_type": "code",
   "execution_count": 2,
   "id": "a4a4e107-14db-4679-97ba-5d6ab6c9286c",
   "metadata": {},
   "outputs": [],
   "source": [
    "#NOTE: This iris dataset is for debugging purposes only\n",
    "\n",
    "#iris = datasets.load_iris()\n",
    "\n",
    "#X = iris.data\n",
    "\n",
    "#y = iris.target\n",
    "\n",
    "#validation_size = 0.2\n",
    "\n",
    "#seed = 7"
   ]
  },
  {
   "cell_type": "code",
   "execution_count": 8,
   "id": "7dfab611-6add-4cb4-9044-ad6bdf929f6a",
   "metadata": {
    "tags": []
   },
   "outputs": [],
   "source": [
    "#Import call options info\n",
    "\n",
    "df = pd.read_csv(\n",
    "    Path(\"../Resources/q4_21_q1_22.csv\")\n",
    ")\n",
    "\n",
    "\n",
    "#full_df_filt.csv for 2022Q1 only\n",
    "#spy_21_q4_filt.csv for 2021Q4 only"
   ]
  },
  {
   "cell_type": "code",
   "execution_count": 9,
   "id": "7cc91371-895c-4c2b-90f4-bb61f744a598",
   "metadata": {
    "tags": []
   },
   "outputs": [
    {
     "data": {
      "text/html": [
       "<div>\n",
       "<style scoped>\n",
       "    .dataframe tbody tr th:only-of-type {\n",
       "        vertical-align: middle;\n",
       "    }\n",
       "\n",
       "    .dataframe tbody tr th {\n",
       "        vertical-align: top;\n",
       "    }\n",
       "\n",
       "    .dataframe thead th {\n",
       "        text-align: right;\n",
       "    }\n",
       "</style>\n",
       "<table border=\"1\" class=\"dataframe\">\n",
       "  <thead>\n",
       "    <tr style=\"text-align: right;\">\n",
       "      <th></th>\n",
       "      <th>QUOTE_READTIME</th>\n",
       "      <th>CONTRACT</th>\n",
       "      <th>SPY PRICE</th>\n",
       "      <th>EXPIRE_DATE</th>\n",
       "      <th>DTE</th>\n",
       "      <th>C_DELTA</th>\n",
       "      <th>C_GAMMA</th>\n",
       "      <th>C_VEGA</th>\n",
       "      <th>C_THETA</th>\n",
       "      <th>C_RHO</th>\n",
       "      <th>C_IV</th>\n",
       "      <th>C_VOLUME</th>\n",
       "      <th>C_LAST</th>\n",
       "      <th>STRIKE</th>\n",
       "      <th>STRIKE_DISTANCE_PCT</th>\n",
       "      <th>STRIKE DISTANCE</th>\n",
       "      <th>PRICECLOSE</th>\n",
       "      <th>ROI %</th>\n",
       "      <th>y</th>\n",
       "    </tr>\n",
       "  </thead>\n",
       "  <tbody>\n",
       "    <tr>\n",
       "      <th>0</th>\n",
       "      <td>2021-10-04 09:30:00</td>\n",
       "      <td>430.0 2021-10-08</td>\n",
       "      <td>432.95</td>\n",
       "      <td>2021-10-08</td>\n",
       "      <td>4.27</td>\n",
       "      <td>0.61310</td>\n",
       "      <td>0.03556</td>\n",
       "      <td>0.19356</td>\n",
       "      <td>-0.43339</td>\n",
       "      <td>0.03538</td>\n",
       "      <td>0.21263</td>\n",
       "      <td>10.0</td>\n",
       "      <td>5.93</td>\n",
       "      <td>430.0</td>\n",
       "      <td>0.007</td>\n",
       "      <td>-2.95</td>\n",
       "      <td>6.11</td>\n",
       "      <td>3.035413</td>\n",
       "      <td>2.0</td>\n",
       "    </tr>\n",
       "    <tr>\n",
       "      <th>1</th>\n",
       "      <td>2021-10-04 09:30:00</td>\n",
       "      <td>431.0 2021-10-08</td>\n",
       "      <td>432.95</td>\n",
       "      <td>2021-10-08</td>\n",
       "      <td>4.27</td>\n",
       "      <td>0.57914</td>\n",
       "      <td>0.03730</td>\n",
       "      <td>0.19781</td>\n",
       "      <td>-0.43196</td>\n",
       "      <td>0.03344</td>\n",
       "      <td>0.20709</td>\n",
       "      <td>1.0</td>\n",
       "      <td>5.21</td>\n",
       "      <td>431.0</td>\n",
       "      <td>0.004</td>\n",
       "      <td>-1.95</td>\n",
       "      <td>5.31</td>\n",
       "      <td>1.919386</td>\n",
       "      <td>2.0</td>\n",
       "    </tr>\n",
       "    <tr>\n",
       "      <th>2</th>\n",
       "      <td>2021-10-04 09:30:00</td>\n",
       "      <td>432.0 2021-10-08</td>\n",
       "      <td>432.95</td>\n",
       "      <td>2021-10-08</td>\n",
       "      <td>4.27</td>\n",
       "      <td>0.54144</td>\n",
       "      <td>0.03858</td>\n",
       "      <td>0.20139</td>\n",
       "      <td>-0.43035</td>\n",
       "      <td>0.03157</td>\n",
       "      <td>0.20271</td>\n",
       "      <td>0.0</td>\n",
       "      <td>5.61</td>\n",
       "      <td>432.0</td>\n",
       "      <td>0.002</td>\n",
       "      <td>-0.95</td>\n",
       "      <td>4.63</td>\n",
       "      <td>-17.468806</td>\n",
       "      <td>1.0</td>\n",
       "    </tr>\n",
       "    <tr>\n",
       "      <th>3</th>\n",
       "      <td>2021-10-04 09:30:00</td>\n",
       "      <td>433.0 2021-10-08</td>\n",
       "      <td>432.95</td>\n",
       "      <td>2021-10-08</td>\n",
       "      <td>4.27</td>\n",
       "      <td>0.50267</td>\n",
       "      <td>0.03978</td>\n",
       "      <td>0.20224</td>\n",
       "      <td>-0.42316</td>\n",
       "      <td>0.02886</td>\n",
       "      <td>0.19849</td>\n",
       "      <td>1.0</td>\n",
       "      <td>4.01</td>\n",
       "      <td>433.0</td>\n",
       "      <td>0.000</td>\n",
       "      <td>0.05</td>\n",
       "      <td>3.95</td>\n",
       "      <td>-1.496259</td>\n",
       "      <td>2.0</td>\n",
       "    </tr>\n",
       "    <tr>\n",
       "      <th>4</th>\n",
       "      <td>2021-10-04 09:30:00</td>\n",
       "      <td>434.0 2021-10-08</td>\n",
       "      <td>432.95</td>\n",
       "      <td>2021-10-08</td>\n",
       "      <td>4.27</td>\n",
       "      <td>0.46199</td>\n",
       "      <td>0.04063</td>\n",
       "      <td>0.20081</td>\n",
       "      <td>-0.41040</td>\n",
       "      <td>0.02677</td>\n",
       "      <td>0.19261</td>\n",
       "      <td>13.0</td>\n",
       "      <td>3.42</td>\n",
       "      <td>434.0</td>\n",
       "      <td>0.002</td>\n",
       "      <td>1.05</td>\n",
       "      <td>3.22</td>\n",
       "      <td>-5.847953</td>\n",
       "      <td>2.0</td>\n",
       "    </tr>\n",
       "  </tbody>\n",
       "</table>\n",
       "</div>"
      ],
      "text/plain": [
       "        QUOTE_READTIME          CONTRACT  SPY PRICE  EXPIRE_DATE   DTE  \\\n",
       "0  2021-10-04 09:30:00  430.0 2021-10-08     432.95   2021-10-08  4.27   \n",
       "1  2021-10-04 09:30:00  431.0 2021-10-08     432.95   2021-10-08  4.27   \n",
       "2  2021-10-04 09:30:00  432.0 2021-10-08     432.95   2021-10-08  4.27   \n",
       "3  2021-10-04 09:30:00  433.0 2021-10-08     432.95   2021-10-08  4.27   \n",
       "4  2021-10-04 09:30:00  434.0 2021-10-08     432.95   2021-10-08  4.27   \n",
       "\n",
       "   C_DELTA  C_GAMMA   C_VEGA  C_THETA    C_RHO     C_IV  C_VOLUME  C_LAST  \\\n",
       "0  0.61310  0.03556  0.19356 -0.43339  0.03538  0.21263      10.0    5.93   \n",
       "1  0.57914  0.03730  0.19781 -0.43196  0.03344  0.20709       1.0    5.21   \n",
       "2  0.54144  0.03858  0.20139 -0.43035  0.03157  0.20271       0.0    5.61   \n",
       "3  0.50267  0.03978  0.20224 -0.42316  0.02886  0.19849       1.0    4.01   \n",
       "4  0.46199  0.04063  0.20081 -0.41040  0.02677  0.19261      13.0    3.42   \n",
       "\n",
       "   STRIKE  STRIKE_DISTANCE_PCT  STRIKE DISTANCE  PRICECLOSE      ROI %    y  \n",
       "0   430.0                0.007            -2.95        6.11   3.035413  2.0  \n",
       "1   431.0                0.004            -1.95        5.31   1.919386  2.0  \n",
       "2   432.0                0.002            -0.95        4.63 -17.468806  1.0  \n",
       "3   433.0                0.000             0.05        3.95  -1.496259  2.0  \n",
       "4   434.0                0.002             1.05        3.22  -5.847953  2.0  "
      ]
     },
     "execution_count": 9,
     "metadata": {},
     "output_type": "execute_result"
    }
   ],
   "source": [
    "df.head()"
   ]
  },
  {
   "cell_type": "markdown",
   "id": "cd254675-54d0-4d2a-90e0-e3627cf2c597",
   "metadata": {},
   "source": [
    "# SECTION 2: Exploratory Data Analysis"
   ]
  },
  {
   "cell_type": "markdown",
   "id": "2fac2bad-57d8-47ea-a144-ff902686e90f",
   "metadata": {},
   "source": [
    "## 2.1.) Descriptive Statistics"
   ]
  },
  {
   "cell_type": "code",
   "execution_count": 10,
   "id": "717f7717-dd27-4ff3-91f2-97ca6ed9b421",
   "metadata": {},
   "outputs": [
    {
     "data": {
      "text/plain": [
       "(18286, 19)"
      ]
     },
     "execution_count": 10,
     "metadata": {},
     "output_type": "execute_result"
    }
   ],
   "source": [
    "df.shape"
   ]
  },
  {
   "cell_type": "code",
   "execution_count": 11,
   "id": "ee2744f4-b26e-4f2a-af89-7dcf27c14619",
   "metadata": {},
   "outputs": [
    {
     "name": "stdout",
     "output_type": "stream",
     "text": [
      "Null Values = False\n"
     ]
    }
   ],
   "source": [
    "#Check for any null values and remove the null values\n",
    "print('Null Values =', df.isnull().values.any())\n",
    "\n",
    "#Drop NaNs\n",
    "df = df.dropna()"
   ]
  },
  {
   "cell_type": "code",
   "execution_count": 12,
   "id": "661d5a9b-7c76-4b05-ac11-e4d61533b8de",
   "metadata": {},
   "outputs": [
    {
     "data": {
      "text/html": [
       "<div>\n",
       "<style scoped>\n",
       "    .dataframe tbody tr th:only-of-type {\n",
       "        vertical-align: middle;\n",
       "    }\n",
       "\n",
       "    .dataframe tbody tr th {\n",
       "        vertical-align: top;\n",
       "    }\n",
       "\n",
       "    .dataframe thead th {\n",
       "        text-align: right;\n",
       "    }\n",
       "</style>\n",
       "<table border=\"1\" class=\"dataframe\">\n",
       "  <thead>\n",
       "    <tr style=\"text-align: right;\">\n",
       "      <th></th>\n",
       "      <th>QUOTE_READTIME</th>\n",
       "      <th>CONTRACT</th>\n",
       "      <th>SPY PRICE</th>\n",
       "      <th>EXPIRE_DATE</th>\n",
       "      <th>DTE</th>\n",
       "      <th>C_DELTA</th>\n",
       "      <th>C_GAMMA</th>\n",
       "      <th>C_VEGA</th>\n",
       "      <th>C_THETA</th>\n",
       "      <th>C_RHO</th>\n",
       "      <th>C_IV</th>\n",
       "      <th>C_VOLUME</th>\n",
       "      <th>C_LAST</th>\n",
       "      <th>STRIKE</th>\n",
       "      <th>STRIKE_DISTANCE_PCT</th>\n",
       "      <th>STRIKE DISTANCE</th>\n",
       "      <th>PRICECLOSE</th>\n",
       "      <th>ROI %</th>\n",
       "      <th>y</th>\n",
       "    </tr>\n",
       "  </thead>\n",
       "  <tbody>\n",
       "    <tr>\n",
       "      <th>0</th>\n",
       "      <td>2021-10-04 09:30:00</td>\n",
       "      <td>430.0 2021-10-08</td>\n",
       "      <td>432.95</td>\n",
       "      <td>2021-10-08</td>\n",
       "      <td>4.27</td>\n",
       "      <td>0.61310</td>\n",
       "      <td>0.03556</td>\n",
       "      <td>0.19356</td>\n",
       "      <td>-0.43339</td>\n",
       "      <td>0.03538</td>\n",
       "      <td>0.21263</td>\n",
       "      <td>10.0</td>\n",
       "      <td>5.93</td>\n",
       "      <td>430.0</td>\n",
       "      <td>0.007</td>\n",
       "      <td>-2.95</td>\n",
       "      <td>6.11</td>\n",
       "      <td>3.035413</td>\n",
       "      <td>2.0</td>\n",
       "    </tr>\n",
       "    <tr>\n",
       "      <th>1</th>\n",
       "      <td>2021-10-04 09:30:00</td>\n",
       "      <td>431.0 2021-10-08</td>\n",
       "      <td>432.95</td>\n",
       "      <td>2021-10-08</td>\n",
       "      <td>4.27</td>\n",
       "      <td>0.57914</td>\n",
       "      <td>0.03730</td>\n",
       "      <td>0.19781</td>\n",
       "      <td>-0.43196</td>\n",
       "      <td>0.03344</td>\n",
       "      <td>0.20709</td>\n",
       "      <td>1.0</td>\n",
       "      <td>5.21</td>\n",
       "      <td>431.0</td>\n",
       "      <td>0.004</td>\n",
       "      <td>-1.95</td>\n",
       "      <td>5.31</td>\n",
       "      <td>1.919386</td>\n",
       "      <td>2.0</td>\n",
       "    </tr>\n",
       "    <tr>\n",
       "      <th>2</th>\n",
       "      <td>2021-10-04 09:30:00</td>\n",
       "      <td>432.0 2021-10-08</td>\n",
       "      <td>432.95</td>\n",
       "      <td>2021-10-08</td>\n",
       "      <td>4.27</td>\n",
       "      <td>0.54144</td>\n",
       "      <td>0.03858</td>\n",
       "      <td>0.20139</td>\n",
       "      <td>-0.43035</td>\n",
       "      <td>0.03157</td>\n",
       "      <td>0.20271</td>\n",
       "      <td>0.0</td>\n",
       "      <td>5.61</td>\n",
       "      <td>432.0</td>\n",
       "      <td>0.002</td>\n",
       "      <td>-0.95</td>\n",
       "      <td>4.63</td>\n",
       "      <td>-17.468806</td>\n",
       "      <td>1.0</td>\n",
       "    </tr>\n",
       "    <tr>\n",
       "      <th>3</th>\n",
       "      <td>2021-10-04 09:30:00</td>\n",
       "      <td>433.0 2021-10-08</td>\n",
       "      <td>432.95</td>\n",
       "      <td>2021-10-08</td>\n",
       "      <td>4.27</td>\n",
       "      <td>0.50267</td>\n",
       "      <td>0.03978</td>\n",
       "      <td>0.20224</td>\n",
       "      <td>-0.42316</td>\n",
       "      <td>0.02886</td>\n",
       "      <td>0.19849</td>\n",
       "      <td>1.0</td>\n",
       "      <td>4.01</td>\n",
       "      <td>433.0</td>\n",
       "      <td>0.000</td>\n",
       "      <td>0.05</td>\n",
       "      <td>3.95</td>\n",
       "      <td>-1.496259</td>\n",
       "      <td>2.0</td>\n",
       "    </tr>\n",
       "    <tr>\n",
       "      <th>4</th>\n",
       "      <td>2021-10-04 09:30:00</td>\n",
       "      <td>434.0 2021-10-08</td>\n",
       "      <td>432.95</td>\n",
       "      <td>2021-10-08</td>\n",
       "      <td>4.27</td>\n",
       "      <td>0.46199</td>\n",
       "      <td>0.04063</td>\n",
       "      <td>0.20081</td>\n",
       "      <td>-0.41040</td>\n",
       "      <td>0.02677</td>\n",
       "      <td>0.19261</td>\n",
       "      <td>13.0</td>\n",
       "      <td>3.42</td>\n",
       "      <td>434.0</td>\n",
       "      <td>0.002</td>\n",
       "      <td>1.05</td>\n",
       "      <td>3.22</td>\n",
       "      <td>-5.847953</td>\n",
       "      <td>2.0</td>\n",
       "    </tr>\n",
       "  </tbody>\n",
       "</table>\n",
       "</div>"
      ],
      "text/plain": [
       "        QUOTE_READTIME          CONTRACT  SPY PRICE  EXPIRE_DATE   DTE  \\\n",
       "0  2021-10-04 09:30:00  430.0 2021-10-08     432.95   2021-10-08  4.27   \n",
       "1  2021-10-04 09:30:00  431.0 2021-10-08     432.95   2021-10-08  4.27   \n",
       "2  2021-10-04 09:30:00  432.0 2021-10-08     432.95   2021-10-08  4.27   \n",
       "3  2021-10-04 09:30:00  433.0 2021-10-08     432.95   2021-10-08  4.27   \n",
       "4  2021-10-04 09:30:00  434.0 2021-10-08     432.95   2021-10-08  4.27   \n",
       "\n",
       "   C_DELTA  C_GAMMA   C_VEGA  C_THETA    C_RHO     C_IV  C_VOLUME  C_LAST  \\\n",
       "0  0.61310  0.03556  0.19356 -0.43339  0.03538  0.21263      10.0    5.93   \n",
       "1  0.57914  0.03730  0.19781 -0.43196  0.03344  0.20709       1.0    5.21   \n",
       "2  0.54144  0.03858  0.20139 -0.43035  0.03157  0.20271       0.0    5.61   \n",
       "3  0.50267  0.03978  0.20224 -0.42316  0.02886  0.19849       1.0    4.01   \n",
       "4  0.46199  0.04063  0.20081 -0.41040  0.02677  0.19261      13.0    3.42   \n",
       "\n",
       "   STRIKE  STRIKE_DISTANCE_PCT  STRIKE DISTANCE  PRICECLOSE      ROI %    y  \n",
       "0   430.0                0.007            -2.95        6.11   3.035413  2.0  \n",
       "1   431.0                0.004            -1.95        5.31   1.919386  2.0  \n",
       "2   432.0                0.002            -0.95        4.63 -17.468806  1.0  \n",
       "3   433.0                0.000             0.05        3.95  -1.496259  2.0  \n",
       "4   434.0                0.002             1.05        3.22  -5.847953  2.0  "
      ]
     },
     "metadata": {},
     "output_type": "display_data"
    },
    {
     "data": {
      "text/html": [
       "<div>\n",
       "<style scoped>\n",
       "    .dataframe tbody tr th:only-of-type {\n",
       "        vertical-align: middle;\n",
       "    }\n",
       "\n",
       "    .dataframe tbody tr th {\n",
       "        vertical-align: top;\n",
       "    }\n",
       "\n",
       "    .dataframe thead th {\n",
       "        text-align: right;\n",
       "    }\n",
       "</style>\n",
       "<table border=\"1\" class=\"dataframe\">\n",
       "  <thead>\n",
       "    <tr style=\"text-align: right;\">\n",
       "      <th></th>\n",
       "      <th>QUOTE_READTIME</th>\n",
       "      <th>CONTRACT</th>\n",
       "      <th>SPY PRICE</th>\n",
       "      <th>EXPIRE_DATE</th>\n",
       "      <th>DTE</th>\n",
       "      <th>C_DELTA</th>\n",
       "      <th>C_GAMMA</th>\n",
       "      <th>C_VEGA</th>\n",
       "      <th>C_THETA</th>\n",
       "      <th>C_RHO</th>\n",
       "      <th>C_IV</th>\n",
       "      <th>C_VOLUME</th>\n",
       "      <th>C_LAST</th>\n",
       "      <th>STRIKE</th>\n",
       "      <th>STRIKE_DISTANCE_PCT</th>\n",
       "      <th>STRIKE DISTANCE</th>\n",
       "      <th>PRICECLOSE</th>\n",
       "      <th>ROI %</th>\n",
       "      <th>y</th>\n",
       "    </tr>\n",
       "  </thead>\n",
       "  <tbody>\n",
       "    <tr>\n",
       "      <th>18281</th>\n",
       "      <td>2022-03-23 16:00:00</td>\n",
       "      <td>455.0 2022-03-25</td>\n",
       "      <td>443.84</td>\n",
       "      <td>3/25/2022</td>\n",
       "      <td>2.0</td>\n",
       "      <td>0.04696</td>\n",
       "      <td>0.01493</td>\n",
       "      <td>0.03746</td>\n",
       "      <td>-0.09216</td>\n",
       "      <td>0.00106</td>\n",
       "      <td>0.17010</td>\n",
       "      <td>12879.0</td>\n",
       "      <td>0.13</td>\n",
       "      <td>455.0</td>\n",
       "      <td>0.025</td>\n",
       "      <td>11.16</td>\n",
       "      <td>0.13</td>\n",
       "      <td>0.0</td>\n",
       "      <td>2.0</td>\n",
       "    </tr>\n",
       "    <tr>\n",
       "      <th>18282</th>\n",
       "      <td>2022-03-23 16:00:00</td>\n",
       "      <td>456.0 2022-03-25</td>\n",
       "      <td>443.84</td>\n",
       "      <td>3/25/2022</td>\n",
       "      <td>2.0</td>\n",
       "      <td>0.03309</td>\n",
       "      <td>0.01144</td>\n",
       "      <td>0.02826</td>\n",
       "      <td>-0.06611</td>\n",
       "      <td>0.00075</td>\n",
       "      <td>0.16963</td>\n",
       "      <td>10707.0</td>\n",
       "      <td>0.09</td>\n",
       "      <td>456.0</td>\n",
       "      <td>0.027</td>\n",
       "      <td>12.16</td>\n",
       "      <td>0.09</td>\n",
       "      <td>0.0</td>\n",
       "      <td>2.0</td>\n",
       "    </tr>\n",
       "    <tr>\n",
       "      <th>18283</th>\n",
       "      <td>2022-03-23 16:00:00</td>\n",
       "      <td>457.0 2022-03-25</td>\n",
       "      <td>443.84</td>\n",
       "      <td>3/25/2022</td>\n",
       "      <td>2.0</td>\n",
       "      <td>0.02264</td>\n",
       "      <td>0.00839</td>\n",
       "      <td>0.02085</td>\n",
       "      <td>-0.04539</td>\n",
       "      <td>0.00083</td>\n",
       "      <td>0.16879</td>\n",
       "      <td>4434.0</td>\n",
       "      <td>0.05</td>\n",
       "      <td>457.0</td>\n",
       "      <td>0.030</td>\n",
       "      <td>13.16</td>\n",
       "      <td>0.05</td>\n",
       "      <td>0.0</td>\n",
       "      <td>2.0</td>\n",
       "    </tr>\n",
       "    <tr>\n",
       "      <th>18284</th>\n",
       "      <td>2022-03-23 16:00:00</td>\n",
       "      <td>458.0 2022-03-25</td>\n",
       "      <td>443.84</td>\n",
       "      <td>3/25/2022</td>\n",
       "      <td>2.0</td>\n",
       "      <td>0.01819</td>\n",
       "      <td>0.00688</td>\n",
       "      <td>0.01736</td>\n",
       "      <td>-0.03784</td>\n",
       "      <td>0.00030</td>\n",
       "      <td>0.17380</td>\n",
       "      <td>4001.0</td>\n",
       "      <td>0.04</td>\n",
       "      <td>458.0</td>\n",
       "      <td>0.032</td>\n",
       "      <td>14.16</td>\n",
       "      <td>0.04</td>\n",
       "      <td>0.0</td>\n",
       "      <td>2.0</td>\n",
       "    </tr>\n",
       "    <tr>\n",
       "      <th>18285</th>\n",
       "      <td>2022-03-23 16:00:00</td>\n",
       "      <td>459.0 2022-03-25</td>\n",
       "      <td>443.84</td>\n",
       "      <td>3/25/2022</td>\n",
       "      <td>2.0</td>\n",
       "      <td>0.01514</td>\n",
       "      <td>0.00542</td>\n",
       "      <td>0.01463</td>\n",
       "      <td>-0.03065</td>\n",
       "      <td>0.00091</td>\n",
       "      <td>0.17742</td>\n",
       "      <td>2672.0</td>\n",
       "      <td>0.03</td>\n",
       "      <td>459.0</td>\n",
       "      <td>0.034</td>\n",
       "      <td>15.16</td>\n",
       "      <td>0.03</td>\n",
       "      <td>0.0</td>\n",
       "      <td>2.0</td>\n",
       "    </tr>\n",
       "  </tbody>\n",
       "</table>\n",
       "</div>"
      ],
      "text/plain": [
       "            QUOTE_READTIME          CONTRACT  SPY PRICE EXPIRE_DATE  DTE  \\\n",
       "18281  2022-03-23 16:00:00  455.0 2022-03-25     443.84   3/25/2022  2.0   \n",
       "18282  2022-03-23 16:00:00  456.0 2022-03-25     443.84   3/25/2022  2.0   \n",
       "18283  2022-03-23 16:00:00  457.0 2022-03-25     443.84   3/25/2022  2.0   \n",
       "18284  2022-03-23 16:00:00  458.0 2022-03-25     443.84   3/25/2022  2.0   \n",
       "18285  2022-03-23 16:00:00  459.0 2022-03-25     443.84   3/25/2022  2.0   \n",
       "\n",
       "       C_DELTA  C_GAMMA   C_VEGA  C_THETA    C_RHO     C_IV  C_VOLUME  C_LAST  \\\n",
       "18281  0.04696  0.01493  0.03746 -0.09216  0.00106  0.17010   12879.0    0.13   \n",
       "18282  0.03309  0.01144  0.02826 -0.06611  0.00075  0.16963   10707.0    0.09   \n",
       "18283  0.02264  0.00839  0.02085 -0.04539  0.00083  0.16879    4434.0    0.05   \n",
       "18284  0.01819  0.00688  0.01736 -0.03784  0.00030  0.17380    4001.0    0.04   \n",
       "18285  0.01514  0.00542  0.01463 -0.03065  0.00091  0.17742    2672.0    0.03   \n",
       "\n",
       "       STRIKE  STRIKE_DISTANCE_PCT  STRIKE DISTANCE  PRICECLOSE  ROI %    y  \n",
       "18281   455.0                0.025            11.16        0.13    0.0  2.0  \n",
       "18282   456.0                0.027            12.16        0.09    0.0  2.0  \n",
       "18283   457.0                0.030            13.16        0.05    0.0  2.0  \n",
       "18284   458.0                0.032            14.16        0.04    0.0  2.0  \n",
       "18285   459.0                0.034            15.16        0.03    0.0  2.0  "
      ]
     },
     "execution_count": 12,
     "metadata": {},
     "output_type": "execute_result"
    }
   ],
   "source": [
    "display(df.head())\n",
    "df.tail()"
   ]
  },
  {
   "cell_type": "code",
   "execution_count": 13,
   "id": "f539d25b-ecb9-4ceb-9a0d-63e13f2dafd8",
   "metadata": {},
   "outputs": [
    {
     "data": {
      "text/html": [
       "<div>\n",
       "<style scoped>\n",
       "    .dataframe tbody tr th:only-of-type {\n",
       "        vertical-align: middle;\n",
       "    }\n",
       "\n",
       "    .dataframe tbody tr th {\n",
       "        vertical-align: top;\n",
       "    }\n",
       "\n",
       "    .dataframe thead th {\n",
       "        text-align: right;\n",
       "    }\n",
       "</style>\n",
       "<table border=\"1\" class=\"dataframe\">\n",
       "  <thead>\n",
       "    <tr style=\"text-align: right;\">\n",
       "      <th></th>\n",
       "      <th>SPY PRICE</th>\n",
       "      <th>DTE</th>\n",
       "      <th>C_DELTA</th>\n",
       "      <th>C_GAMMA</th>\n",
       "      <th>C_VEGA</th>\n",
       "      <th>C_THETA</th>\n",
       "      <th>C_RHO</th>\n",
       "      <th>C_IV</th>\n",
       "      <th>C_VOLUME</th>\n",
       "      <th>C_LAST</th>\n",
       "      <th>STRIKE</th>\n",
       "      <th>STRIKE_DISTANCE_PCT</th>\n",
       "      <th>STRIKE DISTANCE</th>\n",
       "      <th>PRICECLOSE</th>\n",
       "      <th>ROI %</th>\n",
       "      <th>y</th>\n",
       "    </tr>\n",
       "  </thead>\n",
       "  <tbody>\n",
       "    <tr>\n",
       "      <th>count</th>\n",
       "      <td>18286.000000</td>\n",
       "      <td>18286.000000</td>\n",
       "      <td>18286.000000</td>\n",
       "      <td>18286.000000</td>\n",
       "      <td>18286.000000</td>\n",
       "      <td>18286.000000</td>\n",
       "      <td>18286.000000</td>\n",
       "      <td>18286.000000</td>\n",
       "      <td>18286.000000</td>\n",
       "      <td>18286.000000</td>\n",
       "      <td>18286.000000</td>\n",
       "      <td>18286.000000</td>\n",
       "      <td>18286.000000</td>\n",
       "      <td>18286.000000</td>\n",
       "      <td>18286.000000</td>\n",
       "      <td>18286.000000</td>\n",
       "    </tr>\n",
       "    <tr>\n",
       "      <th>mean</th>\n",
       "      <td>451.743649</td>\n",
       "      <td>3.135086</td>\n",
       "      <td>0.296418</td>\n",
       "      <td>0.031482</td>\n",
       "      <td>0.114851</td>\n",
       "      <td>-0.291012</td>\n",
       "      <td>0.012665</td>\n",
       "      <td>0.192955</td>\n",
       "      <td>5449.346331</td>\n",
       "      <td>2.356799</td>\n",
       "      <td>457.210462</td>\n",
       "      <td>0.016726</td>\n",
       "      <td>5.466812</td>\n",
       "      <td>2.715073</td>\n",
       "      <td>15.299943</td>\n",
       "      <td>2.024007</td>\n",
       "    </tr>\n",
       "    <tr>\n",
       "      <th>std</th>\n",
       "      <td>16.600194</td>\n",
       "      <td>0.821330</td>\n",
       "      <td>0.250829</td>\n",
       "      <td>0.020384</td>\n",
       "      <td>0.062800</td>\n",
       "      <td>0.221723</td>\n",
       "      <td>0.010645</td>\n",
       "      <td>0.084475</td>\n",
       "      <td>9287.148360</td>\n",
       "      <td>2.920379</td>\n",
       "      <td>17.087876</td>\n",
       "      <td>0.012128</td>\n",
       "      <td>7.451330</td>\n",
       "      <td>3.843939</td>\n",
       "      <td>107.873507</td>\n",
       "      <td>1.769805</td>\n",
       "    </tr>\n",
       "    <tr>\n",
       "      <th>min</th>\n",
       "      <td>415.920000</td>\n",
       "      <td>2.000000</td>\n",
       "      <td>0.001930</td>\n",
       "      <td>0.000860</td>\n",
       "      <td>0.002720</td>\n",
       "      <td>-1.063160</td>\n",
       "      <td>-0.000410</td>\n",
       "      <td>0.057790</td>\n",
       "      <td>0.000000</td>\n",
       "      <td>0.010000</td>\n",
       "      <td>418.000000</td>\n",
       "      <td>0.000000</td>\n",
       "      <td>-18.400000</td>\n",
       "      <td>0.010000</td>\n",
       "      <td>-97.701149</td>\n",
       "      <td>0.000000</td>\n",
       "    </tr>\n",
       "    <tr>\n",
       "      <th>25%</th>\n",
       "      <td>435.140000</td>\n",
       "      <td>2.210000</td>\n",
       "      <td>0.066045</td>\n",
       "      <td>0.016792</td>\n",
       "      <td>0.057870</td>\n",
       "      <td>-0.436995</td>\n",
       "      <td>0.003082</td>\n",
       "      <td>0.124293</td>\n",
       "      <td>593.250000</td>\n",
       "      <td>0.200000</td>\n",
       "      <td>443.000000</td>\n",
       "      <td>0.007000</td>\n",
       "      <td>0.290000</td>\n",
       "      <td>0.070000</td>\n",
       "      <td>-61.413869</td>\n",
       "      <td>0.000000</td>\n",
       "    </tr>\n",
       "    <tr>\n",
       "      <th>50%</th>\n",
       "      <td>454.760000</td>\n",
       "      <td>3.120000</td>\n",
       "      <td>0.241695</td>\n",
       "      <td>0.028100</td>\n",
       "      <td>0.126910</td>\n",
       "      <td>-0.260010</td>\n",
       "      <td>0.010540</td>\n",
       "      <td>0.174690</td>\n",
       "      <td>2222.500000</td>\n",
       "      <td>1.190000</td>\n",
       "      <td>457.000000</td>\n",
       "      <td>0.015000</td>\n",
       "      <td>5.550000</td>\n",
       "      <td>0.760000</td>\n",
       "      <td>-4.121614</td>\n",
       "      <td>2.000000</td>\n",
       "    </tr>\n",
       "    <tr>\n",
       "      <th>75%</th>\n",
       "      <td>466.730000</td>\n",
       "      <td>4.060000</td>\n",
       "      <td>0.479093</td>\n",
       "      <td>0.042570</td>\n",
       "      <td>0.166990</td>\n",
       "      <td>-0.095430</td>\n",
       "      <td>0.019707</td>\n",
       "      <td>0.244622</td>\n",
       "      <td>6107.750000</td>\n",
       "      <td>3.510000</td>\n",
       "      <td>472.000000</td>\n",
       "      <td>0.025000</td>\n",
       "      <td>10.807500</td>\n",
       "      <td>4.070000</td>\n",
       "      <td>48.969400</td>\n",
       "      <td>3.000000</td>\n",
       "    </tr>\n",
       "    <tr>\n",
       "      <th>max</th>\n",
       "      <td>479.650000</td>\n",
       "      <td>4.270000</td>\n",
       "      <td>0.957660</td>\n",
       "      <td>0.157750</td>\n",
       "      <td>0.221910</td>\n",
       "      <td>-0.003710</td>\n",
       "      <td>0.052130</td>\n",
       "      <td>0.495160</td>\n",
       "      <td>126743.000000</td>\n",
       "      <td>19.370000</td>\n",
       "      <td>491.000000</td>\n",
       "      <td>0.071000</td>\n",
       "      <td>29.620000</td>\n",
       "      <td>18.470000</td>\n",
       "      <td>912.500000</td>\n",
       "      <td>5.000000</td>\n",
       "    </tr>\n",
       "  </tbody>\n",
       "</table>\n",
       "</div>"
      ],
      "text/plain": [
       "          SPY PRICE           DTE       C_DELTA       C_GAMMA        C_VEGA  \\\n",
       "count  18286.000000  18286.000000  18286.000000  18286.000000  18286.000000   \n",
       "mean     451.743649      3.135086      0.296418      0.031482      0.114851   \n",
       "std       16.600194      0.821330      0.250829      0.020384      0.062800   \n",
       "min      415.920000      2.000000      0.001930      0.000860      0.002720   \n",
       "25%      435.140000      2.210000      0.066045      0.016792      0.057870   \n",
       "50%      454.760000      3.120000      0.241695      0.028100      0.126910   \n",
       "75%      466.730000      4.060000      0.479093      0.042570      0.166990   \n",
       "max      479.650000      4.270000      0.957660      0.157750      0.221910   \n",
       "\n",
       "            C_THETA         C_RHO          C_IV       C_VOLUME        C_LAST  \\\n",
       "count  18286.000000  18286.000000  18286.000000   18286.000000  18286.000000   \n",
       "mean      -0.291012      0.012665      0.192955    5449.346331      2.356799   \n",
       "std        0.221723      0.010645      0.084475    9287.148360      2.920379   \n",
       "min       -1.063160     -0.000410      0.057790       0.000000      0.010000   \n",
       "25%       -0.436995      0.003082      0.124293     593.250000      0.200000   \n",
       "50%       -0.260010      0.010540      0.174690    2222.500000      1.190000   \n",
       "75%       -0.095430      0.019707      0.244622    6107.750000      3.510000   \n",
       "max       -0.003710      0.052130      0.495160  126743.000000     19.370000   \n",
       "\n",
       "             STRIKE  STRIKE_DISTANCE_PCT  STRIKE DISTANCE    PRICECLOSE  \\\n",
       "count  18286.000000         18286.000000     18286.000000  18286.000000   \n",
       "mean     457.210462             0.016726         5.466812      2.715073   \n",
       "std       17.087876             0.012128         7.451330      3.843939   \n",
       "min      418.000000             0.000000       -18.400000      0.010000   \n",
       "25%      443.000000             0.007000         0.290000      0.070000   \n",
       "50%      457.000000             0.015000         5.550000      0.760000   \n",
       "75%      472.000000             0.025000        10.807500      4.070000   \n",
       "max      491.000000             0.071000        29.620000     18.470000   \n",
       "\n",
       "              ROI %             y  \n",
       "count  18286.000000  18286.000000  \n",
       "mean      15.299943      2.024007  \n",
       "std      107.873507      1.769805  \n",
       "min      -97.701149      0.000000  \n",
       "25%      -61.413869      0.000000  \n",
       "50%       -4.121614      2.000000  \n",
       "75%       48.969400      3.000000  \n",
       "max      912.500000      5.000000  "
      ]
     },
     "execution_count": 13,
     "metadata": {},
     "output_type": "execute_result"
    }
   ],
   "source": [
    "df.describe()"
   ]
  },
  {
   "cell_type": "code",
   "execution_count": 14,
   "id": "356dc83a-df53-430c-b05d-4a9d66519aa5",
   "metadata": {},
   "outputs": [
    {
     "data": {
      "text/plain": [
       "QUOTE_READTIME          object\n",
       "CONTRACT                object\n",
       "SPY PRICE              float64\n",
       "EXPIRE_DATE             object\n",
       "DTE                    float64\n",
       "C_DELTA                float64\n",
       "C_GAMMA                float64\n",
       "C_VEGA                 float64\n",
       "C_THETA                float64\n",
       "C_RHO                  float64\n",
       "C_IV                   float64\n",
       "C_VOLUME               float64\n",
       "C_LAST                 float64\n",
       "STRIKE                 float64\n",
       "STRIKE_DISTANCE_PCT    float64\n",
       "STRIKE DISTANCE        float64\n",
       "PRICECLOSE             float64\n",
       "ROI %                  float64\n",
       "y                      float64\n",
       "dtype: object"
      ]
     },
     "execution_count": 14,
     "metadata": {},
     "output_type": "execute_result"
    }
   ],
   "source": [
    "df.dtypes"
   ]
  },
  {
   "cell_type": "markdown",
   "id": "efe689b6-38a3-408f-9732-34a1319cf887",
   "metadata": {},
   "source": [
    "## 2.2.) Feature Analysis and Exploration"
   ]
  },
  {
   "cell_type": "markdown",
   "id": "f51d9366-0e00-4472-9b95-96c8388d9fed",
   "metadata": {},
   "source": [
    "### Plotting features according to contract length"
   ]
  },
  {
   "cell_type": "code",
   "execution_count": 15,
   "id": "79edddbb-760f-4544-8902-88c3cbb0ee84",
   "metadata": {},
   "outputs": [],
   "source": [
    "#\n",
    "#contract_outcome = df.groupby('STRIKE_DISTANCE_PCT')['y'].value_counts(normalize=True).loc[:,1]\n",
    "#sns.set(rc={'figure.figsize':(12,5)})\n",
    "#sns.barplot(x=contract_outcome.index, y=contract_outcome.values, color='#5975A4', saturation=1)"
   ]
  },
  {
   "cell_type": "markdown",
   "id": "25e76603-685d-41b2-8297-54b7a94e791e",
   "metadata": {},
   "source": [
    "### Eliminate Uncorrelated Features"
   ]
  },
  {
   "cell_type": "code",
   "execution_count": 16,
   "id": "117ce679-3518-4edb-9000-aaaeddf5f8e1",
   "metadata": {},
   "outputs": [],
   "source": [
    "#Calculate correlation of each feature with 'y'\n",
    "\n",
    "correlation = df.corr()\n",
    "correlation_df = abs(correlation['y'])"
   ]
  },
  {
   "cell_type": "code",
   "execution_count": 17,
   "id": "d23bb93b-163a-49f8-b329-2e7117ebe0d8",
   "metadata": {},
   "outputs": [
    {
     "data": {
      "text/plain": [
       "y                      1.000000\n",
       "ROI %                  0.880819\n",
       "PRICECLOSE             0.471876\n",
       "STRIKE                 0.204669\n",
       "SPY PRICE              0.168380\n",
       "C_DELTA                0.118456\n",
       "C_IV                   0.116492\n",
       "C_LAST                 0.116124\n",
       "C_RHO                  0.110906\n",
       "C_VEGA                 0.108954\n",
       "STRIKE DISTANCE        0.094224\n",
       "C_THETA                0.088394\n",
       "C_VOLUME               0.059965\n",
       "STRIKE_DISTANCE_PCT    0.053677\n",
       "DTE                    0.019249\n",
       "C_GAMMA                0.013348\n",
       "Name: y, dtype: float64"
      ]
     },
     "execution_count": 17,
     "metadata": {},
     "output_type": "execute_result"
    }
   ],
   "source": [
    "correlation_df.sort_values(ascending=False)"
   ]
  },
  {
   "cell_type": "code",
   "execution_count": 18,
   "id": "ce0c8e12-4132-442a-92e8-9108f69e4f8f",
   "metadata": {},
   "outputs": [],
   "source": [
    "#Drop variables with less than 3% correlation with contract outcome ('y')\n",
    "\n",
    "#drop_list_corr = sorted(list(correlation_df[correlation_df < 0.015].index))\n",
    "#print(drop_list_corr)"
   ]
  },
  {
   "cell_type": "code",
   "execution_count": 19,
   "id": "55976621-1f2f-4cf7-93fe-bdefb0dde364",
   "metadata": {},
   "outputs": [],
   "source": [
    "#Dropping because C_IV convolutes outcome for some buggish reason\n",
    "\n",
    "df.drop(labels=[\"C_IV\"], axis=1, inplace=True)"
   ]
  },
  {
   "cell_type": "markdown",
   "id": "597c1c52-4cd8-4c1c-9b8c-0a13f9c2d558",
   "metadata": {},
   "source": [
    "### Drop Columns Not Needed for Machine Learning"
   ]
  },
  {
   "cell_type": "code",
   "execution_count": 20,
   "id": "f4b0560b-1a73-42a9-9f79-680a837f2937",
   "metadata": {
    "tags": []
   },
   "outputs": [],
   "source": [
    "df.drop(columns=[\"CONTRACT\"], inplace=True)"
   ]
  },
  {
   "cell_type": "code",
   "execution_count": 21,
   "id": "1fb6494b-1b9f-4229-b6f3-6dab08c5da74",
   "metadata": {
    "tags": []
   },
   "outputs": [],
   "source": [
    "df.drop(columns=[\"ROI %\"], inplace=True)"
   ]
  },
  {
   "cell_type": "code",
   "execution_count": 22,
   "id": "2a9f139d-88cf-4154-8bd3-81cab2cd8975",
   "metadata": {},
   "outputs": [],
   "source": [
    "df.drop(columns=[\"PRICECLOSE\"], inplace=True)"
   ]
  },
  {
   "cell_type": "code",
   "execution_count": 23,
   "id": "f1b4b097-ba28-42b9-a175-9b47a33a9a5e",
   "metadata": {
    "tags": []
   },
   "outputs": [],
   "source": [
    "df.drop(columns=[\"EXPIRE_DATE\"], inplace=True)"
   ]
  },
  {
   "cell_type": "code",
   "execution_count": 24,
   "id": "eed73c1a-fec1-44a9-bc0c-733cad8c81a6",
   "metadata": {},
   "outputs": [],
   "source": [
    "df.drop(columns=[\"C_VOLUME\"], inplace=True)"
   ]
  },
  {
   "cell_type": "code",
   "execution_count": 25,
   "id": "d2165bce-b8b4-43a7-9c56-17a3681be6d8",
   "metadata": {},
   "outputs": [],
   "source": [
    "df.drop(columns=[\"QUOTE_READTIME\"], inplace=True)"
   ]
  },
  {
   "cell_type": "markdown",
   "id": "3068faa2-8d4c-4e93-8a3f-f602b38642b7",
   "metadata": {},
   "source": [
    "# SECTION 3: Evaluate Algorithms and Models"
   ]
  },
  {
   "cell_type": "markdown",
   "id": "5ff86d58-a357-4e28-9911-a0eaad193d8f",
   "metadata": {},
   "source": [
    "## 3.1.) Train Test Split and Evaluation Metrics"
   ]
  },
  {
   "cell_type": "code",
   "execution_count": 26,
   "id": "00735fa5-bd96-4369-9058-84a8ee9c32fd",
   "metadata": {
    "tags": []
   },
   "outputs": [],
   "source": [
    "#Split into training and testing groups\n",
    "\n",
    "#Split out validation dataset for the end\n",
    "y = df[\"y\"]\n",
    "\n",
    "X = df.drop(columns='y')\n"
   ]
  },
  {
   "cell_type": "code",
   "execution_count": 27,
   "id": "653f7262-0100-4f28-876f-e6bb7db12983",
   "metadata": {},
   "outputs": [
    {
     "data": {
      "text/plain": [
       "0.0    4738\n",
       "1.0    3926\n",
       "5.0    3055\n",
       "2.0    3008\n",
       "3.0    2442\n",
       "4.0    1117\n",
       "Name: y, dtype: int64"
      ]
     },
     "execution_count": 27,
     "metadata": {},
     "output_type": "execute_result"
    }
   ],
   "source": [
    "y.value_counts()"
   ]
  },
  {
   "cell_type": "code",
   "execution_count": 28,
   "id": "07a2bc43-5287-4563-8cfa-54e51a638a29",
   "metadata": {},
   "outputs": [],
   "source": [
    "\n",
    "validation_size = 0.2\n",
    "\n",
    "seed = 7\n",
    "\n",
    "X_train, X_validation, y_train, y_validation = train_test_split(X, y, stratify=y, test_size=validation_size, random_state=seed)\n"
   ]
  },
  {
   "cell_type": "code",
   "execution_count": 29,
   "id": "748a1a8b-eec7-4d5d-b29a-639c5507ae90",
   "metadata": {},
   "outputs": [
    {
     "data": {
      "text/html": [
       "<div>\n",
       "<style scoped>\n",
       "    .dataframe tbody tr th:only-of-type {\n",
       "        vertical-align: middle;\n",
       "    }\n",
       "\n",
       "    .dataframe tbody tr th {\n",
       "        vertical-align: top;\n",
       "    }\n",
       "\n",
       "    .dataframe thead th {\n",
       "        text-align: right;\n",
       "    }\n",
       "</style>\n",
       "<table border=\"1\" class=\"dataframe\">\n",
       "  <thead>\n",
       "    <tr style=\"text-align: right;\">\n",
       "      <th></th>\n",
       "      <th>SPY PRICE</th>\n",
       "      <th>DTE</th>\n",
       "      <th>C_DELTA</th>\n",
       "      <th>C_GAMMA</th>\n",
       "      <th>C_VEGA</th>\n",
       "      <th>C_THETA</th>\n",
       "      <th>C_RHO</th>\n",
       "      <th>C_LAST</th>\n",
       "      <th>STRIKE</th>\n",
       "      <th>STRIKE_DISTANCE_PCT</th>\n",
       "      <th>STRIKE DISTANCE</th>\n",
       "    </tr>\n",
       "  </thead>\n",
       "  <tbody>\n",
       "    <tr>\n",
       "      <th>2252</th>\n",
       "      <td>450.23</td>\n",
       "      <td>3.10</td>\n",
       "      <td>0.83793</td>\n",
       "      <td>0.04573</td>\n",
       "      <td>0.11256</td>\n",
       "      <td>-0.17062</td>\n",
       "      <td>0.03893</td>\n",
       "      <td>5.72</td>\n",
       "      <td>445.0</td>\n",
       "      <td>0.012</td>\n",
       "      <td>-5.23</td>\n",
       "    </tr>\n",
       "    <tr>\n",
       "      <th>8845</th>\n",
       "      <td>476.65</td>\n",
       "      <td>2.23</td>\n",
       "      <td>0.04673</td>\n",
       "      <td>0.02236</td>\n",
       "      <td>0.04313</td>\n",
       "      <td>-0.05930</td>\n",
       "      <td>0.00140</td>\n",
       "      <td>0.08</td>\n",
       "      <td>484.0</td>\n",
       "      <td>0.015</td>\n",
       "      <td>7.35</td>\n",
       "    </tr>\n",
       "    <tr>\n",
       "      <th>9934</th>\n",
       "      <td>459.45</td>\n",
       "      <td>4.17</td>\n",
       "      <td>0.02257</td>\n",
       "      <td>0.00610</td>\n",
       "      <td>0.02959</td>\n",
       "      <td>-0.04082</td>\n",
       "      <td>0.00113</td>\n",
       "      <td>0.06</td>\n",
       "      <td>478.0</td>\n",
       "      <td>0.039</td>\n",
       "      <td>18.05</td>\n",
       "    </tr>\n",
       "    <tr>\n",
       "      <th>5918</th>\n",
       "      <td>463.52</td>\n",
       "      <td>4.25</td>\n",
       "      <td>0.03651</td>\n",
       "      <td>0.01076</td>\n",
       "      <td>0.04291</td>\n",
       "      <td>-0.05141</td>\n",
       "      <td>0.00244</td>\n",
       "      <td>0.11</td>\n",
       "      <td>477.0</td>\n",
       "      <td>0.029</td>\n",
       "      <td>13.48</td>\n",
       "    </tr>\n",
       "    <tr>\n",
       "      <th>18040</th>\n",
       "      <td>447.09</td>\n",
       "      <td>2.27</td>\n",
       "      <td>0.45884</td>\n",
       "      <td>0.04979</td>\n",
       "      <td>0.16075</td>\n",
       "      <td>-0.58115</td>\n",
       "      <td>0.01701</td>\n",
       "      <td>2.73</td>\n",
       "      <td>448.0</td>\n",
       "      <td>0.002</td>\n",
       "      <td>0.91</td>\n",
       "    </tr>\n",
       "    <tr>\n",
       "      <th>...</th>\n",
       "      <td>...</td>\n",
       "      <td>...</td>\n",
       "      <td>...</td>\n",
       "      <td>...</td>\n",
       "      <td>...</td>\n",
       "      <td>...</td>\n",
       "      <td>...</td>\n",
       "      <td>...</td>\n",
       "      <td>...</td>\n",
       "      <td>...</td>\n",
       "      <td>...</td>\n",
       "    </tr>\n",
       "    <tr>\n",
       "      <th>8188</th>\n",
       "      <td>462.16</td>\n",
       "      <td>2.10</td>\n",
       "      <td>0.07111</td>\n",
       "      <td>0.01687</td>\n",
       "      <td>0.05562</td>\n",
       "      <td>-0.15203</td>\n",
       "      <td>0.00272</td>\n",
       "      <td>0.26</td>\n",
       "      <td>473.0</td>\n",
       "      <td>0.023</td>\n",
       "      <td>10.84</td>\n",
       "    </tr>\n",
       "    <tr>\n",
       "      <th>10676</th>\n",
       "      <td>470.92</td>\n",
       "      <td>2.04</td>\n",
       "      <td>0.39283</td>\n",
       "      <td>0.06818</td>\n",
       "      <td>0.15759</td>\n",
       "      <td>-0.43215</td>\n",
       "      <td>0.01417</td>\n",
       "      <td>1.54</td>\n",
       "      <td>472.0</td>\n",
       "      <td>0.003</td>\n",
       "      <td>1.58</td>\n",
       "    </tr>\n",
       "    <tr>\n",
       "      <th>8441</th>\n",
       "      <td>475.99</td>\n",
       "      <td>4.10</td>\n",
       "      <td>0.49832</td>\n",
       "      <td>0.06275</td>\n",
       "      <td>0.21837</td>\n",
       "      <td>-0.27072</td>\n",
       "      <td>0.02995</td>\n",
       "      <td>2.50</td>\n",
       "      <td>476.0</td>\n",
       "      <td>0.000</td>\n",
       "      <td>0.01</td>\n",
       "    </tr>\n",
       "    <tr>\n",
       "      <th>5621</th>\n",
       "      <td>468.29</td>\n",
       "      <td>3.00</td>\n",
       "      <td>0.00791</td>\n",
       "      <td>0.00406</td>\n",
       "      <td>0.01116</td>\n",
       "      <td>-0.01085</td>\n",
       "      <td>0.00007</td>\n",
       "      <td>0.01</td>\n",
       "      <td>481.0</td>\n",
       "      <td>0.027</td>\n",
       "      <td>12.71</td>\n",
       "    </tr>\n",
       "    <tr>\n",
       "      <th>12735</th>\n",
       "      <td>452.88</td>\n",
       "      <td>3.00</td>\n",
       "      <td>0.66577</td>\n",
       "      <td>0.03894</td>\n",
       "      <td>0.16607</td>\n",
       "      <td>-0.48593</td>\n",
       "      <td>0.02977</td>\n",
       "      <td>6.31</td>\n",
       "      <td>449.0</td>\n",
       "      <td>0.009</td>\n",
       "      <td>-3.88</td>\n",
       "    </tr>\n",
       "  </tbody>\n",
       "</table>\n",
       "<p>3658 rows × 11 columns</p>\n",
       "</div>"
      ],
      "text/plain": [
       "       SPY PRICE   DTE  C_DELTA  C_GAMMA   C_VEGA  C_THETA    C_RHO  C_LAST  \\\n",
       "2252      450.23  3.10  0.83793  0.04573  0.11256 -0.17062  0.03893    5.72   \n",
       "8845      476.65  2.23  0.04673  0.02236  0.04313 -0.05930  0.00140    0.08   \n",
       "9934      459.45  4.17  0.02257  0.00610  0.02959 -0.04082  0.00113    0.06   \n",
       "5918      463.52  4.25  0.03651  0.01076  0.04291 -0.05141  0.00244    0.11   \n",
       "18040     447.09  2.27  0.45884  0.04979  0.16075 -0.58115  0.01701    2.73   \n",
       "...          ...   ...      ...      ...      ...      ...      ...     ...   \n",
       "8188      462.16  2.10  0.07111  0.01687  0.05562 -0.15203  0.00272    0.26   \n",
       "10676     470.92  2.04  0.39283  0.06818  0.15759 -0.43215  0.01417    1.54   \n",
       "8441      475.99  4.10  0.49832  0.06275  0.21837 -0.27072  0.02995    2.50   \n",
       "5621      468.29  3.00  0.00791  0.00406  0.01116 -0.01085  0.00007    0.01   \n",
       "12735     452.88  3.00  0.66577  0.03894  0.16607 -0.48593  0.02977    6.31   \n",
       "\n",
       "       STRIKE  STRIKE_DISTANCE_PCT  STRIKE DISTANCE  \n",
       "2252    445.0                0.012            -5.23  \n",
       "8845    484.0                0.015             7.35  \n",
       "9934    478.0                0.039            18.05  \n",
       "5918    477.0                0.029            13.48  \n",
       "18040   448.0                0.002             0.91  \n",
       "...       ...                  ...              ...  \n",
       "8188    473.0                0.023            10.84  \n",
       "10676   472.0                0.003             1.58  \n",
       "8441    476.0                0.000             0.01  \n",
       "5621    481.0                0.027            12.71  \n",
       "12735   449.0                0.009            -3.88  \n",
       "\n",
       "[3658 rows x 11 columns]"
      ]
     },
     "execution_count": 29,
     "metadata": {},
     "output_type": "execute_result"
    }
   ],
   "source": [
    "X_validation"
   ]
  },
  {
   "cell_type": "code",
   "execution_count": 30,
   "id": "3f9a531e-0542-4169-94c9-928019d4e5fc",
   "metadata": {},
   "outputs": [],
   "source": [
    "# Create the StandardScaler instance\n",
    "scaler = StandardScaler()\n",
    "\n",
    "# Fit the scaler to the features training dataset\n",
    "X_scaler = scaler.fit(X_train)\n",
    "\n",
    "# Scale both the training and testing data from the features dataset\n",
    "X_train_scaled = X_scaler.transform(X_train)\n",
    "X_validation_scaled = X_scaler.transform(X_validation)"
   ]
  },
  {
   "cell_type": "markdown",
   "id": "1887c529-450b-407a-84d0-7df79f10239e",
   "metadata": {},
   "source": [
    "## 3.2.) Quick Check of Models and Algorithms"
   ]
  },
  {
   "cell_type": "code",
   "execution_count": 31,
   "id": "811bb2b6-4cea-440a-a75a-e9f77c72050b",
   "metadata": {},
   "outputs": [],
   "source": [
    "#Spot check Classification algorithms\n",
    "\n",
    "models = []\n",
    "\n",
    "#Boosting methods\n",
    "\n",
    "models.append(('XGB', XGBClassifier()))\n",
    "models.append(('AB', AdaBoostClassifier()))\n",
    "#models.append(('GBM', GradientBoostingClassifier()))\n",
    "\n",
    "#Bagging methods\n",
    "\n",
    "models.append(('RF', RandomForestClassifier()))\n",
    "models.append(('ET', ExtraTreesClassifier()))\n",
    "\n",
    "#SVC \n",
    "#models.append(('SVC', SVC()))\n",
    "\n",
    "#K Nearest Neighbors\n",
    "models.append(('KNN', KNeighborsClassifier()))\n"
   ]
  },
  {
   "cell_type": "code",
   "execution_count": 32,
   "id": "9e076d0e-52a2-474f-b59e-31e9cc9720aa",
   "metadata": {},
   "outputs": [],
   "source": [
    "#Test options for classification\n",
    "\n",
    "num_folds = 10\n",
    "seed = 7"
   ]
  },
  {
   "cell_type": "code",
   "execution_count": 33,
   "id": "6f39b099-eec4-42b2-bd21-69f299e6c4e4",
   "metadata": {
    "tags": []
   },
   "outputs": [
    {
     "name": "stdout",
     "output_type": "stream",
     "text": [
      "XGB: 0.880708 (0.006380)\n",
      "AB: 0.467530 (0.012650)\n",
      "RF: 0.866557 (0.015076)\n",
      "ET: 0.864711 (0.013478)\n",
      "KNN: 0.754921 (0.012586)\n"
     ]
    }
   ],
   "source": [
    "results = []\n",
    "\n",
    "names = []\n",
    "\n",
    "scoring = 'accuracy'\n",
    "\n",
    "for name, model in models:\n",
    "    kfold = StratifiedKFold(n_splits=num_folds, random_state=seed, shuffle=True)\n",
    "    cv_results = cross_val_score(model, X_train_scaled, y_train, cv=kfold, scoring=scoring)\n",
    "    results.append(cv_results)\n",
    "    names.append(name)\n",
    "    findings_summary = \"%s: %f (%f)\" % (name, cv_results.mean(), cv_results.std())\n",
    "    print(findings_summary)"
   ]
  },
  {
   "cell_type": "code",
   "execution_count": null,
   "id": "a533f4e5-9a2e-4458-9723-8a734a10b771",
   "metadata": {},
   "outputs": [],
   "source": [
    "#Compare the model outcomes\n",
    "\n",
    "fig = pyplot.figure()\n",
    "fig.suptitle('Model Comparison')\n",
    "ax = fig.add_subplot(111)\n",
    "pyplot.boxplot(results)\n",
    "ax.set_xticklabels(names)\n",
    "fig.set_size_inches(8,4)\n",
    "pyplot.show()"
   ]
  },
  {
   "cell_type": "markdown",
   "id": "1a6ea5d6-dbec-43eb-aa3d-4aff739ea2aa",
   "metadata": {},
   "source": [
    "## 3.3.) Selecting Random Forest (or whichver tree method best), Calculating its Baseline "
   ]
  },
  {
   "cell_type": "code",
   "execution_count": 34,
   "id": "354676f4-a69a-435b-89a1-18e33b62fbfe",
   "metadata": {},
   "outputs": [
    {
     "data": {
      "text/plain": [
       "0.8679241163473289"
      ]
     },
     "execution_count": 34,
     "metadata": {},
     "output_type": "execute_result"
    }
   ],
   "source": [
    "#Estimate accuracy on training set\n",
    "\n",
    "rf_model = RandomForestClassifier()\n",
    "\n",
    "cv = StratifiedKFold(n_splits=num_folds, random_state=seed, shuffle=True)\n",
    "scores = cross_val_score(rf_model, X_train_scaled, y_train, scoring='accuracy', cv=cv)\n",
    "avg_score = np.mean(scores)\n",
    "avg_score"
   ]
  },
  {
   "cell_type": "code",
   "execution_count": 35,
   "id": "68816641-9d9a-4066-98f6-d6cf28fed578",
   "metadata": {},
   "outputs": [
    {
     "name": "stdout",
     "output_type": "stream",
     "text": [
      "0.8838162930563149\n",
      "Weighted Precision: 0.88\n",
      "Weighted Recall: 0.88\n",
      "Weighted F1-score: 0.88\n",
      "                  precision    recall  f1-score   support\n",
      "\n",
      "     Strong Sell       0.93      0.94      0.93       948\n",
      "            Sell       0.88      0.90      0.89       785\n",
      "            Pass       0.84      0.85      0.84       602\n",
      "             Buy       0.85      0.80      0.83       489\n",
      "      Strong Buy       0.79      0.74      0.76       223\n",
      "Very High Return       0.93      0.93      0.93       611\n",
      "\n",
      "        accuracy                           0.88      3658\n",
      "       macro avg       0.87      0.86      0.86      3658\n",
      "    weighted avg       0.88      0.88      0.88      3658\n",
      "\n",
      "[[893  38   5   3   1   8]\n",
      " [ 45 704  35   0   1   0]\n",
      " [  7  44 509  39   0   3]\n",
      " [  8  10  48 393  21   9]\n",
      " [  6   5   0  26 166  20]\n",
      " [  5   3  11   2  22 568]]\n"
     ]
    }
   ],
   "source": [
    "#Estimate accuracy on validation set\n",
    "\n",
    "rf_model = RandomForestClassifier()\n",
    "\n",
    "rf_model.fit(X_train_scaled, y_train)\n",
    "\n",
    "predictions = rf_model.predict(X_validation_scaled)\n",
    "\n",
    "print(accuracy_score(y_validation, predictions))\n",
    "\n",
    "print('Weighted Precision: {:.2f}'.format(precision_score(y_validation, predictions, average='weighted')))\n",
    "print('Weighted Recall: {:.2f}'.format(recall_score(y_validation, predictions, average='weighted')))\n",
    "print('Weighted F1-score: {:.2f}'.format(f1_score(y_validation, predictions, average='weighted')))\n",
    "\n",
    "print(classification_report(y_validation, predictions, target_names=[\"Strong Sell\", \"Sell\", \"Pass\", \"Buy\", \"Strong Buy\", \"Very High Return\"]))\n",
    "\n",
    "print(confusion_matrix(y_validation, predictions))"
   ]
  },
  {
   "cell_type": "code",
   "execution_count": 36,
   "id": "0675ebfb-7034-4c0c-bf58-d5f1dc834879",
   "metadata": {},
   "outputs": [
    {
     "data": {
      "text/plain": [
       "<AxesSubplot:xlabel='Predicted', ylabel='Actual'>"
      ]
     },
     "execution_count": 36,
     "metadata": {},
     "output_type": "execute_result"
    },
    {
     "data": {
      "image/png": "[encoded data removed]",
      "text/plain": [
       "<Figure size 432x288 with 2 Axes>"
      ]
     },
     "metadata": {
      "needs_background": "light"
     },
     "output_type": "display_data"
    }
   ],
   "source": [
    "#Visualization of the Confusion Matrix\n",
    "\n",
    "df_matrix = pd.DataFrame(confusion_matrix(y_validation, predictions), columns=np.unique(y_validation), index = np.unique(y_validation))\n",
    "df_matrix.index.name = 'Actual'\n",
    "df_matrix.columns.name = 'Predicted'\n",
    "sns.heatmap(df_matrix, cmap=\"Blues\", annot=True, annot_kws={\"size\": 16}) "
   ]
  },
  {
   "cell_type": "markdown",
   "id": "7300df07-3e6b-419e-a2c0-d1b750443d20",
   "metadata": {},
   "source": [
    "# SECTION 4: Model Tuning "
   ]
  },
  {
   "cell_type": "markdown",
   "id": "3c884d07-8e04-4f04-8d4f-91c7cefcf714",
   "metadata": {},
   "source": [
    "## 4.1.) Hyperparameter Tuning for Random Forest"
   ]
  },
  {
   "cell_type": "markdown",
   "id": "ef6ccb13-28a1-471a-a585-e56b042bf45e",
   "metadata": {},
   "source": [
    "### APPROACH (A) \n",
    "## __*(CAUTION TAKES A LONG TIME!)*__"
   ]
  },
  {
   "cell_type": "code",
   "execution_count": null,
   "id": "09ebdfd6-4c2b-45fe-8077-d5faba342e90",
   "metadata": {},
   "outputs": [],
   "source": [
    "\n",
    "\n",
    "# Number of trees in random forest\n",
    "n_estimators = [int(x) for x in np.linspace(start = 200, stop = 2000, num = 10)]\n",
    "\n",
    "# Number of features to consider at every split\n",
    "max_features = ['auto', 'sqrt']\n",
    "\n",
    "# Maximum number of levels in tree\n",
    "max_depth = [int(x) for x in np.linspace(10, 110, num = 11)]\n",
    "max_depth.append(None)\n",
    "\n",
    "# Minimum number of samples required to split a node\n",
    "min_samples_split = [2, 5, 10]\n",
    "\n",
    "# Minimum number of samples required at each leaf node\n",
    "min_samples_leaf = [1, 2, 4]\n",
    "\n",
    "# Method of selecting samples for training each tree\n",
    "bootstrap = [True, False]\n",
    "\n",
    "# Create the random grid\n",
    "random_grid = {}\n",
    "\n",
    "paramgrid = {'n_estimators': n_estimators,\n",
    "               'max_features': max_features,\n",
    "               'max_depth': max_depth,}\n",
    "              # 'min_samples_split': min_samples_split,\n",
    "               #'min_samples_leaf': min_samples_leaf,\n",
    "              # 'bootstrap': bootstrap}\n",
    "\n",
    "random.seed(1)\n",
    "\n",
    "cv = EvolutionaryAlgorithmSearchCV(estimator=RandomForestClassifier(),\n",
    "                                   params=paramgrid,\n",
    "                                   scoring=\"accuracy\",\n",
    "                                   cv=StratifiedKFold(n_splits=4),\n",
    "                                   verbose=1,\n",
    "                                   population_size=50,\n",
    "                                   gene_mutation_prob=0.10,\n",
    "                                   gene_crossover_prob=0.5,\n",
    "                                   tournament_size=3,\n",
    "                                   generations_number=5,\n",
    "                                   n_jobs=4)\n",
    "cv.fit(X_train_scaled, y_train)"
   ]
  },
  {
   "cell_type": "markdown",
   "id": "ba77be02-2f47-4cbc-89a1-84f6b9e78b10",
   "metadata": {},
   "source": [
    "### APPROACH (B)\n",
    "## __*(CAUTION TAKES A LONG TIME!)*__"
   ]
  },
  {
   "cell_type": "code",
   "execution_count": null,
   "id": "1c9f0691-f7c9-4f79-88d3-e58d4e20800c",
   "metadata": {},
   "outputs": [],
   "source": [
    "# Grid Search: (select model) Tuning\n",
    "\n",
    "n_estimators = [20, 100, 180, 1000]\n",
    "max_features = [1, 2, 3, 4]\n",
    "\n",
    "param_grid = dict(n_estimators=n_estimators, max_features=max_features)\n",
    "\n",
    "rf_model = RandomForestClassifier()\n",
    "\n",
    "kfold = StratifiedKFold(n_splits=num_folds, random_state=seed, shuffle=True)\n",
    "\n",
    "grid = GridSearchCV(estimator=rf_model, param_grid=param_grid, scoring=scoring, cv=kfold)\n",
    "grid_result = grid.fit(X_train_scaled, y_train)\n",
    "\n",
    "#Print Results\n",
    "print(\"Best: %f using %s\" % (grid_result.best_score_, grid_result.best_params_))\n",
    "means = grid_result.cv_results_['mean_test_score']\n",
    "stds = grid_result.cv_results_['std_test_score']\n",
    "params = grid_result.cv_results_['params']\n",
    "ranks = grid_result.cv_results_['rank_test_score']\n",
    "for mean, stdev, param, rank in zip(means, stds, params, ranks):\n",
    "    print(\"#%d %f (%f) with: %r\" % (rank, mean, stdev, param))"
   ]
  },
  {
   "cell_type": "markdown",
   "id": "e292f763-e14a-424f-b678-b2ce4a71ebdc",
   "metadata": {},
   "source": [
    "### PROCEEDING WITH BEST APPROACH"
   ]
  },
  {
   "cell_type": "code",
   "execution_count": 37,
   "id": "58225b73-242f-4013-91be-ed38753eb00c",
   "metadata": {},
   "outputs": [
    {
     "data": {
      "text/plain": [
       "RandomForestClassifier()"
      ]
     },
     "execution_count": 37,
     "metadata": {},
     "output_type": "execute_result"
    }
   ],
   "source": [
    "#Prepare the model with parameters decided in previous cell\n",
    "\n",
    "rf_model = RandomForestClassifier() #(n_estimators=200, max_features=\"sqrt\", max_depth=100, min_samples_split=5, min_samples_leaf=1, bootstrap=False)\n",
    "rf_model.fit(X_train_scaled, y_train)"
   ]
  },
  {
   "cell_type": "code",
   "execution_count": 38,
   "id": "3b2b7c3e-e097-4852-81ca-e9cc3c6ac01e",
   "metadata": {},
   "outputs": [
    {
     "name": "stdout",
     "output_type": "stream",
     "text": [
      "1.0\n",
      "Micro Precision: 1.00\n",
      "Micro Recall: 1.00\n",
      "Micro F1-score: 1.00\n",
      "\n",
      "Macro Precision: 1.00\n",
      "Macro Recall: 1.00\n",
      "Macro F1-score: 1.00\n",
      "\n",
      "Weighted Precision: 1.00\n",
      "Weighted Recall: 1.00\n",
      "Weighted F1-score: 1.00\n",
      "                  precision    recall  f1-score   support\n",
      "\n",
      "     Strong Sell       1.00      1.00      1.00      3790\n",
      "            Sell       1.00      1.00      1.00      3141\n",
      "            Pass       1.00      1.00      1.00      2406\n",
      "             Buy       1.00      1.00      1.00      1953\n",
      "      Strong Buy       1.00      1.00      1.00       894\n",
      "Very High Return       1.00      1.00      1.00      2444\n",
      "\n",
      "        accuracy                           1.00     14628\n",
      "       macro avg       1.00      1.00      1.00     14628\n",
      "    weighted avg       1.00      1.00      1.00     14628\n",
      "\n"
     ]
    }
   ],
   "source": [
    "#Score predictions of training set\n",
    "\n",
    "training_predictions = rf_model.predict(X_train_scaled)\n",
    "\n",
    "print(accuracy_score(y_train, training_predictions))\n",
    "\n",
    "print('Micro Precision: {:.2f}'.format(precision_score(y_train, training_predictions, average='micro')))\n",
    "print('Micro Recall: {:.2f}'.format(recall_score(y_train, training_predictions, average='micro')))\n",
    "print('Micro F1-score: {:.2f}\\n'.format(f1_score(y_train, training_predictions, average='micro')))\n",
    "\n",
    "print('Macro Precision: {:.2f}'.format(precision_score(y_train, training_predictions, average='macro')))\n",
    "print('Macro Recall: {:.2f}'.format(recall_score(y_train, training_predictions, average='macro')))\n",
    "print('Macro F1-score: {:.2f}\\n'.format(f1_score(y_train, training_predictions, average='macro')))\n",
    "\n",
    "print('Weighted Precision: {:.2f}'.format(precision_score(y_train, training_predictions, average='weighted')))\n",
    "print('Weighted Recall: {:.2f}'.format(recall_score(y_train, training_predictions, average='weighted')))\n",
    "print('Weighted F1-score: {:.2f}'.format(f1_score(y_train, training_predictions, average='weighted')))\n",
    "\n",
    "\n",
    "print(classification_report(y_train, training_predictions, target_names=[\"Strong Sell\", \"Sell\", \"Pass\", \"Buy\", \"Strong Buy\", \"Very High Return\"]))"
   ]
  },
  {
   "cell_type": "code",
   "execution_count": 39,
   "id": "17dd6f8d-ae65-44c2-929c-e144c2657ff5",
   "metadata": {},
   "outputs": [
    {
     "name": "stdout",
     "output_type": "stream",
     "text": [
      "0.8802624384909786\n",
      "Micro Precision: 0.88\n",
      "Micro Recall: 0.88\n",
      "Micro F1-score: 0.88\n",
      "\n",
      "Macro Precision: 0.86\n",
      "Macro Recall: 0.86\n",
      "Macro F1-score: 0.86\n",
      "\n",
      "Weighted Precision: 0.88\n",
      "Weighted Recall: 0.88\n",
      "Weighted F1-score: 0.88\n",
      "                  precision    recall  f1-score   support\n",
      "\n",
      "     Strong Sell       0.92      0.94      0.93       948\n",
      "            Sell       0.87      0.89      0.88       785\n",
      "            Pass       0.85      0.83      0.84       602\n",
      "             Buy       0.83      0.82      0.82       489\n",
      "      Strong Buy       0.78      0.73      0.75       223\n",
      "Very High Return       0.93      0.92      0.93       611\n",
      "\n",
      "        accuracy                           0.88      3658\n",
      "       macro avg       0.86      0.86      0.86      3658\n",
      "    weighted avg       0.88      0.88      0.88      3658\n",
      "\n",
      "[[894  37   3   4   1   9]\n",
      " [ 46 701  33   3   1   1]\n",
      " [  7  53 499  41   0   2]\n",
      " [  8   8  43 399  23   8]\n",
      " [  5   4   0  30 162  22]\n",
      " [  7   6   9   2  22 565]]\n"
     ]
    }
   ],
   "source": [
    "#Score predictions of validation set\n",
    "\n",
    "predictions = rf_model.predict(X_validation_scaled)\n",
    "\n",
    "print(accuracy_score(y_validation, predictions))\n",
    "\n",
    "print('Micro Precision: {:.2f}'.format(precision_score(y_validation, predictions, average='micro')))\n",
    "print('Micro Recall: {:.2f}'.format(recall_score(y_validation, predictions, average='micro')))\n",
    "print('Micro F1-score: {:.2f}\\n'.format(f1_score(y_validation, predictions, average='micro')))\n",
    "\n",
    "print('Macro Precision: {:.2f}'.format(precision_score(y_validation, predictions, average='macro')))\n",
    "print('Macro Recall: {:.2f}'.format(recall_score(y_validation, predictions, average='macro')))\n",
    "print('Macro F1-score: {:.2f}\\n'.format(f1_score(y_validation, predictions, average='macro')))\n",
    "\n",
    "print('Weighted Precision: {:.2f}'.format(precision_score(y_validation, predictions, average='weighted')))\n",
    "print('Weighted Recall: {:.2f}'.format(recall_score(y_validation, predictions, average='weighted')))\n",
    "print('Weighted F1-score: {:.2f}'.format(f1_score(y_validation, predictions, average='weighted')))\n",
    "\n",
    "\n",
    "print(classification_report(y_validation, predictions, target_names=[\"Strong Sell\", \"Sell\", \"Pass\", \"Buy\", \"Strong Buy\", \"Very High Return\"]))\n",
    "\n",
    "print(confusion_matrix(y_validation, predictions))"
   ]
  },
  {
   "cell_type": "code",
   "execution_count": null,
   "id": "2b9cf804-7145-4f71-8642-0211232c40f9",
   "metadata": {},
   "outputs": [],
   "source": [
    "#Visualization of the Confusion Matrix\n",
    "\n",
    "df_matrix = pd.DataFrame(confusion_matrix(y_validation, predictions), columns=np.unique(y_validation), index = np.unique(y_validation))\n",
    "df_matrix.index.name = 'Actual'\n",
    "df_matrix.columns.name = 'Predicted'\n",
    "sns.heatmap(df_matrix, cmap=\"Blues\", annot=True, annot_kws={\"size\": 16}) "
   ]
  },
  {
   "cell_type": "markdown",
   "id": "7117736f-7676-4a2f-8f46-34a320ddc3c7",
   "metadata": {},
   "source": [
    "## 4.2.) Determining Feature Importance"
   ]
  },
  {
   "cell_type": "code",
   "execution_count": null,
   "id": "7f44ca23-9468-4b07-876a-282c2da22e3c",
   "metadata": {},
   "outputs": [],
   "source": [
    "#Feature importances\n",
    "\n",
    "importances = rf_model.feature_importances_"
   ]
  },
  {
   "cell_type": "code",
   "execution_count": null,
   "id": "dc3b506b-cc70-4a48-b74c-db71ef3e7ecc",
   "metadata": {},
   "outputs": [],
   "source": [
    "important_features = zip(X.columns, rf_model.feature_importances_)"
   ]
  },
  {
   "cell_type": "code",
   "execution_count": null,
   "id": "b2017f14-339d-44a8-a858-84fc6e35b0c9",
   "metadata": {},
   "outputs": [],
   "source": [
    "importances_df = pd.DataFrame(important_features)"
   ]
  },
  {
   "cell_type": "code",
   "execution_count": null,
   "id": "19d0dfe4-0ad1-4d0a-ae1c-47e49025a10a",
   "metadata": {},
   "outputs": [],
   "source": [
    "importances_df = importances_df.rename(columns={0: 'Feature', 1: 'Importance'})"
   ]
  },
  {
   "cell_type": "code",
   "execution_count": null,
   "id": "8c98185c-65b5-40db-8ab7-1a3f92470f4e",
   "metadata": {},
   "outputs": [],
   "source": [
    "importances_df = importances_df.set_index('Feature')"
   ]
  },
  {
   "cell_type": "code",
   "execution_count": null,
   "id": "f000a771-c54f-46aa-971f-ce38883b4f22",
   "metadata": {},
   "outputs": [],
   "source": [
    "importances_df = importances_df.sort_values(by='Importance', ascending=False)"
   ]
  },
  {
   "cell_type": "code",
   "execution_count": null,
   "id": "54e7d469-2443-473e-8d88-08acd334e322",
   "metadata": {},
   "outputs": [],
   "source": [
    "importances_df"
   ]
  },
  {
   "cell_type": "code",
   "execution_count": null,
   "id": "6e5fdbdf-e4aa-4ee1-a27d-0673b5b1a763",
   "metadata": {},
   "outputs": [],
   "source": [
    "#Plot the top 10 most important features\n",
    "\n",
    "importances_df[0:10].plot(\n",
    "    kind='barh',\n",
    "    color='green',\n",
    "    title='Feature Importance',\n",
    "    legend=True)"
   ]
  },
  {
   "cell_type": "markdown",
   "id": "755f975f-763e-4a22-8fd6-35354147715b",
   "metadata": {},
   "source": [
    "## 4.2. Bayesian Optimization with HYPEROPT for XGB"
   ]
  },
  {
   "cell_type": "markdown",
   "id": "b11a09bf-1fbc-4180-b76c-50cc90831cf9",
   "metadata": {
    "tags": []
   },
   "source": [
    "## __*(CAUTION TAKES A COUPLE OF MIN!)*__"
   ]
  },
  {
   "cell_type": "code",
   "execution_count": null,
   "id": "19c2413b-16f3-4c57-a7bb-881c98424dfa",
   "metadata": {},
   "outputs": [],
   "source": [
    "#Initialize domain space for range of values \n",
    " \n",
    "space={'max_depth': hp.quniform(\"max_depth\", 3, 18, 1),\n",
    "        'gamma': hp.uniform ('gamma', 1, 9),\n",
    "        'reg_alpha' : hp.quniform('reg_alpha', 40, 180, 1),\n",
    "        'reg_lambda' : hp.uniform('reg_lambda', 0, 1),\n",
    "        'colsample_bytree' : hp.uniform('colsample_bytree', 0.5, 1),\n",
    "        'min_child_weight' : hp.quniform('min_child_weight', 0, 10, 1),\n",
    "        'n_estimators': 180,\n",
    "        'seed': 0\n",
    "    }\n"
   ]
  },
  {
   "cell_type": "markdown",
   "id": "99da4029-82fb-48fe-9d48-1061d103528d",
   "metadata": {},
   "source": [
    "The available hyperopt optimization algorithms are -\n",
    "\n",
    "hp.choice(label, options) — Returns one of the options, which should be a list or tuple.\n",
    "\n",
    "hp.randint(label, upper) — Returns a random integer between the range [0, upper).\n",
    "\n",
    "hp.uniform(label, low, high) — Returns a value uniformly between low and high.\n",
    "\n",
    "hp.quniform(label, low, high, q) — Returns a value round(uniform(low, high) / q) * q, i.e it rounds the decimal values and returns an integer.\n",
    "\n",
    "hp.normal(label, mean, std) — Returns a real value that’s normally-distributed with mean and standard deviation sigma."
   ]
  },
  {
   "cell_type": "code",
   "execution_count": null,
   "id": "641f0dec-35dd-453f-8021-0560908347d1",
   "metadata": {},
   "outputs": [],
   "source": [
    "def objective(space):\n",
    "    xgb_model = xgb.XGBClassifier(\n",
    "                    n_estimators =space['n_estimators'], max_depth = int(space['max_depth']), gamma = space['gamma'],\n",
    "                    reg_alpha = int(space['reg_alpha']),min_child_weight=int(space['min_child_weight']),\n",
    "                    colsample_bytree=int(space['colsample_bytree']))\n",
    "    \n",
    "    evaluation = [(X_train_scaled, y_train), (X_validation_scaled, y_validation)]\n",
    "    \n",
    "    xgb_model.fit(X_train_scaled, y_train,\n",
    "            eval_set=evaluation, eval_metric=\"auc\",\n",
    "            early_stopping_rounds=10,verbose=False)\n",
    "    \n",
    "\n",
    "    pred = xgb_model.predict(X_validation_scaled)\n",
    "    accuracy = accuracy_score(y_validation, pred)\n",
    "    print (\"SCORE:\", accuracy)\n",
    "    return {'loss': -accuracy, 'status': STATUS_OK }"
   ]
  },
  {
   "cell_type": "code",
   "execution_count": null,
   "id": "af29159e-c5c8-4c53-aeca-7020e328df03",
   "metadata": {},
   "outputs": [],
   "source": [
    "trials = Trials()\n",
    "\n",
    "best_hyperparams = fmin(fn = objective,\n",
    "                        space = space,\n",
    "                        algo = tpe.suggest,\n",
    "                        max_evals = 100,\n",
    "                        trials = trials)"
   ]
  },
  {
   "cell_type": "code",
   "execution_count": null,
   "id": "a2006f83-dccf-4dcc-a766-ff58d823e1c3",
   "metadata": {},
   "outputs": [],
   "source": [
    "print(\"The best hyperparameters are : \",\"\\n\")\n",
    "print(best_hyperparams)"
   ]
  },
  {
   "cell_type": "code",
   "execution_count": 40,
   "id": "b4202248-a368-4a7b-8042-9a4b64bb508d",
   "metadata": {},
   "outputs": [
    {
     "data": {
      "text/plain": [
       "XGBClassifier(base_score=0.5, booster='gbtree', callbacks=None,\n",
       "              colsample_bylevel=1, colsample_bynode=1, colsample_bytree=1,\n",
       "              early_stopping_rounds=None, enable_categorical=False,\n",
       "              eval_metric=None, gamma=0, gpu_id=-1, grow_policy='depthwise',\n",
       "              importance_type=None, interaction_constraints='',\n",
       "              learning_rate=0.300000012, max_bin=256, max_cat_to_onehot=4,\n",
       "              max_delta_step=0, max_depth=6, max_leaves=0, min_child_weight=1,\n",
       "              missing=nan, monotone_constraints='()', n_estimators=100,\n",
       "              n_jobs=0, num_parallel_tree=1, objective='multi:softprob',\n",
       "              predictor='auto', random_state=0, reg_alpha=0, ...)"
      ]
     },
     "execution_count": 40,
     "metadata": {},
     "output_type": "execute_result"
    }
   ],
   "source": [
    "#Establish XGB model instance\n",
    "#Fitting training dataset to model\n",
    "\n",
    "xgb_model = xgb.XGBClassifier() #colsample_bytree=0.8056144829851541, max_depth=8, gamma=6.979438878191186, min_child_weight=10.0, reg_lambda=0.00013734197899190276, reg_alpha=0)\n",
    "xgb_model.fit(X_train_scaled, y_train)"
   ]
  },
  {
   "cell_type": "code",
   "execution_count": 41,
   "id": "5b0af62e-8773-4e2d-9754-cd6c7ba4e69e",
   "metadata": {},
   "outputs": [
    {
     "name": "stdout",
     "output_type": "stream",
     "text": [
      "0.977508887065901\n",
      "Weighted Precision: 0.98\n",
      "Weighted Recall: 0.98\n",
      "Weighted F1-score: 0.98\n",
      "                  precision    recall  f1-score   support\n",
      "\n",
      "     Strong Sell       0.98      0.99      0.98      3790\n",
      "            Sell       0.96      0.98      0.97      3141\n",
      "            Pass       0.99      0.95      0.97      2406\n",
      "             Buy       0.97      0.97      0.97      1953\n",
      "      Strong Buy       0.98      0.97      0.98       894\n",
      "Very High Return       0.99      1.00      1.00      2444\n",
      "\n",
      "        accuracy                           0.98     14628\n",
      "       macro avg       0.98      0.98      0.98     14628\n",
      "    weighted avg       0.98      0.98      0.98     14628\n",
      "\n"
     ]
    }
   ],
   "source": [
    "#Predicting on training set\n",
    "\n",
    "training_predictions = xgb_model.predict(X_train_scaled)\n",
    "\n",
    "print(accuracy_score(y_train, training_predictions))\n",
    "\n",
    "print('Weighted Precision: {:.2f}'.format(precision_score(y_train, training_predictions, average='weighted')))\n",
    "print('Weighted Recall: {:.2f}'.format(recall_score(y_train, training_predictions, average='weighted')))\n",
    "print('Weighted F1-score: {:.2f}'.format(f1_score(y_train, training_predictions, average='weighted')))\n",
    "\n",
    "print(classification_report(y_train, training_predictions, target_names=[\"Strong Sell\", \"Sell\", \"Pass\", \"Buy\", \"Strong Buy\", \"Very High Return\"]))"
   ]
  },
  {
   "cell_type": "code",
   "execution_count": 42,
   "id": "a901209f-53a7-432c-aed8-c452dace8095",
   "metadata": {},
   "outputs": [
    {
     "name": "stdout",
     "output_type": "stream",
     "text": [
      "0.8892837616183707\n",
      "Weighted Precision: 0.89\n",
      "Weighted Recall: 0.89\n",
      "Weighted F1-score: 0.89\n",
      "                  precision    recall  f1-score   support\n",
      "\n",
      "     Strong Sell       0.93      0.96      0.94       948\n",
      "            Sell       0.86      0.90      0.88       785\n",
      "            Pass       0.86      0.82      0.84       602\n",
      "             Buy       0.85      0.80      0.82       489\n",
      "      Strong Buy       0.81      0.79      0.80       223\n",
      "Very High Return       0.95      0.95      0.95       611\n",
      "\n",
      "        accuracy                           0.89      3658\n",
      "       macro avg       0.88      0.87      0.87      3658\n",
      "    weighted avg       0.89      0.89      0.89      3658\n",
      "\n",
      "[[910  36   0   1   0   1]\n",
      " [ 45 705  28   6   1   0]\n",
      " [  5  63 493  39   0   2]\n",
      " [ 13  11  41 391  25   8]\n",
      " [  1   5   0  21 176  20]\n",
      " [  4   2   9   2  16 578]]\n"
     ]
    }
   ],
   "source": [
    "#Predicting on validation set\n",
    "\n",
    "predictions = xgb_model.predict(X_validation_scaled)\n",
    "\n",
    "print(accuracy_score(y_validation, predictions))\n",
    "\n",
    "print('Weighted Precision: {:.2f}'.format(precision_score(y_validation, predictions, average='weighted')))\n",
    "print('Weighted Recall: {:.2f}'.format(recall_score(y_validation, predictions, average='weighted')))\n",
    "print('Weighted F1-score: {:.2f}'.format(f1_score(y_validation, predictions, average='weighted')))\n",
    "\n",
    "print(classification_report(y_validation, predictions, target_names=[\"Strong Sell\", \"Sell\", \"Pass\", \"Buy\", \"Strong Buy\", \"Very High Return\"]))\n",
    "\n",
    "print(confusion_matrix(y_validation, predictions))"
   ]
  },
  {
   "cell_type": "code",
   "execution_count": null,
   "id": "8d62b5df-0d8a-4180-a7ca-df48e83adc76",
   "metadata": {},
   "outputs": [],
   "source": [
    "#Get probabilities of predictions\n",
    "\n",
    "pred_proba = xgb_model.predict_proba(X_validation_scaled)\n",
    "pred_proba"
   ]
  },
  {
   "cell_type": "code",
   "execution_count": null,
   "id": "7997723b-2a52-4e7d-9d0e-84864a6f4e42",
   "metadata": {},
   "outputs": [],
   "source": [
    "proba_df = pd.DataFrame(pred_proba.round(2))"
   ]
  },
  {
   "cell_type": "code",
   "execution_count": null,
   "id": "64e26920-a552-41ba-a33a-9840bb966264",
   "metadata": {},
   "outputs": [],
   "source": [
    "#Formatting probabilities DataFrame\n",
    "\n",
    "proba_df[\"Actual\"] = y_validation.reset_index(drop=True)\n",
    "proba_df.columns = [\"'Strong Sell' Probability\", \"'Sell' Probability\", \"'Pass' Probability\", \"'Buy' Probability\", \"'Strong Buy' Probability\", \"'Very High Return' Prob.\", \"Actual\"]\n",
    "proba_df"
   ]
  },
  {
   "cell_type": "code",
   "execution_count": null,
   "id": "d8b19504-17eb-44a8-b663-d4490ac7462e",
   "metadata": {},
   "outputs": [],
   "source": [
    "#Labeling caterogires\n",
    "\n",
    "proba_df.loc[proba_df[\"Actual\"] == 0, \"Actual\"] = \"Strong Sell\"\n",
    "proba_df.loc[proba_df[\"Actual\"] == 1, \"Actual\"] = \"Sell\"\n",
    "proba_df.loc[proba_df[\"Actual\"] == 2, \"Actual\"] = \"Pass\"\n",
    "proba_df.loc[proba_df[\"Actual\"] == 3, \"Actual\"] = \"Buy\"\n",
    "proba_df.loc[proba_df[\"Actual\"] == 4, \"Actual\"] = \"Strong Buy\"\n",
    "proba_df.loc[proba_df[\"Actual\"] == 5, \"Actual\"] = \"Very High Return\"\n",
    "\n",
    "proba_df.head(50)"
   ]
  },
  {
   "cell_type": "code",
   "execution_count": null,
   "id": "27c7a3bb-b6f4-4181-b4f8-62e5c5cc7330",
   "metadata": {},
   "outputs": [],
   "source": [
    "#Get ROC AUC score\n",
    "\n",
    "roc_auc_score(y_validation, pred_proba, multi_class=\"ovr\")"
   ]
  },
  {
   "cell_type": "markdown",
   "id": "9b41a519-cee4-4522-97e0-fddb2fd247fc",
   "metadata": {},
   "source": [
    "## 4.2.) Determining Feature Importance for XGBoost Model"
   ]
  },
  {
   "cell_type": "code",
   "execution_count": null,
   "id": "b39cdd6e-4d37-4cdf-8df2-65e2b18e11af",
   "metadata": {},
   "outputs": [],
   "source": [
    "#Feature importances\n",
    "\n",
    "importances = xgb_model.feature_importances_"
   ]
  },
  {
   "cell_type": "code",
   "execution_count": null,
   "id": "b45d369a-7f6f-4b0c-94fa-d76f5beff19f",
   "metadata": {},
   "outputs": [],
   "source": [
    "important_features = zip(X.columns, xgb_model.feature_importances_)"
   ]
  },
  {
   "cell_type": "code",
   "execution_count": null,
   "id": "ea6fc64a-a24d-4de1-9d2b-f413dc6b47e3",
   "metadata": {},
   "outputs": [],
   "source": [
    "importances_df = pd.DataFrame(important_features)"
   ]
  },
  {
   "cell_type": "code",
   "execution_count": null,
   "id": "39990946-68ed-4a9f-b40b-fed9286df25c",
   "metadata": {},
   "outputs": [],
   "source": [
    "importances_df = importances_df.rename(columns={0: 'Feature', 1: 'Importance'})"
   ]
  },
  {
   "cell_type": "code",
   "execution_count": null,
   "id": "d96ee5ca-a8f2-4db2-8d76-c0ef545ea114",
   "metadata": {},
   "outputs": [],
   "source": [
    "importances_df = importances_df.set_index('Feature')"
   ]
  },
  {
   "cell_type": "code",
   "execution_count": null,
   "id": "12e149d8-1907-4c06-924b-cd68789a8be4",
   "metadata": {},
   "outputs": [],
   "source": [
    "importances_df = importances_df.sort_values(by='Importance', ascending=False)"
   ]
  },
  {
   "cell_type": "code",
   "execution_count": null,
   "id": "fc406313-43df-4470-8e59-e9c388bb4122",
   "metadata": {},
   "outputs": [],
   "source": [
    "importances_df"
   ]
  },
  {
   "cell_type": "code",
   "execution_count": null,
   "id": "90d39983-acd6-4c5f-9e2a-936ce8a1cf27",
   "metadata": {},
   "outputs": [],
   "source": [
    "#Plot the top 10 most important features\n",
    "\n",
    "importances_df[0:10].plot(\n",
    "    kind='barh',\n",
    "    color='green',\n",
    "    title='Feature Importance',\n",
    "    legend=True)"
   ]
  },
  {
   "cell_type": "code",
   "execution_count": null,
   "id": "18c65472-3625-46bd-b102-78b82b63d636",
   "metadata": {},
   "outputs": [],
   "source": []
  },
  {
   "cell_type": "code",
   "execution_count": null,
   "id": "dc34b934-8237-45ae-a075-6fbf5d52d384",
   "metadata": {},
   "outputs": [],
   "source": [
    "#et_model = ExtraTreesClassifier()\n",
    "#et_model.fit(X_train_scaled, y_train)"
   ]
  },
  {
   "cell_type": "code",
   "execution_count": null,
   "id": "23a34fbc-e4a2-4e1b-8fd4-e62f906c6f8c",
   "metadata": {},
   "outputs": [],
   "source": [
    "#ab_model = AdaBoostClassifier()\n",
    "#ab_model.fit(X_train_scaled, y_train)"
   ]
  },
  {
   "cell_type": "code",
   "execution_count": null,
   "id": "63e0a2e9-29ac-4a20-a721-69bf9d1f5edd",
   "metadata": {},
   "outputs": [],
   "source": [
    "#gb_model = GradientBoostingClassifier()\n",
    "#ab_model.fit(X_train_scaled, y_train)"
   ]
  },
  {
   "cell_type": "markdown",
   "id": "25293db6-f8fb-4de7-a1c9-cd2af29702a1",
   "metadata": {},
   "source": []
  },
  {
   "cell_type": "code",
   "execution_count": null,
   "id": "4ecd2e36-1312-4fb5-bbf3-54c5c268233b",
   "metadata": {},
   "outputs": [],
   "source": []
  }
 ],
 "metadata": {
  "kernelspec": {
   "display_name": "Python 3 (ipykernel)",
   "language": "python",
   "name": "python3"
  },
  "language_info": {
   "codemirror_mode": {
    "name": "ipython",
    "version": 3
   },
   "file_extension": ".py",
   "mimetype": "text/x-python",
   "name": "python",
   "nbconvert_exporter": "python",
   "pygments_lexer": "ipython3",
   "version": "3.7.13"
  }
 },
 "nbformat": 4,
 "nbformat_minor": 5
}
