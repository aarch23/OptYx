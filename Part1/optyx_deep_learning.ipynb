{
 "cells": [
  {
   "cell_type": "markdown",
   "id": "9bc8548e-36dc-4b92-a59f-1ca3112b55c7",
   "metadata": {},
   "source": [
    "# __Predicting Outcomes of Call Option Contracts with Multi-Class Classification Deep Learning__"
   ]
  },
  {
   "cell_type": "markdown",
   "id": "b47944af-c9d2-430d-a599-fecab0aab213",
   "metadata": {},
   "source": [
    "# SECTION 1: Preparation"
   ]
  },
  {
   "cell_type": "markdown",
   "id": "51bcd804-6fcd-4fe6-b2cb-964244bd3ab3",
   "metadata": {},
   "source": [
    "##  1.1.) Loading the Python packages"
   ]
  },
  {
   "cell_type": "code",
   "execution_count": 37,
   "id": "de896a2c-4128-4a61-8eb8-b9cbde012e9c",
   "metadata": {},
   "outputs": [],
   "source": [
    "#General libraries \n",
    "\n",
    "import pandas as pd\n",
    "from pathlib import Path\n",
    "\n",
    "#General maching learning libraries\n",
    "\n",
    "from sklearn.model_selection import train_test_split\n",
    "from sklearn.preprocessing import StandardScaler, OneHotEncoder\n",
    "from sklearn.model_selection import KFold, StratifiedKFold, cross_val_score, GridSearchCV\n",
    "\n",
    "#For plotting\n",
    "\n",
    "import matplotlib.pyplot as plt\n",
    "%matplotlib inline\n",
    "\n",
    "#Libraries for Deep Learning Models\n",
    "\n",
    "import tensorflow as tf\n",
    "from tensorflow import keras\n",
    "from tensorflow.keras.layers import Dense\n",
    "from tensorflow.keras.models import Sequential\n",
    "from keras.wrappers.scikit_learn import KerasClassifier\n",
    "from keras.optimizers import SGD\n",
    "from scikeras.wrappers import KerasClassifier, KerasRegressor\n",
    "\n",
    "from keras.callbacks import EarlyStopping\n"
   ]
  },
  {
   "cell_type": "markdown",
   "id": "c962b9e3-5eb9-4102-9718-b9b288e96e66",
   "metadata": {},
   "source": [
    "## 1.2.) Loading the Data"
   ]
  },
  {
   "cell_type": "code",
   "execution_count": 2,
   "id": "7b50587e-8bac-4083-9d70-5923587ff2b9",
   "metadata": {},
   "outputs": [
    {
     "data": {
      "text/html": [
       "<div>\n",
       "<style scoped>\n",
       "    .dataframe tbody tr th:only-of-type {\n",
       "        vertical-align: middle;\n",
       "    }\n",
       "\n",
       "    .dataframe tbody tr th {\n",
       "        vertical-align: top;\n",
       "    }\n",
       "\n",
       "    .dataframe thead th {\n",
       "        text-align: right;\n",
       "    }\n",
       "</style>\n",
       "<table border=\"1\" class=\"dataframe\">\n",
       "  <thead>\n",
       "    <tr style=\"text-align: right;\">\n",
       "      <th></th>\n",
       "      <th>CONTRACT</th>\n",
       "      <th>SPY PRICE</th>\n",
       "      <th>EXPIRE_DATE</th>\n",
       "      <th>DTE</th>\n",
       "      <th>C_DELTA</th>\n",
       "      <th>C_GAMMA</th>\n",
       "      <th>C_VEGA</th>\n",
       "      <th>C_THETA</th>\n",
       "      <th>C_RHO</th>\n",
       "      <th>C_IV</th>\n",
       "      <th>C_VOLUME</th>\n",
       "      <th>C_LAST</th>\n",
       "      <th>STRIKE</th>\n",
       "      <th>STRIKE_DISTANCE_PCT</th>\n",
       "      <th>STRIKE DISTANCE</th>\n",
       "      <th>PRICECLOSE</th>\n",
       "      <th>ROI %</th>\n",
       "      <th>y</th>\n",
       "      <th>VIX PRICE</th>\n",
       "    </tr>\n",
       "  </thead>\n",
       "  <tbody>\n",
       "    <tr>\n",
       "      <th>0</th>\n",
       "      <td>474.0 2022-01-07</td>\n",
       "      <td>476.43</td>\n",
       "      <td>1/7/2022</td>\n",
       "      <td>4.27</td>\n",
       "      <td>0.62598</td>\n",
       "      <td>0.05055</td>\n",
       "      <td>0.21136</td>\n",
       "      <td>-0.28773</td>\n",
       "      <td>0.03788</td>\n",
       "      <td>0.13515</td>\n",
       "      <td>1</td>\n",
       "      <td>4.26</td>\n",
       "      <td>474</td>\n",
       "      <td>0.005</td>\n",
       "      <td>-2.43</td>\n",
       "      <td>0.55</td>\n",
       "      <td>-87.089202</td>\n",
       "      <td>0.0</td>\n",
       "      <td>17.68</td>\n",
       "    </tr>\n",
       "    <tr>\n",
       "      <th>1</th>\n",
       "      <td>475.0 2022-01-07</td>\n",
       "      <td>476.43</td>\n",
       "      <td>1/7/2022</td>\n",
       "      <td>4.27</td>\n",
       "      <td>0.57735</td>\n",
       "      <td>0.05466</td>\n",
       "      <td>0.21805</td>\n",
       "      <td>-0.28592</td>\n",
       "      <td>0.03511</td>\n",
       "      <td>0.12942</td>\n",
       "      <td>32</td>\n",
       "      <td>3.62</td>\n",
       "      <td>475</td>\n",
       "      <td>0.003</td>\n",
       "      <td>-1.43</td>\n",
       "      <td>0.39</td>\n",
       "      <td>-89.226519</td>\n",
       "      <td>0.0</td>\n",
       "      <td>17.68</td>\n",
       "    </tr>\n",
       "    <tr>\n",
       "      <th>2</th>\n",
       "      <td>476.0 2022-01-07</td>\n",
       "      <td>476.43</td>\n",
       "      <td>1/7/2022</td>\n",
       "      <td>4.27</td>\n",
       "      <td>0.52223</td>\n",
       "      <td>0.05633</td>\n",
       "      <td>0.22191</td>\n",
       "      <td>-0.28818</td>\n",
       "      <td>0.03208</td>\n",
       "      <td>0.12704</td>\n",
       "      <td>22</td>\n",
       "      <td>3.04</td>\n",
       "      <td>476</td>\n",
       "      <td>0.001</td>\n",
       "      <td>-0.43</td>\n",
       "      <td>0.29</td>\n",
       "      <td>-90.460526</td>\n",
       "      <td>0.0</td>\n",
       "      <td>17.68</td>\n",
       "    </tr>\n",
       "    <tr>\n",
       "      <th>3</th>\n",
       "      <td>477.0 2022-01-07</td>\n",
       "      <td>476.43</td>\n",
       "      <td>1/7/2022</td>\n",
       "      <td>4.27</td>\n",
       "      <td>0.46442</td>\n",
       "      <td>0.05760</td>\n",
       "      <td>0.22168</td>\n",
       "      <td>-0.28057</td>\n",
       "      <td>0.02945</td>\n",
       "      <td>0.12402</td>\n",
       "      <td>161</td>\n",
       "      <td>2.46</td>\n",
       "      <td>477</td>\n",
       "      <td>0.001</td>\n",
       "      <td>0.57</td>\n",
       "      <td>0.21</td>\n",
       "      <td>-91.463415</td>\n",
       "      <td>0.0</td>\n",
       "      <td>17.68</td>\n",
       "    </tr>\n",
       "    <tr>\n",
       "      <th>4</th>\n",
       "      <td>478.0 2022-01-07</td>\n",
       "      <td>476.43</td>\n",
       "      <td>1/7/2022</td>\n",
       "      <td>4.27</td>\n",
       "      <td>0.40460</td>\n",
       "      <td>0.05815</td>\n",
       "      <td>0.21613</td>\n",
       "      <td>-0.26381</td>\n",
       "      <td>0.02541</td>\n",
       "      <td>0.11971</td>\n",
       "      <td>0</td>\n",
       "      <td>1.51</td>\n",
       "      <td>478</td>\n",
       "      <td>0.003</td>\n",
       "      <td>1.57</td>\n",
       "      <td>0.15</td>\n",
       "      <td>-90.066225</td>\n",
       "      <td>0.0</td>\n",
       "      <td>17.68</td>\n",
       "    </tr>\n",
       "  </tbody>\n",
       "</table>\n",
       "</div>"
      ],
      "text/plain": [
       "           CONTRACT  SPY PRICE EXPIRE_DATE   DTE  C_DELTA  C_GAMMA   C_VEGA  \\\n",
       "0  474.0 2022-01-07     476.43    1/7/2022  4.27  0.62598  0.05055  0.21136   \n",
       "1  475.0 2022-01-07     476.43    1/7/2022  4.27  0.57735  0.05466  0.21805   \n",
       "2  476.0 2022-01-07     476.43    1/7/2022  4.27  0.52223  0.05633  0.22191   \n",
       "3  477.0 2022-01-07     476.43    1/7/2022  4.27  0.46442  0.05760  0.22168   \n",
       "4  478.0 2022-01-07     476.43    1/7/2022  4.27  0.40460  0.05815  0.21613   \n",
       "\n",
       "   C_THETA    C_RHO     C_IV  C_VOLUME  C_LAST  STRIKE  STRIKE_DISTANCE_PCT  \\\n",
       "0 -0.28773  0.03788  0.13515         1    4.26     474                0.005   \n",
       "1 -0.28592  0.03511  0.12942        32    3.62     475                0.003   \n",
       "2 -0.28818  0.03208  0.12704        22    3.04     476                0.001   \n",
       "3 -0.28057  0.02945  0.12402       161    2.46     477                0.001   \n",
       "4 -0.26381  0.02541  0.11971         0    1.51     478                0.003   \n",
       "\n",
       "   STRIKE DISTANCE  PRICECLOSE      ROI %    y  VIX PRICE  \n",
       "0            -2.43        0.55 -87.089202  0.0      17.68  \n",
       "1            -1.43        0.39 -89.226519  0.0      17.68  \n",
       "2            -0.43        0.29 -90.460526  0.0      17.68  \n",
       "3             0.57        0.21 -91.463415  0.0      17.68  \n",
       "4             1.57        0.15 -90.066225  0.0      17.68  "
      ]
     },
     "execution_count": 2,
     "metadata": {},
     "output_type": "execute_result"
    }
   ],
   "source": [
    "# Read in the options contract csv file from the Resources folder into a Pandas DataFrame\n",
    "\n",
    "df = pd.read_csv(\n",
    "    Path(\"../Resources/vix_spy_continual.csv\")\n",
    ")\n",
    "\n",
    "df.head()"
   ]
  },
  {
   "cell_type": "markdown",
   "id": "b3aebc4c-e2ad-420f-8543-d184b943c4c6",
   "metadata": {},
   "source": [
    "# SECTION 2: Exploratory Data Analysis"
   ]
  },
  {
   "cell_type": "markdown",
   "id": "f977ab96-e3eb-4c2a-badd-5daa24650b88",
   "metadata": {},
   "source": [
    "## 2.1.) Descriptive Statistics"
   ]
  },
  {
   "cell_type": "code",
   "execution_count": 3,
   "id": "ed7a0890-9e57-4b78-9aed-abaad137a33b",
   "metadata": {},
   "outputs": [
    {
     "data": {
      "text/plain": [
       "(15454, 19)"
      ]
     },
     "execution_count": 3,
     "metadata": {},
     "output_type": "execute_result"
    }
   ],
   "source": [
    "df.shape"
   ]
  },
  {
   "cell_type": "code",
   "execution_count": 4,
   "id": "fcedd04f-07a7-4a0d-819f-fd23c86700df",
   "metadata": {},
   "outputs": [
    {
     "name": "stdout",
     "output_type": "stream",
     "text": [
      "Null Values = True\n"
     ]
    },
    {
     "data": {
      "text/html": [
       "<div>\n",
       "<style scoped>\n",
       "    .dataframe tbody tr th:only-of-type {\n",
       "        vertical-align: middle;\n",
       "    }\n",
       "\n",
       "    .dataframe tbody tr th {\n",
       "        vertical-align: top;\n",
       "    }\n",
       "\n",
       "    .dataframe thead th {\n",
       "        text-align: right;\n",
       "    }\n",
       "</style>\n",
       "<table border=\"1\" class=\"dataframe\">\n",
       "  <thead>\n",
       "    <tr style=\"text-align: right;\">\n",
       "      <th></th>\n",
       "      <th>CONTRACT</th>\n",
       "      <th>SPY PRICE</th>\n",
       "      <th>EXPIRE_DATE</th>\n",
       "      <th>DTE</th>\n",
       "      <th>C_DELTA</th>\n",
       "      <th>C_GAMMA</th>\n",
       "      <th>C_VEGA</th>\n",
       "      <th>C_THETA</th>\n",
       "      <th>C_RHO</th>\n",
       "      <th>C_IV</th>\n",
       "      <th>C_VOLUME</th>\n",
       "      <th>C_LAST</th>\n",
       "      <th>STRIKE</th>\n",
       "      <th>STRIKE_DISTANCE_PCT</th>\n",
       "      <th>STRIKE DISTANCE</th>\n",
       "      <th>PRICECLOSE</th>\n",
       "      <th>ROI %</th>\n",
       "      <th>y</th>\n",
       "      <th>VIX PRICE</th>\n",
       "    </tr>\n",
       "  </thead>\n",
       "  <tbody>\n",
       "    <tr>\n",
       "      <th>0</th>\n",
       "      <td>474.0 2022-01-07</td>\n",
       "      <td>476.43</td>\n",
       "      <td>1/7/2022</td>\n",
       "      <td>4.27</td>\n",
       "      <td>0.62598</td>\n",
       "      <td>0.05055</td>\n",
       "      <td>0.21136</td>\n",
       "      <td>-0.28773</td>\n",
       "      <td>0.03788</td>\n",
       "      <td>0.13515</td>\n",
       "      <td>1</td>\n",
       "      <td>4.26</td>\n",
       "      <td>474</td>\n",
       "      <td>0.005</td>\n",
       "      <td>-2.43</td>\n",
       "      <td>0.55</td>\n",
       "      <td>-87.089202</td>\n",
       "      <td>0.0</td>\n",
       "      <td>17.68</td>\n",
       "    </tr>\n",
       "    <tr>\n",
       "      <th>1</th>\n",
       "      <td>475.0 2022-01-07</td>\n",
       "      <td>476.43</td>\n",
       "      <td>1/7/2022</td>\n",
       "      <td>4.27</td>\n",
       "      <td>0.57735</td>\n",
       "      <td>0.05466</td>\n",
       "      <td>0.21805</td>\n",
       "      <td>-0.28592</td>\n",
       "      <td>0.03511</td>\n",
       "      <td>0.12942</td>\n",
       "      <td>32</td>\n",
       "      <td>3.62</td>\n",
       "      <td>475</td>\n",
       "      <td>0.003</td>\n",
       "      <td>-1.43</td>\n",
       "      <td>0.39</td>\n",
       "      <td>-89.226519</td>\n",
       "      <td>0.0</td>\n",
       "      <td>17.68</td>\n",
       "    </tr>\n",
       "    <tr>\n",
       "      <th>2</th>\n",
       "      <td>476.0 2022-01-07</td>\n",
       "      <td>476.43</td>\n",
       "      <td>1/7/2022</td>\n",
       "      <td>4.27</td>\n",
       "      <td>0.52223</td>\n",
       "      <td>0.05633</td>\n",
       "      <td>0.22191</td>\n",
       "      <td>-0.28818</td>\n",
       "      <td>0.03208</td>\n",
       "      <td>0.12704</td>\n",
       "      <td>22</td>\n",
       "      <td>3.04</td>\n",
       "      <td>476</td>\n",
       "      <td>0.001</td>\n",
       "      <td>-0.43</td>\n",
       "      <td>0.29</td>\n",
       "      <td>-90.460526</td>\n",
       "      <td>0.0</td>\n",
       "      <td>17.68</td>\n",
       "    </tr>\n",
       "    <tr>\n",
       "      <th>3</th>\n",
       "      <td>477.0 2022-01-07</td>\n",
       "      <td>476.43</td>\n",
       "      <td>1/7/2022</td>\n",
       "      <td>4.27</td>\n",
       "      <td>0.46442</td>\n",
       "      <td>0.05760</td>\n",
       "      <td>0.22168</td>\n",
       "      <td>-0.28057</td>\n",
       "      <td>0.02945</td>\n",
       "      <td>0.12402</td>\n",
       "      <td>161</td>\n",
       "      <td>2.46</td>\n",
       "      <td>477</td>\n",
       "      <td>0.001</td>\n",
       "      <td>0.57</td>\n",
       "      <td>0.21</td>\n",
       "      <td>-91.463415</td>\n",
       "      <td>0.0</td>\n",
       "      <td>17.68</td>\n",
       "    </tr>\n",
       "    <tr>\n",
       "      <th>4</th>\n",
       "      <td>478.0 2022-01-07</td>\n",
       "      <td>476.43</td>\n",
       "      <td>1/7/2022</td>\n",
       "      <td>4.27</td>\n",
       "      <td>0.40460</td>\n",
       "      <td>0.05815</td>\n",
       "      <td>0.21613</td>\n",
       "      <td>-0.26381</td>\n",
       "      <td>0.02541</td>\n",
       "      <td>0.11971</td>\n",
       "      <td>0</td>\n",
       "      <td>1.51</td>\n",
       "      <td>478</td>\n",
       "      <td>0.003</td>\n",
       "      <td>1.57</td>\n",
       "      <td>0.15</td>\n",
       "      <td>-90.066225</td>\n",
       "      <td>0.0</td>\n",
       "      <td>17.68</td>\n",
       "    </tr>\n",
       "    <tr>\n",
       "      <th>...</th>\n",
       "      <td>...</td>\n",
       "      <td>...</td>\n",
       "      <td>...</td>\n",
       "      <td>...</td>\n",
       "      <td>...</td>\n",
       "      <td>...</td>\n",
       "      <td>...</td>\n",
       "      <td>...</td>\n",
       "      <td>...</td>\n",
       "      <td>...</td>\n",
       "      <td>...</td>\n",
       "      <td>...</td>\n",
       "      <td>...</td>\n",
       "      <td>...</td>\n",
       "      <td>...</td>\n",
       "      <td>...</td>\n",
       "      <td>...</td>\n",
       "      <td>...</td>\n",
       "      <td>...</td>\n",
       "    </tr>\n",
       "    <tr>\n",
       "      <th>15449</th>\n",
       "      <td>455.0 2022-03-25</td>\n",
       "      <td>452.55</td>\n",
       "      <td>3/25/2022</td>\n",
       "      <td>0.00</td>\n",
       "      <td>0.00813</td>\n",
       "      <td>0.01376</td>\n",
       "      <td>0.00469</td>\n",
       "      <td>-0.00545</td>\n",
       "      <td>0.00020</td>\n",
       "      <td>0.10830</td>\n",
       "      <td>28006</td>\n",
       "      <td>0.01</td>\n",
       "      <td>455</td>\n",
       "      <td>0.005</td>\n",
       "      <td>2.45</td>\n",
       "      <td>0.13</td>\n",
       "      <td>1200.000000</td>\n",
       "      <td>5.0</td>\n",
       "      <td>20.84</td>\n",
       "    </tr>\n",
       "    <tr>\n",
       "      <th>15450</th>\n",
       "      <td>456.0 2022-03-25</td>\n",
       "      <td>452.55</td>\n",
       "      <td>3/25/2022</td>\n",
       "      <td>0.00</td>\n",
       "      <td>0.00641</td>\n",
       "      <td>0.00891</td>\n",
       "      <td>0.00322</td>\n",
       "      <td>-0.00479</td>\n",
       "      <td>0.00030</td>\n",
       "      <td>0.12766</td>\n",
       "      <td>12333</td>\n",
       "      <td>0.01</td>\n",
       "      <td>456</td>\n",
       "      <td>0.008</td>\n",
       "      <td>3.45</td>\n",
       "      <td>0.09</td>\n",
       "      <td>800.000000</td>\n",
       "      <td>5.0</td>\n",
       "      <td>20.84</td>\n",
       "    </tr>\n",
       "    <tr>\n",
       "      <th>15451</th>\n",
       "      <td>457.0 2022-03-25</td>\n",
       "      <td>452.55</td>\n",
       "      <td>3/25/2022</td>\n",
       "      <td>0.00</td>\n",
       "      <td>0.00626</td>\n",
       "      <td>0.00637</td>\n",
       "      <td>0.00281</td>\n",
       "      <td>-0.00530</td>\n",
       "      <td>0.00038</td>\n",
       "      <td>0.14620</td>\n",
       "      <td>6479</td>\n",
       "      <td>0.01</td>\n",
       "      <td>457</td>\n",
       "      <td>0.010</td>\n",
       "      <td>4.45</td>\n",
       "      <td>0.05</td>\n",
       "      <td>400.000000</td>\n",
       "      <td>5.0</td>\n",
       "      <td>20.84</td>\n",
       "    </tr>\n",
       "    <tr>\n",
       "      <th>15452</th>\n",
       "      <td>458.0 2022-03-25</td>\n",
       "      <td>452.55</td>\n",
       "      <td>3/25/2022</td>\n",
       "      <td>0.00</td>\n",
       "      <td>0.00476</td>\n",
       "      <td>0.00494</td>\n",
       "      <td>0.00258</td>\n",
       "      <td>-0.00533</td>\n",
       "      <td>0.00014</td>\n",
       "      <td>0.16389</td>\n",
       "      <td>2702</td>\n",
       "      <td>0.01</td>\n",
       "      <td>458</td>\n",
       "      <td>0.012</td>\n",
       "      <td>5.45</td>\n",
       "      <td>0.04</td>\n",
       "      <td>300.000000</td>\n",
       "      <td>5.0</td>\n",
       "      <td>20.84</td>\n",
       "    </tr>\n",
       "    <tr>\n",
       "      <th>15453</th>\n",
       "      <td>459.0 2022-03-25</td>\n",
       "      <td>452.55</td>\n",
       "      <td>3/25/2022</td>\n",
       "      <td>0.00</td>\n",
       "      <td>0.00503</td>\n",
       "      <td>0.00398</td>\n",
       "      <td>0.00258</td>\n",
       "      <td>-0.00451</td>\n",
       "      <td>-0.00019</td>\n",
       "      <td>0.18157</td>\n",
       "      <td>3424</td>\n",
       "      <td>0.01</td>\n",
       "      <td>459</td>\n",
       "      <td>0.014</td>\n",
       "      <td>6.45</td>\n",
       "      <td>0.03</td>\n",
       "      <td>200.000000</td>\n",
       "      <td>5.0</td>\n",
       "      <td>20.84</td>\n",
       "    </tr>\n",
       "  </tbody>\n",
       "</table>\n",
       "<p>15299 rows × 19 columns</p>\n",
       "</div>"
      ],
      "text/plain": [
       "               CONTRACT  SPY PRICE EXPIRE_DATE   DTE  C_DELTA  C_GAMMA  \\\n",
       "0      474.0 2022-01-07     476.43    1/7/2022  4.27  0.62598  0.05055   \n",
       "1      475.0 2022-01-07     476.43    1/7/2022  4.27  0.57735  0.05466   \n",
       "2      476.0 2022-01-07     476.43    1/7/2022  4.27  0.52223  0.05633   \n",
       "3      477.0 2022-01-07     476.43    1/7/2022  4.27  0.46442  0.05760   \n",
       "4      478.0 2022-01-07     476.43    1/7/2022  4.27  0.40460  0.05815   \n",
       "...                 ...        ...         ...   ...      ...      ...   \n",
       "15449  455.0 2022-03-25     452.55   3/25/2022  0.00  0.00813  0.01376   \n",
       "15450  456.0 2022-03-25     452.55   3/25/2022  0.00  0.00641  0.00891   \n",
       "15451  457.0 2022-03-25     452.55   3/25/2022  0.00  0.00626  0.00637   \n",
       "15452  458.0 2022-03-25     452.55   3/25/2022  0.00  0.00476  0.00494   \n",
       "15453  459.0 2022-03-25     452.55   3/25/2022  0.00  0.00503  0.00398   \n",
       "\n",
       "        C_VEGA  C_THETA    C_RHO     C_IV  C_VOLUME  C_LAST  STRIKE  \\\n",
       "0      0.21136 -0.28773  0.03788  0.13515         1    4.26     474   \n",
       "1      0.21805 -0.28592  0.03511  0.12942        32    3.62     475   \n",
       "2      0.22191 -0.28818  0.03208  0.12704        22    3.04     476   \n",
       "3      0.22168 -0.28057  0.02945  0.12402       161    2.46     477   \n",
       "4      0.21613 -0.26381  0.02541  0.11971         0    1.51     478   \n",
       "...        ...      ...      ...      ...       ...     ...     ...   \n",
       "15449  0.00469 -0.00545  0.00020  0.10830     28006    0.01     455   \n",
       "15450  0.00322 -0.00479  0.00030  0.12766     12333    0.01     456   \n",
       "15451  0.00281 -0.00530  0.00038  0.14620      6479    0.01     457   \n",
       "15452  0.00258 -0.00533  0.00014  0.16389      2702    0.01     458   \n",
       "15453  0.00258 -0.00451 -0.00019  0.18157      3424    0.01     459   \n",
       "\n",
       "       STRIKE_DISTANCE_PCT  STRIKE DISTANCE  PRICECLOSE        ROI %    y  \\\n",
       "0                    0.005            -2.43        0.55   -87.089202  0.0   \n",
       "1                    0.003            -1.43        0.39   -89.226519  0.0   \n",
       "2                    0.001            -0.43        0.29   -90.460526  0.0   \n",
       "3                    0.001             0.57        0.21   -91.463415  0.0   \n",
       "4                    0.003             1.57        0.15   -90.066225  0.0   \n",
       "...                    ...              ...         ...          ...  ...   \n",
       "15449                0.005             2.45        0.13  1200.000000  5.0   \n",
       "15450                0.008             3.45        0.09   800.000000  5.0   \n",
       "15451                0.010             4.45        0.05   400.000000  5.0   \n",
       "15452                0.012             5.45        0.04   300.000000  5.0   \n",
       "15453                0.014             6.45        0.03   200.000000  5.0   \n",
       "\n",
       "       VIX PRICE  \n",
       "0          17.68  \n",
       "1          17.68  \n",
       "2          17.68  \n",
       "3          17.68  \n",
       "4          17.68  \n",
       "...          ...  \n",
       "15449      20.84  \n",
       "15450      20.84  \n",
       "15451      20.84  \n",
       "15452      20.84  \n",
       "15453      20.84  \n",
       "\n",
       "[15299 rows x 19 columns]"
      ]
     },
     "execution_count": 4,
     "metadata": {},
     "output_type": "execute_result"
    }
   ],
   "source": [
    "#Check for any null values and remove the null values\n",
    "print('Null Values =', df.isnull().values.any())\n",
    "\n",
    "#Drop NaNs\n",
    "df.dropna()"
   ]
  },
  {
   "cell_type": "code",
   "execution_count": 5,
   "id": "3ce363ee-69db-45d7-b251-801a9f2f187e",
   "metadata": {},
   "outputs": [
    {
     "data": {
      "text/html": [
       "<div>\n",
       "<style scoped>\n",
       "    .dataframe tbody tr th:only-of-type {\n",
       "        vertical-align: middle;\n",
       "    }\n",
       "\n",
       "    .dataframe tbody tr th {\n",
       "        vertical-align: top;\n",
       "    }\n",
       "\n",
       "    .dataframe thead th {\n",
       "        text-align: right;\n",
       "    }\n",
       "</style>\n",
       "<table border=\"1\" class=\"dataframe\">\n",
       "  <thead>\n",
       "    <tr style=\"text-align: right;\">\n",
       "      <th></th>\n",
       "      <th>CONTRACT</th>\n",
       "      <th>SPY PRICE</th>\n",
       "      <th>EXPIRE_DATE</th>\n",
       "      <th>DTE</th>\n",
       "      <th>C_DELTA</th>\n",
       "      <th>C_GAMMA</th>\n",
       "      <th>C_VEGA</th>\n",
       "      <th>C_THETA</th>\n",
       "      <th>C_RHO</th>\n",
       "      <th>C_IV</th>\n",
       "      <th>C_VOLUME</th>\n",
       "      <th>C_LAST</th>\n",
       "      <th>STRIKE</th>\n",
       "      <th>STRIKE_DISTANCE_PCT</th>\n",
       "      <th>STRIKE DISTANCE</th>\n",
       "      <th>PRICECLOSE</th>\n",
       "      <th>ROI %</th>\n",
       "      <th>y</th>\n",
       "      <th>VIX PRICE</th>\n",
       "    </tr>\n",
       "  </thead>\n",
       "  <tbody>\n",
       "    <tr>\n",
       "      <th>0</th>\n",
       "      <td>474.0 2022-01-07</td>\n",
       "      <td>476.43</td>\n",
       "      <td>1/7/2022</td>\n",
       "      <td>4.27</td>\n",
       "      <td>0.62598</td>\n",
       "      <td>0.05055</td>\n",
       "      <td>0.21136</td>\n",
       "      <td>-0.28773</td>\n",
       "      <td>0.03788</td>\n",
       "      <td>0.13515</td>\n",
       "      <td>1</td>\n",
       "      <td>4.26</td>\n",
       "      <td>474</td>\n",
       "      <td>0.005</td>\n",
       "      <td>-2.43</td>\n",
       "      <td>0.55</td>\n",
       "      <td>-87.089202</td>\n",
       "      <td>0.0</td>\n",
       "      <td>17.68</td>\n",
       "    </tr>\n",
       "    <tr>\n",
       "      <th>1</th>\n",
       "      <td>475.0 2022-01-07</td>\n",
       "      <td>476.43</td>\n",
       "      <td>1/7/2022</td>\n",
       "      <td>4.27</td>\n",
       "      <td>0.57735</td>\n",
       "      <td>0.05466</td>\n",
       "      <td>0.21805</td>\n",
       "      <td>-0.28592</td>\n",
       "      <td>0.03511</td>\n",
       "      <td>0.12942</td>\n",
       "      <td>32</td>\n",
       "      <td>3.62</td>\n",
       "      <td>475</td>\n",
       "      <td>0.003</td>\n",
       "      <td>-1.43</td>\n",
       "      <td>0.39</td>\n",
       "      <td>-89.226519</td>\n",
       "      <td>0.0</td>\n",
       "      <td>17.68</td>\n",
       "    </tr>\n",
       "    <tr>\n",
       "      <th>2</th>\n",
       "      <td>476.0 2022-01-07</td>\n",
       "      <td>476.43</td>\n",
       "      <td>1/7/2022</td>\n",
       "      <td>4.27</td>\n",
       "      <td>0.52223</td>\n",
       "      <td>0.05633</td>\n",
       "      <td>0.22191</td>\n",
       "      <td>-0.28818</td>\n",
       "      <td>0.03208</td>\n",
       "      <td>0.12704</td>\n",
       "      <td>22</td>\n",
       "      <td>3.04</td>\n",
       "      <td>476</td>\n",
       "      <td>0.001</td>\n",
       "      <td>-0.43</td>\n",
       "      <td>0.29</td>\n",
       "      <td>-90.460526</td>\n",
       "      <td>0.0</td>\n",
       "      <td>17.68</td>\n",
       "    </tr>\n",
       "    <tr>\n",
       "      <th>3</th>\n",
       "      <td>477.0 2022-01-07</td>\n",
       "      <td>476.43</td>\n",
       "      <td>1/7/2022</td>\n",
       "      <td>4.27</td>\n",
       "      <td>0.46442</td>\n",
       "      <td>0.05760</td>\n",
       "      <td>0.22168</td>\n",
       "      <td>-0.28057</td>\n",
       "      <td>0.02945</td>\n",
       "      <td>0.12402</td>\n",
       "      <td>161</td>\n",
       "      <td>2.46</td>\n",
       "      <td>477</td>\n",
       "      <td>0.001</td>\n",
       "      <td>0.57</td>\n",
       "      <td>0.21</td>\n",
       "      <td>-91.463415</td>\n",
       "      <td>0.0</td>\n",
       "      <td>17.68</td>\n",
       "    </tr>\n",
       "    <tr>\n",
       "      <th>4</th>\n",
       "      <td>478.0 2022-01-07</td>\n",
       "      <td>476.43</td>\n",
       "      <td>1/7/2022</td>\n",
       "      <td>4.27</td>\n",
       "      <td>0.40460</td>\n",
       "      <td>0.05815</td>\n",
       "      <td>0.21613</td>\n",
       "      <td>-0.26381</td>\n",
       "      <td>0.02541</td>\n",
       "      <td>0.11971</td>\n",
       "      <td>0</td>\n",
       "      <td>1.51</td>\n",
       "      <td>478</td>\n",
       "      <td>0.003</td>\n",
       "      <td>1.57</td>\n",
       "      <td>0.15</td>\n",
       "      <td>-90.066225</td>\n",
       "      <td>0.0</td>\n",
       "      <td>17.68</td>\n",
       "    </tr>\n",
       "  </tbody>\n",
       "</table>\n",
       "</div>"
      ],
      "text/plain": [
       "           CONTRACT  SPY PRICE EXPIRE_DATE   DTE  C_DELTA  C_GAMMA   C_VEGA  \\\n",
       "0  474.0 2022-01-07     476.43    1/7/2022  4.27  0.62598  0.05055  0.21136   \n",
       "1  475.0 2022-01-07     476.43    1/7/2022  4.27  0.57735  0.05466  0.21805   \n",
       "2  476.0 2022-01-07     476.43    1/7/2022  4.27  0.52223  0.05633  0.22191   \n",
       "3  477.0 2022-01-07     476.43    1/7/2022  4.27  0.46442  0.05760  0.22168   \n",
       "4  478.0 2022-01-07     476.43    1/7/2022  4.27  0.40460  0.05815  0.21613   \n",
       "\n",
       "   C_THETA    C_RHO     C_IV  C_VOLUME  C_LAST  STRIKE  STRIKE_DISTANCE_PCT  \\\n",
       "0 -0.28773  0.03788  0.13515         1    4.26     474                0.005   \n",
       "1 -0.28592  0.03511  0.12942        32    3.62     475                0.003   \n",
       "2 -0.28818  0.03208  0.12704        22    3.04     476                0.001   \n",
       "3 -0.28057  0.02945  0.12402       161    2.46     477                0.001   \n",
       "4 -0.26381  0.02541  0.11971         0    1.51     478                0.003   \n",
       "\n",
       "   STRIKE DISTANCE  PRICECLOSE      ROI %    y  VIX PRICE  \n",
       "0            -2.43        0.55 -87.089202  0.0      17.68  \n",
       "1            -1.43        0.39 -89.226519  0.0      17.68  \n",
       "2            -0.43        0.29 -90.460526  0.0      17.68  \n",
       "3             0.57        0.21 -91.463415  0.0      17.68  \n",
       "4             1.57        0.15 -90.066225  0.0      17.68  "
      ]
     },
     "metadata": {},
     "output_type": "display_data"
    },
    {
     "data": {
      "text/html": [
       "<div>\n",
       "<style scoped>\n",
       "    .dataframe tbody tr th:only-of-type {\n",
       "        vertical-align: middle;\n",
       "    }\n",
       "\n",
       "    .dataframe tbody tr th {\n",
       "        vertical-align: top;\n",
       "    }\n",
       "\n",
       "    .dataframe thead th {\n",
       "        text-align: right;\n",
       "    }\n",
       "</style>\n",
       "<table border=\"1\" class=\"dataframe\">\n",
       "  <thead>\n",
       "    <tr style=\"text-align: right;\">\n",
       "      <th></th>\n",
       "      <th>CONTRACT</th>\n",
       "      <th>SPY PRICE</th>\n",
       "      <th>EXPIRE_DATE</th>\n",
       "      <th>DTE</th>\n",
       "      <th>C_DELTA</th>\n",
       "      <th>C_GAMMA</th>\n",
       "      <th>C_VEGA</th>\n",
       "      <th>C_THETA</th>\n",
       "      <th>C_RHO</th>\n",
       "      <th>C_IV</th>\n",
       "      <th>C_VOLUME</th>\n",
       "      <th>C_LAST</th>\n",
       "      <th>STRIKE</th>\n",
       "      <th>STRIKE_DISTANCE_PCT</th>\n",
       "      <th>STRIKE DISTANCE</th>\n",
       "      <th>PRICECLOSE</th>\n",
       "      <th>ROI %</th>\n",
       "      <th>y</th>\n",
       "      <th>VIX PRICE</th>\n",
       "    </tr>\n",
       "  </thead>\n",
       "  <tbody>\n",
       "    <tr>\n",
       "      <th>15449</th>\n",
       "      <td>455.0 2022-03-25</td>\n",
       "      <td>452.55</td>\n",
       "      <td>3/25/2022</td>\n",
       "      <td>0.0</td>\n",
       "      <td>0.00813</td>\n",
       "      <td>0.01376</td>\n",
       "      <td>0.00469</td>\n",
       "      <td>-0.00545</td>\n",
       "      <td>0.00020</td>\n",
       "      <td>0.10830</td>\n",
       "      <td>28006</td>\n",
       "      <td>0.01</td>\n",
       "      <td>455</td>\n",
       "      <td>0.005</td>\n",
       "      <td>2.45</td>\n",
       "      <td>0.13</td>\n",
       "      <td>1200.0</td>\n",
       "      <td>5.0</td>\n",
       "      <td>20.84</td>\n",
       "    </tr>\n",
       "    <tr>\n",
       "      <th>15450</th>\n",
       "      <td>456.0 2022-03-25</td>\n",
       "      <td>452.55</td>\n",
       "      <td>3/25/2022</td>\n",
       "      <td>0.0</td>\n",
       "      <td>0.00641</td>\n",
       "      <td>0.00891</td>\n",
       "      <td>0.00322</td>\n",
       "      <td>-0.00479</td>\n",
       "      <td>0.00030</td>\n",
       "      <td>0.12766</td>\n",
       "      <td>12333</td>\n",
       "      <td>0.01</td>\n",
       "      <td>456</td>\n",
       "      <td>0.008</td>\n",
       "      <td>3.45</td>\n",
       "      <td>0.09</td>\n",
       "      <td>800.0</td>\n",
       "      <td>5.0</td>\n",
       "      <td>20.84</td>\n",
       "    </tr>\n",
       "    <tr>\n",
       "      <th>15451</th>\n",
       "      <td>457.0 2022-03-25</td>\n",
       "      <td>452.55</td>\n",
       "      <td>3/25/2022</td>\n",
       "      <td>0.0</td>\n",
       "      <td>0.00626</td>\n",
       "      <td>0.00637</td>\n",
       "      <td>0.00281</td>\n",
       "      <td>-0.00530</td>\n",
       "      <td>0.00038</td>\n",
       "      <td>0.14620</td>\n",
       "      <td>6479</td>\n",
       "      <td>0.01</td>\n",
       "      <td>457</td>\n",
       "      <td>0.010</td>\n",
       "      <td>4.45</td>\n",
       "      <td>0.05</td>\n",
       "      <td>400.0</td>\n",
       "      <td>5.0</td>\n",
       "      <td>20.84</td>\n",
       "    </tr>\n",
       "    <tr>\n",
       "      <th>15452</th>\n",
       "      <td>458.0 2022-03-25</td>\n",
       "      <td>452.55</td>\n",
       "      <td>3/25/2022</td>\n",
       "      <td>0.0</td>\n",
       "      <td>0.00476</td>\n",
       "      <td>0.00494</td>\n",
       "      <td>0.00258</td>\n",
       "      <td>-0.00533</td>\n",
       "      <td>0.00014</td>\n",
       "      <td>0.16389</td>\n",
       "      <td>2702</td>\n",
       "      <td>0.01</td>\n",
       "      <td>458</td>\n",
       "      <td>0.012</td>\n",
       "      <td>5.45</td>\n",
       "      <td>0.04</td>\n",
       "      <td>300.0</td>\n",
       "      <td>5.0</td>\n",
       "      <td>20.84</td>\n",
       "    </tr>\n",
       "    <tr>\n",
       "      <th>15453</th>\n",
       "      <td>459.0 2022-03-25</td>\n",
       "      <td>452.55</td>\n",
       "      <td>3/25/2022</td>\n",
       "      <td>0.0</td>\n",
       "      <td>0.00503</td>\n",
       "      <td>0.00398</td>\n",
       "      <td>0.00258</td>\n",
       "      <td>-0.00451</td>\n",
       "      <td>-0.00019</td>\n",
       "      <td>0.18157</td>\n",
       "      <td>3424</td>\n",
       "      <td>0.01</td>\n",
       "      <td>459</td>\n",
       "      <td>0.014</td>\n",
       "      <td>6.45</td>\n",
       "      <td>0.03</td>\n",
       "      <td>200.0</td>\n",
       "      <td>5.0</td>\n",
       "      <td>20.84</td>\n",
       "    </tr>\n",
       "  </tbody>\n",
       "</table>\n",
       "</div>"
      ],
      "text/plain": [
       "               CONTRACT  SPY PRICE EXPIRE_DATE  DTE  C_DELTA  C_GAMMA  \\\n",
       "15449  455.0 2022-03-25     452.55   3/25/2022  0.0  0.00813  0.01376   \n",
       "15450  456.0 2022-03-25     452.55   3/25/2022  0.0  0.00641  0.00891   \n",
       "15451  457.0 2022-03-25     452.55   3/25/2022  0.0  0.00626  0.00637   \n",
       "15452  458.0 2022-03-25     452.55   3/25/2022  0.0  0.00476  0.00494   \n",
       "15453  459.0 2022-03-25     452.55   3/25/2022  0.0  0.00503  0.00398   \n",
       "\n",
       "        C_VEGA  C_THETA    C_RHO     C_IV  C_VOLUME  C_LAST  STRIKE  \\\n",
       "15449  0.00469 -0.00545  0.00020  0.10830     28006    0.01     455   \n",
       "15450  0.00322 -0.00479  0.00030  0.12766     12333    0.01     456   \n",
       "15451  0.00281 -0.00530  0.00038  0.14620      6479    0.01     457   \n",
       "15452  0.00258 -0.00533  0.00014  0.16389      2702    0.01     458   \n",
       "15453  0.00258 -0.00451 -0.00019  0.18157      3424    0.01     459   \n",
       "\n",
       "       STRIKE_DISTANCE_PCT  STRIKE DISTANCE  PRICECLOSE   ROI %    y  \\\n",
       "15449                0.005             2.45        0.13  1200.0  5.0   \n",
       "15450                0.008             3.45        0.09   800.0  5.0   \n",
       "15451                0.010             4.45        0.05   400.0  5.0   \n",
       "15452                0.012             5.45        0.04   300.0  5.0   \n",
       "15453                0.014             6.45        0.03   200.0  5.0   \n",
       "\n",
       "       VIX PRICE  \n",
       "15449      20.84  \n",
       "15450      20.84  \n",
       "15451      20.84  \n",
       "15452      20.84  \n",
       "15453      20.84  "
      ]
     },
     "execution_count": 5,
     "metadata": {},
     "output_type": "execute_result"
    }
   ],
   "source": [
    "display(df.head())\n",
    "df.tail()"
   ]
  },
  {
   "cell_type": "code",
   "execution_count": 6,
   "id": "cbd3e174-2c61-4722-a57f-079b308999e5",
   "metadata": {},
   "outputs": [
    {
     "data": {
      "text/html": [
       "<div>\n",
       "<style scoped>\n",
       "    .dataframe tbody tr th:only-of-type {\n",
       "        vertical-align: middle;\n",
       "    }\n",
       "\n",
       "    .dataframe tbody tr th {\n",
       "        vertical-align: top;\n",
       "    }\n",
       "\n",
       "    .dataframe thead th {\n",
       "        text-align: right;\n",
       "    }\n",
       "</style>\n",
       "<table border=\"1\" class=\"dataframe\">\n",
       "  <thead>\n",
       "    <tr style=\"text-align: right;\">\n",
       "      <th></th>\n",
       "      <th>SPY PRICE</th>\n",
       "      <th>DTE</th>\n",
       "      <th>C_DELTA</th>\n",
       "      <th>C_GAMMA</th>\n",
       "      <th>C_VEGA</th>\n",
       "      <th>C_THETA</th>\n",
       "      <th>C_RHO</th>\n",
       "      <th>C_IV</th>\n",
       "      <th>C_VOLUME</th>\n",
       "      <th>C_LAST</th>\n",
       "      <th>STRIKE</th>\n",
       "      <th>STRIKE_DISTANCE_PCT</th>\n",
       "      <th>STRIKE DISTANCE</th>\n",
       "      <th>PRICECLOSE</th>\n",
       "      <th>ROI %</th>\n",
       "      <th>y</th>\n",
       "      <th>VIX PRICE</th>\n",
       "    </tr>\n",
       "  </thead>\n",
       "  <tbody>\n",
       "    <tr>\n",
       "      <th>count</th>\n",
       "      <td>15454.000000</td>\n",
       "      <td>15454.000000</td>\n",
       "      <td>15454.000000</td>\n",
       "      <td>15454.000000</td>\n",
       "      <td>15454.000000</td>\n",
       "      <td>15454.000000</td>\n",
       "      <td>15454.000000</td>\n",
       "      <td>15299.000000</td>\n",
       "      <td>15454.000000</td>\n",
       "      <td>15454.000000</td>\n",
       "      <td>15454.000000</td>\n",
       "      <td>15454.000000</td>\n",
       "      <td>15454.000000</td>\n",
       "      <td>15454.000000</td>\n",
       "      <td>15454.000000</td>\n",
       "      <td>15454.000000</td>\n",
       "      <td>15454.000000</td>\n",
       "    </tr>\n",
       "    <tr>\n",
       "      <th>mean</th>\n",
       "      <td>444.959018</td>\n",
       "      <td>2.136380</td>\n",
       "      <td>0.314230</td>\n",
       "      <td>0.029056</td>\n",
       "      <td>0.095143</td>\n",
       "      <td>-0.365566</td>\n",
       "      <td>0.009728</td>\n",
       "      <td>0.258157</td>\n",
       "      <td>7390.752685</td>\n",
       "      <td>2.827980</td>\n",
       "      <td>450.517859</td>\n",
       "      <td>0.019303</td>\n",
       "      <td>5.558842</td>\n",
       "      <td>3.625001</td>\n",
       "      <td>991.548859</td>\n",
       "      <td>2.751456</td>\n",
       "      <td>25.787511</td>\n",
       "    </tr>\n",
       "    <tr>\n",
       "      <th>std</th>\n",
       "      <td>15.579653</td>\n",
       "      <td>1.415668</td>\n",
       "      <td>0.278475</td>\n",
       "      <td>0.023919</td>\n",
       "      <td>0.065542</td>\n",
       "      <td>0.311931</td>\n",
       "      <td>0.009326</td>\n",
       "      <td>0.100505</td>\n",
       "      <td>13405.350673</td>\n",
       "      <td>3.622754</td>\n",
       "      <td>16.586666</td>\n",
       "      <td>0.015027</td>\n",
       "      <td>9.204698</td>\n",
       "      <td>4.315542</td>\n",
       "      <td>4819.983128</td>\n",
       "      <td>1.958482</td>\n",
       "      <td>5.100686</td>\n",
       "    </tr>\n",
       "    <tr>\n",
       "      <th>min</th>\n",
       "      <td>410.870000</td>\n",
       "      <td>0.000000</td>\n",
       "      <td>0.001050</td>\n",
       "      <td>0.000000</td>\n",
       "      <td>0.000000</td>\n",
       "      <td>-2.590180</td>\n",
       "      <td>-0.000480</td>\n",
       "      <td>-0.000490</td>\n",
       "      <td>0.000000</td>\n",
       "      <td>0.010000</td>\n",
       "      <td>418.000000</td>\n",
       "      <td>0.000000</td>\n",
       "      <td>-26.270000</td>\n",
       "      <td>0.010000</td>\n",
       "      <td>-97.701149</td>\n",
       "      <td>0.000000</td>\n",
       "      <td>16.520000</td>\n",
       "    </tr>\n",
       "    <tr>\n",
       "      <th>25%</th>\n",
       "      <td>433.040000</td>\n",
       "      <td>1.060000</td>\n",
       "      <td>0.056155</td>\n",
       "      <td>0.013012</td>\n",
       "      <td>0.029882</td>\n",
       "      <td>-0.546242</td>\n",
       "      <td>0.001240</td>\n",
       "      <td>0.184850</td>\n",
       "      <td>609.000000</td>\n",
       "      <td>0.160000</td>\n",
       "      <td>439.000000</td>\n",
       "      <td>0.008000</td>\n",
       "      <td>-0.590000</td>\n",
       "      <td>0.220000</td>\n",
       "      <td>-39.166170</td>\n",
       "      <td>1.000000</td>\n",
       "      <td>21.940000</td>\n",
       "    </tr>\n",
       "    <tr>\n",
       "      <th>50%</th>\n",
       "      <td>444.050000</td>\n",
       "      <td>2.150000</td>\n",
       "      <td>0.252195</td>\n",
       "      <td>0.026190</td>\n",
       "      <td>0.099405</td>\n",
       "      <td>-0.344830</td>\n",
       "      <td>0.007720</td>\n",
       "      <td>0.242470</td>\n",
       "      <td>2403.500000</td>\n",
       "      <td>1.380000</td>\n",
       "      <td>447.000000</td>\n",
       "      <td>0.016000</td>\n",
       "      <td>5.500000</td>\n",
       "      <td>1.760000</td>\n",
       "      <td>18.487301</td>\n",
       "      <td>3.000000</td>\n",
       "      <td>25.540000</td>\n",
       "    </tr>\n",
       "    <tr>\n",
       "      <th>75%</th>\n",
       "      <td>456.100000</td>\n",
       "      <td>3.210000</td>\n",
       "      <td>0.512195</td>\n",
       "      <td>0.038950</td>\n",
       "      <td>0.151578</td>\n",
       "      <td>-0.081470</td>\n",
       "      <td>0.015590</td>\n",
       "      <td>0.310650</td>\n",
       "      <td>7488.750000</td>\n",
       "      <td>4.250000</td>\n",
       "      <td>462.000000</td>\n",
       "      <td>0.027000</td>\n",
       "      <td>11.490000</td>\n",
       "      <td>5.900000</td>\n",
       "      <td>193.030303</td>\n",
       "      <td>5.000000</td>\n",
       "      <td>29.990000</td>\n",
       "    </tr>\n",
       "    <tr>\n",
       "      <th>max</th>\n",
       "      <td>479.650000</td>\n",
       "      <td>4.270000</td>\n",
       "      <td>1.000000</td>\n",
       "      <td>0.536140</td>\n",
       "      <td>0.221910</td>\n",
       "      <td>0.000000</td>\n",
       "      <td>0.040320</td>\n",
       "      <td>0.901510</td>\n",
       "      <td>144660.000000</td>\n",
       "      <td>24.750000</td>\n",
       "      <td>491.000000</td>\n",
       "      <td>0.093000</td>\n",
       "      <td>40.840000</td>\n",
       "      <td>18.470000</td>\n",
       "      <td>108100.000000</td>\n",
       "      <td>5.000000</td>\n",
       "      <td>37.980000</td>\n",
       "    </tr>\n",
       "  </tbody>\n",
       "</table>\n",
       "</div>"
      ],
      "text/plain": [
       "          SPY PRICE           DTE       C_DELTA       C_GAMMA        C_VEGA  \\\n",
       "count  15454.000000  15454.000000  15454.000000  15454.000000  15454.000000   \n",
       "mean     444.959018      2.136380      0.314230      0.029056      0.095143   \n",
       "std       15.579653      1.415668      0.278475      0.023919      0.065542   \n",
       "min      410.870000      0.000000      0.001050      0.000000      0.000000   \n",
       "25%      433.040000      1.060000      0.056155      0.013012      0.029882   \n",
       "50%      444.050000      2.150000      0.252195      0.026190      0.099405   \n",
       "75%      456.100000      3.210000      0.512195      0.038950      0.151578   \n",
       "max      479.650000      4.270000      1.000000      0.536140      0.221910   \n",
       "\n",
       "            C_THETA         C_RHO          C_IV       C_VOLUME        C_LAST  \\\n",
       "count  15454.000000  15454.000000  15299.000000   15454.000000  15454.000000   \n",
       "mean      -0.365566      0.009728      0.258157    7390.752685      2.827980   \n",
       "std        0.311931      0.009326      0.100505   13405.350673      3.622754   \n",
       "min       -2.590180     -0.000480     -0.000490       0.000000      0.010000   \n",
       "25%       -0.546242      0.001240      0.184850     609.000000      0.160000   \n",
       "50%       -0.344830      0.007720      0.242470    2403.500000      1.380000   \n",
       "75%       -0.081470      0.015590      0.310650    7488.750000      4.250000   \n",
       "max        0.000000      0.040320      0.901510  144660.000000     24.750000   \n",
       "\n",
       "             STRIKE  STRIKE_DISTANCE_PCT  STRIKE DISTANCE    PRICECLOSE  \\\n",
       "count  15454.000000         15454.000000     15454.000000  15454.000000   \n",
       "mean     450.517859             0.019303         5.558842      3.625001   \n",
       "std       16.586666             0.015027         9.204698      4.315542   \n",
       "min      418.000000             0.000000       -26.270000      0.010000   \n",
       "25%      439.000000             0.008000        -0.590000      0.220000   \n",
       "50%      447.000000             0.016000         5.500000      1.760000   \n",
       "75%      462.000000             0.027000        11.490000      5.900000   \n",
       "max      491.000000             0.093000        40.840000     18.470000   \n",
       "\n",
       "               ROI %             y     VIX PRICE  \n",
       "count   15454.000000  15454.000000  15454.000000  \n",
       "mean      991.548859      2.751456     25.787511  \n",
       "std      4819.983128      1.958482      5.100686  \n",
       "min       -97.701149      0.000000     16.520000  \n",
       "25%       -39.166170      1.000000     21.940000  \n",
       "50%        18.487301      3.000000     25.540000  \n",
       "75%       193.030303      5.000000     29.990000  \n",
       "max    108100.000000      5.000000     37.980000  "
      ]
     },
     "execution_count": 6,
     "metadata": {},
     "output_type": "execute_result"
    }
   ],
   "source": [
    "df.describe()"
   ]
  },
  {
   "cell_type": "code",
   "execution_count": 7,
   "id": "27032b1e-8c06-4f8f-a50c-321e884c179b",
   "metadata": {},
   "outputs": [
    {
     "data": {
      "text/plain": [
       "CONTRACT                object\n",
       "SPY PRICE              float64\n",
       "EXPIRE_DATE             object\n",
       "DTE                    float64\n",
       "C_DELTA                float64\n",
       "C_GAMMA                float64\n",
       "C_VEGA                 float64\n",
       "C_THETA                float64\n",
       "C_RHO                  float64\n",
       "C_IV                   float64\n",
       "C_VOLUME                 int64\n",
       "C_LAST                 float64\n",
       "STRIKE                   int64\n",
       "STRIKE_DISTANCE_PCT    float64\n",
       "STRIKE DISTANCE        float64\n",
       "PRICECLOSE             float64\n",
       "ROI %                  float64\n",
       "y                      float64\n",
       "VIX PRICE              float64\n",
       "dtype: object"
      ]
     },
     "execution_count": 7,
     "metadata": {},
     "output_type": "execute_result"
    }
   ],
   "source": [
    "df.dtypes"
   ]
  },
  {
   "cell_type": "markdown",
   "id": "53c7dcd7-6e60-47bc-b5c7-8cd023c397e4",
   "metadata": {},
   "source": [
    "## 2.2.) Feature Analysis and Exploration"
   ]
  },
  {
   "cell_type": "markdown",
   "id": "bcd25eeb-b1b0-41fb-ba4c-5198d9e0f0fc",
   "metadata": {},
   "source": [
    "### Plotting features according to contract length"
   ]
  },
  {
   "cell_type": "code",
   "execution_count": 8,
   "id": "57fe3483-10cf-4910-9c63-690981b295d4",
   "metadata": {},
   "outputs": [],
   "source": [
    "#\n",
    "#contract_outcome = df.groupby('STRIKE_DISTANCE_PCT')['y'].value_counts(normalize=True).loc[:,1]\n",
    "#sns.set(rc={'figure.figsize':(12,5)})\n",
    "#sns.barplot(x=contract_outcome.index, y=contract_outcome.values, color='#5975A4', saturation=1)"
   ]
  },
  {
   "cell_type": "markdown",
   "id": "f8d89eba-d77c-4ac6-b0fb-4a289dd38e66",
   "metadata": {},
   "source": [
    "### Eliminate Uncorrelated Features"
   ]
  },
  {
   "cell_type": "code",
   "execution_count": 9,
   "id": "495744aa-4f2c-48ef-a4ce-7451810f50db",
   "metadata": {},
   "outputs": [],
   "source": [
    "#Calculate correlation of each feature with 'y'\n",
    "\n",
    "correlation = df.corr()\n",
    "correlation_df = abs(correlation['y'])"
   ]
  },
  {
   "cell_type": "code",
   "execution_count": 10,
   "id": "70d0a218-6994-4c7f-8bdc-68df16528cea",
   "metadata": {},
   "outputs": [
    {
     "data": {
      "text/plain": [
       "y                      1.000000\n",
       "DTE                    0.361905\n",
       "PRICECLOSE             0.269310\n",
       "C_VEGA                 0.262191\n",
       "ROI %                  0.245300\n",
       "C_RHO                  0.227609\n",
       "C_DELTA                0.224021\n",
       "C_LAST                 0.204711\n",
       "STRIKE DISTANCE        0.180364\n",
       "SPY PRICE              0.146781\n",
       "VIX PRICE              0.123489\n",
       "C_GAMMA                0.108427\n",
       "STRIKE_DISTANCE_PCT    0.103439\n",
       "C_VOLUME               0.096952\n",
       "C_THETA                0.095515\n",
       "C_IV                   0.062901\n",
       "STRIKE                 0.037770\n",
       "Name: y, dtype: float64"
      ]
     },
     "execution_count": 10,
     "metadata": {},
     "output_type": "execute_result"
    }
   ],
   "source": [
    "correlation_df.sort_values(ascending=False)"
   ]
  },
  {
   "cell_type": "code",
   "execution_count": 11,
   "id": "6b9a0ace-847b-4927-91a7-f9b85d4557fb",
   "metadata": {},
   "outputs": [
    {
     "name": "stdout",
     "output_type": "stream",
     "text": [
      "[]\n"
     ]
    }
   ],
   "source": [
    "#Drop variables with less than 3% correlation with contract outcome ('y')\n",
    "\n",
    "drop_list_corr = sorted(list(correlation_df[correlation_df < 0.03].index))\n",
    "print(drop_list_corr)"
   ]
  },
  {
   "cell_type": "code",
   "execution_count": 12,
   "id": "0a044e81-9ff7-4ebb-aefd-e2c1ccf9f6db",
   "metadata": {},
   "outputs": [],
   "source": [
    "#Dropping because C_IV convolutes outcome for some buggish reason\n",
    "\n",
    "df.drop(labels=[\"C_IV\"], axis=1, inplace=True)"
   ]
  },
  {
   "cell_type": "markdown",
   "id": "d5c210c5-6f47-4e6b-b01d-8dfb61ec484a",
   "metadata": {},
   "source": [
    "### Drop Columns Not Needed for Machine Learning"
   ]
  },
  {
   "cell_type": "code",
   "execution_count": 13,
   "id": "6c85b455-3769-46f0-9716-7e3572d5c956",
   "metadata": {},
   "outputs": [],
   "source": [
    "df.drop(columns=[\"CONTRACT\"], inplace=True)"
   ]
  },
  {
   "cell_type": "code",
   "execution_count": 14,
   "id": "28cd24a6-7e46-4937-8310-377f7d6edb0d",
   "metadata": {},
   "outputs": [],
   "source": [
    "df.drop(columns=[\"EXPIRE_DATE\"], inplace=True)"
   ]
  },
  {
   "cell_type": "code",
   "execution_count": 15,
   "id": "879bef30-dec7-49f3-b4e4-a0aa7e6422b0",
   "metadata": {},
   "outputs": [],
   "source": [
    "df.drop(columns=[\"ROI %\"], inplace=True)"
   ]
  },
  {
   "cell_type": "code",
   "execution_count": 16,
   "id": "53c70105-561f-47f7-83b1-58506d14937c",
   "metadata": {},
   "outputs": [],
   "source": [
    "df.drop(columns=[\"PRICECLOSE\"], inplace=True)"
   ]
  },
  {
   "cell_type": "markdown",
   "id": "afcb900b-b82e-4d3f-9150-351354518610",
   "metadata": {},
   "source": [
    "# SECTION 3: Evaluate Algorithms and Models\n"
   ]
  },
  {
   "cell_type": "markdown",
   "id": "6412c722-5a95-445b-a8c2-3379da7cdcdf",
   "metadata": {},
   "source": [
    "## 3.1.) Train Test Split and Evaluation Metrics"
   ]
  },
  {
   "cell_type": "code",
   "execution_count": 17,
   "id": "f82cfd16-91c5-4aa7-984d-2f062697a620",
   "metadata": {},
   "outputs": [],
   "source": [
    "#Seperate features from predicted variable, 'y', which is outcome of call options contracts\n",
    "\n",
    "y = df[\"y\"]\n",
    "\n",
    "X = df.drop(columns='y')"
   ]
  },
  {
   "cell_type": "code",
   "execution_count": 18,
   "id": "acb5e8a0-bcc8-4a4b-b0dd-5a8ae937a97e",
   "metadata": {},
   "outputs": [],
   "source": [
    "#Split into training and testing groups\n",
    "\n",
    "validation_size = 0.2\n",
    "\n",
    "seed = 7\n",
    "\n",
    "X_train, X_validation, y_train, y_validation = train_test_split(X, y, stratify=y, test_size=validation_size, random_state=seed)"
   ]
  },
  {
   "cell_type": "code",
   "execution_count": 19,
   "id": "5b65eafe-6da4-413b-acfe-b0313d9aa049",
   "metadata": {},
   "outputs": [],
   "source": [
    "#Normalize features data\n",
    "\n",
    "#Create the StandardScaler instance\n",
    "\n",
    "scaler = StandardScaler()\n",
    "\n",
    "#Fit the scaler to the features training dataset\n",
    "\n",
    "X_scaler = scaler.fit(X_train)\n",
    "\n",
    "#Scale both the training and testing data from the features dataset\n",
    "\n",
    "X_train_scaled = X_scaler.transform(X_train)\n",
    "X_validation_scaled = X_scaler.transform(X_validation)"
   ]
  },
  {
   "cell_type": "markdown",
   "id": "67843fb4-6fc5-4837-a76a-3922803a47d8",
   "metadata": {},
   "source": [
    "# SECTION 4: Establishing Sequential Model Baseline"
   ]
  },
  {
   "cell_type": "markdown",
   "id": "005815a6-dd08-43cb-bf9a-61f130073287",
   "metadata": {},
   "source": [
    "## 4.1.) Creating Neural Network Architecture"
   ]
  },
  {
   "cell_type": "code",
   "execution_count": 20,
   "id": "2ac15e2f-495d-4f24-9772-1f41da7aa43f",
   "metadata": {},
   "outputs": [
    {
     "data": {
      "text/plain": [
       "(15454, 13)"
      ]
     },
     "execution_count": 20,
     "metadata": {},
     "output_type": "execute_result"
    }
   ],
   "source": [
    "#Get number of features\n",
    "\n",
    "X.shape"
   ]
  },
  {
   "cell_type": "code",
   "execution_count": 21,
   "id": "f83fc40e-9c41-443c-b993-1714e3f886fb",
   "metadata": {},
   "outputs": [
    {
     "data": {
      "text/plain": [
       "13"
      ]
     },
     "execution_count": 21,
     "metadata": {},
     "output_type": "execute_result"
    }
   ],
   "source": [
    "#Define the the number of inputs (features) to the model\n",
    "\n",
    "number_input_features = len(X_train.iloc[0])\n",
    "\n",
    "#Review the number of features\n",
    "\n",
    "number_input_features\n"
   ]
  },
  {
   "cell_type": "code",
   "execution_count": 22,
   "id": "b42c2ba5-b711-4351-9db3-27df8d554f6b",
   "metadata": {},
   "outputs": [],
   "source": [
    "#Define the number of neurons in the output layer\n",
    "\n",
    "number_output_neurons = 5"
   ]
  },
  {
   "cell_type": "code",
   "execution_count": 23,
   "id": "4e71536c-c587-488a-8cf1-94c2b361ef4b",
   "metadata": {},
   "outputs": [
    {
     "data": {
      "text/plain": [
       "7"
      ]
     },
     "execution_count": 23,
     "metadata": {},
     "output_type": "execute_result"
    }
   ],
   "source": [
    "#Define the number of hidden nodes for the first hidden layer\n",
    "\n",
    "hidden_nodes_layer1 = (number_input_features + 1) // 2 \n",
    "\n",
    "#Review the number hidden nodes in the first layer\n",
    "\n",
    "hidden_nodes_layer1\n"
   ]
  },
  {
   "cell_type": "code",
   "execution_count": 24,
   "id": "3db45c3b-aaeb-4a95-adb7-0090495f67dc",
   "metadata": {},
   "outputs": [
    {
     "data": {
      "text/plain": [
       "7"
      ]
     },
     "execution_count": 24,
     "metadata": {},
     "output_type": "execute_result"
    }
   ],
   "source": [
    "#Define the number of hidden nodes for the second hidden layer\n",
    "\n",
    "hidden_nodes_layer2 = hidden_nodes_layer1\n",
    "\n",
    "# Review the number hidden nodes in the second layer\n",
    "\n",
    "hidden_nodes_layer2\n"
   ]
  },
  {
   "cell_type": "code",
   "execution_count": 25,
   "id": "8fae99d6-cf41-4bf2-88a2-40ecfcf9eac9",
   "metadata": {},
   "outputs": [
    {
     "data": {
      "text/plain": [
       "7"
      ]
     },
     "execution_count": 25,
     "metadata": {},
     "output_type": "execute_result"
    }
   ],
   "source": [
    "#Define the number of hidden nodes for the second hidden layer\n",
    "\n",
    "hidden_nodes_layer3 = hidden_nodes_layer2\n",
    "\n",
    "# Review the number hidden nodes in the second layer\n",
    "\n",
    "hidden_nodes_layer3\n"
   ]
  },
  {
   "cell_type": "code",
   "execution_count": 26,
   "id": "c309b376-11e1-4555-a13e-646c2c4af97b",
   "metadata": {},
   "outputs": [
    {
     "data": {
      "text/plain": [
       "7"
      ]
     },
     "execution_count": 26,
     "metadata": {},
     "output_type": "execute_result"
    }
   ],
   "source": [
    "#Define the number of hidden nodes for the second hidden layer\n",
    "\n",
    "hidden_nodes_layer4 = hidden_nodes_layer3\n",
    "\n",
    "# Review the number hidden nodes in the second layer\n",
    "\n",
    "hidden_nodes_layer4\n"
   ]
  },
  {
   "cell_type": "code",
   "execution_count": 27,
   "id": "66d53bb4-9601-447a-b2b0-c51059023b22",
   "metadata": {},
   "outputs": [
    {
     "name": "stderr",
     "output_type": "stream",
     "text": [
      "2022-07-05 17:12:53.746595: I tensorflow/core/platform/cpu_feature_guard.cc:193] This TensorFlow binary is optimized with oneAPI Deep Neural Network Library (oneDNN) to use the following CPU instructions in performance-critical operations:  AVX2 FMA\n",
      "To enable them in other operations, rebuild TensorFlow with the appropriate compiler flags.\n"
     ]
    }
   ],
   "source": [
    "#Create the Sequential model instance\n",
    "\n",
    "nn = Sequential()"
   ]
  },
  {
   "cell_type": "code",
   "execution_count": 28,
   "id": "5ce18d17-cbb9-4718-a45c-ac56aa21590d",
   "metadata": {},
   "outputs": [],
   "source": [
    "# Add the first hidden layer\n",
    "\n",
    "nn.add(Dense(units=hidden_nodes_layer1,  input_dim=number_input_features, activation=\"relu\", kernel_initializer=\"he_normal\"))\n"
   ]
  },
  {
   "cell_type": "code",
   "execution_count": 29,
   "id": "4b6d36ce-9c5a-4995-82aa-5d7994b6b4b3",
   "metadata": {},
   "outputs": [],
   "source": [
    "#Add the second hidden layer\n",
    "\n",
    "nn.add(Dense(units=hidden_nodes_layer2, activation=\"relu\", kernel_initializer=\"he_normal\"))"
   ]
  },
  {
   "cell_type": "code",
   "execution_count": 30,
   "id": "f510300a-0add-4924-bfcc-ef16b472a5df",
   "metadata": {},
   "outputs": [],
   "source": [
    "#Add the third hidden layer\n",
    "\n",
    "nn.add(Dense(units=hidden_nodes_layer3, activation=\"relu\", kernel_initializer=\"he_normal\"))"
   ]
  },
  {
   "cell_type": "code",
   "execution_count": 31,
   "id": "8ce13dec-81cf-4812-9207-382c69b3449b",
   "metadata": {},
   "outputs": [],
   "source": [
    "#Add the fourth hidden layer\n",
    "\n",
    "nn.add(Dense(units=hidden_nodes_layer4, activation=\"relu\", kernel_initializer=\"he_normal\"))"
   ]
  },
  {
   "cell_type": "code",
   "execution_count": 32,
   "id": "92aca8c9-39be-4b36-9c4d-a7c7c1199828",
   "metadata": {},
   "outputs": [],
   "source": [
    "#Add the output layer to the model specifying the number of output neurons and activation function\n",
    "#Using Softmax because of multi-class classification\n",
    "#NOTE: There are five output neurons because there are five classes (\"Strong Sell\", \"Sell\", \"Pass\", \"Buy\", \"Strong Buy\")\n",
    "\n",
    "nn.add(Dense(units=6, activation=\"softmax\",  kernel_initializer=\"glorot_uniform\"))\n"
   ]
  },
  {
   "cell_type": "code",
   "execution_count": 33,
   "id": "46684164-66f4-4a79-8ca0-699780358268",
   "metadata": {},
   "outputs": [
    {
     "name": "stdout",
     "output_type": "stream",
     "text": [
      "Model: \"sequential\"\n",
      "_________________________________________________________________\n",
      " Layer (type)                Output Shape              Param #   \n",
      "=================================================================\n",
      " dense (Dense)               (None, 7)                 98        \n",
      "                                                                 \n",
      " dense_1 (Dense)             (None, 7)                 56        \n",
      "                                                                 \n",
      " dense_2 (Dense)             (None, 7)                 56        \n",
      "                                                                 \n",
      " dense_3 (Dense)             (None, 7)                 56        \n",
      "                                                                 \n",
      " dense_4 (Dense)             (None, 6)                 48        \n",
      "                                                                 \n",
      "=================================================================\n",
      "Total params: 314\n",
      "Trainable params: 314\n",
      "Non-trainable params: 0\n",
      "_________________________________________________________________\n"
     ]
    }
   ],
   "source": [
    "#Display the Sequential model summary\n",
    "\n",
    "nn.summary()\n"
   ]
  },
  {
   "cell_type": "markdown",
   "id": "4362846b-4289-4845-9556-48a528a2d5a1",
   "metadata": {},
   "source": [
    "## 4.2.) Compiling Neural Network Architecture"
   ]
  },
  {
   "cell_type": "code",
   "execution_count": 34,
   "id": "7b2ae477-7d63-486f-a3e3-8220c58f936c",
   "metadata": {},
   "outputs": [],
   "source": [
    "#Compile the Sequential model\n",
    "#Using Sparce Categorical Crossentropy because of multi-class classification\n",
    "\n",
    "#optimizer = keras.optimizers.Adam(learning_rate=.9, beta_1=.9, beta_2=.999)\n",
    "nn.compile(loss=\"sparse_categorical_crossentropy\", optimizer=\"adam\", metrics=[\"accuracy\"])\n"
   ]
  },
  {
   "cell_type": "code",
   "execution_count": 50,
   "id": "24276835-e160-4136-a0b0-e2569c592779",
   "metadata": {},
   "outputs": [
    {
     "name": "stdout",
     "output_type": "stream",
     "text": [
      "Epoch 1/800\n",
      "124/124 [==============================] - 0s 1ms/step - loss: 0.5654 - accuracy: 0.7869 - val_loss: 0.5736 - val_accuracy: 0.7862\n",
      "Epoch 2/800\n",
      "124/124 [==============================] - 0s 1ms/step - loss: 0.5642 - accuracy: 0.7865 - val_loss: 0.5739 - val_accuracy: 0.7910\n",
      "Epoch 2: early stopping\n"
     ]
    }
   ],
   "source": [
    "#Fit the model using 50 epochs and the training data\n",
    "\n",
    "es = EarlyStopping(monitor='val_loss', mode='min', verbose=1)\n",
    "model_1 = nn.fit(X_train_scaled, y_train, epochs=800, validation_data=(X_validation_scaled, y_validation), batch_size=12) #, callbacks=[es]) #, verbose=0\n"
   ]
  },
  {
   "cell_type": "markdown",
   "id": "f718a0cf-8b56-41f3-805d-60ff28f571ef",
   "metadata": {
    "tags": []
   },
   "source": [
    "## 4.3.) Evaluating the Model for Loss and Accuracy"
   ]
  },
  {
   "cell_type": "code",
   "execution_count": 51,
   "id": "f1a78489-6e0d-47a9-b797-dae943c45f61",
   "metadata": {},
   "outputs": [],
   "source": [
    "#Create a DataFrame using the model history and an index parameter\n",
    "\n",
    "model_plot = pd.DataFrame(model_1.history, index=range(1, len(model_1.history[\"loss\"]) + 1))"
   ]
  },
  {
   "cell_type": "code",
   "execution_count": 52,
   "id": "4fa7ba8e-eaf2-45ed-9d0f-73b5e2b7bd8d",
   "metadata": {},
   "outputs": [
    {
     "data": {
      "text/plain": [
       "<AxesSubplot:title={'center':'Loss Function, Training'}>"
      ]
     },
     "execution_count": 52,
     "metadata": {},
     "output_type": "execute_result"
    },
    {
     "data": {
      "image/png": "[encoded data removed]",
      "text/plain": [
       "<Figure size 432x288 with 1 Axes>"
      ]
     },
     "metadata": {
      "needs_background": "light"
     },
     "output_type": "display_data"
    }
   ],
   "source": [
    "#Vizualize the model plot where the y-axis displays the loss metric\n",
    "\n",
    "model_plot.plot(\n",
    "    y=\"loss\",\n",
    "    title=\"Loss Function, Training\",\n",
    "    legend=\"Loss\"\n",
    ")"
   ]
  },
  {
   "cell_type": "code",
   "execution_count": 53,
   "id": "8c7b3c15-7126-4740-94ba-638105a2a49c",
   "metadata": {},
   "outputs": [
    {
     "data": {
      "text/plain": [
       "<AxesSubplot:title={'center':'Accuracy Function, Training'}>"
      ]
     },
     "execution_count": 53,
     "metadata": {},
     "output_type": "execute_result"
    },
    {
     "data": {
      "image/png": "[encoded data removed]",
      "text/plain": [
       "<Figure size 432x288 with 1 Axes>"
      ]
     },
     "metadata": {
      "needs_background": "light"
     },
     "output_type": "display_data"
    }
   ],
   "source": [
    "# Vizualize the model plot where the y-axis displays the accuracy metric\n",
    "\n",
    "model_plot.plot(\n",
    "    y=\"accuracy\",\n",
    "    title=\"Accuracy Function, Training\",\n",
    "    legend=\"Accuracy\"\n",
    ")"
   ]
  },
  {
   "cell_type": "code",
   "execution_count": 54,
   "id": "e62c7b03-05e7-41e9-a1b9-04ded92f470c",
   "metadata": {},
   "outputs": [
    {
     "data": {
      "image/png": "[encoded data removed]",
      "text/plain": [
       "<Figure size 432x288 with 1 Axes>"
      ]
     },
     "metadata": {
      "needs_background": "light"
     },
     "output_type": "display_data"
    }
   ],
   "source": [
    "# Train versus validation loss to look for signs of overfitting\n",
    "\n",
    "plt.plot(model_1.history[\"loss\"])\n",
    "plt.plot(model_1.history[\"val_loss\"])\n",
    "plt.title(\"loss_function - Training Vs. Validation of Model 1 - 1 hidden layer\")\n",
    "plt.legend([\"train\", \"test\"])\n",
    "plt.show()"
   ]
  },
  {
   "cell_type": "code",
   "execution_count": 55,
   "id": "ad498647-f791-4623-840f-bb705a0d0035",
   "metadata": {},
   "outputs": [
    {
     "name": "stdout",
     "output_type": "stream",
     "text": [
      "97/97 - 0s - loss: 0.5739 - accuracy: 0.7910 - 70ms/epoch - 726us/step\n",
      "Loss: 0.5739153623580933, Accuracy: 0.7910061478614807\n"
     ]
    }
   ],
   "source": [
    "# Evaluate the model loss and accuracy metrics using the evaluate method and the validation data\n",
    "\n",
    "model_loss, model_accuracy = nn.evaluate(X_validation_scaled, y_validation, verbose=2)\n",
    "\n",
    "# Display the model loss and accuracy results\n",
    "\n",
    "print(f\"Loss: {model_loss}, Accuracy: {model_accuracy}\")"
   ]
  },
  {
   "cell_type": "markdown",
   "id": "fa526a38-90bd-48b2-aca0-9d8a8cb0caa4",
   "metadata": {},
   "source": [
    "# SECTION 5: Tuning the Sequential Model"
   ]
  },
  {
   "cell_type": "markdown",
   "id": "fc903999-70cd-4380-b7f2-8290d8df1507",
   "metadata": {
    "tags": []
   },
   "source": [
    "## 5.1.) GridSearchCV Hyperparameter Tuning: Epochs and Batch Size"
   ]
  },
  {
   "cell_type": "code",
   "execution_count": null,
   "id": "7029f46e-b201-4a16-b0c8-73d75b78b74e",
   "metadata": {},
   "outputs": [],
   "source": [
    "#Establish stratified k-folds\n",
    "\n",
    "kfold = StratifiedKFold(n_splits=5, random_state=seed, shuffle=True)"
   ]
  },
  {
   "cell_type": "code",
   "execution_count": null,
   "id": "2866edfe-1514-400a-8fe5-183272572a2a",
   "metadata": {},
   "outputs": [],
   "source": [
    "#Create a function for grid search\n",
    "\n",
    "def create_model():\n",
    "    \n",
    "    model=Sequential()\n",
    "    model.add(Dense(7, input_dim=13, activation=\"relu\"))\n",
    "    model.add(Dense(7, activation=\"relu\"))\n",
    "    model.add(Dense(6, activation=\"softmax\"))\n",
    "    model.compile(loss=\"sparse_categorical_crossentropy\",\n",
    "                    optimizer=\"adam\",\n",
    "                    metrics=[\"accuracy\"])\n",
    "    return model"
   ]
  },
  {
   "cell_type": "code",
   "execution_count": null,
   "id": "af21cc71-827f-4d76-9100-5bef1b30a69c",
   "metadata": {},
   "outputs": [],
   "source": [
    "#Create a function that:\n",
    "#1/ Creates a dictionary of search parameters and passes it on to the Scikit-learn GridSearchCV estimator,\n",
    "#2/ Fits the model\n",
    "#3/ Makes predictions \n",
    "\n",
    "def algorithm_trial(X_train, X_validation, y_train, y_validation, \n",
    "                       model, param_grid, cv=kfold, scoring_fit='accuracy',\n",
    "                       do_probabilities = False):\n",
    "    \n",
    "    gs = GridSearchCV(\n",
    "        estimator=model,\n",
    "        param_grid=param_grid, \n",
    "        cv=cv, \n",
    "        n_jobs=-1, \n",
    "        scoring=scoring_fit,\n",
    "        verbose=2\n",
    "    )\n",
    "    fitted_model = gs.fit(X_train, y_train, callbacks=[keras.callbacks.EarlyStopping(patience=10)])\n",
    "    \n",
    "    if do_probabilities:\n",
    "      pred = fitted_model.predict_proba(X_validation)\n",
    "    else:\n",
    "      pred = fitted_model.predict(X_validation)\n",
    "    \n",
    "    return fitted_model, pred"
   ]
  },
  {
   "cell_type": "code",
   "execution_count": null,
   "id": "6235b004-47ab-4cd2-9507-577c1ef4ec41",
   "metadata": {},
   "outputs": [],
   "source": [
    "#Establish parameter grid for number of epochs and batch size\n",
    "\n",
    "param_grid = {\n",
    "              'epochs':[600, 800, 1000, 1200],\n",
    "              'batch_size': [12, 24, 32, 75, 100, 120],\n",
    "             }"
   ]
  },
  {
   "cell_type": "code",
   "execution_count": null,
   "id": "49a1e30e-c0be-4aa1-8b09-979d1f5ef75a",
   "metadata": {},
   "outputs": [],
   "source": [
    "#Create the KerasClassifier object\n",
    "\n",
    "model = KerasClassifier(build_fn = create_model, verbose=0)"
   ]
  },
  {
   "cell_type": "code",
   "execution_count": null,
   "id": "b95356c7-e488-4c38-abfa-9834a3637818",
   "metadata": {},
   "outputs": [],
   "source": [
    "#Run grid search to find best parameters\n",
    "\n",
    "model, pred = algorithm_trial(X_train_scaled, X_validation_scaled, y_train, y_validation, model, \n",
    "                                        param_grid, cv=kfold, scoring_fit='accuracy')\n",
    "\n",
    "print(model.best_score_)\n",
    "print(model.best_params_)"
   ]
  },
  {
   "cell_type": "markdown",
   "id": "6d735031-9dd0-46b1-9c52-fdf61e664df7",
   "metadata": {
    "tags": []
   },
   "source": [
    "## 5.2.) Creating Neural Network Architecture"
   ]
  },
  {
   "cell_type": "code",
   "execution_count": null,
   "id": "79c220b2-66a0-42cf-ba5f-94ebbe26b280",
   "metadata": {},
   "outputs": [],
   "source": [
    "#Define the the number of inputs (features) to the model\n",
    "\n",
    "number_input_features = len(X_train.iloc[0])\n",
    "\n",
    "#Review the number of features\n",
    "\n",
    "number_input_features\n"
   ]
  },
  {
   "cell_type": "code",
   "execution_count": null,
   "id": "48046769-78da-413b-b0bb-d3f80122477d",
   "metadata": {},
   "outputs": [],
   "source": [
    "#Define the number of neurons in the output layer\n",
    "\n",
    "number_output_neurons = 1"
   ]
  },
  {
   "cell_type": "code",
   "execution_count": null,
   "id": "83685ac0-7ce2-4f66-b794-03ed5be4b2f1",
   "metadata": {},
   "outputs": [],
   "source": [
    "#Define the number of hidden nodes for the first hidden layer\n",
    "\n",
    "hidden_nodes_layer1 = (number_input_features + 1) // 2 \n",
    "\n",
    "#Review the number hidden nodes in the first layer\n",
    "\n",
    "hidden_nodes_layer1\n"
   ]
  },
  {
   "cell_type": "code",
   "execution_count": null,
   "id": "7a0a4186-f34f-460a-a19e-1d88ad662395",
   "metadata": {},
   "outputs": [],
   "source": [
    "#Define the number of hidden nodes for the second hidden layer\n",
    "\n",
    "hidden_nodes_layer2 = (hidden_nodes_layer1 + 1) // 2 \n",
    "\n",
    "# Review the number hidden nodes in the second layer\n",
    "\n",
    "hidden_nodes_layer2\n"
   ]
  },
  {
   "cell_type": "code",
   "execution_count": null,
   "id": "72c02dcd-546c-4205-9300-e62b125c726c",
   "metadata": {},
   "outputs": [],
   "source": [
    "#Create the Sequential model instance\n",
    "\n",
    "nn = Sequential()"
   ]
  },
  {
   "cell_type": "code",
   "execution_count": null,
   "id": "cb10f165-16cf-4e92-b1a0-989b237aeb90",
   "metadata": {},
   "outputs": [],
   "source": [
    "# Add the first hidden layer\n",
    "\n",
    "nn.add(Dense(units=hidden_nodes_layer1, input_dim=number_input_features, activation=\"relu\"))"
   ]
  },
  {
   "cell_type": "code",
   "execution_count": null,
   "id": "36684025-2718-435d-9664-ecc957806a80",
   "metadata": {},
   "outputs": [],
   "source": [
    "#Add the second hidden layer\n",
    "\n",
    "nn.add(Dense(units=hidden_nodes_layer2, activation=\"relu\"))"
   ]
  },
  {
   "cell_type": "code",
   "execution_count": null,
   "id": "e4b4a38f-ed0a-405a-9bdc-96d03784a902",
   "metadata": {},
   "outputs": [],
   "source": [
    "#Add the output layer to the model specifying the number of output neurons and activation function\n",
    "#Using Softmax because of multi-class classification\n",
    "\n",
    "nn.add(Dense(units=1, activation=\"softmax\"))\n"
   ]
  },
  {
   "cell_type": "code",
   "execution_count": null,
   "id": "c50169cb-0626-4d14-8c74-706ba12be1e9",
   "metadata": {
    "tags": []
   },
   "outputs": [],
   "source": [
    "#Display the Sequential model summary\n",
    "\n",
    "nn.summary()\n"
   ]
  },
  {
   "cell_type": "markdown",
   "id": "4c4b9a71-92aa-4f9f-a659-cd24afa393fe",
   "metadata": {},
   "source": [
    "## 5.3.) Compiling Neural Network Architecture"
   ]
  },
  {
   "cell_type": "code",
   "execution_count": null,
   "id": "9e21c99f-f5b4-4959-805c-5f9caeba4629",
   "metadata": {},
   "outputs": [],
   "source": [
    "#Compile the Sequential model\n",
    "#Using Sparce Categorical Crossentropy because of multi-class classification\n",
    "\n",
    "nn.compile(loss=\"sparce_categorical_crossentropy\", optimizer=\"adam\", metrics=[\"accuracy\"])\n"
   ]
  },
  {
   "cell_type": "code",
   "execution_count": null,
   "id": "ccaff94e-74d4-4cc7-ba07-f5443dc427c2",
   "metadata": {},
   "outputs": [],
   "source": [
    "#Fit the model using 50 epochs and the training data\n",
    "\n",
    "model_2 = nn.fit(X_train_scaled, y_train, epochs=50)\n"
   ]
  },
  {
   "cell_type": "markdown",
   "id": "e50c742c-0c77-46d8-8cf8-dd25c06ccdf4",
   "metadata": {},
   "source": [
    "## 5.4.) Evaluating the Model for Loss and Accuracy"
   ]
  },
  {
   "cell_type": "code",
   "execution_count": null,
   "id": "dce9a9a9-db24-46ea-a2fa-e880cfa813e9",
   "metadata": {},
   "outputs": [],
   "source": [
    "#Create a DataFrame using the model history and an index parameter\n",
    "\n",
    "model_plot = pd.DataFrame(model_2.history, index=range(1, len(model_2.history[\"loss\"]) + 1))"
   ]
  },
  {
   "cell_type": "code",
   "execution_count": null,
   "id": "e32fda70-3d18-4322-8b1b-3c9e9e3a64cc",
   "metadata": {},
   "outputs": [],
   "source": [
    "#Vizualize the model plot where the y-axis displays the loss metric\n",
    "\n",
    "model_plot.plot(\n",
    "    y=\"loss\",\n",
    "    title=\"Loss Function, Training\",\n",
    "    legend=\"Loss\"\n",
    ")"
   ]
  },
  {
   "cell_type": "code",
   "execution_count": null,
   "id": "99c57605-1d22-4a63-9f43-fb1bc2bc92f8",
   "metadata": {},
   "outputs": [],
   "source": [
    "# Vizualize the model plot where the y-axis displays the accuracy metric\n",
    "\n",
    "model_plot.plot(\n",
    "    y=\"accuracy\",\n",
    "    title=\"Accuracy Function, Training\",\n",
    "    legend=\"Accuracy\"\n",
    ")"
   ]
  },
  {
   "cell_type": "code",
   "execution_count": null,
   "id": "2930cc06-8268-477e-80f7-b5d100735c37",
   "metadata": {
    "tags": []
   },
   "outputs": [],
   "source": [
    "# Train versus validation loss to look for signs of overfitting\n",
    "\n",
    "plt.plot(model_2.history[\"loss\"])\n",
    "plt.plot(model_2.history[\"val_loss\"])\n",
    "plt.title(\"loss_function - Training Vs. Validation of Model 2 - 1 hidden layer\")\n",
    "plt.legend([\"train\", \"test\"])\n",
    "plt.show()"
   ]
  },
  {
   "cell_type": "code",
   "execution_count": null,
   "id": "a98e0ab6-8825-460a-8800-87262afd86b0",
   "metadata": {},
   "outputs": [],
   "source": [
    "# Evaluate the model loss and accuracy metrics using the evaluate method and the validation data\n",
    "\n",
    "model_loss, model_accuracy = nn.evaluate(X_validation_scaled, y_validation, verbose=2)\n",
    "\n",
    "# Display the model loss and accuracy results\n",
    "\n",
    "print(f\"Loss: {model_loss}, Accuracy: {model_accuracy}\")"
   ]
  },
  {
   "cell_type": "code",
   "execution_count": null,
   "id": "72064a4c-758a-409e-a664-55461de4cef4",
   "metadata": {},
   "outputs": [],
   "source": [
    "#Getting predictions (predicted probability of being in each category)\n",
    "\n",
    "y_proba = nn.predict(X_validation_scaled)\n",
    "y_proba.round(2)"
   ]
  },
  {
   "cell_type": "code",
   "execution_count": null,
   "id": "fabb85fc-a8e7-4ef1-832c-00d470354bf2",
   "metadata": {},
   "outputs": [],
   "source": [
    "#Forming DataFrame with probabilities\n",
    "\n",
    "proba_df = pd.DataFrame(y_proba.round(2))"
   ]
  },
  {
   "cell_type": "code",
   "execution_count": null,
   "id": "0696e2df-eafa-439c-a89f-5ac4ece6574c",
   "metadata": {},
   "outputs": [],
   "source": [
    "#Formatting probabilities DataFrame\n",
    "\n",
    "proba_df[\"Actual\"] = y_validation\n",
    "proba_df.columns = [\"'Strong Sell' Probability Estimate\", \"'Sell' Probability Estimate\", \"'Pass' Probability Estimate\", \"Actual\", \"'Buy' Probability Estimate\", \"'Strong Buy' Probability Estimate\"]\n",
    "proba_df"
   ]
  },
  {
   "cell_type": "code",
   "execution_count": null,
   "id": "16ddf53b-8e0b-4e6b-8be1-bf58a8abfed2",
   "metadata": {},
   "outputs": [],
   "source": [
    "#Labeling caterogires\n",
    "\n",
    "proba_df.loc[proba_df[\"Actual\"] == 0, \"Actual\"] = \"Strong Sell\"\n",
    "proba_df.loc[proba_df[\"Actual\"] == 1, \"Actual\"] = \"Sell\"\n",
    "proba_df.loc[proba_df[\"Actual\"] == 2, \"Actual\"] = \"Pass\"\n",
    "proba_df.loc[proba_df[\"Actual\"] == 1, \"Actual\"] = \"Buy\"\n",
    "proba_df.loc[proba_df[\"Actual\"] == 2, \"Actual\"] = \"Strong Buy\""
   ]
  },
  {
   "cell_type": "markdown",
   "id": "9d23c908-37fc-4a46-ae16-80a1369a1a27",
   "metadata": {},
   "source": [
    "# SECTION 5: Comparing the Models\n"
   ]
  },
  {
   "cell_type": "code",
   "execution_count": null,
   "id": "cc6b110d-86d0-4afa-8ff1-ac324122b702",
   "metadata": {},
   "outputs": [],
   "source": [
    "#Comparing loss of both models\n",
    "\n",
    "plt.plot(model_1.history[\"loss\"])\n",
    "plt.plot(model_2.history[\"loss\"])\n",
    "plt.title(\"loss_function - Training\")\n",
    "plt.legend([\"1 hidden layer\", \"2 hidden layers\"])\n",
    "plt.show()"
   ]
  },
  {
   "cell_type": "code",
   "execution_count": null,
   "id": "3abb98da-51bb-4693-94db-eedb47dd112e",
   "metadata": {},
   "outputs": [],
   "source": []
  }
 ],
 "metadata": {
  "kernelspec": {
   "display_name": "Python 3 (ipykernel)",
   "language": "python",
   "name": "python3"
  },
  "language_info": {
   "codemirror_mode": {
    "name": "ipython",
    "version": 3
   },
   "file_extension": ".py",
   "mimetype": "text/x-python",
   "name": "python",
   "nbconvert_exporter": "python",
   "pygments_lexer": "ipython3",
   "version": "3.7.13"
  }
 },
 "nbformat": 4,
 "nbformat_minor": 5
}
