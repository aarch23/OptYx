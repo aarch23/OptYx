{
 "cells": [
  {
   "cell_type": "markdown",
   "id": "9bc8548e-36dc-4b92-a59f-1ca3112b55c7",
   "metadata": {},
   "source": [
    "# __Predicting Outcomes of Call Option Contracts with Deep Learning__"
   ]
  },
  {
   "cell_type": "markdown",
   "id": "b47944af-c9d2-430d-a599-fecab0aab213",
   "metadata": {},
   "source": [
    "# SECTION 1: Preparation"
   ]
  },
  {
   "cell_type": "markdown",
   "id": "51bcd804-6fcd-4fe6-b2cb-964244bd3ab3",
   "metadata": {},
   "source": [
    "##  1.1.) Loading the Python packages"
   ]
  },
  {
   "cell_type": "code",
   "execution_count": null,
   "id": "de896a2c-4128-4a61-8eb8-b9cbde012e9c",
   "metadata": {},
   "outputs": [],
   "source": [
    "#General libraries \n",
    "\n",
    "import pandas as pd\n",
    "from pathlib import Path\n",
    "\n",
    "#General maching learning libraries\n",
    "\n",
    "from sklearn.model_selection import train_test_split\n",
    "from sklearn.preprocessing import StandardScaler, OneHotEncoder\n",
    "\n",
    "#For plotting\n",
    "\n",
    "import matplotlib.pyplot as plt\n",
    "%matplotlib inline\n",
    "\n",
    "#Libraries for Deep Learning Models\n",
    "\n",
    "import tensorflow as tf\n",
    "from tensorflow.keras.layers import Dense\n",
    "from tensorflow.keras.models import Sequential\n",
    "from keras.wrappers.scikit_learn import KerasClassifier\n",
    "from keras.optimizers import SGD\n"
   ]
  },
  {
   "cell_type": "markdown",
   "id": "c962b9e3-5eb9-4102-9718-b9b288e96e66",
   "metadata": {},
   "source": [
    "## 1.2.) Loading the Data"
   ]
  },
  {
   "cell_type": "code",
   "execution_count": null,
   "id": "7b50587e-8bac-4083-9d70-5923587ff2b9",
   "metadata": {},
   "outputs": [],
   "source": [
    "# Read in the options contract csv file from the Resources folder into a Pandas DataFrame\n",
    "\n",
    "df = pd.read_csv(\"\")\n",
    "\n",
    "# Review the DataFrame\n",
    "df.head()"
   ]
  },
  {
   "cell_type": "code",
   "execution_count": null,
   "id": "e32cb034-a7df-436c-8e7f-f43a128ed3ed",
   "metadata": {},
   "outputs": [],
   "source": [
    "# Review the data types associated with the columns\n",
    "applicant_data_df.dtypes"
   ]
  },
  {
   "cell_type": "code",
   "execution_count": null,
   "id": "833ae904-dee0-4f31-a629-b9ff66af037f",
   "metadata": {},
   "outputs": [],
   "source": [
    "#Check for any null values and remove the null values\n",
    "\n",
    "print('Null Values =', dataset.isnull().values.any())\n",
    "\n",
    "#Drop NaNs"
   ]
  },
  {
   "cell_type": "code",
   "execution_count": null,
   "id": "8fbb323a-7ff1-4077-a316-e8f82953bb91",
   "metadata": {
    "tags": []
   },
   "outputs": [],
   "source": [
    "#Import further features\n"
   ]
  },
  {
   "cell_type": "code",
   "execution_count": null,
   "id": "1e0cd4b5-286d-40f7-b1c3-e297c8ac9fdd",
   "metadata": {},
   "outputs": [],
   "source": [
    "#Check for any null values and remove the null values\n",
    "print('Null Values =', dataset.isnull().values.any())\n",
    "\n",
    "#Drop NaNs\n"
   ]
  },
  {
   "cell_type": "code",
   "execution_count": null,
   "id": "7fe7c121-caa0-47ee-a580-7aabb3351a73",
   "metadata": {},
   "outputs": [],
   "source": []
  },
  {
   "cell_type": "markdown",
   "id": "e4f9b2df-777d-4c31-a82c-1f7d7e465b7e",
   "metadata": {
    "tags": []
   },
   "source": []
  },
  {
   "cell_type": "markdown",
   "id": "b3aebc4c-e2ad-420f-8543-d184b943c4c6",
   "metadata": {},
   "source": [
    "# SECTION 2: Exploratory Data Analysis"
   ]
  },
  {
   "cell_type": "markdown",
   "id": "f977ab96-e3eb-4c2a-badd-5daa24650b88",
   "metadata": {},
   "source": [
    "## 2.1.) Descriptive Statistics"
   ]
  },
  {
   "cell_type": "code",
   "execution_count": null,
   "id": "ed7a0890-9e57-4b78-9aed-abaad137a33b",
   "metadata": {},
   "outputs": [],
   "source": []
  },
  {
   "cell_type": "markdown",
   "id": "3064ded7-0d13-4804-9c75-aa0c8a3f533d",
   "metadata": {},
   "source": [
    "### Drop the 'ContractID' column from the DataFrame"
   ]
  },
  {
   "cell_type": "code",
   "execution_count": null,
   "id": "aa3959ac-423b-4250-a3b9-caa66df83236",
   "metadata": {},
   "outputs": [],
   "source": [
    "#Drop the 'ContractID' column from the DataFrame\n",
    "\n",
    "df = applicant_data_df.drop(columns=[\"ContractID\"])\n",
    "\n",
    "# Review the DataFrame\n",
    "\n",
    "df.head()"
   ]
  },
  {
   "cell_type": "code",
   "execution_count": null,
   "id": "3ce363ee-69db-45d7-b251-801a9f2f187e",
   "metadata": {},
   "outputs": [],
   "source": []
  },
  {
   "cell_type": "code",
   "execution_count": null,
   "id": "cbd3e174-2c61-4722-a57f-079b308999e5",
   "metadata": {},
   "outputs": [],
   "source": []
  },
  {
   "cell_type": "markdown",
   "id": "6412c722-5a95-445b-a8c2-3379da7cdcdf",
   "metadata": {},
   "source": [
    "## 2.2.) Train Test Split and Evaluation Metrics"
   ]
  },
  {
   "cell_type": "code",
   "execution_count": null,
   "id": "f82cfd16-91c5-4aa7-984d-2f062697a620",
   "metadata": {},
   "outputs": [],
   "source": [
    "#Seperate features from predicted variable, 'y', which is outcome of call options contracts\n",
    "\n",
    "y = df[\"y\"]\n",
    "\n",
    "X = df.drop(columns='y')"
   ]
  },
  {
   "cell_type": "code",
   "execution_count": null,
   "id": "acb5e8a0-bcc8-4a4b-b0dd-5a8ae937a97e",
   "metadata": {},
   "outputs": [],
   "source": [
    "#Split into training and testing groups\n",
    "\n",
    "validation_size = 0.2\n",
    "\n",
    "seed = 7\n",
    "\n",
    "X_train, X_validation, y_train, y_validation = train_test_split(X, y, test_size=validation_size, random_state=seed)"
   ]
  },
  {
   "cell_type": "code",
   "execution_count": null,
   "id": "5b65eafe-6da4-413b-acfe-b0313d9aa049",
   "metadata": {},
   "outputs": [],
   "source": [
    "#Normalize features data\n",
    "\n",
    "#Create the StandardScaler instance\n",
    "\n",
    "scaler = StandardScaler()\n",
    "\n",
    "#Fit the scaler to the features training dataset\n",
    "\n",
    "X_scaler = X_scaler.fit(X_train)\n",
    "\n",
    "#Scale both the training and testing data from the features dataset\n",
    "\n",
    "X_train_scaled = scaler.transform(X_train)\n",
    "X_validation_scaled = X_scaler.transform(X_validation)"
   ]
  },
  {
   "cell_type": "markdown",
   "id": "67843fb4-6fc5-4837-a76a-3922803a47d8",
   "metadata": {},
   "source": [
    "# SECTION 3: Establishing Sequential Model Baseline"
   ]
  },
  {
   "cell_type": "markdown",
   "id": "005815a6-dd08-43cb-bf9a-61f130073287",
   "metadata": {},
   "source": [
    "## 3.1.) Creating Neural Network Architecture"
   ]
  },
  {
   "cell_type": "code",
   "execution_count": null,
   "id": "2ac15e2f-495d-4f24-9772-1f41da7aa43f",
   "metadata": {},
   "outputs": [],
   "source": [
    "#Get number of features\n",
    "X.shape"
   ]
  },
  {
   "cell_type": "code",
   "execution_count": null,
   "id": "f83fc40e-9c41-443c-b993-1714e3f886fb",
   "metadata": {},
   "outputs": [],
   "source": [
    "#Define the the number of inputs (features) to the model\n",
    "\n",
    "number_input_features = len(X_train.iloc[0])\n",
    "\n",
    "#Review the number of features\n",
    "\n",
    "number_input_features\n"
   ]
  },
  {
   "cell_type": "code",
   "execution_count": null,
   "id": "b42c2ba5-b711-4351-9db3-27df8d554f6b",
   "metadata": {},
   "outputs": [],
   "source": [
    "#Define the number of neurons in the output layer\n",
    "\n",
    "number_output_neurons = 1"
   ]
  },
  {
   "cell_type": "code",
   "execution_count": null,
   "id": "4e71536c-c587-488a-8cf1-94c2b361ef4b",
   "metadata": {},
   "outputs": [],
   "source": [
    "#Define the number of hidden nodes for the first hidden layer\n",
    "\n",
    "hidden_nodes_layer1 = (number_input_features + 1) // 2 \n",
    "\n",
    "#Review the number hidden nodes in the first layer\n",
    "\n",
    "hidden_nodes_layer1\n"
   ]
  },
  {
   "cell_type": "code",
   "execution_count": null,
   "id": "3db45c3b-aaeb-4a95-adb7-0090495f67dc",
   "metadata": {},
   "outputs": [],
   "source": [
    "#Define the number of hidden nodes for the second hidden layer\n",
    "\n",
    "hidden_nodes_layer2 = (hidden_nodes_layer1 + 1) // 2 \n",
    "\n",
    "# Review the number hidden nodes in the second layer\n",
    "\n",
    "hidden_nodes_layer2\n"
   ]
  },
  {
   "cell_type": "code",
   "execution_count": null,
   "id": "66d53bb4-9601-447a-b2b0-c51059023b22",
   "metadata": {},
   "outputs": [],
   "source": [
    "#Create the Sequential model instance\n",
    "\n",
    "nn = Sequential()"
   ]
  },
  {
   "cell_type": "code",
   "execution_count": null,
   "id": "5ce18d17-cbb9-4718-a45c-ac56aa21590d",
   "metadata": {},
   "outputs": [],
   "source": [
    "# Add the first hidden layer\n",
    "\n",
    "nn.add(Dense(units=hidden_nodes_layer1, input_dim=number_input_features, activation=\"relu\"))"
   ]
  },
  {
   "cell_type": "code",
   "execution_count": null,
   "id": "4b6d36ce-9c5a-4995-82aa-5d7994b6b4b3",
   "metadata": {},
   "outputs": [],
   "source": [
    "#Add the second hidden layer\n",
    "\n",
    "nn.add(Dense(units=hidden_nodes_layer2, activation=\"relu\"))"
   ]
  },
  {
   "cell_type": "code",
   "execution_count": null,
   "id": "92aca8c9-39be-4b36-9c4d-a7c7c1199828",
   "metadata": {},
   "outputs": [],
   "source": [
    "#Add the output layer to the model specifying the number of output neurons and activation function\n",
    "#Using Softmax because of multi-class classification\n",
    "\n",
    "nn.add(Dense(units=1, activation=\"softmax\"))\n"
   ]
  },
  {
   "cell_type": "code",
   "execution_count": null,
   "id": "46684164-66f4-4a79-8ca0-699780358268",
   "metadata": {},
   "outputs": [],
   "source": [
    "#Display the Sequential model summary\n",
    "\n",
    "nn.summary()\n"
   ]
  },
  {
   "cell_type": "markdown",
   "id": "4362846b-4289-4845-9556-48a528a2d5a1",
   "metadata": {},
   "source": [
    "## 3.2.) Compiling Neural Network Architecture"
   ]
  },
  {
   "cell_type": "code",
   "execution_count": null,
   "id": "7b2ae477-7d63-486f-a3e3-8220c58f936c",
   "metadata": {},
   "outputs": [],
   "source": [
    "#Compile the Sequential model\n",
    "#Using Sparce Categorical Crossentropy because of multi-class classification\n",
    "\n",
    "nn.compile(loss=\"sparce_categorical_crossentropy\", optimizer=\"adam\", metrics=[\"accuracy\"])\n"
   ]
  },
  {
   "cell_type": "code",
   "execution_count": null,
   "id": "24276835-e160-4136-a0b0-e2569c592779",
   "metadata": {},
   "outputs": [],
   "source": [
    "#Fit the model using 50 epochs and the training data\n",
    "\n",
    "model_1 = nn.fit(X_train_scaled, y_train, epochs=50)\n"
   ]
  },
  {
   "cell_type": "markdown",
   "id": "f718a0cf-8b56-41f3-805d-60ff28f571ef",
   "metadata": {
    "tags": []
   },
   "source": [
    "## 3.3.) Evaluating the Model for Loss and Accuracy"
   ]
  },
  {
   "cell_type": "code",
   "execution_count": null,
   "id": "f1a78489-6e0d-47a9-b797-dae943c45f61",
   "metadata": {},
   "outputs": [],
   "source": [
    "#Create a DataFrame using the model history and an index parameter\n",
    "\n",
    "model_plot = pd.DataFrame(model_1.history, index=range(1, len(model_1.history[\"loss\"]) + 1))"
   ]
  },
  {
   "cell_type": "code",
   "execution_count": null,
   "id": "4fa7ba8e-eaf2-45ed-9d0f-73b5e2b7bd8d",
   "metadata": {},
   "outputs": [],
   "source": [
    "#Vizualize the model plot where the y-axis displays the loss metric\n",
    "\n",
    "model_plot.plot(\n",
    "    y=\"loss\",\n",
    "    title=\"Loss Function, Training\",\n",
    "    legend=\"Loss\"\n",
    ")"
   ]
  },
  {
   "cell_type": "code",
   "execution_count": null,
   "id": "8c7b3c15-7126-4740-94ba-638105a2a49c",
   "metadata": {},
   "outputs": [],
   "source": [
    "# Vizualize the model plot where the y-axis displays the accuracy metric\n",
    "\n",
    "model_plot.plot(\n",
    "    y=\"accuracy\",\n",
    "    title=\"Accuracy Function, Training\",\n",
    "    legend=\"Accuracy\"\n",
    ")"
   ]
  },
  {
   "cell_type": "code",
   "execution_count": null,
   "id": "e62c7b03-05e7-41e9-a1b9-04ded92f470c",
   "metadata": {},
   "outputs": [],
   "source": [
    "# Train versus validation loss to look for signs of overfitting\n",
    "\n",
    "plt.plot(model_1.history[\"loss\"])\n",
    "plt.plot(model_1.history[\"val_loss\"])\n",
    "plt.title(\"loss_function - Training Vs. Validation of Model 1 - 1 hidden layer\")\n",
    "plt.legend([\"train\", \"test\"])\n",
    "plt.show()"
   ]
  },
  {
   "cell_type": "code",
   "execution_count": null,
   "id": "ad498647-f791-4623-840f-bb705a0d0035",
   "metadata": {},
   "outputs": [],
   "source": [
    "# Evaluate the model loss and accuracy metrics using the evaluate method and the validation data\n",
    "\n",
    "model_loss, model_accuracy = nn.evaluate(X_validation_scaled, y_validation, verbose=2)\n",
    "\n",
    "# Display the model loss and accuracy results\n",
    "\n",
    "print(f\"Loss: {model_loss}, Accuracy: {model_accuracy}\")"
   ]
  },
  {
   "cell_type": "markdown",
   "id": "fa526a38-90bd-48b2-aca0-9d8a8cb0caa4",
   "metadata": {},
   "source": [
    "# SECTION 4: Tuning the Sequential Model"
   ]
  },
  {
   "cell_type": "markdown",
   "id": "6d735031-9dd0-46b1-9c52-fdf61e664df7",
   "metadata": {
    "tags": []
   },
   "source": [
    "## 4.1.) Creating Neural Network Architecture"
   ]
  },
  {
   "cell_type": "code",
   "execution_count": null,
   "id": "79c220b2-66a0-42cf-ba5f-94ebbe26b280",
   "metadata": {},
   "outputs": [],
   "source": [
    "#Define the the number of inputs (features) to the model\n",
    "\n",
    "number_input_features = len(X_train.iloc[0])\n",
    "\n",
    "#Review the number of features\n",
    "\n",
    "number_input_features\n"
   ]
  },
  {
   "cell_type": "code",
   "execution_count": null,
   "id": "48046769-78da-413b-b0bb-d3f80122477d",
   "metadata": {},
   "outputs": [],
   "source": [
    "#Define the number of neurons in the output layer\n",
    "\n",
    "number_output_neurons = 1"
   ]
  },
  {
   "cell_type": "code",
   "execution_count": null,
   "id": "83685ac0-7ce2-4f66-b794-03ed5be4b2f1",
   "metadata": {},
   "outputs": [],
   "source": [
    "#Define the number of hidden nodes for the first hidden layer\n",
    "\n",
    "hidden_nodes_layer1 = (number_input_features + 1) // 2 \n",
    "\n",
    "#Review the number hidden nodes in the first layer\n",
    "\n",
    "hidden_nodes_layer1\n"
   ]
  },
  {
   "cell_type": "code",
   "execution_count": null,
   "id": "7a0a4186-f34f-460a-a19e-1d88ad662395",
   "metadata": {},
   "outputs": [],
   "source": [
    "#Define the number of hidden nodes for the second hidden layer\n",
    "\n",
    "hidden_nodes_layer2 = (hidden_nodes_layer1 + 1) // 2 \n",
    "\n",
    "# Review the number hidden nodes in the second layer\n",
    "\n",
    "hidden_nodes_layer2\n"
   ]
  },
  {
   "cell_type": "code",
   "execution_count": null,
   "id": "72c02dcd-546c-4205-9300-e62b125c726c",
   "metadata": {},
   "outputs": [],
   "source": [
    "#Create the Sequential model instance\n",
    "\n",
    "nn = Sequential()"
   ]
  },
  {
   "cell_type": "code",
   "execution_count": null,
   "id": "cb10f165-16cf-4e92-b1a0-989b237aeb90",
   "metadata": {},
   "outputs": [],
   "source": [
    "# Add the first hidden layer\n",
    "\n",
    "nn.add(Dense(units=hidden_nodes_layer1, input_dim=number_input_features, activation=\"relu\"))"
   ]
  },
  {
   "cell_type": "code",
   "execution_count": null,
   "id": "36684025-2718-435d-9664-ecc957806a80",
   "metadata": {},
   "outputs": [],
   "source": [
    "#Add the second hidden layer\n",
    "\n",
    "nn.add(Dense(units=hidden_nodes_layer2, activation=\"relu\"))"
   ]
  },
  {
   "cell_type": "code",
   "execution_count": null,
   "id": "e4b4a38f-ed0a-405a-9bdc-96d03784a902",
   "metadata": {},
   "outputs": [],
   "source": [
    "#Add the output layer to the model specifying the number of output neurons and activation function\n",
    "#Using Softmax because of multi-class classification\n",
    "\n",
    "nn.add(Dense(units=1, activation=\"softmax\"))\n"
   ]
  },
  {
   "cell_type": "code",
   "execution_count": null,
   "id": "c50169cb-0626-4d14-8c74-706ba12be1e9",
   "metadata": {},
   "outputs": [],
   "source": [
    "#Display the Sequential model summary\n",
    "\n",
    "nn.summary()\n"
   ]
  },
  {
   "cell_type": "markdown",
   "id": "4c4b9a71-92aa-4f9f-a659-cd24afa393fe",
   "metadata": {},
   "source": [
    "## 4.2.) Compiling Neural Network Architecture"
   ]
  },
  {
   "cell_type": "code",
   "execution_count": null,
   "id": "9e21c99f-f5b4-4959-805c-5f9caeba4629",
   "metadata": {},
   "outputs": [],
   "source": [
    "#Compile the Sequential model\n",
    "#Using Sparce Categorical Crossentropy because of multi-class classification\n",
    "\n",
    "nn.compile(loss=\"sparce_categorical_crossentropy\", optimizer=\"adam\", metrics=[\"accuracy\"])\n"
   ]
  },
  {
   "cell_type": "code",
   "execution_count": null,
   "id": "ccaff94e-74d4-4cc7-ba07-f5443dc427c2",
   "metadata": {},
   "outputs": [],
   "source": [
    "#Fit the model using 50 epochs and the training data\n",
    "\n",
    "model_2 = nn.fit(X_train_scaled, y_train, epochs=50)\n"
   ]
  },
  {
   "cell_type": "markdown",
   "id": "e50c742c-0c77-46d8-8cf8-dd25c06ccdf4",
   "metadata": {},
   "source": [
    "## 4.3.) Evaluating the Model for Loss and Accuracy"
   ]
  },
  {
   "cell_type": "code",
   "execution_count": null,
   "id": "dce9a9a9-db24-46ea-a2fa-e880cfa813e9",
   "metadata": {},
   "outputs": [],
   "source": [
    "#Create a DataFrame using the model history and an index parameter\n",
    "\n",
    "model_plot = pd.DataFrame(model_2.history, index=range(1, len(model_2.history[\"loss\"]) + 1))"
   ]
  },
  {
   "cell_type": "code",
   "execution_count": null,
   "id": "e32fda70-3d18-4322-8b1b-3c9e9e3a64cc",
   "metadata": {},
   "outputs": [],
   "source": [
    "#Vizualize the model plot where the y-axis displays the loss metric\n",
    "\n",
    "model_plot.plot(\n",
    "    y=\"loss\",\n",
    "    title=\"Loss Function, Training\",\n",
    "    legend=\"Loss\"\n",
    ")"
   ]
  },
  {
   "cell_type": "code",
   "execution_count": null,
   "id": "99c57605-1d22-4a63-9f43-fb1bc2bc92f8",
   "metadata": {},
   "outputs": [],
   "source": [
    "# Vizualize the model plot where the y-axis displays the accuracy metric\n",
    "\n",
    "model_plot.plot(\n",
    "    y=\"accuracy\",\n",
    "    title=\"Accuracy Function, Training\",\n",
    "    legend=\"Accuracy\"\n",
    ")"
   ]
  },
  {
   "cell_type": "code",
   "execution_count": null,
   "id": "2930cc06-8268-477e-80f7-b5d100735c37",
   "metadata": {
    "tags": []
   },
   "outputs": [],
   "source": [
    "# Train versus validation loss to look for signs of overfitting\n",
    "\n",
    "plt.plot(model_2.history[\"loss\"])\n",
    "plt.plot(model_2.history[\"val_loss\"])\n",
    "plt.title(\"loss_function - Training Vs. Validation of Model 2 - 1 hidden layer\")\n",
    "plt.legend([\"train\", \"test\"])\n",
    "plt.show()"
   ]
  },
  {
   "cell_type": "code",
   "execution_count": null,
   "id": "a98e0ab6-8825-460a-8800-87262afd86b0",
   "metadata": {},
   "outputs": [],
   "source": [
    "# Evaluate the model loss and accuracy metrics using the evaluate method and the validation data\n",
    "\n",
    "model_loss, model_accuracy = nn.evaluate(X_validation_scaled, y_validation, verbose=2)\n",
    "\n",
    "# Display the model loss and accuracy results\n",
    "\n",
    "print(f\"Loss: {model_loss}, Accuracy: {model_accuracy}\")"
   ]
  },
  {
   "cell_type": "markdown",
   "id": "9d23c908-37fc-4a46-ae16-80a1369a1a27",
   "metadata": {},
   "source": [
    "# SECTION 5: Comparing the Models\n"
   ]
  },
  {
   "cell_type": "code",
   "execution_count": null,
   "id": "cc6b110d-86d0-4afa-8ff1-ac324122b702",
   "metadata": {},
   "outputs": [],
   "source": [
    "#Comparing loss of both models\n",
    "\n",
    "plt.plot(model_1.history[\"loss\"])\n",
    "plt.plot(model_2.history[\"loss\"])\n",
    "plt.title(\"loss_function - Training\")\n",
    "plt.legend([\"1 hidden layer\", \"2 hidden layers\"])\n",
    "plt.show()"
   ]
  },
  {
   "cell_type": "code",
   "execution_count": null,
   "id": "3abb98da-51bb-4693-94db-eedb47dd112e",
   "metadata": {},
   "outputs": [],
   "source": []
  }
 ],
 "metadata": {
  "kernelspec": {
   "display_name": "Python 3 (ipykernel)",
   "language": "python",
   "name": "python3"
  },
  "language_info": {
   "codemirror_mode": {
    "name": "ipython",
    "version": 3
   },
   "file_extension": ".py",
   "mimetype": "text/x-python",
   "name": "python",
   "nbconvert_exporter": "python",
   "pygments_lexer": "ipython3",
   "version": "3.7.13"
  }
 },
 "nbformat": 4,
 "nbformat_minor": 5
}
