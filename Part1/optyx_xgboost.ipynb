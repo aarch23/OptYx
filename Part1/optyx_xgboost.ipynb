{
 "cells": [
  {
   "cell_type": "markdown",
   "id": "b366d032-876c-4dda-aeda-dfb5a480e1b9",
   "metadata": {},
   "source": [
    "# __Predicting Outcomes of Call Option Contracts with Multi-Class Classification__"
   ]
  },
  {
   "cell_type": "markdown",
   "id": "5de779b2-e98b-413a-be63-fc4f7e4d2e73",
   "metadata": {},
   "source": [
    "# SECTION 1: Preparation"
   ]
  },
  {
   "cell_type": "markdown",
   "id": "897998b3-a994-4368-ae10-23b716c78032",
   "metadata": {},
   "source": [
    "##  1.1.) Loading the Python packages"
   ]
  },
  {
   "cell_type": "code",
   "execution_count": 1,
   "id": "1a812aef-4bde-4fc4-aa1e-86db161f6432",
   "metadata": {},
   "outputs": [],
   "source": [
    "# Import the modules\n",
    "import numpy as np\n",
    "import pandas as pd\n",
    "from pathlib import Path\n",
    "\n",
    "# Load libraries\n",
    "import numpy as np\n",
    "import pandas as pd\n",
    "from matplotlib import pyplot\n",
    "from pandas import read_csv, set_option\n",
    "from pandas.plotting import scatter_matrix\n",
    "import seaborn as sns\n",
    "from sklearn.preprocessing import StandardScaler\n",
    "from sklearn.model_selection import train_test_split, KFold, StratifiedKFold, cross_val_score, GridSearchCV\n",
    "\n",
    "import xgboost as xgb\n",
    "from xgboost import XGBClassifier\n",
    "from sklearn.tree import DecisionTreeClassifier\n",
    "#from sklearn.neighbors import KNeighborsClassifier\n",
    "#from sklearn.svm import SVC\n",
    "#from sklearn.neural_network import MLPClassifier\n",
    "from sklearn.pipeline import Pipeline\n",
    "from sklearn.ensemble import AdaBoostClassifier, GradientBoostingClassifier, RandomForestClassifier, ExtraTreesClassifier\n",
    "\n",
    "#importing classification_report, confusion_matrix\n",
    "from sklearn.metrics import classification_report, confusion_matrix\n",
    "\n",
    "#importing accuracy_score, precision_score, recall_score, f1_score\n",
    "from sklearn.metrics import accuracy_score, precision_score, recall_score, f1_score, roc_auc_score\n",
    "\n",
    "# import packages for hyperparameters tuning\n",
    "from hyperopt import STATUS_OK, Trials, fmin, hp, tpe\n",
    "\n",
    "#from sklearn.metrics import balanced_accuracy_score\n",
    "#from sklearn.metrics import confusion_matrix\n",
    "#from imblearn.metrics import classification_report_imbalanced\n",
    "\n",
    "#Libraries for Saving the Model\n",
    "from pickle import dump\n",
    "from pickle import load\n",
    "\n",
    "import warnings\n",
    "warnings.filterwarnings('ignore')\n",
    "\n"
   ]
  },
  {
   "cell_type": "markdown",
   "id": "fbcef949-f988-4c36-a2d8-e6da60be991e",
   "metadata": {},
   "source": [
    "## 1.2.) Loading the Data"
   ]
  },
  {
   "cell_type": "code",
   "execution_count": 2,
   "id": "7dfab611-6add-4cb4-9044-ad6bdf929f6a",
   "metadata": {},
   "outputs": [],
   "source": [
    "#Import call options info\n",
    "\n",
    "df = pd.read_csv(\n",
    "    Path(\"../Resources/spycallsV4.csv\")\n",
    ")\n"
   ]
  },
  {
   "cell_type": "code",
   "execution_count": 5,
   "id": "7cc91371-895c-4c2b-90f4-bb61f744a598",
   "metadata": {},
   "outputs": [
    {
     "data": {
      "text/html": [
       "<div>\n",
       "<style scoped>\n",
       "    .dataframe tbody tr th:only-of-type {\n",
       "        vertical-align: middle;\n",
       "    }\n",
       "\n",
       "    .dataframe tbody tr th {\n",
       "        vertical-align: top;\n",
       "    }\n",
       "\n",
       "    .dataframe thead th {\n",
       "        text-align: right;\n",
       "    }\n",
       "</style>\n",
       "<table border=\"1\" class=\"dataframe\">\n",
       "  <thead>\n",
       "    <tr style=\"text-align: right;\">\n",
       "      <th></th>\n",
       "      <th>UNDERLYING_LAST</th>\n",
       "      <th>EXPIRE_DATE</th>\n",
       "      <th>DTE</th>\n",
       "      <th>C_DELTA</th>\n",
       "      <th>C_GAMMA</th>\n",
       "      <th>C_VEGA</th>\n",
       "      <th>C_THETA</th>\n",
       "      <th>C_RHO</th>\n",
       "      <th>C_IV</th>\n",
       "      <th>C_VOLUME</th>\n",
       "      <th>C_LAST</th>\n",
       "      <th>STRIKE</th>\n",
       "      <th>STRIKE_DISTANCE_PCT</th>\n",
       "      <th>STRIKE DISTANCE</th>\n",
       "    </tr>\n",
       "  </thead>\n",
       "  <tbody>\n",
       "    <tr>\n",
       "      <th>0</th>\n",
       "      <td>477.47</td>\n",
       "      <td>1/7/2022</td>\n",
       "      <td>3.17</td>\n",
       "      <td>0.02300</td>\n",
       "      <td>0.01017</td>\n",
       "      <td>0.02686</td>\n",
       "      <td>-0.02841</td>\n",
       "      <td>0.00112</td>\n",
       "      <td>0.10755</td>\n",
       "      <td>945.0</td>\n",
       "      <td>0.05</td>\n",
       "      <td>488.0</td>\n",
       "      <td>0.022</td>\n",
       "      <td>10.53</td>\n",
       "    </tr>\n",
       "    <tr>\n",
       "      <th>1</th>\n",
       "      <td>477.47</td>\n",
       "      <td>1/7/2022</td>\n",
       "      <td>3.17</td>\n",
       "      <td>0.03244</td>\n",
       "      <td>0.01380</td>\n",
       "      <td>0.03645</td>\n",
       "      <td>-0.03910</td>\n",
       "      <td>0.00140</td>\n",
       "      <td>0.10587</td>\n",
       "      <td>929.0</td>\n",
       "      <td>0.07</td>\n",
       "      <td>487.0</td>\n",
       "      <td>0.020</td>\n",
       "      <td>9.53</td>\n",
       "    </tr>\n",
       "    <tr>\n",
       "      <th>2</th>\n",
       "      <td>477.47</td>\n",
       "      <td>1/7/2022</td>\n",
       "      <td>3.17</td>\n",
       "      <td>0.01355</td>\n",
       "      <td>0.00664</td>\n",
       "      <td>0.01750</td>\n",
       "      <td>-0.01714</td>\n",
       "      <td>0.00072</td>\n",
       "      <td>0.10644</td>\n",
       "      <td>616.0</td>\n",
       "      <td>0.03</td>\n",
       "      <td>489.0</td>\n",
       "      <td>0.024</td>\n",
       "      <td>11.53</td>\n",
       "    </tr>\n",
       "    <tr>\n",
       "      <th>3</th>\n",
       "      <td>467.69</td>\n",
       "      <td>1/7/2022</td>\n",
       "      <td>1.23</td>\n",
       "      <td>0.48150</td>\n",
       "      <td>0.06841</td>\n",
       "      <td>0.13640</td>\n",
       "      <td>-0.69786</td>\n",
       "      <td>0.01158</td>\n",
       "      <td>0.17024</td>\n",
       "      <td>4512.0</td>\n",
       "      <td>2.17</td>\n",
       "      <td>468.0</td>\n",
       "      <td>0.001</td>\n",
       "      <td>0.31</td>\n",
       "    </tr>\n",
       "    <tr>\n",
       "      <th>4</th>\n",
       "      <td>467.69</td>\n",
       "      <td>1/7/2022</td>\n",
       "      <td>1.23</td>\n",
       "      <td>0.41030</td>\n",
       "      <td>0.06925</td>\n",
       "      <td>0.13296</td>\n",
       "      <td>-0.64939</td>\n",
       "      <td>0.01054</td>\n",
       "      <td>0.16404</td>\n",
       "      <td>7511.0</td>\n",
       "      <td>1.67</td>\n",
       "      <td>469.0</td>\n",
       "      <td>0.003</td>\n",
       "      <td>1.31</td>\n",
       "    </tr>\n",
       "    <tr>\n",
       "      <th>5</th>\n",
       "      <td>477.47</td>\n",
       "      <td>1/7/2022</td>\n",
       "      <td>3.17</td>\n",
       "      <td>0.13568</td>\n",
       "      <td>0.04220</td>\n",
       "      <td>0.10827</td>\n",
       "      <td>-0.13578</td>\n",
       "      <td>0.00656</td>\n",
       "      <td>0.10471</td>\n",
       "      <td>2881.0</td>\n",
       "      <td>0.38</td>\n",
       "      <td>483.0</td>\n",
       "      <td>0.012</td>\n",
       "      <td>5.53</td>\n",
       "    </tr>\n",
       "    <tr>\n",
       "      <th>6</th>\n",
       "      <td>477.47</td>\n",
       "      <td>1/7/2022</td>\n",
       "      <td>3.17</td>\n",
       "      <td>0.18459</td>\n",
       "      <td>0.05108</td>\n",
       "      <td>0.13224</td>\n",
       "      <td>-0.17190</td>\n",
       "      <td>0.00877</td>\n",
       "      <td>0.10577</td>\n",
       "      <td>4546.0</td>\n",
       "      <td>0.53</td>\n",
       "      <td>482.0</td>\n",
       "      <td>0.009</td>\n",
       "      <td>4.53</td>\n",
       "    </tr>\n",
       "    <tr>\n",
       "      <th>7</th>\n",
       "      <td>477.47</td>\n",
       "      <td>1/7/2022</td>\n",
       "      <td>3.17</td>\n",
       "      <td>0.09724</td>\n",
       "      <td>0.03349</td>\n",
       "      <td>0.08570</td>\n",
       "      <td>-0.10330</td>\n",
       "      <td>0.00477</td>\n",
       "      <td>0.10417</td>\n",
       "      <td>2277.0</td>\n",
       "      <td>0.22</td>\n",
       "      <td>484.0</td>\n",
       "      <td>0.014</td>\n",
       "      <td>6.53</td>\n",
       "    </tr>\n",
       "    <tr>\n",
       "      <th>8</th>\n",
       "      <td>477.47</td>\n",
       "      <td>1/7/2022</td>\n",
       "      <td>3.17</td>\n",
       "      <td>0.04522</td>\n",
       "      <td>0.01875</td>\n",
       "      <td>0.04795</td>\n",
       "      <td>-0.05286</td>\n",
       "      <td>0.00194</td>\n",
       "      <td>0.10333</td>\n",
       "      <td>907.0</td>\n",
       "      <td>0.10</td>\n",
       "      <td>486.0</td>\n",
       "      <td>0.018</td>\n",
       "      <td>8.53</td>\n",
       "    </tr>\n",
       "    <tr>\n",
       "      <th>9</th>\n",
       "      <td>477.47</td>\n",
       "      <td>1/7/2022</td>\n",
       "      <td>3.17</td>\n",
       "      <td>0.06824</td>\n",
       "      <td>0.02570</td>\n",
       "      <td>0.06625</td>\n",
       "      <td>-0.07637</td>\n",
       "      <td>0.00351</td>\n",
       "      <td>0.10429</td>\n",
       "      <td>3151.0</td>\n",
       "      <td>0.15</td>\n",
       "      <td>485.0</td>\n",
       "      <td>0.016</td>\n",
       "      <td>7.53</td>\n",
       "    </tr>\n",
       "    <tr>\n",
       "      <th>10</th>\n",
       "      <td>476.06</td>\n",
       "      <td>1/7/2022</td>\n",
       "      <td>4.10</td>\n",
       "      <td>0.04736</td>\n",
       "      <td>0.01851</td>\n",
       "      <td>0.05559</td>\n",
       "      <td>-0.04840</td>\n",
       "      <td>0.00290</td>\n",
       "      <td>0.09730</td>\n",
       "      <td>2227.0</td>\n",
       "      <td>0.09</td>\n",
       "      <td>485.0</td>\n",
       "      <td>0.019</td>\n",
       "      <td>8.94</td>\n",
       "    </tr>\n",
       "    <tr>\n",
       "      <th>11</th>\n",
       "      <td>476.06</td>\n",
       "      <td>1/7/2022</td>\n",
       "      <td>4.10</td>\n",
       "      <td>0.03173</td>\n",
       "      <td>0.01326</td>\n",
       "      <td>0.03903</td>\n",
       "      <td>-0.03306</td>\n",
       "      <td>0.00174</td>\n",
       "      <td>0.09680</td>\n",
       "      <td>1118.0</td>\n",
       "      <td>0.07</td>\n",
       "      <td>486.0</td>\n",
       "      <td>0.021</td>\n",
       "      <td>9.94</td>\n",
       "    </tr>\n",
       "    <tr>\n",
       "      <th>12</th>\n",
       "      <td>476.06</td>\n",
       "      <td>1/7/2022</td>\n",
       "      <td>4.10</td>\n",
       "      <td>0.06731</td>\n",
       "      <td>0.02449</td>\n",
       "      <td>0.07233</td>\n",
       "      <td>-0.06493</td>\n",
       "      <td>0.00388</td>\n",
       "      <td>0.09630</td>\n",
       "      <td>2041.0</td>\n",
       "      <td>0.15</td>\n",
       "      <td>484.0</td>\n",
       "      <td>0.017</td>\n",
       "      <td>7.94</td>\n",
       "    </tr>\n",
       "    <tr>\n",
       "      <th>13</th>\n",
       "      <td>476.06</td>\n",
       "      <td>1/7/2022</td>\n",
       "      <td>4.10</td>\n",
       "      <td>0.13684</td>\n",
       "      <td>0.04019</td>\n",
       "      <td>0.12069</td>\n",
       "      <td>-0.11942</td>\n",
       "      <td>0.00845</td>\n",
       "      <td>0.09981</td>\n",
       "      <td>1175.0</td>\n",
       "      <td>0.38</td>\n",
       "      <td>482.0</td>\n",
       "      <td>0.012</td>\n",
       "      <td>5.94</td>\n",
       "    </tr>\n",
       "    <tr>\n",
       "      <th>14</th>\n",
       "      <td>476.06</td>\n",
       "      <td>1/7/2022</td>\n",
       "      <td>4.10</td>\n",
       "      <td>0.09709</td>\n",
       "      <td>0.03210</td>\n",
       "      <td>0.09485</td>\n",
       "      <td>-0.09039</td>\n",
       "      <td>0.00604</td>\n",
       "      <td>0.09783</td>\n",
       "      <td>1322.0</td>\n",
       "      <td>0.25</td>\n",
       "      <td>483.0</td>\n",
       "      <td>0.015</td>\n",
       "      <td>6.94</td>\n",
       "    </tr>\n",
       "    <tr>\n",
       "      <th>15</th>\n",
       "      <td>467.69</td>\n",
       "      <td>1/7/2022</td>\n",
       "      <td>1.23</td>\n",
       "      <td>0.60998</td>\n",
       "      <td>0.06176</td>\n",
       "      <td>0.13185</td>\n",
       "      <td>-0.70701</td>\n",
       "      <td>0.01463</td>\n",
       "      <td>0.18145</td>\n",
       "      <td>2189.0</td>\n",
       "      <td>3.46</td>\n",
       "      <td>466.0</td>\n",
       "      <td>0.004</td>\n",
       "      <td>-1.69</td>\n",
       "    </tr>\n",
       "    <tr>\n",
       "      <th>16</th>\n",
       "      <td>467.69</td>\n",
       "      <td>1/7/2022</td>\n",
       "      <td>1.23</td>\n",
       "      <td>0.54873</td>\n",
       "      <td>0.06590</td>\n",
       "      <td>0.13529</td>\n",
       "      <td>-0.71527</td>\n",
       "      <td>0.01407</td>\n",
       "      <td>0.17572</td>\n",
       "      <td>4486.0</td>\n",
       "      <td>2.79</td>\n",
       "      <td>467.0</td>\n",
       "      <td>0.001</td>\n",
       "      <td>-0.69</td>\n",
       "    </tr>\n",
       "    <tr>\n",
       "      <th>17</th>\n",
       "      <td>467.69</td>\n",
       "      <td>1/7/2022</td>\n",
       "      <td>1.23</td>\n",
       "      <td>0.66935</td>\n",
       "      <td>0.05782</td>\n",
       "      <td>0.12394</td>\n",
       "      <td>-0.65864</td>\n",
       "      <td>0.01628</td>\n",
       "      <td>0.18326</td>\n",
       "      <td>1474.0</td>\n",
       "      <td>4.45</td>\n",
       "      <td>465.0</td>\n",
       "      <td>0.006</td>\n",
       "      <td>-2.69</td>\n",
       "    </tr>\n",
       "    <tr>\n",
       "      <th>18</th>\n",
       "      <td>476.06</td>\n",
       "      <td>1/7/2022</td>\n",
       "      <td>4.10</td>\n",
       "      <td>0.02215</td>\n",
       "      <td>0.00979</td>\n",
       "      <td>0.03009</td>\n",
       "      <td>-0.02516</td>\n",
       "      <td>0.00119</td>\n",
       "      <td>0.09915</td>\n",
       "      <td>435.0</td>\n",
       "      <td>0.05</td>\n",
       "      <td>487.0</td>\n",
       "      <td>0.023</td>\n",
       "      <td>10.94</td>\n",
       "    </tr>\n",
       "    <tr>\n",
       "      <th>19</th>\n",
       "      <td>476.06</td>\n",
       "      <td>1/7/2022</td>\n",
       "      <td>4.10</td>\n",
       "      <td>0.01721</td>\n",
       "      <td>0.00767</td>\n",
       "      <td>0.02463</td>\n",
       "      <td>-0.02066</td>\n",
       "      <td>0.00108</td>\n",
       "      <td>0.10233</td>\n",
       "      <td>298.0</td>\n",
       "      <td>0.03</td>\n",
       "      <td>488.0</td>\n",
       "      <td>0.025</td>\n",
       "      <td>11.94</td>\n",
       "    </tr>\n",
       "  </tbody>\n",
       "</table>\n",
       "</div>"
      ],
      "text/plain": [
       "    UNDERLYING_LAST EXPIRE_DATE   DTE  C_DELTA  C_GAMMA   C_VEGA  C_THETA  \\\n",
       "0            477.47    1/7/2022  3.17  0.02300  0.01017  0.02686 -0.02841   \n",
       "1            477.47    1/7/2022  3.17  0.03244  0.01380  0.03645 -0.03910   \n",
       "2            477.47    1/7/2022  3.17  0.01355  0.00664  0.01750 -0.01714   \n",
       "3            467.69    1/7/2022  1.23  0.48150  0.06841  0.13640 -0.69786   \n",
       "4            467.69    1/7/2022  1.23  0.41030  0.06925  0.13296 -0.64939   \n",
       "5            477.47    1/7/2022  3.17  0.13568  0.04220  0.10827 -0.13578   \n",
       "6            477.47    1/7/2022  3.17  0.18459  0.05108  0.13224 -0.17190   \n",
       "7            477.47    1/7/2022  3.17  0.09724  0.03349  0.08570 -0.10330   \n",
       "8            477.47    1/7/2022  3.17  0.04522  0.01875  0.04795 -0.05286   \n",
       "9            477.47    1/7/2022  3.17  0.06824  0.02570  0.06625 -0.07637   \n",
       "10           476.06    1/7/2022  4.10  0.04736  0.01851  0.05559 -0.04840   \n",
       "11           476.06    1/7/2022  4.10  0.03173  0.01326  0.03903 -0.03306   \n",
       "12           476.06    1/7/2022  4.10  0.06731  0.02449  0.07233 -0.06493   \n",
       "13           476.06    1/7/2022  4.10  0.13684  0.04019  0.12069 -0.11942   \n",
       "14           476.06    1/7/2022  4.10  0.09709  0.03210  0.09485 -0.09039   \n",
       "15           467.69    1/7/2022  1.23  0.60998  0.06176  0.13185 -0.70701   \n",
       "16           467.69    1/7/2022  1.23  0.54873  0.06590  0.13529 -0.71527   \n",
       "17           467.69    1/7/2022  1.23  0.66935  0.05782  0.12394 -0.65864   \n",
       "18           476.06    1/7/2022  4.10  0.02215  0.00979  0.03009 -0.02516   \n",
       "19           476.06    1/7/2022  4.10  0.01721  0.00767  0.02463 -0.02066   \n",
       "\n",
       "      C_RHO     C_IV  C_VOLUME  C_LAST  STRIKE  STRIKE_DISTANCE_PCT  \\\n",
       "0   0.00112  0.10755     945.0    0.05   488.0                0.022   \n",
       "1   0.00140  0.10587     929.0    0.07   487.0                0.020   \n",
       "2   0.00072  0.10644     616.0    0.03   489.0                0.024   \n",
       "3   0.01158  0.17024    4512.0    2.17   468.0                0.001   \n",
       "4   0.01054  0.16404    7511.0    1.67   469.0                0.003   \n",
       "5   0.00656  0.10471    2881.0    0.38   483.0                0.012   \n",
       "6   0.00877  0.10577    4546.0    0.53   482.0                0.009   \n",
       "7   0.00477  0.10417    2277.0    0.22   484.0                0.014   \n",
       "8   0.00194  0.10333     907.0    0.10   486.0                0.018   \n",
       "9   0.00351  0.10429    3151.0    0.15   485.0                0.016   \n",
       "10  0.00290  0.09730    2227.0    0.09   485.0                0.019   \n",
       "11  0.00174  0.09680    1118.0    0.07   486.0                0.021   \n",
       "12  0.00388  0.09630    2041.0    0.15   484.0                0.017   \n",
       "13  0.00845  0.09981    1175.0    0.38   482.0                0.012   \n",
       "14  0.00604  0.09783    1322.0    0.25   483.0                0.015   \n",
       "15  0.01463  0.18145    2189.0    3.46   466.0                0.004   \n",
       "16  0.01407  0.17572    4486.0    2.79   467.0                0.001   \n",
       "17  0.01628  0.18326    1474.0    4.45   465.0                0.006   \n",
       "18  0.00119  0.09915     435.0    0.05   487.0                0.023   \n",
       "19  0.00108  0.10233     298.0    0.03   488.0                0.025   \n",
       "\n",
       "    STRIKE DISTANCE  \n",
       "0             10.53  \n",
       "1              9.53  \n",
       "2             11.53  \n",
       "3              0.31  \n",
       "4              1.31  \n",
       "5              5.53  \n",
       "6              4.53  \n",
       "7              6.53  \n",
       "8              8.53  \n",
       "9              7.53  \n",
       "10             8.94  \n",
       "11             9.94  \n",
       "12             7.94  \n",
       "13             5.94  \n",
       "14             6.94  \n",
       "15            -1.69  \n",
       "16            -0.69  \n",
       "17            -2.69  \n",
       "18            10.94  \n",
       "19            11.94  "
      ]
     },
     "execution_count": 5,
     "metadata": {},
     "output_type": "execute_result"
    }
   ],
   "source": [
    "df.head(20)"
   ]
  },
  {
   "cell_type": "code",
   "execution_count": null,
   "id": "e69f01c7-a90c-471d-be38-57d1d5898217",
   "metadata": {},
   "outputs": [],
   "source": [
    "# Review the data types associated with the columns\n",
    "\n",
    "df.dtypes"
   ]
  },
  {
   "cell_type": "code",
   "execution_count": null,
   "id": "f46b8208-57a0-4918-ae7d-b568856f41cb",
   "metadata": {},
   "outputs": [],
   "source": [
    "#Check for any null values and remove the null values\n",
    "\n",
    "print('Null Values =', dataset.isnull().values.any())\n",
    "\n",
    "#Drop NaNs"
   ]
  },
  {
   "cell_type": "code",
   "execution_count": null,
   "id": "4449219e-b6c5-4896-bc18-afdde08e5ff3",
   "metadata": {},
   "outputs": [],
   "source": [
    "#Import further features"
   ]
  },
  {
   "cell_type": "code",
   "execution_count": null,
   "id": "ee2744f4-b26e-4f2a-af89-7dcf27c14619",
   "metadata": {},
   "outputs": [],
   "source": [
    "#Check for any null values and remove the null values\n",
    "print('Null Values =', dataset.isnull().values.any())\n",
    "\n",
    "#Drop NaNs\n"
   ]
  },
  {
   "cell_type": "code",
   "execution_count": null,
   "id": "e6859285-81fd-434f-8141-0a3f91a2d4c3",
   "metadata": {},
   "outputs": [],
   "source": [
    "#Filter options data for contracts that have a strike price within 5% from spot price"
   ]
  },
  {
   "cell_type": "code",
   "execution_count": null,
   "id": "a61fe08a-35c1-43ed-857f-f9e49355d303",
   "metadata": {},
   "outputs": [],
   "source": [
    "#Concatinate"
   ]
  },
  {
   "cell_type": "markdown",
   "id": "cd254675-54d0-4d2a-90e0-e3627cf2c597",
   "metadata": {},
   "source": [
    "# SECTION 2: Exploratory Data Analysis"
   ]
  },
  {
   "cell_type": "markdown",
   "id": "2fac2bad-57d8-47ea-a144-ff902686e90f",
   "metadata": {},
   "source": [
    "## 2.1.) Descriptive Statistics"
   ]
  },
  {
   "cell_type": "code",
   "execution_count": null,
   "id": "717f7717-dd27-4ff3-91f2-97ca6ed9b421",
   "metadata": {},
   "outputs": [],
   "source": [
    "df.shape"
   ]
  },
  {
   "cell_type": "code",
   "execution_count": null,
   "id": "661d5a9b-7c76-4b05-ac11-e4d61533b8de",
   "metadata": {},
   "outputs": [],
   "source": [
    "display(df.head())\n",
    "df.tail()"
   ]
  },
  {
   "cell_type": "code",
   "execution_count": null,
   "id": "f539d25b-ecb9-4ceb-9a0d-63e13f2dafd8",
   "metadata": {},
   "outputs": [],
   "source": [
    "df.describe()"
   ]
  },
  {
   "cell_type": "code",
   "execution_count": null,
   "id": "356dc83a-df53-430c-b05d-4a9d66519aa5",
   "metadata": {},
   "outputs": [],
   "source": [
    "df.dtypes"
   ]
  },
  {
   "cell_type": "code",
   "execution_count": null,
   "id": "8b12683e-6f10-4c08-815e-54418d174561",
   "metadata": {},
   "outputs": [],
   "source": [
    "#Calculate the predicted variable, 'y', which is the perecent profit or loss"
   ]
  },
  {
   "cell_type": "code",
   "execution_count": null,
   "id": "e04f47f9-de05-4553-aff5-7fc947bea633",
   "metadata": {},
   "outputs": [],
   "source": [
    "#Filter 'y' into categories, according to the following:\n",
    "#{0 = 'Strong Sell', 1 = 'Sell', 2 = 'Pass', 3 = 'Buy', 4 = 'Strong Buy'}\n",
    "#{0: < -50%,\n",
    "#1: > -50% to -20%,\n",
    "#2: > -20% to 20%,\n",
    "#3: > 20% to 50%,\n",
    "#4: > 50%}"
   ]
  },
  {
   "cell_type": "code",
   "execution_count": null,
   "id": "440d123a-3ed6-45a1-bcdc-f7edbd735d4b",
   "metadata": {},
   "outputs": [],
   "source": [
    "#Count number in each category of 'y'\n",
    "\n",
    "class_names = {0:'Strong Sell', 1:'Sell', 2:'Pass', 3:'Buy', 4:'Strong Buy'}\n",
    "print(df.Class.value_counts().rename(index = class_names))"
   ]
  },
  {
   "cell_type": "markdown",
   "id": "efe689b6-38a3-408f-9732-34a1319cf887",
   "metadata": {},
   "source": [
    "## 2.2.) Feature Analysis and Exploration"
   ]
  },
  {
   "cell_type": "markdown",
   "id": "f51d9366-0e00-4472-9b95-96c8388d9fed",
   "metadata": {},
   "source": [
    "### Plotting features according to contract length"
   ]
  },
  {
   "cell_type": "code",
   "execution_count": 4,
   "id": "79edddbb-760f-4544-8902-88c3cbb0ee84",
   "metadata": {},
   "outputs": [
    {
     "ename": "NameError",
     "evalue": "name 'dataset' is not defined",
     "output_type": "error",
     "traceback": [
      "\u001b[0;31m---------------------------------------------------------------------------\u001b[0m",
      "\u001b[0;31mNameError\u001b[0m                                 Traceback (most recent call last)",
      "\u001b[0;32m/var/folders/_d/_9jtvvb95j3fbj7lq5n93bbr0000gn/T/ipykernel_28415/555304951.py\u001b[0m in \u001b[0;36m<module>\u001b[0;34m\u001b[0m\n\u001b[1;32m      1\u001b[0m \u001b[0;31m#\u001b[0m\u001b[0;34m\u001b[0m\u001b[0;34m\u001b[0m\u001b[0;34m\u001b[0m\u001b[0m\n\u001b[0;32m----> 2\u001b[0;31m \u001b[0mcharge_off_rates\u001b[0m \u001b[0;34m=\u001b[0m \u001b[0mdataset\u001b[0m\u001b[0;34m.\u001b[0m\u001b[0mgroupby\u001b[0m\u001b[0;34m(\u001b[0m\u001b[0;34m'sub_grade'\u001b[0m\u001b[0;34m)\u001b[0m\u001b[0;34m[\u001b[0m\u001b[0;34m'charged_off'\u001b[0m\u001b[0;34m]\u001b[0m\u001b[0;34m.\u001b[0m\u001b[0mvalue_counts\u001b[0m\u001b[0;34m(\u001b[0m\u001b[0mnormalize\u001b[0m\u001b[0;34m=\u001b[0m\u001b[0;32mTrue\u001b[0m\u001b[0;34m)\u001b[0m\u001b[0;34m.\u001b[0m\u001b[0mloc\u001b[0m\u001b[0;34m[\u001b[0m\u001b[0;34m:\u001b[0m\u001b[0;34m,\u001b[0m\u001b[0;36m1\u001b[0m\u001b[0;34m]\u001b[0m\u001b[0;34m\u001b[0m\u001b[0;34m\u001b[0m\u001b[0m\n\u001b[0m\u001b[1;32m      3\u001b[0m \u001b[0msns\u001b[0m\u001b[0;34m.\u001b[0m\u001b[0mset\u001b[0m\u001b[0;34m(\u001b[0m\u001b[0mrc\u001b[0m\u001b[0;34m=\u001b[0m\u001b[0;34m{\u001b[0m\u001b[0;34m'figure.figsize'\u001b[0m\u001b[0;34m:\u001b[0m\u001b[0;34m(\u001b[0m\u001b[0;36m12\u001b[0m\u001b[0;34m,\u001b[0m\u001b[0;36m5\u001b[0m\u001b[0;34m)\u001b[0m\u001b[0;34m}\u001b[0m\u001b[0;34m)\u001b[0m\u001b[0;34m\u001b[0m\u001b[0;34m\u001b[0m\u001b[0m\n\u001b[1;32m      4\u001b[0m \u001b[0msns\u001b[0m\u001b[0;34m.\u001b[0m\u001b[0mbarplot\u001b[0m\u001b[0;34m(\u001b[0m\u001b[0mx\u001b[0m\u001b[0;34m=\u001b[0m\u001b[0mcharge_off_rates\u001b[0m\u001b[0;34m.\u001b[0m\u001b[0mindex\u001b[0m\u001b[0;34m,\u001b[0m \u001b[0my\u001b[0m\u001b[0;34m=\u001b[0m\u001b[0mcharge_off_rates\u001b[0m\u001b[0;34m.\u001b[0m\u001b[0mvalues\u001b[0m\u001b[0;34m,\u001b[0m \u001b[0mcolor\u001b[0m\u001b[0;34m=\u001b[0m\u001b[0;34m'#5975A4'\u001b[0m\u001b[0;34m,\u001b[0m \u001b[0msaturation\u001b[0m\u001b[0;34m=\u001b[0m\u001b[0;36m1\u001b[0m\u001b[0;34m)\u001b[0m\u001b[0;34m\u001b[0m\u001b[0;34m\u001b[0m\u001b[0m\n",
      "\u001b[0;31mNameError\u001b[0m: name 'dataset' is not defined"
     ]
    }
   ],
   "source": [
    "#\n",
    "contract_outcome = dataset.groupby('''insert var here''')['y'].value_counts(normalize=True).loc[:,1]\n",
    "sns.set(rc={'figure.figsize':(12,5)})\n",
    "sns.barplot(x=contract_outcome.index, y=contract_outcome.values, color='#5975A4', saturation=1)"
   ]
  },
  {
   "cell_type": "markdown",
   "id": "25e76603-685d-41b2-8297-54b7a94e791e",
   "metadata": {},
   "source": [
    "### Eliminate Uncorrelated Features"
   ]
  },
  {
   "cell_type": "code",
   "execution_count": null,
   "id": "117ce679-3518-4edb-9000-aaaeddf5f8e1",
   "metadata": {},
   "outputs": [],
   "source": [
    "#Calculate correlation of each feature with 'y'\n",
    "\n",
    "correlation = df.corr()\n",
    "correlation_df = abs(correlation['y'])"
   ]
  },
  {
   "cell_type": "code",
   "execution_count": null,
   "id": "d23bb93b-163a-49f8-b329-2e7117ebe0d8",
   "metadata": {},
   "outputs": [],
   "source": [
    "correlation_df.sort_values(ascending=False)"
   ]
  },
  {
   "cell_type": "code",
   "execution_count": null,
   "id": "ce0c8e12-4132-442a-92e8-9108f69e4f8f",
   "metadata": {},
   "outputs": [],
   "source": [
    "#Drop variables with less than 3% correlation with contract outcome ('y')\n",
    "\n",
    "drop_list_corr = sorted(list(correlation_df[correlation_df < 0.03].index))\n",
    "print(drop_list_corr)"
   ]
  },
  {
   "cell_type": "code",
   "execution_count": null,
   "id": "dcb0b267-b331-4bfa-9de4-4ed0987e59a4",
   "metadata": {},
   "outputs": [],
   "source": [
    "df.drop(labels=drop_list_corr, axis=1, inplace=True)\n",
    "df.shape"
   ]
  },
  {
   "cell_type": "markdown",
   "id": "3e6141cc-138e-4a5f-befc-ff54a45b6835",
   "metadata": {},
   "source": [
    "### Drop the 'ContractID' column from the DataFrame"
   ]
  },
  {
   "cell_type": "code",
   "execution_count": null,
   "id": "35e25b05-8f78-474a-b3ce-9e37d63f033d",
   "metadata": {},
   "outputs": [],
   "source": [
    "# Drop the 'ContractID' column from the DataFrame\n",
    "\n",
    "df = applicant_data_df.drop(columns=[\"ContractID\"])\n",
    "\n",
    "# Review the DataFrame\n",
    "\n",
    "df.head()"
   ]
  },
  {
   "cell_type": "markdown",
   "id": "3068faa2-8d4c-4e93-8a3f-f602b38642b7",
   "metadata": {},
   "source": [
    "# SECTION 3: Evaluate Algorithms and Models"
   ]
  },
  {
   "cell_type": "markdown",
   "id": "5ff86d58-a357-4e28-9911-a0eaad193d8f",
   "metadata": {},
   "source": [
    "## 3.1.) Train Test Split and Evaluation Metrics"
   ]
  },
  {
   "cell_type": "code",
   "execution_count": null,
   "id": "00735fa5-bd96-4369-9058-84a8ee9c32fd",
   "metadata": {},
   "outputs": [],
   "source": [
    "#Seperate features from predicted variable, 'y', which is outcome of call options contracts\n",
    "\n",
    "y = df[\"y\"]\n",
    "\n",
    "X = df.drop(columns='y')"
   ]
  },
  {
   "cell_type": "code",
   "execution_count": null,
   "id": "db788cc4-4d1b-4af9-945f-8de1253e47bd",
   "metadata": {},
   "outputs": [],
   "source": [
    "#Split into training and testing groups\n",
    "\n",
    "validation_size = 0.2\n",
    "\n",
    "seed = 7\n",
    "\n",
    "X_train, X_validation, y_train, y_validation = train_test_split(X, y, stratify=y, test_size=validation_size, random_state=seed)"
   ]
  },
  {
   "cell_type": "code",
   "execution_count": null,
   "id": "3f9a531e-0542-4169-94c9-928019d4e5fc",
   "metadata": {},
   "outputs": [],
   "source": [
    "#Normalize features data\n",
    "\n",
    "# Create the StandardScaler instance\n",
    "scaler = StandardScaler()\n",
    "\n",
    "# Fit the scaler to the features training dataset\n",
    "X_scaler = scaler.fit(X_train)\n",
    "\n",
    "# Scale both the training and testing data from the features dataset\n",
    "X_train_scaled = X_scaler.transform(X_train)\n",
    "X_validation_scaled = X_scaler.transform(X_validation)"
   ]
  },
  {
   "cell_type": "markdown",
   "id": "1887c529-450b-407a-84d0-7df79f10239e",
   "metadata": {},
   "source": [
    "## 3.2.) Quick Check of Models and Algorithms, Select the Best"
   ]
  },
  {
   "cell_type": "code",
   "execution_count": null,
   "id": "811bb2b6-4cea-440a-a75a-e9f77c72050b",
   "metadata": {},
   "outputs": [],
   "source": [
    "#Spot check Classification algorithms\n",
    "\n",
    "models = []\n",
    "\n",
    "#models.append(('SVM', SVC()))\n",
    "\n",
    "#Boosting methods\n",
    "\n",
    "models.append(('XGB', XGBClassifier()))\n",
    "models.append(('AB', AdaBoostClassifier()))\n",
    "models.append(('GBM', GradientBoostingClassifier()))\n",
    "\n",
    "#Bagging methods\n",
    "\n",
    "models.append(('RF', RandomForestClassifier()))\n",
    "models.append(('ET', ExtraTreesClassifier()))\n"
   ]
  },
  {
   "cell_type": "code",
   "execution_count": null,
   "id": "9e076d0e-52a2-474f-b59e-31e9cc9720aa",
   "metadata": {},
   "outputs": [],
   "source": [
    "#Test options for classification\n",
    "\n",
    "num_folds = 10\n",
    "seed = 7"
   ]
  },
  {
   "cell_type": "code",
   "execution_count": null,
   "id": "6f39b099-eec4-42b2-bd21-69f299e6c4e4",
   "metadata": {},
   "outputs": [],
   "source": [
    "results = []\n",
    "\n",
    "names = []\n",
    "\n",
    "scoring = 'accuracy'\n",
    "\n",
    "for name, model in models:\n",
    "    kfold = StratifiedKFold(n_splits=num_folds, random_state=seed, shuffle=True)\n",
    "    cv_results = cross_val_score(model, X_train_scaled, y_train, cv=kfold, scoring=scoring)\n",
    "    results.append(cv_results)\n",
    "    names.append(name)\n",
    "    findings_summary = \"%s: %f (%f)\" % (name, cv_results.mean(), cv_results.std())\n",
    "    print(findings_summary)"
   ]
  },
  {
   "cell_type": "code",
   "execution_count": null,
   "id": "a533f4e5-9a2e-4458-9723-8a734a10b771",
   "metadata": {},
   "outputs": [],
   "source": [
    "#Compare the model outcomes\n",
    "\n",
    "fig = pyplot.figure()\n",
    "fig.suptitle('Model Comparison')\n",
    "ax = fig.add_subplot(111)\n",
    "pyplot.boxplot(results)\n",
    "ax.set_xticklabels(names)\n",
    "fig.set_size_inches(8,4)\n",
    "pyplot.show()"
   ]
  },
  {
   "cell_type": "markdown",
   "id": "1a6ea5d6-dbec-43eb-aa3d-4aff739ea2aa",
   "metadata": {},
   "source": [
    "## 3.3.) Selecting Random Forest *(or whichever tree method best)*, Calculating its Baseline "
   ]
  },
  {
   "cell_type": "code",
   "execution_count": 6,
   "id": "354676f4-a69a-435b-89a1-18e33b62fbfe",
   "metadata": {},
   "outputs": [
    {
     "ename": "NameError",
     "evalue": "name 'num_folds' is not defined",
     "output_type": "error",
     "traceback": [
      "\u001b[0;31m---------------------------------------------------------------------------\u001b[0m",
      "\u001b[0;31mNameError\u001b[0m                                 Traceback (most recent call last)",
      "\u001b[0;32m/var/folders/_d/_9jtvvb95j3fbj7lq5n93bbr0000gn/T/ipykernel_28415/2992954618.py\u001b[0m in \u001b[0;36m<module>\u001b[0;34m\u001b[0m\n\u001b[1;32m      3\u001b[0m \u001b[0mrf_model\u001b[0m \u001b[0;34m=\u001b[0m \u001b[0mRandomForestClassifier\u001b[0m\u001b[0;34m(\u001b[0m\u001b[0;34m)\u001b[0m\u001b[0;34m\u001b[0m\u001b[0;34m\u001b[0m\u001b[0m\n\u001b[1;32m      4\u001b[0m \u001b[0;34m\u001b[0m\u001b[0m\n\u001b[0;32m----> 5\u001b[0;31m \u001b[0mcv\u001b[0m \u001b[0;34m=\u001b[0m \u001b[0mStratifiedKFold\u001b[0m\u001b[0;34m(\u001b[0m\u001b[0mn_splits\u001b[0m\u001b[0;34m=\u001b[0m\u001b[0mnum_folds\u001b[0m\u001b[0;34m,\u001b[0m \u001b[0mrandom_state\u001b[0m\u001b[0;34m=\u001b[0m\u001b[0mseed\u001b[0m\u001b[0;34m,\u001b[0m \u001b[0mshuffle\u001b[0m\u001b[0;34m=\u001b[0m\u001b[0;32mTrue\u001b[0m\u001b[0;34m)\u001b[0m\u001b[0;34m\u001b[0m\u001b[0;34m\u001b[0m\u001b[0m\n\u001b[0m\u001b[1;32m      6\u001b[0m \u001b[0mscores\u001b[0m \u001b[0;34m=\u001b[0m \u001b[0mcross_val_score\u001b[0m\u001b[0;34m(\u001b[0m\u001b[0mrf_model\u001b[0m\u001b[0;34m,\u001b[0m \u001b[0mX_train_scaled\u001b[0m\u001b[0;34m,\u001b[0m \u001b[0my_train\u001b[0m\u001b[0;34m,\u001b[0m \u001b[0mscoring\u001b[0m\u001b[0;34m=\u001b[0m\u001b[0;34m'accuracy'\u001b[0m\u001b[0;34m,\u001b[0m \u001b[0mcv\u001b[0m\u001b[0;34m=\u001b[0m\u001b[0mcv\u001b[0m\u001b[0;34m)\u001b[0m\u001b[0;34m\u001b[0m\u001b[0;34m\u001b[0m\u001b[0m\n\u001b[1;32m      7\u001b[0m \u001b[0mavg_score\u001b[0m \u001b[0;34m=\u001b[0m \u001b[0mnp\u001b[0m\u001b[0;34m.\u001b[0m\u001b[0mmean\u001b[0m\u001b[0;34m(\u001b[0m\u001b[0mscores\u001b[0m\u001b[0;34m)\u001b[0m\u001b[0;34m\u001b[0m\u001b[0;34m\u001b[0m\u001b[0m\n",
      "\u001b[0;31mNameError\u001b[0m: name 'num_folds' is not defined"
     ]
    }
   ],
   "source": [
    "#Estimate accuracy on training set with cross validation\n",
    "\n",
    "rf_model = RandomForestClassifier()\n",
    "\n",
    "cv = StratifiedKFold(n_splits=num_folds, random_state=seed, shuffle=True)\n",
    "scores = cross_val_score(rf_model, X_train_scaled, y_train, scoring='accuracy', cv=cv)\n",
    "avg_score = np.mean(scores)\n",
    "avg_score"
   ]
  },
  {
   "cell_type": "code",
   "execution_count": null,
   "id": "68816641-9d9a-4066-98f6-d6cf28fed578",
   "metadata": {},
   "outputs": [],
   "source": [
    "#Estimate accuracy on validation set\n",
    "\n",
    "rf_model = RandomForestClassifier()\n",
    "\n",
    "rf_model.fit(X_train_scaled, y_train)\n",
    "\n",
    "predictions = rf_model.predict(X_validation_scaled)\n",
    "\n",
    "print(accuracy_score(y_validation, predictions))\n",
    "\n",
    "print('Weighted Precision: {:.2f}'.format(precision_score(y_validation, predictions, average='weighted')))\n",
    "print('Weighted Recall: {:.2f}'.format(recall_score(y_validation, predictions, average='weighted')))\n",
    "print('Weighted F1-score: {:.2f}'.format(f1_score(y_validation, predictions, average='weighted')))\n",
    "\n",
    "print(classification_report(y_validation, predictions, target_names=['Strong Sell', 'Sell', 'Pass']))\n",
    "\n",
    "print(confusion_matrix(y_validation, predictions))"
   ]
  },
  {
   "cell_type": "code",
   "execution_count": null,
   "id": "0675ebfb-7034-4c0c-bf58-d5f1dc834879",
   "metadata": {},
   "outputs": [],
   "source": [
    "#Visualization of the Confusion Matrix\n",
    "\n",
    "df_matrix = pd.DataFrame(confusion_matrix(y_validation, predictions), columns=np.unique(y_validation), index = np.unique(y_validation))\n",
    "df_matrix.index.name = 'Actual'\n",
    "df_matrix.columns.name = 'Predicted'\n",
    "sns.heatmap(df_matrix, cmap=\"Blues\", annot=True, annot_kws={\"size\": 16}) "
   ]
  },
  {
   "cell_type": "markdown",
   "id": "7300df07-3e6b-419e-a2c0-d1b750443d20",
   "metadata": {},
   "source": [
    "# SECTION 4: Model Tuning "
   ]
  },
  {
   "cell_type": "markdown",
   "id": "cfeb6df3-a944-4548-884f-40c5c264441e",
   "metadata": {},
   "source": [
    "## 4.1.) Grid Search for (some random forest)"
   ]
  },
  {
   "cell_type": "code",
   "execution_count": null,
   "id": "1c9f0691-f7c9-4f79-88d3-e58d4e20800c",
   "metadata": {},
   "outputs": [],
   "source": [
    "# Grid Search: (select model) Tuning\n",
    "\n",
    "n_estimators = [20, 100, 180, 1000]\n",
    "max_features = [1, 2, 3, 4]\n",
    "\n",
    "param_grid = dict(n_estimators=n_estimators, max_features=max_features)\n",
    "\n",
    "rf_model = RandomForestClassifier()\n",
    "\n",
    "kfold = StratifiedKFold(n_splits=num_folds, random_state=seed, shuffle=True)\n",
    "\n",
    "grid = GridSearchCV(estimator=rf_model, param_grid=param_grid, scoring=scoring, cv=kfold)\n",
    "grid_result = grid.fit(X_train_scaled, y_train)\n",
    "\n",
    "#Print Results\n",
    "print(\"Best: %f using %s\" % (grid_result.best_score_, grid_result.best_params_))\n",
    "means = grid_result.cv_results_['mean_test_score']\n",
    "stds = grid_result.cv_results_['std_test_score']\n",
    "params = grid_result.cv_results_['params']\n",
    "ranks = grid_result.cv_results_['rank_test_score']\n",
    "for mean, stdev, param, rank in zip(means, stds, params, ranks):\n",
    "    print(\"#%d %f (%f) with: %r\" % (rank, mean, stdev, param))"
   ]
  },
  {
   "cell_type": "code",
   "execution_count": null,
   "id": "58225b73-242f-4013-91be-ed38753eb00c",
   "metadata": {},
   "outputs": [],
   "source": [
    "#Prepare the model with parameters decided in previous cell\n",
    "\n",
    "rf_model = RandomForestClassifier(max_features=3, n_estimators=20)\n",
    "rf_model.fit(X_train_scaled, y_train)"
   ]
  },
  {
   "cell_type": "code",
   "execution_count": null,
   "id": "3b2b7c3e-e097-4852-81ca-e9cc3c6ac01e",
   "metadata": {},
   "outputs": [],
   "source": [
    "#Score predictions of training set\n",
    "\n",
    "training_predictions = rf_model.predict(X_train_scaled)\n",
    "\n",
    "print(accuracy_score(y_validation, predictions))\n",
    "\n",
    "print('Micro Precision: {:.2f}'.format(precision_score(y_train, training_predictions, average='micro')))\n",
    "print('Micro Recall: {:.2f}'.format(recall_score(y_train, training_predictions, average='micro')))\n",
    "print('Micro F1-score: {:.2f}\\n'.format(f1_score(y_train, training_predictions, average='micro')))\n",
    "\n",
    "print('Macro Precision: {:.2f}'.format(precision_score(y_train, training_predictions, average='macro')))\n",
    "print('Macro Recall: {:.2f}'.format(recall_score(y_train, training_predictions, average='macro')))\n",
    "print('Macro F1-score: {:.2f}\\n'.format(f1_score(y_train, training_predictions, average='macro')))\n",
    "\n",
    "print('Weighted Precision: {:.2f}'.format(precision_score(y_train, training_predictions, average='weighted')))\n",
    "print('Weighted Recall: {:.2f}'.format(recall_score(y_train, training_predictions, average='weighted')))\n",
    "print('Weighted F1-score: {:.2f}'.format(f1_score(y_train, training_predictions, average='weighted')))\n",
    "\n",
    "\n",
    "print(classification_report(y_train, training_predictions, target_names=['Strong Sell', 'Sell', 'Pass']))"
   ]
  },
  {
   "cell_type": "code",
   "execution_count": null,
   "id": "17dd6f8d-ae65-44c2-929c-e144c2657ff5",
   "metadata": {},
   "outputs": [],
   "source": [
    "#Score predictions of validation set\n",
    "\n",
    "predictions = xgb_model.predict(X_validation_scaled)\n",
    "\n",
    "print(accuracy_score(y_validation, predictions))\n",
    "\n",
    "print('Micro Precision: {:.2f}'.format(precision_score(y_validation, predictions, average='micro')))\n",
    "print('Micro Recall: {:.2f}'.format(recall_score(y_validation, predictions, average='micro')))\n",
    "print('Micro F1-score: {:.2f}\\n'.format(f1_score(y_validation, predictions, average='micro')))\n",
    "\n",
    "print('Macro Precision: {:.2f}'.format(precision_score(y_validation, predictions, average='macro')))\n",
    "print('Macro Recall: {:.2f}'.format(recall_score(y_validation, predictions, average='macro')))\n",
    "print('Macro F1-score: {:.2f}\\n'.format(f1_score(y_validation, predictions, average='macro')))\n",
    "\n",
    "print('Weighted Precision: {:.2f}'.format(precision_score(y_validation, predictions, average='weighted')))\n",
    "print('Weighted Recall: {:.2f}'.format(recall_score(y_validation, predictions, average='weighted')))\n",
    "print('Weighted F1-score: {:.2f}'.format(f1_score(y_validation, predictions, average='weighted')))\n",
    "\n",
    "\n",
    "print(classification_report(y_validation, predictions, target_names=['Strong Sell', 'Sell', 'Pass', 'Buy', 'Strong Buy']))\n",
    "\n",
    "print(confusion_matrix(y_validation, predictions))"
   ]
  },
  {
   "cell_type": "code",
   "execution_count": null,
   "id": "2b9cf804-7145-4f71-8642-0211232c40f9",
   "metadata": {},
   "outputs": [],
   "source": [
    "#Visualization of the Confusion Matrix\n",
    "\n",
    "df_matrix = pd.DataFrame(confusion_matrix(y_validation, predictions), columns=np.unique(y_validation), index = np.unique(y_validation))\n",
    "df_matrix.index.name = 'Actual'\n",
    "df_matrix.columns.name = 'Predicted'\n",
    "sns.heatmap(df_matrix, cmap=\"Blues\", annot=True, annot_kws={\"size\": 16}) "
   ]
  },
  {
   "cell_type": "markdown",
   "id": "7117736f-7676-4a2f-8f46-34a320ddc3c7",
   "metadata": {},
   "source": [
    "## 4.2.) Determining Feature Importance"
   ]
  },
  {
   "cell_type": "code",
   "execution_count": null,
   "id": "7f44ca23-9468-4b07-876a-282c2da22e3c",
   "metadata": {},
   "outputs": [],
   "source": [
    "#Feature importances\n",
    "\n",
    "importances = rf_model.feature_importances_"
   ]
  },
  {
   "cell_type": "code",
   "execution_count": null,
   "id": "dc3b506b-cc70-4a48-b74c-db71ef3e7ecc",
   "metadata": {},
   "outputs": [],
   "source": [
    "important_features = zip(X.columns, rf_model.feature_importances_)"
   ]
  },
  {
   "cell_type": "code",
   "execution_count": null,
   "id": "b2017f14-339d-44a8-a858-84fc6e35b0c9",
   "metadata": {},
   "outputs": [],
   "source": [
    "importances_df = pd.DataFrame(important_features)"
   ]
  },
  {
   "cell_type": "code",
   "execution_count": null,
   "id": "19d0dfe4-0ad1-4d0a-ae1c-47e49025a10a",
   "metadata": {},
   "outputs": [],
   "source": [
    "importances_df = importances_df.rename(columns={0: 'Feature', 1: 'Importance'})"
   ]
  },
  {
   "cell_type": "code",
   "execution_count": null,
   "id": "8c98185c-65b5-40db-8ab7-1a3f92470f4e",
   "metadata": {},
   "outputs": [],
   "source": [
    "importances_df = importances_df.set_index('Feature')"
   ]
  },
  {
   "cell_type": "code",
   "execution_count": null,
   "id": "f000a771-c54f-46aa-971f-ce38883b4f22",
   "metadata": {},
   "outputs": [],
   "source": [
    "importances_df = importances_df.sort_values(by='Importance', ascending=False)"
   ]
  },
  {
   "cell_type": "code",
   "execution_count": null,
   "id": "54e7d469-2443-473e-8d88-08acd334e322",
   "metadata": {},
   "outputs": [],
   "source": [
    "importances_df"
   ]
  },
  {
   "cell_type": "code",
   "execution_count": null,
   "id": "6e5fdbdf-e4aa-4ee1-a27d-0673b5b1a763",
   "metadata": {},
   "outputs": [],
   "source": [
    "#Plot the top 10 most important features\n",
    "\n",
    "importances_df[0:10].plot(\n",
    "    kind='barh',\n",
    "    color='green',\n",
    "    title='Feature Importance',\n",
    "    legend=True)"
   ]
  },
  {
   "cell_type": "markdown",
   "id": "755f975f-763e-4a22-8fd6-35354147715b",
   "metadata": {},
   "source": [
    "## 4.3.) Bayesian Optimization with HYPEROPT for XGBoost"
   ]
  },
  {
   "cell_type": "code",
   "execution_count": null,
   "id": "19c2413b-16f3-4c57-a7bb-881c98424dfa",
   "metadata": {},
   "outputs": [],
   "source": [
    "#Initialize domain space for range of values \n",
    " \n",
    "space={'max_depth': hp.quniform(\"max_depth\", 3, 18, 1),\n",
    "        'gamma': hp.uniform ('gamma', 1, 9),\n",
    "        'reg_alpha' : hp.quniform('reg_alpha', 40, 180, 1),\n",
    "        'reg_lambda' : hp.uniform('reg_lambda', 0, 1),\n",
    "        'colsample_bytree' : hp.uniform('colsample_bytree', 0.5, 1),\n",
    "        'min_child_weight' : hp.quniform('min_child_weight', 0, 10, 1),\n",
    "        'n_estimators': 180,\n",
    "        'seed': 0\n",
    "    }\n"
   ]
  },
  {
   "cell_type": "markdown",
   "id": "99da4029-82fb-48fe-9d48-1061d103528d",
   "metadata": {},
   "source": [
    "The available hyperopt optimization algorithms are -\n",
    "\n",
    "hp.choice(label, options) — Returns one of the options, which should be a list or tuple.\n",
    "\n",
    "hp.randint(label, upper) — Returns a random integer between the range [0, upper).\n",
    "\n",
    "hp.uniform(label, low, high) — Returns a value uniformly between low and high.\n",
    "\n",
    "hp.quniform(label, low, high, q) — Returns a value round(uniform(low, high) / q) * q, i.e it rounds the decimal values and returns an integer.\n",
    "\n",
    "hp.normal(label, mean, std) — Returns a real value that’s normally-distributed with mean and standard deviation sigma."
   ]
  },
  {
   "cell_type": "code",
   "execution_count": null,
   "id": "641f0dec-35dd-453f-8021-0560908347d1",
   "metadata": {},
   "outputs": [],
   "source": [
    "def objective(space):\n",
    "    xgb_model = xgb.XGBClassifier(\n",
    "                    n_estimators =space['n_estimators'], max_depth = int(space['max_depth']), gamma = space['gamma'],\n",
    "                    reg_alpha = int(space['reg_alpha']),min_child_weight=int(space['min_child_weight']),\n",
    "                    colsample_bytree=int(space['colsample_bytree']))\n",
    "    \n",
    "    evaluation = [(X_train_scaled, y_train), (X_validation_scaled, y_validation)]\n",
    "    \n",
    "    xgb_model.fit(X_train_scaled, y_train,\n",
    "            eval_set=evaluation, eval_metric=\"auc\",\n",
    "            early_stopping_rounds=10,verbose=False)\n",
    "    \n",
    "\n",
    "    pred = xgb_model.predict(X_validation_scaled)\n",
    "    accuracy = accuracy_score(y_validation, pred>0.5)\n",
    "    print (\"SCORE:\", accuracy)\n",
    "    return {'loss': -accuracy, 'status': STATUS_OK }"
   ]
  },
  {
   "cell_type": "code",
   "execution_count": null,
   "id": "af29159e-c5c8-4c53-aeca-7020e328df03",
   "metadata": {},
   "outputs": [],
   "source": [
    "trials = Trials()\n",
    "\n",
    "best_hyperparams = fmin(fn = objective,\n",
    "                        space = space,\n",
    "                        algo = tpe.suggest,\n",
    "                        max_evals = 100,\n",
    "                        trials = trials)"
   ]
  },
  {
   "cell_type": "code",
   "execution_count": null,
   "id": "a2006f83-dccf-4dcc-a766-ff58d823e1c3",
   "metadata": {},
   "outputs": [],
   "source": [
    "print(\"The best hyperparameters are : \",\"\\n\")\n",
    "print(best_hyperparams)"
   ]
  },
  {
   "cell_type": "code",
   "execution_count": null,
   "id": "b4202248-a368-4a7b-8042-9a4b64bb508d",
   "metadata": {},
   "outputs": [],
   "source": [
    "xgb_model = xgb.XGBClassifier(colsample_bytree=1, max_depth=6, gamma=6.879347321724768, min_child_weight=1, reg_lambda=1, reg_alpha=0)\n",
    "\n",
    "xgb_model.fit(X_train_scaled, y_train)"
   ]
  },
  {
   "cell_type": "code",
   "execution_count": null,
   "id": "5b0af62e-8773-4e2d-9754-cd6c7ba4e69e",
   "metadata": {},
   "outputs": [],
   "source": [
    "#Predicting on training set\n",
    "\n",
    "training_predictions = xgb_model.predict(X_train_scaled)\n",
    "\n",
    "print(accuracy_score(y_train, training_predictions))\n",
    "\n",
    "print('Weighted Precision: {:.2f}'.format(precision_score(y_train, training_predictions, average='weighted')))\n",
    "print('Weighted Recall: {:.2f}'.format(recall_score(y_train, training_predictions, average='weighted')))\n",
    "print('Weighted F1-score: {:.2f}'.format(f1_score(y_train, training_predictions, average='weighted')))\n",
    "\n",
    "print(classification_report(y_train, training_predictions, target_names=['Strong Sell', 'Sell', 'Pass', 'Buy', 'Strong Buy']))"
   ]
  },
  {
   "cell_type": "code",
   "execution_count": null,
   "id": "a901209f-53a7-432c-aed8-c452dace8095",
   "metadata": {},
   "outputs": [],
   "source": [
    "#Predicting on validation set\n",
    "\n",
    "predictions = xgb_model.predict(X_validation_scaled)\n",
    "\n",
    "print(accuracy_score(y_validation, predictions))\n",
    "\n",
    "print('Weighted Precision: {:.2f}'.format(precision_score(y_validation, predictions, average='weighted')))\n",
    "print('Weighted Recall: {:.2f}'.format(recall_score(y_validation, predictions, average='weighted')))\n",
    "print('Weighted F1-score: {:.2f}'.format(f1_score(y_validation, predictions, average='weighted')))\n",
    "\n",
    "print(classification_report(y_validation, predictions, target_names=['Strong Sell', 'Sell', 'Pass', 'Buy', 'Strong Buy']))\n",
    "\n",
    "print(confusion_matrix(y_validation, predictions))"
   ]
  },
  {
   "cell_type": "code",
   "execution_count": null,
   "id": "8d62b5df-0d8a-4180-a7ca-df48e83adc76",
   "metadata": {},
   "outputs": [],
   "source": [
    "#Get probabilities of predictions on validation set\n",
    "\n",
    "proba_df = xgb_model.predict_proba(X_validation_scaled)\n",
    "proba_df"
   ]
  },
  {
   "cell_type": "code",
   "execution_count": null,
   "id": "806b525e-839e-4b7b-9bd4-11d92330397f",
   "metadata": {},
   "outputs": [],
   "source": [
    "#Forming DataFrame with probabilities\n",
    "\n",
    "proba_df = pd.DataFrame(y_proba.round(2))"
   ]
  },
  {
   "cell_type": "code",
   "execution_count": null,
   "id": "c8b815d7-2d57-4d26-9158-92932ee32a76",
   "metadata": {},
   "outputs": [],
   "source": [
    "#Formatting probabilities DataFrame\n",
    "\n",
    "proba_df[\"Actual\"] = y_validation\n",
    "proba_df.columns = [\"'Strong Sell' Probability Estimate\", \"'Sell' Probability Estimate\", \"'Pass' Probability Estimate\", \"Actual\", \"'Buy' Probability Estimate\", \"'Strong Buy' Probability Estimate\"]\n",
    "proba_df"
   ]
  },
  {
   "cell_type": "code",
   "execution_count": null,
   "id": "5fbbf80b-a312-47c8-9396-2c01c0181b6c",
   "metadata": {},
   "outputs": [],
   "source": [
    "#Labeling caterogires\n",
    "\n",
    "proba_df.loc[proba_df[\"Actual\"] == 0, \"Actual\"] = \"Strong Sell\"\n",
    "proba_df.loc[proba_df[\"Actual\"] == 1, \"Actual\"] = \"Sell\"\n",
    "proba_df.loc[proba_df[\"Actual\"] == 2, \"Actual\"] = \"Pass\"\n",
    "proba_df.loc[proba_df[\"Actual\"] == 1, \"Actual\"] = \"Buy\"\n",
    "proba_df.loc[proba_df[\"Actual\"] == 2, \"Actual\"] = \"Strong Buy\""
   ]
  },
  {
   "cell_type": "code",
   "execution_count": null,
   "id": "27c7a3bb-b6f4-4181-b4f8-62e5c5cc7330",
   "metadata": {},
   "outputs": [],
   "source": [
    "#Get ROC AUC score\n",
    "\n",
    "roc_auc_score(y_validation, pred_proba, multi_class=\"ovr\")"
   ]
  },
  {
   "cell_type": "markdown",
   "id": "9b41a519-cee4-4522-97e0-fddb2fd247fc",
   "metadata": {},
   "source": [
    "## 4.4.) Determining Feature Importance for XGBoost Model"
   ]
  },
  {
   "cell_type": "code",
   "execution_count": null,
   "id": "b39cdd6e-4d37-4cdf-8df2-65e2b18e11af",
   "metadata": {},
   "outputs": [],
   "source": [
    "#Feature importances\n",
    "\n",
    "importances = rf_model.feature_importances_"
   ]
  },
  {
   "cell_type": "code",
   "execution_count": null,
   "id": "b45d369a-7f6f-4b0c-94fa-d76f5beff19f",
   "metadata": {},
   "outputs": [],
   "source": [
    "important_features = zip(X.columns, rf_model.feature_importances_)"
   ]
  },
  {
   "cell_type": "code",
   "execution_count": null,
   "id": "ea6fc64a-a24d-4de1-9d2b-f413dc6b47e3",
   "metadata": {},
   "outputs": [],
   "source": [
    "importances_df = pd.DataFrame(important_features)"
   ]
  },
  {
   "cell_type": "code",
   "execution_count": null,
   "id": "39990946-68ed-4a9f-b40b-fed9286df25c",
   "metadata": {},
   "outputs": [],
   "source": [
    "importances_df = importances_df.rename(columns={0: 'Feature', 1: 'Importance'})"
   ]
  },
  {
   "cell_type": "code",
   "execution_count": null,
   "id": "d96ee5ca-a8f2-4db2-8d76-c0ef545ea114",
   "metadata": {},
   "outputs": [],
   "source": [
    "importances_df = importances_df.set_index('Feature')"
   ]
  },
  {
   "cell_type": "code",
   "execution_count": null,
   "id": "12e149d8-1907-4c06-924b-cd68789a8be4",
   "metadata": {},
   "outputs": [],
   "source": [
    "importances_df = importances_df.sort_values(by='Importance', ascending=False)"
   ]
  },
  {
   "cell_type": "code",
   "execution_count": null,
   "id": "fc406313-43df-4470-8e59-e9c388bb4122",
   "metadata": {},
   "outputs": [],
   "source": [
    "importances_df"
   ]
  },
  {
   "cell_type": "code",
   "execution_count": null,
   "id": "90d39983-acd6-4c5f-9e2a-936ce8a1cf27",
   "metadata": {},
   "outputs": [],
   "source": [
    "#Plot the top 10 most important features\n",
    "\n",
    "importances_df[0:10].plot(\n",
    "    kind='barh',\n",
    "    color='green',\n",
    "    title='Feature Importance',\n",
    "    legend=True)"
   ]
  },
  {
   "cell_type": "code",
   "execution_count": null,
   "id": "18c65472-3625-46bd-b102-78b82b63d636",
   "metadata": {},
   "outputs": [],
   "source": []
  },
  {
   "cell_type": "code",
   "execution_count": null,
   "id": "dc34b934-8237-45ae-a075-6fbf5d52d384",
   "metadata": {},
   "outputs": [],
   "source": [
    "et_model = ExtraTreesClassifier()\n",
    "et_model.fit(X_train_scaled, y_train)"
   ]
  },
  {
   "cell_type": "code",
   "execution_count": null,
   "id": "23a34fbc-e4a2-4e1b-8fd4-e62f906c6f8c",
   "metadata": {},
   "outputs": [],
   "source": [
    "ab_model = AdaBoostClassifier()\n",
    "ab_model.fit(X_train_scaled, y_train)"
   ]
  },
  {
   "cell_type": "code",
   "execution_count": null,
   "id": "63e0a2e9-29ac-4a20-a721-69bf9d1f5edd",
   "metadata": {},
   "outputs": [],
   "source": [
    "gb_model = GradientBoostingClassifier()\n",
    "ab_model.fit(X_train_scaled, y_train)"
   ]
  },
  {
   "cell_type": "markdown",
   "id": "25293db6-f8fb-4de7-a1c9-cd2af29702a1",
   "metadata": {},
   "source": []
  },
  {
   "cell_type": "code",
   "execution_count": null,
   "id": "4ecd2e36-1312-4fb5-bbf3-54c5c268233b",
   "metadata": {},
   "outputs": [],
   "source": []
  }
 ],
 "metadata": {
  "kernelspec": {
   "display_name": "Python 3 (ipykernel)",
   "language": "python",
   "name": "python3"
  },
  "language_info": {
   "codemirror_mode": {
    "name": "ipython",
    "version": 3
   },
   "file_extension": ".py",
   "mimetype": "text/x-python",
   "name": "python",
   "nbconvert_exporter": "python",
   "pygments_lexer": "ipython3",
   "version": "3.7.13"
  }
 },
 "nbformat": 4,
 "nbformat_minor": 5
}
