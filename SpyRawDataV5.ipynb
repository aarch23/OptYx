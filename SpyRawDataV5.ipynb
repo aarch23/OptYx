{
 "cells": [
  {
   "cell_type": "markdown",
   "id": "feb96c04-499b-4ef2-8ee4-89fbdbb3d45e",
   "metadata": {},
   "source": [
    "## Skip down to where it says Start Here"
   ]
  },
  {
   "cell_type": "code",
   "execution_count": null,
   "id": "7fdcbd79-c285-49e2-9b65-e46aee739bcd",
   "metadata": {},
   "outputs": [],
   "source": [
    "import pandas as pd \n",
    "import numpy as np \n",
    "from pathlib import Path\n",
    "import hvplot.pandas\n",
    "%matplotlib inline"
   ]
  },
  {
   "cell_type": "code",
   "execution_count": null,
   "id": "e8ad25bc-9236-42fe-a3b5-552b79492dbe",
   "metadata": {},
   "outputs": [],
   "source": [
    "spy_feb_raw = pd.read_csv(\"./Resources/spy_30x_202202.txt\")\n",
    "# spy_feb_raw.to_csv(\"./Resources/spy_30x_202202.csv\", index=None)"
   ]
  },
  {
   "cell_type": "code",
   "execution_count": null,
   "id": "5ecb5e3e-bd9e-4160-9c23-7ede37a2b050",
   "metadata": {},
   "outputs": [],
   "source": [
    "spy_feb_raw.head()\n",
    "    "
   ]
  },
  {
   "cell_type": "code",
   "execution_count": null,
   "id": "f8cd775e-24dc-42ee-976f-92fe09f089ad",
   "metadata": {},
   "outputs": [],
   "source": [
    "# Dropping all the PUT columns since it is not needed \n",
    "\n",
    "spy_feb_raw.drop(spy_feb_raw.iloc[:, 20:31], inplace = True , axis=1)\n",
    "\n",
    "spy_feb_raw.tail()"
   ]
  },
  {
   "cell_type": "code",
   "execution_count": null,
   "id": "2042dc51-fb2c-4361-99a0-7708343c9a7b",
   "metadata": {},
   "outputs": [],
   "source": [
    "spy_jan_raw = pd.read_csv(\"./Resources/spy_30x_202201.txt\")\n",
    "# spy_jan_raw.to_csv(\"./Resources/spy_30x_202201.csv\", index=None)"
   ]
  },
  {
   "cell_type": "code",
   "execution_count": null,
   "id": "b040066c-5ae2-42b8-b2f1-ff23faad4281",
   "metadata": {},
   "outputs": [],
   "source": [
    "spy_jan_raw.head()"
   ]
  },
  {
   "cell_type": "code",
   "execution_count": null,
   "id": "2fff0441-87e3-4e1a-8a57-631e28977955",
   "metadata": {},
   "outputs": [],
   "source": [
    "# Dropping all the PUT columns since it is not needed - how to get the last 2 rows back tho?\n",
    "\n",
    "spy_jan_raw.drop(spy_jan_raw.iloc[:, 20:31], inplace = True , axis=1)\n",
    "\n",
    "spy_jan_raw.tail()"
   ]
  },
  {
   "cell_type": "code",
   "execution_count": null,
   "id": "47d8666f-cfc0-43d3-b77a-201f3ed0dd55",
   "metadata": {},
   "outputs": [],
   "source": [
    "spy_mar_raw = pd.read_csv(\"./Resources/spy_30x_202203.txt\")\n",
    "# spy_mar_raw.to_csv(\"./Resources/spy_30x_202203.csv\", index=None)"
   ]
  },
  {
   "cell_type": "code",
   "execution_count": null,
   "id": "0a458647-214d-4b73-8caa-9b61623cd88e",
   "metadata": {},
   "outputs": [],
   "source": [
    "# Dropping all the PUT columns since it is not needed - how to get the last 2 rows back tho?\n",
    "\n",
    "spy_mar_raw.drop(spy_mar_raw.iloc[:, 20:31], inplace = True , axis=1)\n",
    "\n",
    "spy_mar_raw.tail()"
   ]
  },
  {
   "cell_type": "code",
   "execution_count": null,
   "id": "8b1907f8-273c-4fdf-94c4-75cff3719403",
   "metadata": {},
   "outputs": [],
   "source": [
    "spy_data_raw = pd.concat([spy_jan_raw, spy_feb_raw, spy_mar_raw])"
   ]
  },
  {
   "cell_type": "code",
   "execution_count": null,
   "id": "306663c2-8087-4708-b2c6-611016211432",
   "metadata": {},
   "outputs": [],
   "source": [
    "display(spy_data_raw.iloc[1380930:])"
   ]
  },
  {
   "cell_type": "code",
   "execution_count": null,
   "id": "75b6a6a7-0363-4a36-8d8e-5c16bc8ddcde",
   "metadata": {},
   "outputs": [],
   "source": [
    "display(spy_data_raw.head())\n",
    "display(spy_data_raw.tail())"
   ]
  },
  {
   "cell_type": "code",
   "execution_count": null,
   "id": "de61598d-8f0c-4988-b8c9-d10b69cafbd3",
   "metadata": {},
   "outputs": [],
   "source": [
    "#spy_data_v1 = spy_data_raw.drop(columns=[\"[QUOTE_UNIXTIME]\", \"[QUOTE_DATE]\",  \"[QUOTE_TIME_HOURS]', '[EXPIRE_UNIX]','[C_BID]', '[C_ASK]' , '[C_SIZE]'])\n",
    "\n",
    "#spy_data_v2 = spy_data_raw.drop(columns=[\"[QUOTE_UNIXTIME]\",\" [QUOTE_DATE]\", \" [QUOTE_TIME_HOURS]\", \" [EXPIRE_UNIX]\", \" [C_BID]\", \" [C_ASK]\", \" [C_SIZE]\"])\n",
    "\n",
    "spy_data_raw.columns"
   ]
  },
  {
   "cell_type": "code",
   "execution_count": null,
   "id": "52323d1f-38fa-417f-8c0c-740f1dcc7552",
   "metadata": {},
   "outputs": [],
   "source": [
    "spy_data_v2 = spy_data_raw.drop(columns=[\"[QUOTE_UNIXTIME]\",\" [QUOTE_DATE]\", \" [QUOTE_TIME_HOURS]\", \" [EXPIRE_UNIX]\", \" [C_BID]\", \" [C_ASK]\", \" [C_SIZE]\"])"
   ]
  },
  {
   "cell_type": "code",
   "execution_count": null,
   "id": "42ec4954-f178-4c56-9b6d-7f3a77733c7e",
   "metadata": {},
   "outputs": [],
   "source": [
    "spy_data_v2.head()"
   ]
  },
  {
   "cell_type": "code",
   "execution_count": null,
   "id": "a70c2fdd-1f13-429b-9d52-54dcff5e7cad",
   "metadata": {},
   "outputs": [],
   "source": [
    "# fixing the format of the column names \n",
    "\n",
    "spy_data_v2.rename(columns = {' [QUOTE_READTIME]': 'QUOTE_READTIME',' [UNDERLYING_LAST]': 'UNDERLYING_LAST', ' [EXPIRE_DATE]' : 'EXPIRE_DATE', ' [DTE]': 'DTE', ' [C_DELTA]' : 'C_DELTA', ' [C_GAMMA]' : 'C_GAMMA', ' [C_VEGA]': 'C_VEGA', ' [C_THETA]': 'C_THETA', ' [C_RHO]': 'C_RHO', ' [C_IV]': 'C_IV', ' [C_VOLUME]': 'C_VOLUME', ' [C_LAST]': 'C_LAST', ' [STRIKE]': 'STRIKE', ' [STRIKE_DISTANCE]': 'STRIKE_DISTANCE', ' [STRIKE_DISTANCE_PCT]': 'STRIKE_DISTANCE_PCT'}, inplace = True)"
   ]
  },
  {
   "cell_type": "code",
   "execution_count": null,
   "id": "fddafc35-d093-43f9-8c4d-fd81bcec721b",
   "metadata": {},
   "outputs": [],
   "source": [
    "spy_data_v2.columns"
   ]
  },
  {
   "cell_type": "code",
   "execution_count": null,
   "id": "67e2f238-8549-4281-b7b0-09596bbaed58",
   "metadata": {},
   "outputs": [],
   "source": [
    "spy_data_v2.head()"
   ]
  },
  {
   "cell_type": "code",
   "execution_count": null,
   "id": "cd3f3161-65bc-4551-9756-dae1aebda733",
   "metadata": {},
   "outputs": [],
   "source": [
    "spy_data_v2['STRIKE DISTANCE'] = spy_data_v2['STRIKE'] - spy_data_v2['UNDERLYING_LAST']\n",
    "\n",
    "display(spy_data_v2.head())"
   ]
  },
  {
   "cell_type": "code",
   "execution_count": null,
   "id": "4b5c1b43-f5dc-4f6b-b3f5-3205d4e3574e",
   "metadata": {},
   "outputs": [],
   "source": [
    "spy_data_v3 = spy_data_v2.drop(columns=['STRIKE_DISTANCE'])\n",
    "spy_data_v3.head()"
   ]
  },
  {
   "cell_type": "code",
   "execution_count": null,
   "id": "a66b9121-bcca-43c9-8c3c-3d9d640a0908",
   "metadata": {},
   "outputs": [],
   "source": [
    "spy_data_v3 = spy_data_v3[\n",
    "    (spy_data_v3['DTE'] <= 5) \n",
    "]\n",
    "\n",
    "spy_data_v3.head()"
   ]
  },
  {
   "cell_type": "code",
   "execution_count": null,
   "id": "176011fa-6d18-4baa-a236-7c9f8fe65343",
   "metadata": {},
   "outputs": [],
   "source": [
    "# combine strike and expire date to make a unique identifier\n",
    "spy_data_v3['CONTRACT'] = spy_data_v3['STRIKE'].astype(str) + spy_data_v3['EXPIRE_DATE']\n",
    "spy_data_v3"
   ]
  },
  {
   "cell_type": "code",
   "execution_count": null,
   "id": "c1afc792-74f1-4512-8d7f-892c9366bf9a",
   "metadata": {},
   "outputs": [],
   "source": [
    "#spy_data_v3 = spy_data_v3.set_index('CONTRACT')"
   ]
  },
  {
   "cell_type": "code",
   "execution_count": null,
   "id": "75446e7b-858d-4c74-8804-68bd0911af7d",
   "metadata": {},
   "outputs": [],
   "source": [
    "spy_data_v3.head()"
   ]
  },
  {
   "cell_type": "code",
   "execution_count": null,
   "id": "7a9d32e1-2969-4415-a79d-437a4e0b0051",
   "metadata": {},
   "outputs": [],
   "source": [
    "# setting the index to the contract readtime  \n",
    "\n",
    "# spy_data_v4 = spy_data_v3.set_index('QUOTE_READTIME')"
   ]
  },
  {
   "cell_type": "code",
   "execution_count": null,
   "id": "a1ab34c1-dc41-45d6-87fe-b5b498634ed3",
   "metadata": {},
   "outputs": [],
   "source": [
    "inception = spy_data_v3[(spy_data_v3['STRIKE DISTANCE'] <= 15.00) & (spy_data_v3['STRIKE DISTANCE'] > -3.00)]"
   ]
  },
  {
   "cell_type": "code",
   "execution_count": null,
   "id": "d33e7203-e507-40e0-97df-8ee2aec9ce45",
   "metadata": {},
   "outputs": [],
   "source": [
    "inception_filtered = inception.loc[inception['DTE'] == 4.27]"
   ]
  },
  {
   "cell_type": "code",
   "execution_count": null,
   "id": "854982ea-48b1-427e-b9b8-5cb72c4addfe",
   "metadata": {},
   "outputs": [],
   "source": [
    "inception_filtered"
   ]
  },
  {
   "cell_type": "code",
   "execution_count": null,
   "id": "3282aa4a-2185-4239-a473-7957883ceb47",
   "metadata": {},
   "outputs": [],
   "source": [
    "criteria_list = inception_filtered[\"CONTRACT\"]"
   ]
  },
  {
   "cell_type": "code",
   "execution_count": null,
   "id": "30ff0215-ba3c-4f21-b3f9-85c89e4ac04a",
   "metadata": {},
   "outputs": [],
   "source": [
    "criteria_list.count()"
   ]
  },
  {
   "cell_type": "code",
   "execution_count": null,
   "id": "f6077f6a-f904-4885-b82e-10057b7e68c2",
   "metadata": {
    "tags": []
   },
   "outputs": [],
   "source": [
    "spy_data_v4 = spy_data_v3[spy_data_v3[\"CONTRACT\"].isin(criteria_list)]"
   ]
  },
  {
   "cell_type": "code",
   "execution_count": null,
   "id": "9cb601b3-d366-48c1-89df-3578c8728cd9",
   "metadata": {},
   "outputs": [],
   "source": [
    "spy_data_v4.count()"
   ]
  },
  {
   "cell_type": "code",
   "execution_count": null,
   "id": "b2e7b8cb-90c4-447c-bc78-22a216c03839",
   "metadata": {},
   "outputs": [],
   "source": [
    "spy_data_v4.iloc[4673]"
   ]
  },
  {
   "cell_type": "code",
   "execution_count": null,
   "id": "fb7c3d37-dd03-4495-9ea9-ec457f491e4a",
   "metadata": {},
   "outputs": [],
   "source": [
    "spy_data_v4.dtypes"
   ]
  },
  {
   "cell_type": "code",
   "execution_count": null,
   "id": "7069d79b-5740-4caa-aeed-0ed5e7f56aca",
   "metadata": {},
   "outputs": [],
   "source": [
    "spy_data_v4['C_IV'] = pd.to_numeric(spy_data_v4['C_IV'], errors = 'coerce')\n",
    "spy_data_v4['C_LAST'] = pd.to_numeric(spy_data_v4['C_LAST'], errors = 'coerce')\n",
    "spy_data_v4['C_VOLUME'] = pd.to_numeric(spy_data_v4['C_VOLUME'], errors = 'coerce')\n"
   ]
  },
  {
   "cell_type": "code",
   "execution_count": null,
   "id": "26378d19-0553-40d4-81d7-55706308772f",
   "metadata": {},
   "outputs": [],
   "source": [
    "spy_data_v4.dtypes"
   ]
  },
  {
   "cell_type": "code",
   "execution_count": null,
   "id": "a66e64f0-5de8-47bb-ac4a-b7ec951eb400",
   "metadata": {},
   "outputs": [],
   "source": [
    "spy_data_v4.to_csv(\"./Resources/spycallsX1.csv\", index=None)"
   ]
  },
  {
   "cell_type": "markdown",
   "id": "3c0382af-a988-4882-bb94-e522d46e1352",
   "metadata": {},
   "source": [
    "# Start Here ____ SKIP AS OF 7/3/2022"
   ]
  },
  {
   "cell_type": "code",
   "execution_count": null,
   "id": "e6b7808e-eede-4bdf-9758-2f7969196004",
   "metadata": {},
   "outputs": [],
   "source": [
    "import pandas as pd \n",
    "import numpy as np \n",
    "from pathlib import Path"
   ]
  },
  {
   "cell_type": "code",
   "execution_count": null,
   "id": "d44229b0-d4e6-438d-9285-17c794b960db",
   "metadata": {},
   "outputs": [],
   "source": [
    "# spy_path = Path('./Resources/spycallsV9.csv')\n",
    "# spy_data_v5 = pd.read_csv(spy_path)"
   ]
  },
  {
   "cell_type": "code",
   "execution_count": null,
   "id": "ef9d5ca5-c0d9-4858-a29c-551561bd3c4c",
   "metadata": {},
   "outputs": [],
   "source": [
    "# spy_data_v5.tail()"
   ]
  },
  {
   "cell_type": "code",
   "execution_count": null,
   "id": "4df991fd-8e29-4f96-9304-bf9095ef0a3d",
   "metadata": {},
   "outputs": [],
   "source": []
  },
  {
   "cell_type": "code",
   "execution_count": null,
   "id": "922341e7-84af-40f7-b674-8bb4bdf868b5",
   "metadata": {},
   "outputs": [],
   "source": [
    "# spy_data_v6 = spy_data_v5[\n",
    "  #  (spy_data_v5['DTE'] <= 11.0) \n",
    "# ]\n",
    "\n",
    "# spy_data_v6.head()"
   ]
  },
  {
   "cell_type": "code",
   "execution_count": null,
   "id": "b7c37848-cd0b-4e43-a02c-87613c60aa99",
   "metadata": {},
   "outputs": [],
   "source": [
    "# combine strike and expire date to make a unique identifier\n",
    "# spy_data_v6['CONTRACT'] = spy_data_v6['STRIKE'].astype(str) + spy_data_v6['EXPIRE_DATE']\n",
    "# spy_data_v6"
   ]
  },
  {
   "cell_type": "code",
   "execution_count": null,
   "id": "e8df0848-b1d0-4874-8e76-aa429fb837a6",
   "metadata": {},
   "outputs": [],
   "source": [
    "# spy_data_v6.to_csv(\"./Resources/spycallsV4.csv\", index=None)"
   ]
  },
  {
   "cell_type": "markdown",
   "id": "080200c0-621e-4e4e-8372-36f18a9ff345",
   "metadata": {},
   "source": [
    "## Start here using Optyxdata.csv 7/5"
   ]
  },
  {
   "cell_type": "code",
   "execution_count": null,
   "id": "e8a244cd-7f42-43e3-9d0e-53354c4dc10a",
   "metadata": {},
   "outputs": [],
   "source": [
    "import pandas as pd \n",
    "import numpy as np \n",
    "from pathlib import Path"
   ]
  },
  {
   "cell_type": "code",
   "execution_count": null,
   "id": "68bc0280-779d-4b17-a922-cf405d79a93c",
   "metadata": {},
   "outputs": [],
   "source": [
    "spy_path = Path('./Resources/optyxdata.csv')\n",
    "spy_data_SC = pd.read_csv(spy_path)"
   ]
  },
  {
   "cell_type": "code",
   "execution_count": null,
   "id": "f94b2437-552a-453a-af2f-573222ec400f",
   "metadata": {},
   "outputs": [],
   "source": [
    "spy_data_v7 = spy_data_SC.set_index('CONTRACT')"
   ]
  },
  {
   "cell_type": "code",
   "execution_count": null,
   "id": "0a3d8f63-9663-4e36-9782-33ee47b8f627",
   "metadata": {},
   "outputs": [],
   "source": [
    "spy_data_v7"
   ]
  },
  {
   "cell_type": "markdown",
   "id": "75382624-8d2f-4b28-afd8-d9c2f1f15ea4",
   "metadata": {},
   "source": [
    "# __*PLAYING WITH CONTINUAL APPROACH (AS OPPOSED TO ONLY DTE4.27)*__"
   ]
  },
  {
   "cell_type": "code",
   "execution_count": null,
   "id": "fcb335f6-74ab-408c-8c4c-8168a8643b35",
   "metadata": {},
   "outputs": [],
   "source": [
    "continual = spy_data_v7.copy()"
   ]
  },
  {
   "cell_type": "code",
   "execution_count": null,
   "id": "372d2ec7-08e7-4abe-aa98-72a81051e71e",
   "metadata": {},
   "outputs": [],
   "source": [
    "#NOTE: CUT THIS OUT BECAUSE WE DO NOT CARE ABOUT WHAT HAPPENED DTE4.27 W/ CONTINUAL APPROACH\n",
    "\n",
    "#mon_morn[\"PRICEOPEN\"] = mon_morn.loc[mon_morn['DTE'] == 4.27, 'C_LAST']\n",
    "#mon_morn.head(10)"
   ]
  },
  {
   "cell_type": "code",
   "execution_count": null,
   "id": "4a5fed22-f4c4-41b6-92c0-a86e6ecb97ec",
   "metadata": {},
   "outputs": [],
   "source": [
    "continual[\"PRICECLOSE\"] = continual.loc[continual['DTE'] == 2.0, 'C_LAST']\n",
    "continual.head()"
   ]
  },
  {
   "cell_type": "code",
   "execution_count": null,
   "id": "51ec29a7-4b89-4246-86e3-29130aca829d",
   "metadata": {},
   "outputs": [],
   "source": [
    "continual['ROI3'] = continual[\"PRICECLOSE\"] / continual['C_LAST']\n",
    "continual.head()"
   ]
  },
  {
   "cell_type": "code",
   "execution_count": null,
   "id": "7d4e7a2a-2d7f-4b69-a1f9-530a8e66a95e",
   "metadata": {},
   "outputs": [],
   "source": [
    "continual['ROI %'] = (continual['ROI3'] - 1) * 100\n",
    "continual.head(100)"
   ]
  },
  {
   "cell_type": "code",
   "execution_count": null,
   "id": "9bbbba18-bd39-47ef-b800-b3cd6ec41853",
   "metadata": {},
   "outputs": [],
   "source": [
    "continual = continual.drop(columns=['ROI3'])\n",
    "continual.head()"
   ]
  },
  {
   "cell_type": "code",
   "execution_count": null,
   "id": "d1a70314-2daf-48d4-9e83-5221c39922cc",
   "metadata": {},
   "outputs": [],
   "source": [
    "#continual.loc[continual[\"ROI %\"] <= -60, \"y\"] = 0\n",
    "#continual.loc[(continual[\"ROI %\"] <= -10) & (continual[\"ROI %\"] > -60), \"y\"] = 1\n",
    "#continual.loc[(continual[\"ROI %\"] <= 10) & (continual[\"ROI %\"] > -10), \"y\"] = 2\n",
    "#continual.loc[(continual[\"ROI %\"] <= 60) & (continual[\"ROI %\"] > 10), \"y\"] = 3\n",
    "#continual.loc[(continual[\"ROI %\"] > 60) & (continual[\"ROI %\"] < 100), \"y\"] = 4\n",
    "#continual.loc[continual[\"ROI %\"] >= 100, \"y\"] = 5"
   ]
  },
  {
   "cell_type": "code",
   "execution_count": null,
   "id": "553fbd67-b011-40ac-bf83-97f4dd3c54f8",
   "metadata": {},
   "outputs": [],
   "source": [
    "continual.loc[continual[\"ROI %\"] <= -10, \"y\"] = 0\n",
    "\n",
    "continual.loc[(continual[\"ROI %\"] <= 20) & (continual[\"ROI %\"] > -10), \"y\"] = 1\n",
    "\n",
    "continual.loc[continual[\"ROI %\"] > 20, \"y\"] = 2"
   ]
  },
  {
   "cell_type": "code",
   "execution_count": null,
   "id": "33c6fb22-db39-4cc0-ab1b-9e41e8f012dc",
   "metadata": {},
   "outputs": [],
   "source": [
    "continual[\"y\"].value_counts()"
   ]
  },
  {
   "cell_type": "code",
   "execution_count": null,
   "id": "4b659eb2-c13b-4daa-8e4b-12975f8b71b3",
   "metadata": {
    "tags": []
   },
   "outputs": [],
   "source": [
    "continual.rename(columns = {'UNDERLYING_LAST': 'SPY PRICE'}, inplace = True)\n",
    "continual.head()"
   ]
  },
  {
   "cell_type": "code",
   "execution_count": null,
   "id": "67bb9a03-8f86-4cf7-aec9-5aaa47dd4c8a",
   "metadata": {},
   "outputs": [],
   "source": [
    "continual.reset_index(inplace=True)"
   ]
  },
  {
   "cell_type": "code",
   "execution_count": null,
   "id": "b677b3de-fe20-411a-8f59-ac2cb2a50652",
   "metadata": {},
   "outputs": [],
   "source": [
    "continual = continual.set_index('QUOTE_READTIME')\n",
    "continual.head()"
   ]
  },
  {
   "cell_type": "code",
   "execution_count": null,
   "id": "f597b687-173e-4e24-87e6-e44b50a848c4",
   "metadata": {},
   "outputs": [],
   "source": [
    "# Importing Vix Data \n",
    "\n",
    "vix_path = Path('./Resources/vixprice.csv')\n",
    "vix_df = pd.read_csv(vix_path)\n",
    "vix_df.rename(columns = {' [QUOTE_READTIME]': 'QUOTE_READTIME',' [UNDERLYING_LAST]': 'VIX PRICE'}, inplace = True)"
   ]
  },
  {
   "cell_type": "code",
   "execution_count": null,
   "id": "0eb5cde4-17e2-46cd-88b2-b6a0603f72c1",
   "metadata": {},
   "outputs": [],
   "source": [
    "vix_df1 = vix_df.drop_duplicates()"
   ]
  },
  {
   "cell_type": "code",
   "execution_count": null,
   "id": "02ea65f4-a354-41d6-ad6d-cc42179c06e0",
   "metadata": {},
   "outputs": [],
   "source": [
    "vix_df1.head()"
   ]
  },
  {
   "cell_type": "code",
   "execution_count": null,
   "id": "1a1390f2-db7d-45b2-ac49-c62c6bf7e1ba",
   "metadata": {},
   "outputs": [],
   "source": [
    "vix_df1 = vix_df1.set_index('QUOTE_READTIME')"
   ]
  },
  {
   "cell_type": "code",
   "execution_count": null,
   "id": "aaace3b3-fbec-4e41-aa2e-5ff93a9c6668",
   "metadata": {},
   "outputs": [],
   "source": [
    "vix_df1.index = pd.to_datetime(vix_df1.index, infer_datetime_format=True)\n",
    "vix_df1"
   ]
  },
  {
   "cell_type": "code",
   "execution_count": null,
   "id": "d5aa142d-d023-48c4-8e7b-da0a0e85cc45",
   "metadata": {},
   "outputs": [],
   "source": [
    "continual.index = pd.to_datetime(continual.index, infer_datetime_format=True)\n",
    "continual.head()"
   ]
  },
  {
   "cell_type": "code",
   "execution_count": null,
   "id": "4eb9cc82-03b1-49a2-a764-2dca7d728624",
   "metadata": {},
   "outputs": [],
   "source": [
    "#NOTE: CUT THIS OUT BECAUSE IT APPLIES TO A MONDAY MORNING AT 9:30AM APPROACH ONLY!\n",
    "\n",
    "#mon_morn_only = mon_morn.loc[mon_morn['DTE'] == 4.27]"
   ]
  },
  {
   "cell_type": "code",
   "execution_count": null,
   "id": "5e6f6191-fcd8-4ce2-baae-26f2f20b2a67",
   "metadata": {},
   "outputs": [],
   "source": [
    "vix_spy_continual = continual.merge(vix_df1, on='QUOTE_READTIME')\n"
   ]
  },
  {
   "cell_type": "code",
   "execution_count": null,
   "id": "699cbea2-774d-4db5-bfcf-dc43c791690c",
   "metadata": {},
   "outputs": [],
   "source": [
    "vix_spy_continual.head()"
   ]
  },
  {
   "cell_type": "code",
   "execution_count": null,
   "id": "d3ceb13a-8ad2-43e6-ba37-96c387ee497b",
   "metadata": {},
   "outputs": [],
   "source": [
    "vix_spy_continual.shape"
   ]
  },
  {
   "cell_type": "code",
   "execution_count": null,
   "id": "12ebf4f8-939a-40ba-b01e-31fb4c40f5f3",
   "metadata": {},
   "outputs": [],
   "source": [
    "vix_spy_continual.head()"
   ]
  },
  {
   "cell_type": "code",
   "execution_count": null,
   "id": "707e5041-6abb-44b9-90a9-67cb97251d53",
   "metadata": {},
   "outputs": [],
   "source": [
    "### Inflation Data \n",
    "### Nov - 0.8% - For dec-jan\n",
    "### Dec +0.5% - For jan-feb\n",
    "### Jan +0.6% - For feb-march\n",
    "### Feb +0.8% - for March-april"
   ]
  },
  {
   "cell_type": "markdown",
   "id": "67e93cc7-3b2d-4429-8dc4-565d0cf1e80e",
   "metadata": {},
   "source": [
    "# Adding sentiment data"
   ]
  },
  {
   "cell_type": "code",
   "execution_count": null,
   "id": "7b850487-f992-4470-ae40-8c39057d737b",
   "metadata": {},
   "outputs": [],
   "source": [
    "# Import Sentiment \n",
    "sent_path = Path('./Resources/sentimentdata.csv')\n",
    "sent_df = pd.read_csv(sent_path)\n",
    "# vix_df.rename(columns = {' [QUOTE_READTIME]': 'QUOTE_READTIME',' [UNDERLYING_LAST]': 'VIX PRICE'}, inplace = True)\n",
    "sent_df.rename(columns = {'new_date_column': 'QUOTE_READTIME', 'average compound score per date': 'AVG SCORE','median compound score per date': 'MED SCORE','Sentiment Indicator Average Numerical': 'SEN IND AVG NUM','Sentiment Indicator Median Numerical': 'SEN IND MED NUM' }, inplace = True)\n",
    "# sent_df= sent_df.set_index('QUOTE_READTIME')\n",
    "# sent_df.index = pd.to_datetime(sent_df.index, infer_datetime_format=True)\n",
    "sent_df.head()\n"
   ]
  },
  {
   "cell_type": "code",
   "execution_count": null,
   "id": "275426a4-a522-43bb-871e-4b924bd224db",
   "metadata": {},
   "outputs": [],
   "source": []
  },
  {
   "cell_type": "code",
   "execution_count": null,
   "id": "b309678c-7a5a-47e5-84ce-4bb73a076bda",
   "metadata": {},
   "outputs": [],
   "source": [
    "vix_spy_continual.reset_index(inplace=True)\n",
    "vix_spy_continual.head()"
   ]
  },
  {
   "cell_type": "code",
   "execution_count": null,
   "id": "84e4ceb9-ef49-4444-a08d-c50241f9fdcf",
   "metadata": {},
   "outputs": [],
   "source": [
    "vix_spy_continual['QUOTE_READTIME'] = pd.to_datetime(vix_spy_continual['QUOTE_READTIME'])\n",
    "sent_df['QUOTE_READTIME'] = pd.to_datetime(sent_df['QUOTE_READTIME'])\n",
    "vix_spy_continual.sort_values('QUOTE_READTIME', inplace=True)\n",
    "sent_df.sort_values('QUOTE_READTIME', inplace=True)\n",
    "\n",
    "full_df = pd.merge_asof(vix_spy_continual, sent_df, on='QUOTE_READTIME')\n",
    "full_df.head()"
   ]
  },
  {
   "cell_type": "code",
   "execution_count": null,
   "id": "85ffbaac-f0a8-425a-be9f-814de7088da6",
   "metadata": {},
   "outputs": [],
   "source": [
    "full_df.set_index([\"QUOTE_READTIME\"], inplace=True)"
   ]
  },
  {
   "cell_type": "code",
   "execution_count": null,
   "id": "5e135778-b520-407e-a444-b15eafdb6257",
   "metadata": {},
   "outputs": [],
   "source": [
    "full_df.drop(columns=[\"Sentiment Indicator Average\"], inplace=True)"
   ]
  },
  {
   "cell_type": "code",
   "execution_count": null,
   "id": "42bdcbf0-1908-4a8d-9b76-c14aa7d0fbe9",
   "metadata": {},
   "outputs": [],
   "source": [
    "full_df.drop(columns=[\"Sentiment Indicator Median\"], inplace=True)"
   ]
  },
  {
   "cell_type": "code",
   "execution_count": null,
   "id": "cf9f20fb-fe70-4956-bb60-5d65cd18359a",
   "metadata": {},
   "outputs": [],
   "source": [
    "full_df.shape"
   ]
  },
  {
   "cell_type": "code",
   "execution_count": null,
   "id": "2c35bc2d-6059-453b-9b14-fde00f827839",
   "metadata": {},
   "outputs": [],
   "source": [
    "#Drops all rows after DTE2.0\n",
    "\n",
    "full_df_filt = full_df.loc[(full_df[\"DTE\"]<=4.27) & (full_df[\"DTE\"]>=2.0)]"
   ]
  },
  {
   "cell_type": "code",
   "execution_count": null,
   "id": "e641c3c0-2d75-4d3f-ab9a-e2d3e9bdcb65",
   "metadata": {},
   "outputs": [],
   "source": [
    "full_df_filt.shape"
   ]
  },
  {
   "cell_type": "code",
   "execution_count": null,
   "id": "742f0018-1418-4eac-a708-ede3d1b4f992",
   "metadata": {},
   "outputs": [],
   "source": [
    "full_df_filt.to_csv(\"./Resources/full_df_filt.csv\", index=True)"
   ]
  },
  {
   "cell_type": "markdown",
   "id": "3b7bf3ad-6f9a-4d39-81e3-aa11418ca54d",
   "metadata": {},
   "source": [
    "# __*START HERE 07/06 3:30PM to select certain ranges of train/test data instead of random train/test/split (this \"full_df_filt\" contains all data)*__ "
   ]
  },
  {
   "cell_type": "code",
   "execution_count": 1,
   "id": "7d8d09dc-ecbb-43df-b35e-d590d4329902",
   "metadata": {},
   "outputs": [],
   "source": [
    "import pandas as pd \n",
    "import numpy as np \n",
    "from pathlib import Path"
   ]
  },
  {
   "cell_type": "code",
   "execution_count": 2,
   "id": "69f345ce-877b-49e6-b5f6-1aba9688e5ac",
   "metadata": {},
   "outputs": [
    {
     "data": {
      "text/html": [
       "<div>\n",
       "<style scoped>\n",
       "    .dataframe tbody tr th:only-of-type {\n",
       "        vertical-align: middle;\n",
       "    }\n",
       "\n",
       "    .dataframe tbody tr th {\n",
       "        vertical-align: top;\n",
       "    }\n",
       "\n",
       "    .dataframe thead th {\n",
       "        text-align: right;\n",
       "    }\n",
       "</style>\n",
       "<table border=\"1\" class=\"dataframe\">\n",
       "  <thead>\n",
       "    <tr style=\"text-align: right;\">\n",
       "      <th></th>\n",
       "      <th>QUOTE_READTIME</th>\n",
       "      <th>CONTRACT</th>\n",
       "      <th>SPY PRICE</th>\n",
       "      <th>EXPIRE_DATE</th>\n",
       "      <th>DTE</th>\n",
       "      <th>C_DELTA</th>\n",
       "      <th>C_GAMMA</th>\n",
       "      <th>C_VEGA</th>\n",
       "      <th>C_THETA</th>\n",
       "      <th>C_RHO</th>\n",
       "      <th>...</th>\n",
       "      <th>STRIKE DISTANCE</th>\n",
       "      <th>INFLATION%</th>\n",
       "      <th>PRICECLOSE</th>\n",
       "      <th>ROI %</th>\n",
       "      <th>y</th>\n",
       "      <th>VIX PRICE</th>\n",
       "      <th>AVG SCORE</th>\n",
       "      <th>MED SCORE</th>\n",
       "      <th>SEN IND AVG NUM</th>\n",
       "      <th>SEN IND MED NUM</th>\n",
       "    </tr>\n",
       "  </thead>\n",
       "  <tbody>\n",
       "    <tr>\n",
       "      <th>0</th>\n",
       "      <td>2022-01-03 09:30:00</td>\n",
       "      <td>474.0 2022-01-07</td>\n",
       "      <td>476.43</td>\n",
       "      <td>1/7/2022</td>\n",
       "      <td>4.27</td>\n",
       "      <td>0.62598</td>\n",
       "      <td>0.05055</td>\n",
       "      <td>0.21136</td>\n",
       "      <td>-0.28773</td>\n",
       "      <td>0.03788</td>\n",
       "      <td>...</td>\n",
       "      <td>-2.43</td>\n",
       "      <td>0.8</td>\n",
       "      <td>0.55</td>\n",
       "      <td>-87.089202</td>\n",
       "      <td>0.0</td>\n",
       "      <td>17.68</td>\n",
       "      <td>0.196649</td>\n",
       "      <td>0.0258</td>\n",
       "      <td>0</td>\n",
       "      <td>0</td>\n",
       "    </tr>\n",
       "    <tr>\n",
       "      <th>1</th>\n",
       "      <td>2022-01-03 09:30:00</td>\n",
       "      <td>491.0 2022-01-07</td>\n",
       "      <td>476.43</td>\n",
       "      <td>1/7/2022</td>\n",
       "      <td>4.27</td>\n",
       "      <td>0.01171</td>\n",
       "      <td>0.00474</td>\n",
       "      <td>0.01717</td>\n",
       "      <td>-0.01484</td>\n",
       "      <td>0.00056</td>\n",
       "      <td>...</td>\n",
       "      <td>14.57</td>\n",
       "      <td>0.8</td>\n",
       "      <td>0.01</td>\n",
       "      <td>0.000000</td>\n",
       "      <td>1.0</td>\n",
       "      <td>17.68</td>\n",
       "      <td>0.196649</td>\n",
       "      <td>0.0258</td>\n",
       "      <td>0</td>\n",
       "      <td>0</td>\n",
       "    </tr>\n",
       "    <tr>\n",
       "      <th>2</th>\n",
       "      <td>2022-01-03 09:30:00</td>\n",
       "      <td>490.0 2022-01-07</td>\n",
       "      <td>476.43</td>\n",
       "      <td>1/7/2022</td>\n",
       "      <td>4.27</td>\n",
       "      <td>0.01569</td>\n",
       "      <td>0.00635</td>\n",
       "      <td>0.02257</td>\n",
       "      <td>-0.01973</td>\n",
       "      <td>0.00132</td>\n",
       "      <td>...</td>\n",
       "      <td>13.57</td>\n",
       "      <td>0.8</td>\n",
       "      <td>0.02</td>\n",
       "      <td>0.000000</td>\n",
       "      <td>1.0</td>\n",
       "      <td>17.68</td>\n",
       "      <td>0.196649</td>\n",
       "      <td>0.0258</td>\n",
       "      <td>0</td>\n",
       "      <td>0</td>\n",
       "    </tr>\n",
       "    <tr>\n",
       "      <th>3</th>\n",
       "      <td>2022-01-03 09:30:00</td>\n",
       "      <td>489.0 2022-01-07</td>\n",
       "      <td>476.43</td>\n",
       "      <td>1/7/2022</td>\n",
       "      <td>4.27</td>\n",
       "      <td>0.02331</td>\n",
       "      <td>0.00888</td>\n",
       "      <td>0.03151</td>\n",
       "      <td>-0.02878</td>\n",
       "      <td>0.00105</td>\n",
       "      <td>...</td>\n",
       "      <td>12.57</td>\n",
       "      <td>0.8</td>\n",
       "      <td>0.01</td>\n",
       "      <td>-66.666667</td>\n",
       "      <td>0.0</td>\n",
       "      <td>17.68</td>\n",
       "      <td>0.196649</td>\n",
       "      <td>0.0258</td>\n",
       "      <td>0</td>\n",
       "      <td>0</td>\n",
       "    </tr>\n",
       "    <tr>\n",
       "      <th>4</th>\n",
       "      <td>2022-01-03 09:30:00</td>\n",
       "      <td>488.0 2022-01-07</td>\n",
       "      <td>476.43</td>\n",
       "      <td>1/7/2022</td>\n",
       "      <td>4.27</td>\n",
       "      <td>0.02852</td>\n",
       "      <td>0.01072</td>\n",
       "      <td>0.03713</td>\n",
       "      <td>-0.03303</td>\n",
       "      <td>0.00202</td>\n",
       "      <td>...</td>\n",
       "      <td>11.57</td>\n",
       "      <td>0.8</td>\n",
       "      <td>0.01</td>\n",
       "      <td>-75.000000</td>\n",
       "      <td>0.0</td>\n",
       "      <td>17.68</td>\n",
       "      <td>0.196649</td>\n",
       "      <td>0.0258</td>\n",
       "      <td>0</td>\n",
       "      <td>0</td>\n",
       "    </tr>\n",
       "    <tr>\n",
       "      <th>...</th>\n",
       "      <td>...</td>\n",
       "      <td>...</td>\n",
       "      <td>...</td>\n",
       "      <td>...</td>\n",
       "      <td>...</td>\n",
       "      <td>...</td>\n",
       "      <td>...</td>\n",
       "      <td>...</td>\n",
       "      <td>...</td>\n",
       "      <td>...</td>\n",
       "      <td>...</td>\n",
       "      <td>...</td>\n",
       "      <td>...</td>\n",
       "      <td>...</td>\n",
       "      <td>...</td>\n",
       "      <td>...</td>\n",
       "      <td>...</td>\n",
       "      <td>...</td>\n",
       "      <td>...</td>\n",
       "      <td>...</td>\n",
       "      <td>...</td>\n",
       "    </tr>\n",
       "    <tr>\n",
       "      <th>9271</th>\n",
       "      <td>2022-03-23 16:00:00</td>\n",
       "      <td>450.0 2022-03-25</td>\n",
       "      <td>443.84</td>\n",
       "      <td>3/25/2022</td>\n",
       "      <td>2.00</td>\n",
       "      <td>0.17749</td>\n",
       "      <td>0.03974</td>\n",
       "      <td>0.09998</td>\n",
       "      <td>-0.31313</td>\n",
       "      <td>0.00589</td>\n",
       "      <td>...</td>\n",
       "      <td>6.16</td>\n",
       "      <td>0.8</td>\n",
       "      <td>0.63</td>\n",
       "      <td>0.000000</td>\n",
       "      <td>1.0</td>\n",
       "      <td>23.47</td>\n",
       "      <td>0.143046</td>\n",
       "      <td>0.0000</td>\n",
       "      <td>0</td>\n",
       "      <td>0</td>\n",
       "    </tr>\n",
       "    <tr>\n",
       "      <th>9272</th>\n",
       "      <td>2022-03-23 16:00:00</td>\n",
       "      <td>446.0 2022-03-25</td>\n",
       "      <td>443.84</td>\n",
       "      <td>3/25/2022</td>\n",
       "      <td>2.00</td>\n",
       "      <td>0.38057</td>\n",
       "      <td>0.05533</td>\n",
       "      <td>0.14627</td>\n",
       "      <td>-0.52994</td>\n",
       "      <td>0.01244</td>\n",
       "      <td>...</td>\n",
       "      <td>2.16</td>\n",
       "      <td>0.8</td>\n",
       "      <td>1.82</td>\n",
       "      <td>0.000000</td>\n",
       "      <td>1.0</td>\n",
       "      <td>23.47</td>\n",
       "      <td>0.143046</td>\n",
       "      <td>0.0000</td>\n",
       "      <td>0</td>\n",
       "      <td>0</td>\n",
       "    </tr>\n",
       "    <tr>\n",
       "      <th>9273</th>\n",
       "      <td>2022-03-23 16:00:00</td>\n",
       "      <td>447.0 2022-03-25</td>\n",
       "      <td>443.84</td>\n",
       "      <td>3/25/2022</td>\n",
       "      <td>2.00</td>\n",
       "      <td>0.32357</td>\n",
       "      <td>0.05317</td>\n",
       "      <td>0.13772</td>\n",
       "      <td>-0.48289</td>\n",
       "      <td>0.01081</td>\n",
       "      <td>...</td>\n",
       "      <td>3.16</td>\n",
       "      <td>0.8</td>\n",
       "      <td>1.43</td>\n",
       "      <td>0.000000</td>\n",
       "      <td>1.0</td>\n",
       "      <td>23.47</td>\n",
       "      <td>0.143046</td>\n",
       "      <td>0.0000</td>\n",
       "      <td>0</td>\n",
       "      <td>0</td>\n",
       "    </tr>\n",
       "    <tr>\n",
       "      <th>9274</th>\n",
       "      <td>2022-03-23 16:00:00</td>\n",
       "      <td>448.0 2022-03-25</td>\n",
       "      <td>443.84</td>\n",
       "      <td>3/25/2022</td>\n",
       "      <td>2.00</td>\n",
       "      <td>0.27055</td>\n",
       "      <td>0.04956</td>\n",
       "      <td>0.12697</td>\n",
       "      <td>-0.42935</td>\n",
       "      <td>0.00908</td>\n",
       "      <td>...</td>\n",
       "      <td>4.16</td>\n",
       "      <td>0.8</td>\n",
       "      <td>1.10</td>\n",
       "      <td>0.000000</td>\n",
       "      <td>1.0</td>\n",
       "      <td>23.47</td>\n",
       "      <td>0.143046</td>\n",
       "      <td>0.0000</td>\n",
       "      <td>0</td>\n",
       "      <td>0</td>\n",
       "    </tr>\n",
       "    <tr>\n",
       "      <th>9275</th>\n",
       "      <td>2022-03-23 16:00:00</td>\n",
       "      <td>445.0 2022-03-25</td>\n",
       "      <td>443.84</td>\n",
       "      <td>3/25/2022</td>\n",
       "      <td>2.00</td>\n",
       "      <td>0.43827</td>\n",
       "      <td>0.05632</td>\n",
       "      <td>0.15118</td>\n",
       "      <td>-0.56141</td>\n",
       "      <td>0.01461</td>\n",
       "      <td>...</td>\n",
       "      <td>1.16</td>\n",
       "      <td>0.8</td>\n",
       "      <td>2.30</td>\n",
       "      <td>0.000000</td>\n",
       "      <td>1.0</td>\n",
       "      <td>23.47</td>\n",
       "      <td>0.143046</td>\n",
       "      <td>0.0000</td>\n",
       "      <td>0</td>\n",
       "      <td>0</td>\n",
       "    </tr>\n",
       "  </tbody>\n",
       "</table>\n",
       "<p>9276 rows × 25 columns</p>\n",
       "</div>"
      ],
      "text/plain": [
       "           QUOTE_READTIME          CONTRACT  SPY PRICE EXPIRE_DATE   DTE  \\\n",
       "0     2022-01-03 09:30:00  474.0 2022-01-07     476.43    1/7/2022  4.27   \n",
       "1     2022-01-03 09:30:00  491.0 2022-01-07     476.43    1/7/2022  4.27   \n",
       "2     2022-01-03 09:30:00  490.0 2022-01-07     476.43    1/7/2022  4.27   \n",
       "3     2022-01-03 09:30:00  489.0 2022-01-07     476.43    1/7/2022  4.27   \n",
       "4     2022-01-03 09:30:00  488.0 2022-01-07     476.43    1/7/2022  4.27   \n",
       "...                   ...               ...        ...         ...   ...   \n",
       "9271  2022-03-23 16:00:00  450.0 2022-03-25     443.84   3/25/2022  2.00   \n",
       "9272  2022-03-23 16:00:00  446.0 2022-03-25     443.84   3/25/2022  2.00   \n",
       "9273  2022-03-23 16:00:00  447.0 2022-03-25     443.84   3/25/2022  2.00   \n",
       "9274  2022-03-23 16:00:00  448.0 2022-03-25     443.84   3/25/2022  2.00   \n",
       "9275  2022-03-23 16:00:00  445.0 2022-03-25     443.84   3/25/2022  2.00   \n",
       "\n",
       "      C_DELTA  C_GAMMA   C_VEGA  C_THETA    C_RHO  ...  STRIKE DISTANCE  \\\n",
       "0     0.62598  0.05055  0.21136 -0.28773  0.03788  ...            -2.43   \n",
       "1     0.01171  0.00474  0.01717 -0.01484  0.00056  ...            14.57   \n",
       "2     0.01569  0.00635  0.02257 -0.01973  0.00132  ...            13.57   \n",
       "3     0.02331  0.00888  0.03151 -0.02878  0.00105  ...            12.57   \n",
       "4     0.02852  0.01072  0.03713 -0.03303  0.00202  ...            11.57   \n",
       "...       ...      ...      ...      ...      ...  ...              ...   \n",
       "9271  0.17749  0.03974  0.09998 -0.31313  0.00589  ...             6.16   \n",
       "9272  0.38057  0.05533  0.14627 -0.52994  0.01244  ...             2.16   \n",
       "9273  0.32357  0.05317  0.13772 -0.48289  0.01081  ...             3.16   \n",
       "9274  0.27055  0.04956  0.12697 -0.42935  0.00908  ...             4.16   \n",
       "9275  0.43827  0.05632  0.15118 -0.56141  0.01461  ...             1.16   \n",
       "\n",
       "      INFLATION%  PRICECLOSE      ROI %    y  VIX PRICE  AVG SCORE  MED SCORE  \\\n",
       "0            0.8        0.55 -87.089202  0.0      17.68   0.196649     0.0258   \n",
       "1            0.8        0.01   0.000000  1.0      17.68   0.196649     0.0258   \n",
       "2            0.8        0.02   0.000000  1.0      17.68   0.196649     0.0258   \n",
       "3            0.8        0.01 -66.666667  0.0      17.68   0.196649     0.0258   \n",
       "4            0.8        0.01 -75.000000  0.0      17.68   0.196649     0.0258   \n",
       "...          ...         ...        ...  ...        ...        ...        ...   \n",
       "9271         0.8        0.63   0.000000  1.0      23.47   0.143046     0.0000   \n",
       "9272         0.8        1.82   0.000000  1.0      23.47   0.143046     0.0000   \n",
       "9273         0.8        1.43   0.000000  1.0      23.47   0.143046     0.0000   \n",
       "9274         0.8        1.10   0.000000  1.0      23.47   0.143046     0.0000   \n",
       "9275         0.8        2.30   0.000000  1.0      23.47   0.143046     0.0000   \n",
       "\n",
       "      SEN IND AVG NUM  SEN IND MED NUM  \n",
       "0                   0                0  \n",
       "1                   0                0  \n",
       "2                   0                0  \n",
       "3                   0                0  \n",
       "4                   0                0  \n",
       "...               ...              ...  \n",
       "9271                0                0  \n",
       "9272                0                0  \n",
       "9273                0                0  \n",
       "9274                0                0  \n",
       "9275                0                0  \n",
       "\n",
       "[9276 rows x 25 columns]"
      ]
     },
     "execution_count": 2,
     "metadata": {},
     "output_type": "execute_result"
    }
   ],
   "source": [
    "spy_path = Path('./Resources/full_df_filt.csv')\n",
    "df = pd.read_csv(spy_path)\n",
    "df"
   ]
  },
  {
   "cell_type": "code",
   "execution_count": 3,
   "id": "9f32569f-3472-4137-858d-ca36eb75e752",
   "metadata": {},
   "outputs": [],
   "source": [
    "df = df.set_index(\"QUOTE_READTIME\")"
   ]
  },
  {
   "cell_type": "code",
   "execution_count": 4,
   "id": "568d851c-163b-4a62-95ac-5395d47869a8",
   "metadata": {},
   "outputs": [
    {
     "data": {
      "text/plain": [
       "(9276, 24)"
      ]
     },
     "execution_count": 4,
     "metadata": {},
     "output_type": "execute_result"
    }
   ],
   "source": [
    "df.shape"
   ]
  },
  {
   "cell_type": "code",
   "execution_count": 5,
   "id": "481978f5-23d2-4be2-8ca8-6ca16f7e54e3",
   "metadata": {},
   "outputs": [
    {
     "data": {
      "text/html": [
       "<div>\n",
       "<style scoped>\n",
       "    .dataframe tbody tr th:only-of-type {\n",
       "        vertical-align: middle;\n",
       "    }\n",
       "\n",
       "    .dataframe tbody tr th {\n",
       "        vertical-align: top;\n",
       "    }\n",
       "\n",
       "    .dataframe thead th {\n",
       "        text-align: right;\n",
       "    }\n",
       "</style>\n",
       "<table border=\"1\" class=\"dataframe\">\n",
       "  <thead>\n",
       "    <tr style=\"text-align: right;\">\n",
       "      <th></th>\n",
       "      <th>CONTRACT</th>\n",
       "      <th>SPY PRICE</th>\n",
       "      <th>EXPIRE_DATE</th>\n",
       "      <th>DTE</th>\n",
       "      <th>C_DELTA</th>\n",
       "      <th>C_GAMMA</th>\n",
       "      <th>C_VEGA</th>\n",
       "      <th>C_THETA</th>\n",
       "      <th>C_RHO</th>\n",
       "      <th>C_IV</th>\n",
       "      <th>...</th>\n",
       "      <th>STRIKE DISTANCE</th>\n",
       "      <th>INFLATION%</th>\n",
       "      <th>PRICECLOSE</th>\n",
       "      <th>ROI %</th>\n",
       "      <th>y</th>\n",
       "      <th>VIX PRICE</th>\n",
       "      <th>AVG SCORE</th>\n",
       "      <th>MED SCORE</th>\n",
       "      <th>SEN IND AVG NUM</th>\n",
       "      <th>SEN IND MED NUM</th>\n",
       "    </tr>\n",
       "    <tr>\n",
       "      <th>QUOTE_READTIME</th>\n",
       "      <th></th>\n",
       "      <th></th>\n",
       "      <th></th>\n",
       "      <th></th>\n",
       "      <th></th>\n",
       "      <th></th>\n",
       "      <th></th>\n",
       "      <th></th>\n",
       "      <th></th>\n",
       "      <th></th>\n",
       "      <th></th>\n",
       "      <th></th>\n",
       "      <th></th>\n",
       "      <th></th>\n",
       "      <th></th>\n",
       "      <th></th>\n",
       "      <th></th>\n",
       "      <th></th>\n",
       "      <th></th>\n",
       "      <th></th>\n",
       "      <th></th>\n",
       "    </tr>\n",
       "  </thead>\n",
       "  <tbody>\n",
       "    <tr>\n",
       "      <th>2022-01-03 09:30:00</th>\n",
       "      <td>474.0 2022-01-07</td>\n",
       "      <td>476.43</td>\n",
       "      <td>1/7/2022</td>\n",
       "      <td>4.27</td>\n",
       "      <td>0.62598</td>\n",
       "      <td>0.05055</td>\n",
       "      <td>0.21136</td>\n",
       "      <td>-0.28773</td>\n",
       "      <td>0.03788</td>\n",
       "      <td>0.13515</td>\n",
       "      <td>...</td>\n",
       "      <td>-2.43</td>\n",
       "      <td>0.8</td>\n",
       "      <td>0.55</td>\n",
       "      <td>-87.089202</td>\n",
       "      <td>0.0</td>\n",
       "      <td>17.68</td>\n",
       "      <td>0.196649</td>\n",
       "      <td>0.0258</td>\n",
       "      <td>0</td>\n",
       "      <td>0</td>\n",
       "    </tr>\n",
       "    <tr>\n",
       "      <th>2022-01-03 09:30:00</th>\n",
       "      <td>491.0 2022-01-07</td>\n",
       "      <td>476.43</td>\n",
       "      <td>1/7/2022</td>\n",
       "      <td>4.27</td>\n",
       "      <td>0.01171</td>\n",
       "      <td>0.00474</td>\n",
       "      <td>0.01717</td>\n",
       "      <td>-0.01484</td>\n",
       "      <td>0.00056</td>\n",
       "      <td>0.11400</td>\n",
       "      <td>...</td>\n",
       "      <td>14.57</td>\n",
       "      <td>0.8</td>\n",
       "      <td>0.01</td>\n",
       "      <td>0.000000</td>\n",
       "      <td>1.0</td>\n",
       "      <td>17.68</td>\n",
       "      <td>0.196649</td>\n",
       "      <td>0.0258</td>\n",
       "      <td>0</td>\n",
       "      <td>0</td>\n",
       "    </tr>\n",
       "    <tr>\n",
       "      <th>2022-01-03 09:30:00</th>\n",
       "      <td>490.0 2022-01-07</td>\n",
       "      <td>476.43</td>\n",
       "      <td>1/7/2022</td>\n",
       "      <td>4.27</td>\n",
       "      <td>0.01569</td>\n",
       "      <td>0.00635</td>\n",
       "      <td>0.02257</td>\n",
       "      <td>-0.01973</td>\n",
       "      <td>0.00132</td>\n",
       "      <td>0.11196</td>\n",
       "      <td>...</td>\n",
       "      <td>13.57</td>\n",
       "      <td>0.8</td>\n",
       "      <td>0.02</td>\n",
       "      <td>0.000000</td>\n",
       "      <td>1.0</td>\n",
       "      <td>17.68</td>\n",
       "      <td>0.196649</td>\n",
       "      <td>0.0258</td>\n",
       "      <td>0</td>\n",
       "      <td>0</td>\n",
       "    </tr>\n",
       "    <tr>\n",
       "      <th>2022-01-03 09:30:00</th>\n",
       "      <td>489.0 2022-01-07</td>\n",
       "      <td>476.43</td>\n",
       "      <td>1/7/2022</td>\n",
       "      <td>4.27</td>\n",
       "      <td>0.02331</td>\n",
       "      <td>0.00888</td>\n",
       "      <td>0.03151</td>\n",
       "      <td>-0.02878</td>\n",
       "      <td>0.00105</td>\n",
       "      <td>0.11290</td>\n",
       "      <td>...</td>\n",
       "      <td>12.57</td>\n",
       "      <td>0.8</td>\n",
       "      <td>0.01</td>\n",
       "      <td>-66.666667</td>\n",
       "      <td>0.0</td>\n",
       "      <td>17.68</td>\n",
       "      <td>0.196649</td>\n",
       "      <td>0.0258</td>\n",
       "      <td>0</td>\n",
       "      <td>0</td>\n",
       "    </tr>\n",
       "    <tr>\n",
       "      <th>2022-01-03 09:30:00</th>\n",
       "      <td>488.0 2022-01-07</td>\n",
       "      <td>476.43</td>\n",
       "      <td>1/7/2022</td>\n",
       "      <td>4.27</td>\n",
       "      <td>0.02852</td>\n",
       "      <td>0.01072</td>\n",
       "      <td>0.03713</td>\n",
       "      <td>-0.03303</td>\n",
       "      <td>0.00202</td>\n",
       "      <td>0.10768</td>\n",
       "      <td>...</td>\n",
       "      <td>11.57</td>\n",
       "      <td>0.8</td>\n",
       "      <td>0.01</td>\n",
       "      <td>-75.000000</td>\n",
       "      <td>0.0</td>\n",
       "      <td>17.68</td>\n",
       "      <td>0.196649</td>\n",
       "      <td>0.0258</td>\n",
       "      <td>0</td>\n",
       "      <td>0</td>\n",
       "    </tr>\n",
       "    <tr>\n",
       "      <th>...</th>\n",
       "      <td>...</td>\n",
       "      <td>...</td>\n",
       "      <td>...</td>\n",
       "      <td>...</td>\n",
       "      <td>...</td>\n",
       "      <td>...</td>\n",
       "      <td>...</td>\n",
       "      <td>...</td>\n",
       "      <td>...</td>\n",
       "      <td>...</td>\n",
       "      <td>...</td>\n",
       "      <td>...</td>\n",
       "      <td>...</td>\n",
       "      <td>...</td>\n",
       "      <td>...</td>\n",
       "      <td>...</td>\n",
       "      <td>...</td>\n",
       "      <td>...</td>\n",
       "      <td>...</td>\n",
       "      <td>...</td>\n",
       "      <td>...</td>\n",
       "    </tr>\n",
       "    <tr>\n",
       "      <th>2022-03-23 16:00:00</th>\n",
       "      <td>450.0 2022-03-25</td>\n",
       "      <td>443.84</td>\n",
       "      <td>3/25/2022</td>\n",
       "      <td>2.00</td>\n",
       "      <td>0.17749</td>\n",
       "      <td>0.03974</td>\n",
       "      <td>0.09998</td>\n",
       "      <td>-0.31313</td>\n",
       "      <td>0.00589</td>\n",
       "      <td>0.17096</td>\n",
       "      <td>...</td>\n",
       "      <td>6.16</td>\n",
       "      <td>0.8</td>\n",
       "      <td>0.63</td>\n",
       "      <td>0.000000</td>\n",
       "      <td>1.0</td>\n",
       "      <td>23.47</td>\n",
       "      <td>0.143046</td>\n",
       "      <td>0.0000</td>\n",
       "      <td>0</td>\n",
       "      <td>0</td>\n",
       "    </tr>\n",
       "    <tr>\n",
       "      <th>2022-03-23 16:00:00</th>\n",
       "      <td>446.0 2022-03-25</td>\n",
       "      <td>443.84</td>\n",
       "      <td>3/25/2022</td>\n",
       "      <td>2.00</td>\n",
       "      <td>0.38057</td>\n",
       "      <td>0.05533</td>\n",
       "      <td>0.14627</td>\n",
       "      <td>-0.52994</td>\n",
       "      <td>0.01244</td>\n",
       "      <td>0.17937</td>\n",
       "      <td>...</td>\n",
       "      <td>2.16</td>\n",
       "      <td>0.8</td>\n",
       "      <td>1.82</td>\n",
       "      <td>0.000000</td>\n",
       "      <td>1.0</td>\n",
       "      <td>23.47</td>\n",
       "      <td>0.143046</td>\n",
       "      <td>0.0000</td>\n",
       "      <td>0</td>\n",
       "      <td>0</td>\n",
       "    </tr>\n",
       "    <tr>\n",
       "      <th>2022-03-23 16:00:00</th>\n",
       "      <td>447.0 2022-03-25</td>\n",
       "      <td>443.84</td>\n",
       "      <td>3/25/2022</td>\n",
       "      <td>2.00</td>\n",
       "      <td>0.32357</td>\n",
       "      <td>0.05317</td>\n",
       "      <td>0.13772</td>\n",
       "      <td>-0.48289</td>\n",
       "      <td>0.01081</td>\n",
       "      <td>0.17641</td>\n",
       "      <td>...</td>\n",
       "      <td>3.16</td>\n",
       "      <td>0.8</td>\n",
       "      <td>1.43</td>\n",
       "      <td>0.000000</td>\n",
       "      <td>1.0</td>\n",
       "      <td>23.47</td>\n",
       "      <td>0.143046</td>\n",
       "      <td>0.0000</td>\n",
       "      <td>0</td>\n",
       "      <td>0</td>\n",
       "    </tr>\n",
       "    <tr>\n",
       "      <th>2022-03-23 16:00:00</th>\n",
       "      <td>448.0 2022-03-25</td>\n",
       "      <td>443.84</td>\n",
       "      <td>3/25/2022</td>\n",
       "      <td>2.00</td>\n",
       "      <td>0.27055</td>\n",
       "      <td>0.04956</td>\n",
       "      <td>0.12697</td>\n",
       "      <td>-0.42935</td>\n",
       "      <td>0.00908</td>\n",
       "      <td>0.17361</td>\n",
       "      <td>...</td>\n",
       "      <td>4.16</td>\n",
       "      <td>0.8</td>\n",
       "      <td>1.10</td>\n",
       "      <td>0.000000</td>\n",
       "      <td>1.0</td>\n",
       "      <td>23.47</td>\n",
       "      <td>0.143046</td>\n",
       "      <td>0.0000</td>\n",
       "      <td>0</td>\n",
       "      <td>0</td>\n",
       "    </tr>\n",
       "    <tr>\n",
       "      <th>2022-03-23 16:00:00</th>\n",
       "      <td>445.0 2022-03-25</td>\n",
       "      <td>443.84</td>\n",
       "      <td>3/25/2022</td>\n",
       "      <td>2.00</td>\n",
       "      <td>0.43827</td>\n",
       "      <td>0.05632</td>\n",
       "      <td>0.15118</td>\n",
       "      <td>-0.56141</td>\n",
       "      <td>0.01461</td>\n",
       "      <td>0.18219</td>\n",
       "      <td>...</td>\n",
       "      <td>1.16</td>\n",
       "      <td>0.8</td>\n",
       "      <td>2.30</td>\n",
       "      <td>0.000000</td>\n",
       "      <td>1.0</td>\n",
       "      <td>23.47</td>\n",
       "      <td>0.143046</td>\n",
       "      <td>0.0000</td>\n",
       "      <td>0</td>\n",
       "      <td>0</td>\n",
       "    </tr>\n",
       "  </tbody>\n",
       "</table>\n",
       "<p>9276 rows × 24 columns</p>\n",
       "</div>"
      ],
      "text/plain": [
       "                             CONTRACT  SPY PRICE EXPIRE_DATE   DTE  C_DELTA  \\\n",
       "QUOTE_READTIME                                                                \n",
       "2022-01-03 09:30:00  474.0 2022-01-07     476.43    1/7/2022  4.27  0.62598   \n",
       "2022-01-03 09:30:00  491.0 2022-01-07     476.43    1/7/2022  4.27  0.01171   \n",
       "2022-01-03 09:30:00  490.0 2022-01-07     476.43    1/7/2022  4.27  0.01569   \n",
       "2022-01-03 09:30:00  489.0 2022-01-07     476.43    1/7/2022  4.27  0.02331   \n",
       "2022-01-03 09:30:00  488.0 2022-01-07     476.43    1/7/2022  4.27  0.02852   \n",
       "...                               ...        ...         ...   ...      ...   \n",
       "2022-03-23 16:00:00  450.0 2022-03-25     443.84   3/25/2022  2.00  0.17749   \n",
       "2022-03-23 16:00:00  446.0 2022-03-25     443.84   3/25/2022  2.00  0.38057   \n",
       "2022-03-23 16:00:00  447.0 2022-03-25     443.84   3/25/2022  2.00  0.32357   \n",
       "2022-03-23 16:00:00  448.0 2022-03-25     443.84   3/25/2022  2.00  0.27055   \n",
       "2022-03-23 16:00:00  445.0 2022-03-25     443.84   3/25/2022  2.00  0.43827   \n",
       "\n",
       "                     C_GAMMA   C_VEGA  C_THETA    C_RHO     C_IV  ...  \\\n",
       "QUOTE_READTIME                                                    ...   \n",
       "2022-01-03 09:30:00  0.05055  0.21136 -0.28773  0.03788  0.13515  ...   \n",
       "2022-01-03 09:30:00  0.00474  0.01717 -0.01484  0.00056  0.11400  ...   \n",
       "2022-01-03 09:30:00  0.00635  0.02257 -0.01973  0.00132  0.11196  ...   \n",
       "2022-01-03 09:30:00  0.00888  0.03151 -0.02878  0.00105  0.11290  ...   \n",
       "2022-01-03 09:30:00  0.01072  0.03713 -0.03303  0.00202  0.10768  ...   \n",
       "...                      ...      ...      ...      ...      ...  ...   \n",
       "2022-03-23 16:00:00  0.03974  0.09998 -0.31313  0.00589  0.17096  ...   \n",
       "2022-03-23 16:00:00  0.05533  0.14627 -0.52994  0.01244  0.17937  ...   \n",
       "2022-03-23 16:00:00  0.05317  0.13772 -0.48289  0.01081  0.17641  ...   \n",
       "2022-03-23 16:00:00  0.04956  0.12697 -0.42935  0.00908  0.17361  ...   \n",
       "2022-03-23 16:00:00  0.05632  0.15118 -0.56141  0.01461  0.18219  ...   \n",
       "\n",
       "                     STRIKE DISTANCE  INFLATION%  PRICECLOSE      ROI %    y  \\\n",
       "QUOTE_READTIME                                                                 \n",
       "2022-01-03 09:30:00            -2.43         0.8        0.55 -87.089202  0.0   \n",
       "2022-01-03 09:30:00            14.57         0.8        0.01   0.000000  1.0   \n",
       "2022-01-03 09:30:00            13.57         0.8        0.02   0.000000  1.0   \n",
       "2022-01-03 09:30:00            12.57         0.8        0.01 -66.666667  0.0   \n",
       "2022-01-03 09:30:00            11.57         0.8        0.01 -75.000000  0.0   \n",
       "...                              ...         ...         ...        ...  ...   \n",
       "2022-03-23 16:00:00             6.16         0.8        0.63   0.000000  1.0   \n",
       "2022-03-23 16:00:00             2.16         0.8        1.82   0.000000  1.0   \n",
       "2022-03-23 16:00:00             3.16         0.8        1.43   0.000000  1.0   \n",
       "2022-03-23 16:00:00             4.16         0.8        1.10   0.000000  1.0   \n",
       "2022-03-23 16:00:00             1.16         0.8        2.30   0.000000  1.0   \n",
       "\n",
       "                     VIX PRICE  AVG SCORE  MED SCORE  SEN IND AVG NUM  \\\n",
       "QUOTE_READTIME                                                          \n",
       "2022-01-03 09:30:00      17.68   0.196649     0.0258                0   \n",
       "2022-01-03 09:30:00      17.68   0.196649     0.0258                0   \n",
       "2022-01-03 09:30:00      17.68   0.196649     0.0258                0   \n",
       "2022-01-03 09:30:00      17.68   0.196649     0.0258                0   \n",
       "2022-01-03 09:30:00      17.68   0.196649     0.0258                0   \n",
       "...                        ...        ...        ...              ...   \n",
       "2022-03-23 16:00:00      23.47   0.143046     0.0000                0   \n",
       "2022-03-23 16:00:00      23.47   0.143046     0.0000                0   \n",
       "2022-03-23 16:00:00      23.47   0.143046     0.0000                0   \n",
       "2022-03-23 16:00:00      23.47   0.143046     0.0000                0   \n",
       "2022-03-23 16:00:00      23.47   0.143046     0.0000                0   \n",
       "\n",
       "                     SEN IND MED NUM  \n",
       "QUOTE_READTIME                        \n",
       "2022-01-03 09:30:00                0  \n",
       "2022-01-03 09:30:00                0  \n",
       "2022-01-03 09:30:00                0  \n",
       "2022-01-03 09:30:00                0  \n",
       "2022-01-03 09:30:00                0  \n",
       "...                              ...  \n",
       "2022-03-23 16:00:00                0  \n",
       "2022-03-23 16:00:00                0  \n",
       "2022-03-23 16:00:00                0  \n",
       "2022-03-23 16:00:00                0  \n",
       "2022-03-23 16:00:00                0  \n",
       "\n",
       "[9276 rows x 24 columns]"
      ]
     },
     "execution_count": 5,
     "metadata": {},
     "output_type": "execute_result"
    }
   ],
   "source": [
    "df"
   ]
  },
  {
   "cell_type": "code",
   "execution_count": 6,
   "id": "f4c45663-b6a9-4e62-b126-cd1797f12a83",
   "metadata": {},
   "outputs": [
    {
     "data": {
      "text/plain": [
       "(376, 24)"
      ]
     },
     "execution_count": 6,
     "metadata": {},
     "output_type": "execute_result"
    }
   ],
   "source": [
    "test = df.iloc[8900:11991]\n",
    "test.shape"
   ]
  },
  {
   "cell_type": "code",
   "execution_count": null,
   "id": "86cb3671-4fd9-4b84-ac37-294962435acf",
   "metadata": {},
   "outputs": [],
   "source": [
    "train1 = df.iloc[:8899]\n",
    "train1"
   ]
  },
  {
   "cell_type": "code",
   "execution_count": null,
   "id": "a56d9f0f-84de-43be-8fbd-266962b0f32b",
   "metadata": {},
   "outputs": [],
   "source": [
    "train2 = df.iloc[11992:]\n",
    "train2"
   ]
  },
  {
   "cell_type": "code",
   "execution_count": null,
   "id": "b31936f7-4595-47d2-b78d-124f962e13a5",
   "metadata": {},
   "outputs": [],
   "source": [
    "train = pd.concat([train1, train2], axis=0)\n",
    "train"
   ]
  },
  {
   "cell_type": "code",
   "execution_count": null,
   "id": "5e9d203b-212e-4be2-901c-f429bd4b5fbb",
   "metadata": {},
   "outputs": [],
   "source": [
    "train.to_csv(\"./Resources/train.csv\", index=None)\n",
    "test.to_csv(\"./Resources/test.csv\", index=None)"
   ]
  },
  {
   "cell_type": "markdown",
   "id": "4abfc885-4d83-4413-afad-46495f76176a",
   "metadata": {
    "tags": []
   },
   "source": [
    "# Create a 'y' column for our % profit/loss categories (0,1,2,3,4) \n",
    "# in % terms\n",
    "# 0 is <-60 = strong sell\n",
    "# 1 is (>-60 to -10) = sell\n",
    "# 2 is (>-10 to 10) = pass\n",
    "# 3 is (>10-60) = buy\n",
    "# 4 is >60 to <80 = strong buy\n",
    "# 5 is <100 = high return\n"
   ]
  },
  {
   "cell_type": "code",
   "execution_count": null,
   "id": "ff662a8b-5b40-405d-9a68-6e7a5914bb77",
   "metadata": {},
   "outputs": [],
   "source": [
    "#Inflation Data \n",
    "# Nov - 0.8% - For dec-jan\n",
    "# Dec +0.5% - For jan-feb\n",
    "# Jan +0.6% - For feb-march\n",
    "# Feb +0.8% - for March-april"
   ]
  }
 ],
 "metadata": {
  "kernelspec": {
   "display_name": "Python 3 (ipykernel)",
   "language": "python",
   "name": "python3"
  },
  "language_info": {
   "codemirror_mode": {
    "name": "ipython",
    "version": 3
   },
   "file_extension": ".py",
   "mimetype": "text/x-python",
   "name": "python",
   "nbconvert_exporter": "python",
   "pygments_lexer": "ipython3",
   "version": "3.7.13"
  }
 },
 "nbformat": 4,
 "nbformat_minor": 5
}
