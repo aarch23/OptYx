{
 "cells": [
  {
   "cell_type": "code",
   "execution_count": 31,
   "id": "fa47ecb2-6351-46fb-9b73-391fcaa70545",
   "metadata": {},
   "outputs": [],
   "source": [
    "import pandas as pd\n",
    "from pathlib import Path\n",
    "import os\n",
    "import numpy as np\n",
    "import numpy.random as rnd\n",
    "import requests\n",
    "import pandas_datareader.data as web\n",
    "import datetime as dt\n",
    "import math\n",
    "import matplotlib.pyplot as plt"
   ]
  },
  {
   "cell_type": "markdown",
   "id": "1af0c9aa-567a-46ba-9109-6260c1baca11",
   "metadata": {},
   "source": [
    "## Binomial Model"
   ]
  },
  {
   "cell_type": "code",
   "execution_count": 32,
   "id": "da391bc9-99c5-4ede-9007-ed2a233d094e",
   "metadata": {},
   "outputs": [],
   "source": [
    "# Coinflip "
   ]
  },
  {
   "cell_type": "code",
   "execution_count": 33,
   "id": "6c590ab8-756e-425b-bbe1-37528e5f1d3a",
   "metadata": {},
   "outputs": [
    {
     "name": "stdout",
     "output_type": "stream",
     "text": [
      "1.0\n",
      "4.0\n",
      "6.0\n",
      "4.0\n",
      "1.0\n"
     ]
    }
   ],
   "source": [
    "import math\n",
    "\n",
    "def combos(n, i):\n",
    "    return math.factorial(n) / (math.factorial(n-i)*math.factorial(i))\n",
    "\n",
    "for i in range(5):\n",
    "    print(combos(4,i))\n"
   ]
  },
  {
   "cell_type": "code",
   "execution_count": 34,
   "id": "c5d6331e-928e-4501-b3db-243761a89c14",
   "metadata": {},
   "outputs": [],
   "source": [
    "# Payoff\n"
   ]
  },
  {
   "cell_type": "code",
   "execution_count": 35,
   "id": "a218d205-d129-4950-b8e0-179cb165c2d0",
   "metadata": {},
   "outputs": [
    {
     "name": "stdout",
     "output_type": "stream",
     "text": [
      "2.0\n"
     ]
    }
   ],
   "source": [
    "fair_value = 0 \n",
    "n= 4 # number of coin flips\n",
    "for k in range(n+1):\n",
    "    fair_value += combos(n,k)*0.5**k*0.5**(n-k) * k\n",
    "    \n",
    "print(fair_value)\n",
    "\n",
    "#2.0"
   ]
  },
  {
   "cell_type": "code",
   "execution_count": 36,
   "id": "aab451a9-e63f-4284-81e7-5c1f6ab5000d",
   "metadata": {},
   "outputs": [],
   "source": [
    "# Binomial "
   ]
  },
  {
   "cell_type": "code",
   "execution_count": 37,
   "id": "2d8518c9-fc55-49ab-865a-29eabdaa1dbd",
   "metadata": {},
   "outputs": [
    {
     "name": "stdout",
     "output_type": "stream",
     "text": [
      "176.07 71.07\n",
      "132.69 27.69\n",
      "100.0 0\n",
      "75.36 0\n",
      "56.8 0\n"
     ]
    }
   ],
   "source": [
    "N = 4\n",
    "S0  = 100\n",
    "T = 0.5\n",
    "sigma = 0.4\n",
    "dt = T/N\n",
    "K =105\n",
    "r = 0.05\n",
    "u = np.exp( sigma * np.sqrt(dt) )\n",
    "d =  np.exp( -sigma * np.sqrt(dt) )\n",
    "p = ( np.exp(r*dt) - d) / (u -d)\n",
    "\n",
    "for k in reversed(range(N+1)):\n",
    "    ST = S0 * u**k * d ** (N-k)\n",
    "    print(round(ST,2), round(max(ST-K,0),2))"
   ]
  },
  {
   "cell_type": "code",
   "execution_count": 38,
   "id": "a78959d1-a6a2-43d1-ac18-127603e32250",
   "metadata": {},
   "outputs": [],
   "source": [
    "# Probability"
   ]
  },
  {
   "cell_type": "code",
   "execution_count": 39,
   "id": "adfe0cba-eea5-4a5b-a84c-365ef0c90efb",
   "metadata": {},
   "outputs": [
    {
     "name": "stdout",
     "output_type": "stream",
     "text": [
      "0.06\n",
      "0.24\n",
      "0.37\n",
      "0.26\n",
      "0.07\n"
     ]
    }
   ],
   "source": [
    "def combos(n, i):\n",
    "    return math.factorial(n) / (math.factorial(n-i)*math.factorial(i))\n",
    "    \n",
    "for k in reversed(range(N+1)):\n",
    "    p_star = combos(N, k)*p**k *(1-p)**(N-k)\n",
    "    print(round(p_star,2))"
   ]
  },
  {
   "cell_type": "code",
   "execution_count": 40,
   "id": "82e10052-7406-47ad-9e3c-807d1ba2e47c",
   "metadata": {},
   "outputs": [],
   "source": [
    "# Finding Call Value "
   ]
  },
  {
   "cell_type": "code",
   "execution_count": 41,
   "id": "7d000a90-1ab0-4bbb-a209-3eb35e72eafa",
   "metadata": {},
   "outputs": [
    {
     "name": "stdout",
     "output_type": "stream",
     "text": [
      "10.287301121702995\n"
     ]
    }
   ],
   "source": [
    "C=0   \n",
    "for k in reversed(range(N+1)):\n",
    "    p_star = combos(N, k)*p**k *(1-p)**(N-k)\n",
    "    ST = S0 * u**k * d ** (N-k)\n",
    "    C += max(ST-K,0)*p_star\n",
    "    \n",
    "print(np.exp(-r*T)*C)\n"
   ]
  },
  {
   "cell_type": "code",
   "execution_count": 42,
   "id": "b9ac8646-5476-40c3-b2b8-0d1f0c8d035c",
   "metadata": {},
   "outputs": [],
   "source": [
    "# Binomial option pricing using coinflip"
   ]
  },
  {
   "cell_type": "code",
   "execution_count": 43,
   "id": "192dc7d2-355b-4311-8561-1ea20dbe7a85",
   "metadata": {},
   "outputs": [
    {
     "data": {
      "text/plain": [
       "Text(0, 0.5, 'Stock Price')"
      ]
     },
     "execution_count": 43,
     "metadata": {},
     "output_type": "execute_result"
    },
    {
     "data": {
      "image/png": "[encoded data removed]",
      "text/plain": [
       "<Figure size 432x288 with 1 Axes>"
      ]
     },
     "metadata": {
      "needs_background": "light"
     },
     "output_type": "display_data"
    }
   ],
   "source": [
    "N=100000\n",
    "sigma = 0.4\n",
    "T = 0.5\n",
    "K = 105\n",
    "r= 0.05\n",
    "dt = T / N\n",
    "Heads = np.exp(sigma * np.sqrt(dt))\n",
    "Tails = np.exp(-sigma * np.sqrt(dt))\n",
    "S0 = 100\n",
    "p = (  np.exp(r*dt) - Tails )  /  ( Heads - Tails )\n",
    "paths = np.random.choice([Heads,Tails],p=[p,1-p],size=(N,1))\n",
    "plt.plot(paths.cumprod(axis=0)*100, color='black');\n",
    "plt.xlabel('Steps')\n",
    "plt.ylabel('Stock Price')"
   ]
  },
  {
   "cell_type": "code",
   "execution_count": 49,
   "id": "0f35aef9-20a1-4d0d-8ade-e0af46ccbd04",
   "metadata": {},
   "outputs": [
    {
     "data": {
      "image/png": "[encoded data removed]",
      "text/plain": [
       "<Figure size 432x288 with 1 Axes>"
      ]
     },
     "metadata": {
      "needs_background": "light"
     },
     "output_type": "display_data"
    }
   ],
   "source": [
    "paths = np.random.choice([Heads,Tails],p=[p,1-p],size=(N,1000))\n",
    "plt.plot(paths.cumprod(axis=0)*100, color='blue');"
   ]
  },
  {
   "cell_type": "code",
   "execution_count": null,
   "id": "9dea2f0f-3656-4fae-8836-4a6b3d7bb97f",
   "metadata": {},
   "outputs": [],
   "source": []
  },
  {
   "cell_type": "markdown",
   "id": "9e33a5d4-64d9-48ef-b413-f27f36c5853a",
   "metadata": {},
   "source": [
    "## The Rough Work code"
   ]
  },
  {
   "cell_type": "code",
   "execution_count": 45,
   "id": "c6e6f6a5-3470-41bd-8f82-ee50dbda6b37",
   "metadata": {},
   "outputs": [],
   "source": [
    "############params################\n",
    "N = 4\n",
    "S0  = 100\n",
    "T = 0.5\n",
    "sigma = 0.4\n",
    "dt = T/N\n",
    "K =105\n",
    "r = 0.05\n",
    "u = np.exp( sigma * np.sqrt(dt) )\n",
    "d =  np.exp( -sigma * np.sqrt(dt) )\n",
    "p = ( np.exp(r*dt) - d) / (u -d)\n"
   ]
  },
  {
   "cell_type": "code",
   "execution_count": 46,
   "id": "7fece01f-0ebb-4f34-86c2-036bfd3f76d5",
   "metadata": {},
   "outputs": [
    {
     "name": "stdout",
     "output_type": "stream",
     "text": [
      "176.07 71.07\n",
      "132.69 27.69\n",
      "100.0 0\n",
      "75.36 0\n",
      "56.8 0\n"
     ]
    }
   ],
   "source": [
    "######showing terminal stock prices for 4 step model################\n",
    "\n",
    "for k in reversed(range(N+1)):\n",
    "    ST = S0 * u**k * d ** (N-k)\n",
    "    print(round(ST,2), round(max(ST-K,0),2))\n"
   ]
  },
  {
   "cell_type": "code",
   "execution_count": 47,
   "id": "c85827ae-47e3-46a5-9365-7b30a96434c7",
   "metadata": {},
   "outputs": [
    {
     "name": "stdout",
     "output_type": "stream",
     "text": [
      "0.06\n",
      "0.24\n",
      "0.37\n",
      "0.26\n",
      "0.07\n"
     ]
    }
   ],
   "source": [
    "############showing node probabilities\n",
    "def combos(n, i):\n",
    "    return math.factorial(n) / (math.factorial(n-i)*math.factorial(i))\n",
    "    \n",
    "for k in reversed(range(N+1)):\n",
    "    p_star = combos(N, k)*p**k *(1-p)**(N-k)\n",
    "    print(round(p_star,2))\n",
    "    "
   ]
  },
  {
   "cell_type": "code",
   "execution_count": 48,
   "id": "b438f49c-78b6-453b-9dc7-42e4a6a34edb",
   "metadata": {},
   "outputs": [
    {
     "name": "stdout",
     "output_type": "stream",
     "text": [
      "10.287301121702995\n"
     ]
    }
   ],
   "source": [
    "######valuing the call from example#######################\n",
    "\n",
    "C=0   \n",
    "for k in reversed(range(N+1)):\n",
    "    p_star = combos(N, k)*p**k *(1-p)**(N-k)\n",
    "    ST = S0 * u**k * d ** (N-k)\n",
    "    C += max(ST-K,0)*p_star\n",
    "    \n",
    "print(np.exp(-r*T)*C)"
   ]
  },
  {
   "cell_type": "code",
   "execution_count": null,
   "id": "319f7402-325e-4803-977d-8194a5a7d84a",
   "metadata": {},
   "outputs": [],
   "source": []
  },
  {
   "cell_type": "code",
   "execution_count": null,
   "id": "c817be37-7fce-44f1-ae3b-b21b8fa120fa",
   "metadata": {},
   "outputs": [],
   "source": []
  }
 ],
 "metadata": {
  "kernelspec": {
   "display_name": "Python 3 (ipykernel)",
   "language": "python",
   "name": "python3"
  },
  "language_info": {
   "codemirror_mode": {
    "name": "ipython",
    "version": 3
   },
   "file_extension": ".py",
   "mimetype": "text/x-python",
   "name": "python",
   "nbconvert_exporter": "python",
   "pygments_lexer": "ipython3",
   "version": "3.7.11"
  }
 },
 "nbformat": 4,
 "nbformat_minor": 5
}
