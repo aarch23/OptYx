{
 "cells": [
  {
   "cell_type": "markdown",
   "id": "b366d032-876c-4dda-aeda-dfb5a480e1b9",
   "metadata": {},
   "source": [
    "# __Predicting Outcomes of Call Option Contracts with Multi-Class Classification__"
   ]
  },
  {
   "cell_type": "markdown",
   "id": "45f4b4bc-687d-46d1-8e94-2440f2f591d2",
   "metadata": {},
   "source": [
    "## Notebook is presently setup for: *21Q4 through 22Q1, SPY, Weekly Call Contracts*"
   ]
  },
  {
   "cell_type": "markdown",
   "id": "5de779b2-e98b-413a-be63-fc4f7e4d2e73",
   "metadata": {},
   "source": [
    "# __SECTION 1: Preparation__"
   ]
  },
  {
   "cell_type": "markdown",
   "id": "897998b3-a994-4368-ae10-23b716c78032",
   "metadata": {},
   "source": [
    "##  1.1.) Loading the Python packages"
   ]
  },
  {
   "cell_type": "code",
   "execution_count": 1,
   "id": "1a812aef-4bde-4fc4-aa1e-86db161f6432",
   "metadata": {},
   "outputs": [],
   "source": [
    "\n",
    "from sklearn import datasets\n",
    "\n",
    "# Import the modules\n",
    "import numpy as np\n",
    "import pandas as pd\n",
    "from pathlib import Path\n",
    "import random\n",
    "\n",
    "# Load libraries\n",
    "import numpy as np\n",
    "import pandas as pd\n",
    "from matplotlib import pyplot\n",
    "from pandas import read_csv, set_option\n",
    "from pandas.plotting import scatter_matrix\n",
    "import seaborn as sns\n",
    "from sklearn.preprocessing import StandardScaler\n",
    "from sklearn.model_selection import train_test_split, KFold, StratifiedKFold, cross_val_score, GridSearchCV\n",
    "from evolutionary_search import EvolutionaryAlgorithmSearchCV\n",
    "\n",
    "import xgboost as xgb\n",
    "from xgboost import XGBClassifier\n",
    "from sklearn.tree import DecisionTreeClassifier\n",
    "from sklearn.neighbors import KNeighborsClassifier\n",
    "from sklearn.svm import SVC\n",
    "#from sklearn.neural_network import MLPClassifier\n",
    "from sklearn.pipeline import Pipeline\n",
    "from sklearn.ensemble import AdaBoostClassifier, GradientBoostingClassifier, RandomForestClassifier, ExtraTreesClassifier\n",
    "\n",
    "#importing classification_report, confusion_matrix\n",
    "from sklearn.metrics import classification_report, confusion_matrix\n",
    "\n",
    "#importing accuracy_score, precision_score, recall_score, f1_score\n",
    "from sklearn.metrics import accuracy_score, precision_score, recall_score, f1_score, roc_auc_score\n",
    "\n",
    "# import packages for hyperparameters tuning\n",
    "from hyperopt import STATUS_OK, Trials, fmin, hp, tpe\n",
    "\n",
    "#Libraries for Saving the Model\n",
    "from pickle import dump\n",
    "from pickle import load\n",
    "\n",
    "import warnings\n",
    "warnings.filterwarnings('ignore')\n",
    "\n"
   ]
  },
  {
   "cell_type": "markdown",
   "id": "fbcef949-f988-4c36-a2d8-e6da60be991e",
   "metadata": {},
   "source": [
    "## 1.2.) Loading the Data: Training and Validation Datasets \n",
    "### *(Separate timeframes for train and validation datasets are used)*"
   ]
  },
  {
   "cell_type": "code",
   "execution_count": 2,
   "id": "7dfab611-6add-4cb4-9044-ad6bdf929f6a",
   "metadata": {
    "tags": []
   },
   "outputs": [],
   "source": [
    "#Import training data (an entirely separate chunk of time from validation data, as we are not doing randomized train/test/split approach)\n",
    "\n",
    "df = pd.read_csv(\n",
    "    Path(\"../Resources/train_2qs.csv\")\n",
    ")\n",
    "\n",
    "#NOTE:\n",
    "#use train.csv for Q1 22 only\n",
    "#use train_2qs.csv for Q4 21 + Q1 22 "
   ]
  },
  {
   "cell_type": "code",
   "execution_count": 3,
   "id": "7cc91371-895c-4c2b-90f4-bb61f744a598",
   "metadata": {
    "tags": []
   },
   "outputs": [
    {
     "data": {
      "text/html": [
       "<div>\n",
       "<style scoped>\n",
       "    .dataframe tbody tr th:only-of-type {\n",
       "        vertical-align: middle;\n",
       "    }\n",
       "\n",
       "    .dataframe tbody tr th {\n",
       "        vertical-align: top;\n",
       "    }\n",
       "\n",
       "    .dataframe thead th {\n",
       "        text-align: right;\n",
       "    }\n",
       "</style>\n",
       "<table border=\"1\" class=\"dataframe\">\n",
       "  <thead>\n",
       "    <tr style=\"text-align: right;\">\n",
       "      <th></th>\n",
       "      <th>QUOTE_READTIME</th>\n",
       "      <th>CONTRACT</th>\n",
       "      <th>SPY PRICE</th>\n",
       "      <th>EXPIRE_DATE</th>\n",
       "      <th>DTE</th>\n",
       "      <th>C_DELTA</th>\n",
       "      <th>C_GAMMA</th>\n",
       "      <th>C_VEGA</th>\n",
       "      <th>C_THETA</th>\n",
       "      <th>C_RHO</th>\n",
       "      <th>C_IV</th>\n",
       "      <th>C_VOLUME</th>\n",
       "      <th>C_LAST</th>\n",
       "      <th>STRIKE</th>\n",
       "      <th>STRIKE_DISTANCE_PCT</th>\n",
       "      <th>STRIKE DISTANCE</th>\n",
       "      <th>PRICECLOSE</th>\n",
       "      <th>ROI %</th>\n",
       "      <th>y</th>\n",
       "      <th>INFLATION%</th>\n",
       "    </tr>\n",
       "  </thead>\n",
       "  <tbody>\n",
       "    <tr>\n",
       "      <th>0</th>\n",
       "      <td>10/4/2021 9:30</td>\n",
       "      <td>430.0 2021-10-08</td>\n",
       "      <td>432.95</td>\n",
       "      <td>2021-10-08</td>\n",
       "      <td>4.27</td>\n",
       "      <td>0.61310</td>\n",
       "      <td>0.03556</td>\n",
       "      <td>0.19356</td>\n",
       "      <td>-0.43339</td>\n",
       "      <td>0.03538</td>\n",
       "      <td>0.21263</td>\n",
       "      <td>10</td>\n",
       "      <td>5.93</td>\n",
       "      <td>430.0</td>\n",
       "      <td>0.007</td>\n",
       "      <td>-2.95</td>\n",
       "      <td>6.11</td>\n",
       "      <td>3.035413</td>\n",
       "      <td>2.0</td>\n",
       "      <td>0.3</td>\n",
       "    </tr>\n",
       "    <tr>\n",
       "      <th>1</th>\n",
       "      <td>10/4/2021 9:30</td>\n",
       "      <td>431.0 2021-10-08</td>\n",
       "      <td>432.95</td>\n",
       "      <td>2021-10-08</td>\n",
       "      <td>4.27</td>\n",
       "      <td>0.57914</td>\n",
       "      <td>0.03730</td>\n",
       "      <td>0.19781</td>\n",
       "      <td>-0.43196</td>\n",
       "      <td>0.03344</td>\n",
       "      <td>0.20709</td>\n",
       "      <td>1</td>\n",
       "      <td>5.21</td>\n",
       "      <td>431.0</td>\n",
       "      <td>0.004</td>\n",
       "      <td>-1.95</td>\n",
       "      <td>5.31</td>\n",
       "      <td>1.919386</td>\n",
       "      <td>2.0</td>\n",
       "      <td>0.3</td>\n",
       "    </tr>\n",
       "    <tr>\n",
       "      <th>2</th>\n",
       "      <td>10/4/2021 9:30</td>\n",
       "      <td>432.0 2021-10-08</td>\n",
       "      <td>432.95</td>\n",
       "      <td>2021-10-08</td>\n",
       "      <td>4.27</td>\n",
       "      <td>0.54144</td>\n",
       "      <td>0.03858</td>\n",
       "      <td>0.20139</td>\n",
       "      <td>-0.43035</td>\n",
       "      <td>0.03157</td>\n",
       "      <td>0.20271</td>\n",
       "      <td>0</td>\n",
       "      <td>5.61</td>\n",
       "      <td>432.0</td>\n",
       "      <td>0.002</td>\n",
       "      <td>-0.95</td>\n",
       "      <td>4.63</td>\n",
       "      <td>-17.468806</td>\n",
       "      <td>1.0</td>\n",
       "      <td>0.3</td>\n",
       "    </tr>\n",
       "    <tr>\n",
       "      <th>3</th>\n",
       "      <td>10/4/2021 9:30</td>\n",
       "      <td>433.0 2021-10-08</td>\n",
       "      <td>432.95</td>\n",
       "      <td>2021-10-08</td>\n",
       "      <td>4.27</td>\n",
       "      <td>0.50267</td>\n",
       "      <td>0.03978</td>\n",
       "      <td>0.20224</td>\n",
       "      <td>-0.42316</td>\n",
       "      <td>0.02886</td>\n",
       "      <td>0.19849</td>\n",
       "      <td>1</td>\n",
       "      <td>4.01</td>\n",
       "      <td>433.0</td>\n",
       "      <td>0.000</td>\n",
       "      <td>0.05</td>\n",
       "      <td>3.95</td>\n",
       "      <td>-1.496259</td>\n",
       "      <td>2.0</td>\n",
       "      <td>0.3</td>\n",
       "    </tr>\n",
       "    <tr>\n",
       "      <th>4</th>\n",
       "      <td>10/4/2021 9:30</td>\n",
       "      <td>434.0 2021-10-08</td>\n",
       "      <td>432.95</td>\n",
       "      <td>2021-10-08</td>\n",
       "      <td>4.27</td>\n",
       "      <td>0.46199</td>\n",
       "      <td>0.04063</td>\n",
       "      <td>0.20081</td>\n",
       "      <td>-0.41040</td>\n",
       "      <td>0.02677</td>\n",
       "      <td>0.19261</td>\n",
       "      <td>13</td>\n",
       "      <td>3.42</td>\n",
       "      <td>434.0</td>\n",
       "      <td>0.002</td>\n",
       "      <td>1.05</td>\n",
       "      <td>3.22</td>\n",
       "      <td>-5.847953</td>\n",
       "      <td>2.0</td>\n",
       "      <td>0.3</td>\n",
       "    </tr>\n",
       "  </tbody>\n",
       "</table>\n",
       "</div>"
      ],
      "text/plain": [
       "   QUOTE_READTIME          CONTRACT  SPY PRICE  EXPIRE_DATE   DTE  C_DELTA  \\\n",
       "0  10/4/2021 9:30  430.0 2021-10-08     432.95   2021-10-08  4.27  0.61310   \n",
       "1  10/4/2021 9:30  431.0 2021-10-08     432.95   2021-10-08  4.27  0.57914   \n",
       "2  10/4/2021 9:30  432.0 2021-10-08     432.95   2021-10-08  4.27  0.54144   \n",
       "3  10/4/2021 9:30  433.0 2021-10-08     432.95   2021-10-08  4.27  0.50267   \n",
       "4  10/4/2021 9:30  434.0 2021-10-08     432.95   2021-10-08  4.27  0.46199   \n",
       "\n",
       "   C_GAMMA   C_VEGA  C_THETA    C_RHO     C_IV  C_VOLUME  C_LAST  STRIKE  \\\n",
       "0  0.03556  0.19356 -0.43339  0.03538  0.21263        10    5.93   430.0   \n",
       "1  0.03730  0.19781 -0.43196  0.03344  0.20709         1    5.21   431.0   \n",
       "2  0.03858  0.20139 -0.43035  0.03157  0.20271         0    5.61   432.0   \n",
       "3  0.03978  0.20224 -0.42316  0.02886  0.19849         1    4.01   433.0   \n",
       "4  0.04063  0.20081 -0.41040  0.02677  0.19261        13    3.42   434.0   \n",
       "\n",
       "   STRIKE_DISTANCE_PCT  STRIKE DISTANCE  PRICECLOSE      ROI %    y  \\\n",
       "0                0.007            -2.95        6.11   3.035413  2.0   \n",
       "1                0.004            -1.95        5.31   1.919386  2.0   \n",
       "2                0.002            -0.95        4.63 -17.468806  1.0   \n",
       "3                0.000             0.05        3.95  -1.496259  2.0   \n",
       "4                0.002             1.05        3.22  -5.847953  2.0   \n",
       "\n",
       "   INFLATION%  \n",
       "0         0.3  \n",
       "1         0.3  \n",
       "2         0.3  \n",
       "3         0.3  \n",
       "4         0.3  "
      ]
     },
     "execution_count": 3,
     "metadata": {},
     "output_type": "execute_result"
    }
   ],
   "source": [
    "df.head()"
   ]
  },
  {
   "cell_type": "code",
   "execution_count": 4,
   "id": "82800ec8-66d4-4a6a-b3a2-6ec7eed0b58b",
   "metadata": {},
   "outputs": [
    {
     "data": {
      "text/html": [
       "<div>\n",
       "<style scoped>\n",
       "    .dataframe tbody tr th:only-of-type {\n",
       "        vertical-align: middle;\n",
       "    }\n",
       "\n",
       "    .dataframe tbody tr th {\n",
       "        vertical-align: top;\n",
       "    }\n",
       "\n",
       "    .dataframe thead th {\n",
       "        text-align: right;\n",
       "    }\n",
       "</style>\n",
       "<table border=\"1\" class=\"dataframe\">\n",
       "  <thead>\n",
       "    <tr style=\"text-align: right;\">\n",
       "      <th></th>\n",
       "      <th>SPY PRICE</th>\n",
       "      <th>DTE</th>\n",
       "      <th>C_DELTA</th>\n",
       "      <th>C_GAMMA</th>\n",
       "      <th>C_VEGA</th>\n",
       "      <th>C_THETA</th>\n",
       "      <th>C_RHO</th>\n",
       "      <th>C_VOLUME</th>\n",
       "      <th>C_LAST</th>\n",
       "      <th>STRIKE</th>\n",
       "      <th>STRIKE_DISTANCE_PCT</th>\n",
       "      <th>STRIKE DISTANCE</th>\n",
       "      <th>y</th>\n",
       "      <th>INFLATION%</th>\n",
       "    </tr>\n",
       "  </thead>\n",
       "  <tbody>\n",
       "    <tr>\n",
       "      <th>0</th>\n",
       "      <td>463.84</td>\n",
       "      <td>2.02</td>\n",
       "      <td>0.00700</td>\n",
       "      <td>0.00341</td>\n",
       "      <td>0.00871</td>\n",
       "      <td>-0.01352</td>\n",
       "      <td>0.00064</td>\n",
       "      <td>146</td>\n",
       "      <td>0.02</td>\n",
       "      <td>479.0</td>\n",
       "      <td>0.033</td>\n",
       "      <td>15.16</td>\n",
       "      <td>2.0</td>\n",
       "      <td>0.9</td>\n",
       "    </tr>\n",
       "    <tr>\n",
       "      <th>1</th>\n",
       "      <td>463.84</td>\n",
       "      <td>2.02</td>\n",
       "      <td>0.00293</td>\n",
       "      <td>0.00153</td>\n",
       "      <td>0.00347</td>\n",
       "      <td>-0.00459</td>\n",
       "      <td>0.00024</td>\n",
       "      <td>1420</td>\n",
       "      <td>0.01</td>\n",
       "      <td>480.0</td>\n",
       "      <td>0.035</td>\n",
       "      <td>16.16</td>\n",
       "      <td>2.0</td>\n",
       "      <td>0.9</td>\n",
       "    </tr>\n",
       "    <tr>\n",
       "      <th>2</th>\n",
       "      <td>463.84</td>\n",
       "      <td>2.02</td>\n",
       "      <td>0.00295</td>\n",
       "      <td>0.00137</td>\n",
       "      <td>0.00316</td>\n",
       "      <td>-0.00423</td>\n",
       "      <td>0.00015</td>\n",
       "      <td>1778</td>\n",
       "      <td>0.01</td>\n",
       "      <td>481.0</td>\n",
       "      <td>0.037</td>\n",
       "      <td>17.16</td>\n",
       "      <td>2.0</td>\n",
       "      <td>0.9</td>\n",
       "    </tr>\n",
       "    <tr>\n",
       "      <th>3</th>\n",
       "      <td>463.84</td>\n",
       "      <td>2.02</td>\n",
       "      <td>0.00264</td>\n",
       "      <td>0.00126</td>\n",
       "      <td>0.00349</td>\n",
       "      <td>-0.00437</td>\n",
       "      <td>0.00030</td>\n",
       "      <td>2</td>\n",
       "      <td>0.01</td>\n",
       "      <td>482.0</td>\n",
       "      <td>0.039</td>\n",
       "      <td>18.16</td>\n",
       "      <td>2.0</td>\n",
       "      <td>0.9</td>\n",
       "    </tr>\n",
       "    <tr>\n",
       "      <th>4</th>\n",
       "      <td>463.84</td>\n",
       "      <td>2.02</td>\n",
       "      <td>0.00241</td>\n",
       "      <td>0.00114</td>\n",
       "      <td>0.00308</td>\n",
       "      <td>-0.00497</td>\n",
       "      <td>-0.00041</td>\n",
       "      <td>537</td>\n",
       "      <td>0.01</td>\n",
       "      <td>483.0</td>\n",
       "      <td>0.041</td>\n",
       "      <td>19.16</td>\n",
       "      <td>2.0</td>\n",
       "      <td>0.9</td>\n",
       "    </tr>\n",
       "    <tr>\n",
       "      <th>...</th>\n",
       "      <td>...</td>\n",
       "      <td>...</td>\n",
       "      <td>...</td>\n",
       "      <td>...</td>\n",
       "      <td>...</td>\n",
       "      <td>...</td>\n",
       "      <td>...</td>\n",
       "      <td>...</td>\n",
       "      <td>...</td>\n",
       "      <td>...</td>\n",
       "      <td>...</td>\n",
       "      <td>...</td>\n",
       "      <td>...</td>\n",
       "      <td>...</td>\n",
       "    </tr>\n",
       "    <tr>\n",
       "      <th>3652</th>\n",
       "      <td>460.67</td>\n",
       "      <td>3.08</td>\n",
       "      <td>0.08263</td>\n",
       "      <td>0.01815</td>\n",
       "      <td>0.07200</td>\n",
       "      <td>-0.13194</td>\n",
       "      <td>0.00401</td>\n",
       "      <td>3500</td>\n",
       "      <td>0.32</td>\n",
       "      <td>471.0</td>\n",
       "      <td>0.022</td>\n",
       "      <td>10.33</td>\n",
       "      <td>5.0</td>\n",
       "      <td>0.8</td>\n",
       "    </tr>\n",
       "    <tr>\n",
       "      <th>3653</th>\n",
       "      <td>460.67</td>\n",
       "      <td>3.08</td>\n",
       "      <td>0.06546</td>\n",
       "      <td>0.01533</td>\n",
       "      <td>0.06078</td>\n",
       "      <td>-0.10882</td>\n",
       "      <td>0.00307</td>\n",
       "      <td>3794</td>\n",
       "      <td>0.24</td>\n",
       "      <td>472.0</td>\n",
       "      <td>0.025</td>\n",
       "      <td>11.33</td>\n",
       "      <td>5.0</td>\n",
       "      <td>0.8</td>\n",
       "    </tr>\n",
       "    <tr>\n",
       "      <th>3654</th>\n",
       "      <td>460.67</td>\n",
       "      <td>3.08</td>\n",
       "      <td>0.05229</td>\n",
       "      <td>0.01277</td>\n",
       "      <td>0.05087</td>\n",
       "      <td>-0.09034</td>\n",
       "      <td>0.00195</td>\n",
       "      <td>2079</td>\n",
       "      <td>0.18</td>\n",
       "      <td>473.0</td>\n",
       "      <td>0.027</td>\n",
       "      <td>12.33</td>\n",
       "      <td>5.0</td>\n",
       "      <td>0.8</td>\n",
       "    </tr>\n",
       "    <tr>\n",
       "      <th>3655</th>\n",
       "      <td>460.67</td>\n",
       "      <td>3.08</td>\n",
       "      <td>0.04256</td>\n",
       "      <td>0.01065</td>\n",
       "      <td>0.04231</td>\n",
       "      <td>-0.07467</td>\n",
       "      <td>0.00214</td>\n",
       "      <td>2847</td>\n",
       "      <td>0.15</td>\n",
       "      <td>474.0</td>\n",
       "      <td>0.029</td>\n",
       "      <td>13.33</td>\n",
       "      <td>5.0</td>\n",
       "      <td>0.8</td>\n",
       "    </tr>\n",
       "    <tr>\n",
       "      <th>3656</th>\n",
       "      <td>460.67</td>\n",
       "      <td>3.08</td>\n",
       "      <td>0.03183</td>\n",
       "      <td>0.00849</td>\n",
       "      <td>0.03370</td>\n",
       "      <td>-0.05831</td>\n",
       "      <td>0.00150</td>\n",
       "      <td>26137</td>\n",
       "      <td>0.11</td>\n",
       "      <td>475.0</td>\n",
       "      <td>0.031</td>\n",
       "      <td>14.33</td>\n",
       "      <td>5.0</td>\n",
       "      <td>0.8</td>\n",
       "    </tr>\n",
       "  </tbody>\n",
       "</table>\n",
       "<p>3657 rows × 14 columns</p>\n",
       "</div>"
      ],
      "text/plain": [
       "      SPY PRICE   DTE  C_DELTA  C_GAMMA   C_VEGA  C_THETA    C_RHO  C_VOLUME  \\\n",
       "0        463.84  2.02  0.00700  0.00341  0.00871 -0.01352  0.00064       146   \n",
       "1        463.84  2.02  0.00293  0.00153  0.00347 -0.00459  0.00024      1420   \n",
       "2        463.84  2.02  0.00295  0.00137  0.00316 -0.00423  0.00015      1778   \n",
       "3        463.84  2.02  0.00264  0.00126  0.00349 -0.00437  0.00030         2   \n",
       "4        463.84  2.02  0.00241  0.00114  0.00308 -0.00497 -0.00041       537   \n",
       "...         ...   ...      ...      ...      ...      ...      ...       ...   \n",
       "3652     460.67  3.08  0.08263  0.01815  0.07200 -0.13194  0.00401      3500   \n",
       "3653     460.67  3.08  0.06546  0.01533  0.06078 -0.10882  0.00307      3794   \n",
       "3654     460.67  3.08  0.05229  0.01277  0.05087 -0.09034  0.00195      2079   \n",
       "3655     460.67  3.08  0.04256  0.01065  0.04231 -0.07467  0.00214      2847   \n",
       "3656     460.67  3.08  0.03183  0.00849  0.03370 -0.05831  0.00150     26137   \n",
       "\n",
       "      C_LAST  STRIKE  STRIKE_DISTANCE_PCT  STRIKE DISTANCE    y  INFLATION%  \n",
       "0       0.02   479.0                0.033            15.16  2.0         0.9  \n",
       "1       0.01   480.0                0.035            16.16  2.0         0.9  \n",
       "2       0.01   481.0                0.037            17.16  2.0         0.9  \n",
       "3       0.01   482.0                0.039            18.16  2.0         0.9  \n",
       "4       0.01   483.0                0.041            19.16  2.0         0.9  \n",
       "...      ...     ...                  ...              ...  ...         ...  \n",
       "3652    0.32   471.0                0.022            10.33  5.0         0.8  \n",
       "3653    0.24   472.0                0.025            11.33  5.0         0.8  \n",
       "3654    0.18   473.0                0.027            12.33  5.0         0.8  \n",
       "3655    0.15   474.0                0.029            13.33  5.0         0.8  \n",
       "3656    0.11   475.0                0.031            14.33  5.0         0.8  \n",
       "\n",
       "[3657 rows x 14 columns]"
      ]
     },
     "execution_count": 4,
     "metadata": {},
     "output_type": "execute_result"
    }
   ],
   "source": [
    "#Import validation data (an entirely separate chunk of time from training data, as we are not doing randomized train/test/split approach)\n",
    "\n",
    "test = pd.read_csv(\n",
    "    Path(\"../Resources/2qs_test_ready.csv\")\n",
    ")\n",
    "test\n",
    "\n",
    "#NOTE:\n",
    "#use test_ready.csv for 2022_Q1 only\n",
    "#use 2qs_test_ready.csv for 2021_Q4 + 2022_Q1"
   ]
  },
  {
   "cell_type": "code",
   "execution_count": null,
   "id": "2505da18-7958-4013-a36e-ae0a7334f7d7",
   "metadata": {},
   "outputs": [],
   "source": [
    "test.head()"
   ]
  },
  {
   "cell_type": "markdown",
   "id": "cd254675-54d0-4d2a-90e0-e3627cf2c597",
   "metadata": {},
   "source": [
    "# __SECTION 2: Exploratory Data Analysis and Further Prep__"
   ]
  },
  {
   "cell_type": "markdown",
   "id": "2fac2bad-57d8-47ea-a144-ff902686e90f",
   "metadata": {},
   "source": [
    "## 2.1.) Descriptive Statistics"
   ]
  },
  {
   "cell_type": "code",
   "execution_count": null,
   "id": "717f7717-dd27-4ff3-91f2-97ca6ed9b421",
   "metadata": {},
   "outputs": [],
   "source": [
    "df.shape"
   ]
  },
  {
   "cell_type": "code",
   "execution_count": null,
   "id": "ee2744f4-b26e-4f2a-af89-7dcf27c14619",
   "metadata": {},
   "outputs": [],
   "source": [
    "#Check for any null values and remove the null values\n",
    "print('Null Values =', df.isnull().values.any())\n",
    "\n",
    "#Drop NaNs\n",
    "df.dropna()"
   ]
  },
  {
   "cell_type": "code",
   "execution_count": null,
   "id": "661d5a9b-7c76-4b05-ac11-e4d61533b8de",
   "metadata": {},
   "outputs": [],
   "source": [
    "display(df.head())\n",
    "df.tail()"
   ]
  },
  {
   "cell_type": "code",
   "execution_count": null,
   "id": "f539d25b-ecb9-4ceb-9a0d-63e13f2dafd8",
   "metadata": {},
   "outputs": [],
   "source": [
    "df.describe()"
   ]
  },
  {
   "cell_type": "code",
   "execution_count": null,
   "id": "356dc83a-df53-430c-b05d-4a9d66519aa5",
   "metadata": {},
   "outputs": [],
   "source": [
    "df.dtypes"
   ]
  },
  {
   "cell_type": "markdown",
   "id": "efe689b6-38a3-408f-9732-34a1319cf887",
   "metadata": {},
   "source": [
    "## 2.2.) Feature Analysis and Exploration"
   ]
  },
  {
   "cell_type": "markdown",
   "id": "f51d9366-0e00-4472-9b95-96c8388d9fed",
   "metadata": {},
   "source": [
    "### Plotting features according to contract length"
   ]
  },
  {
   "cell_type": "code",
   "execution_count": null,
   "id": "79edddbb-760f-4544-8902-88c3cbb0ee84",
   "metadata": {},
   "outputs": [],
   "source": [
    "#\n",
    "#contract_outcome = df.groupby('STRIKE_DISTANCE_PCT')['y'].value_counts(normalize=True).loc[:,1]\n",
    "#sns.set(rc={'figure.figsize':(12,5)})\n",
    "#sns.barplot(x=contract_outcome.index, y=contract_outcome.values, color='#5975A4', saturation=1)"
   ]
  },
  {
   "cell_type": "markdown",
   "id": "25e76603-685d-41b2-8297-54b7a94e791e",
   "metadata": {},
   "source": [
    "### Eliminate Uncorrelated Features"
   ]
  },
  {
   "cell_type": "code",
   "execution_count": null,
   "id": "117ce679-3518-4edb-9000-aaaeddf5f8e1",
   "metadata": {},
   "outputs": [],
   "source": [
    "#Calculate correlation of each feature with 'y'\n",
    "\n",
    "correlation = df.corr()\n",
    "correlation_df = abs(correlation['y'])"
   ]
  },
  {
   "cell_type": "code",
   "execution_count": null,
   "id": "d23bb93b-163a-49f8-b329-2e7117ebe0d8",
   "metadata": {},
   "outputs": [],
   "source": [
    "correlation_df.sort_values(ascending=False)"
   ]
  },
  {
   "cell_type": "code",
   "execution_count": null,
   "id": "ce0c8e12-4132-442a-92e8-9108f69e4f8f",
   "metadata": {},
   "outputs": [],
   "source": [
    "#Drop variables with less than 1.5% correlation with contract outcome ('y')\n",
    "\n",
    "drop_list_corr = sorted(list(correlation_df[correlation_df < 0.015].index))\n",
    "print(drop_list_corr)"
   ]
  },
  {
   "cell_type": "markdown",
   "id": "597c1c52-4cd8-4c1c-9b8c-0a13f9c2d558",
   "metadata": {},
   "source": [
    "### Drop Columns Not Needed"
   ]
  },
  {
   "cell_type": "code",
   "execution_count": null,
   "id": "1fb6494b-1b9f-4229-b6f3-6dab08c5da74",
   "metadata": {
    "tags": []
   },
   "outputs": [],
   "source": [
    "df.drop(columns=[\"ROI %\"], inplace=True) "
   ]
  },
  {
   "cell_type": "code",
   "execution_count": null,
   "id": "2a9f139d-88cf-4154-8bd3-81cab2cd8975",
   "metadata": {},
   "outputs": [],
   "source": [
    "df.drop(columns=[\"PRICECLOSE\"], inplace=True)"
   ]
  },
  {
   "cell_type": "code",
   "execution_count": null,
   "id": "f1b4b097-ba28-42b9-a175-9b47a33a9a5e",
   "metadata": {
    "tags": []
   },
   "outputs": [],
   "source": [
    "df.drop(columns=[\"EXPIRE_DATE\"], inplace=True)"
   ]
  },
  {
   "cell_type": "code",
   "execution_count": null,
   "id": "2a3f75e0-a604-404c-ad3e-5c6a1cd09d77",
   "metadata": {},
   "outputs": [],
   "source": [
    "df.drop(columns=[\"CONTRACT\"], inplace=True)"
   ]
  },
  {
   "cell_type": "code",
   "execution_count": null,
   "id": "a7ad80af-39e3-4d73-91db-eee5998baf4e",
   "metadata": {},
   "outputs": [],
   "source": [
    "df.drop(columns=[\"QUOTE_READTIME\"], inplace=True)"
   ]
  },
  {
   "cell_type": "code",
   "execution_count": null,
   "id": "33eebe46-92a7-4a49-b8d5-c8c50653ec92",
   "metadata": {},
   "outputs": [],
   "source": [
    "df.drop(labels=[\"N_IV\"], axis=1, inplace=True)"
   ]
  },
  {
   "cell_type": "code",
   "execution_count": null,
   "id": "ce7e972b-3c17-4395-88d6-a690cc332380",
   "metadata": {},
   "outputs": [],
   "source": [
    "df.drop(columns=[\"VIX PRICE\"], inplace=True)"
   ]
  },
  {
   "cell_type": "code",
   "execution_count": null,
   "id": "7c962353-4732-4ac8-b169-cbb85bd3f4e9",
   "metadata": {},
   "outputs": [],
   "source": [
    "test.drop(labels=[\"N_IV\"], axis=1, inplace=True)"
   ]
  },
  {
   "cell_type": "code",
   "execution_count": null,
   "id": "1eec1707-e8d0-4dc9-b65c-0414bba5339b",
   "metadata": {},
   "outputs": [],
   "source": [
    "test.drop(labels=[\"VIX PRICE\"], axis=1, inplace=True)"
   ]
  },
  {
   "cell_type": "markdown",
   "id": "c54cdeec-a66c-42bb-a176-514ac71d4573",
   "metadata": {},
   "source": [
    "## 2.3.) Prep Training and Validation Datasets"
   ]
  },
  {
   "cell_type": "code",
   "execution_count": null,
   "id": "00735fa5-bd96-4369-9058-84a8ee9c32fd",
   "metadata": {
    "tags": []
   },
   "outputs": [],
   "source": [
    "#Separate predicted variable from features for training dataset\n",
    "\n",
    "y_train = df[\"y\"]\n",
    "\n",
    "X_train = df.drop(columns='y')\n"
   ]
  },
  {
   "cell_type": "code",
   "execution_count": null,
   "id": "653f7262-0100-4f28-876f-e6bb7db12983",
   "metadata": {
    "tags": []
   },
   "outputs": [],
   "source": [
    "y_train.value_counts()"
   ]
  },
  {
   "cell_type": "code",
   "execution_count": null,
   "id": "321c8c15-4b5f-497a-b18c-ad4d015ce287",
   "metadata": {},
   "outputs": [],
   "source": [
    "X_train"
   ]
  },
  {
   "cell_type": "code",
   "execution_count": null,
   "id": "c280e80a-500e-41a1-9213-604b5199b6c5",
   "metadata": {},
   "outputs": [],
   "source": [
    "#Separate predicted variable from features for validation dataset\n",
    "\n",
    "y_validation = test[\"y\"]\n",
    "\n",
    "X_validation = test.drop(columns='y')\n"
   ]
  },
  {
   "cell_type": "code",
   "execution_count": null,
   "id": "310c43c8-14bb-4d04-ad60-93a4780a28d3",
   "metadata": {},
   "outputs": [],
   "source": [
    "X_validation"
   ]
  },
  {
   "cell_type": "markdown",
   "id": "2507b37d-40ea-426d-a37a-6692716dccc8",
   "metadata": {},
   "source": [
    "## 2.4.) Scaling Training and Testing Datasets"
   ]
  },
  {
   "cell_type": "code",
   "execution_count": null,
   "id": "3f9a531e-0542-4169-94c9-928019d4e5fc",
   "metadata": {},
   "outputs": [],
   "source": [
    "# Create the StandardScaler instance\n",
    "scaler = StandardScaler()\n",
    "\n",
    "# Fit the scaler to the features training dataset\n",
    "X_scaler = scaler.fit(X_train)\n",
    "\n",
    "# Scale both the training and testing data from the features dataset\n",
    "X_train_scaled = X_scaler.transform(X_train)\n",
    "X_validation_scaled = X_scaler.transform(X_validation)"
   ]
  },
  {
   "cell_type": "markdown",
   "id": "3068faa2-8d4c-4e93-8a3f-f602b38642b7",
   "metadata": {},
   "source": [
    "# __SECTION 3: Evaluate Algorithms and Models__"
   ]
  },
  {
   "cell_type": "markdown",
   "id": "1887c529-450b-407a-84d0-7df79f10239e",
   "metadata": {},
   "source": [
    "## 3.1.) Quick Check of Models and Algorithms"
   ]
  },
  {
   "cell_type": "code",
   "execution_count": null,
   "id": "811bb2b6-4cea-440a-a75a-e9f77c72050b",
   "metadata": {},
   "outputs": [],
   "source": [
    "#Spot check Classification algorithms\n",
    "\n",
    "models = []\n",
    "\n",
    "#Boosting methods\n",
    "\n",
    "models.append(('XGB', XGBClassifier()))\n",
    "models.append(('AB', AdaBoostClassifier()))\n",
    "models.append(('GBM', GradientBoostingClassifier()))\n",
    "\n",
    "#Bagging methods\n",
    "\n",
    "models.append(('RF', RandomForestClassifier()))\n",
    "models.append(('ET', ExtraTreesClassifier()))\n",
    "\n",
    "#SVC \n",
    "models.append(('SVC', SVC()))\n",
    "\n",
    "#K Nearest Neighbors\n",
    "models.append(('KNN', KNeighborsClassifier()))"
   ]
  },
  {
   "cell_type": "code",
   "execution_count": null,
   "id": "9e076d0e-52a2-474f-b59e-31e9cc9720aa",
   "metadata": {},
   "outputs": [],
   "source": [
    "#Number of k-folds for K-fold cross validation is established\n",
    "#Random state established for replication purposes\n",
    "\n",
    "num_folds = 10\n",
    "seed = 7"
   ]
  },
  {
   "cell_type": "code",
   "execution_count": null,
   "id": "6f39b099-eec4-42b2-bd21-69f299e6c4e4",
   "metadata": {
    "tags": []
   },
   "outputs": [],
   "source": [
    "#Models are fit and evaluated to the training dataset\n",
    "\n",
    "results = []\n",
    "\n",
    "names = []\n",
    "\n",
    "scoring = 'accuracy'\n",
    "\n",
    "for name, model in models:\n",
    "    kfold = StratifiedKFold(n_splits=num_folds, random_state=seed, shuffle=True)\n",
    "    cv_results = cross_val_score(model, X_train_scaled, y_train, cv=kfold, scoring=scoring)\n",
    "    results.append(cv_results)\n",
    "    names.append(name)\n",
    "    findings_summary = \"%s: %f (%f)\" % (name, cv_results.mean(), cv_results.std())\n",
    "    print(findings_summary)"
   ]
  },
  {
   "cell_type": "code",
   "execution_count": null,
   "id": "a533f4e5-9a2e-4458-9723-8a734a10b771",
   "metadata": {},
   "outputs": [],
   "source": [
    "#Compare the model outcomes\n",
    "\n",
    "fig = pyplot.figure()\n",
    "fig.suptitle('Model Comparison')\n",
    "ax = fig.add_subplot(111)\n",
    "pyplot.boxplot(results)\n",
    "ax.set_xticklabels(names)\n",
    "fig.set_size_inches(8,4)\n",
    "pyplot.show()"
   ]
  },
  {
   "cell_type": "markdown",
   "id": "1a6ea5d6-dbec-43eb-aa3d-4aff739ea2aa",
   "metadata": {},
   "source": [
    "## 3.2.) Selecting Random Forest (or whichver tree method best), Calculating its Baseline with Cross Validation on Training Set"
   ]
  },
  {
   "cell_type": "code",
   "execution_count": null,
   "id": "354676f4-a69a-435b-89a1-18e33b62fbfe",
   "metadata": {},
   "outputs": [],
   "source": [
    "#Estimate accuracy on training set\n",
    "#Test options for classification\n",
    "\n",
    "num_folds = 10\n",
    "seed = 7\n",
    "\n",
    "rf_model = RandomForestClassifier()\n",
    "\n",
    "cv = StratifiedKFold(n_splits=num_folds, random_state=seed, shuffle=True)\n",
    "scores = cross_val_score(rf_model, X_train_scaled, y_train, scoring='accuracy', cv=cv)\n",
    "avg_score = np.mean(scores)\n",
    "avg_score"
   ]
  },
  {
   "cell_type": "code",
   "execution_count": null,
   "id": "0675ebfb-7034-4c0c-bf58-d5f1dc834879",
   "metadata": {},
   "outputs": [],
   "source": [
    "#Visualization of the Confusion Matrix\n",
    "\n",
    "df_matrix = pd.DataFrame(confusion_matrix(y_validation, predictions), columns=np.unique(y_validation), index = np.unique(y_validation))\n",
    "df_matrix.index.name = 'Actual'\n",
    "df_matrix.columns.name = 'Predicted'\n",
    "sns.heatmap(df_matrix, cmap=\"Blues\", annot=True, annot_kws={\"size\": 16}) "
   ]
  },
  {
   "cell_type": "markdown",
   "id": "7300df07-3e6b-419e-a2c0-d1b750443d20",
   "metadata": {},
   "source": [
    "# __SECTION 4: Model Tuning__"
   ]
  },
  {
   "cell_type": "markdown",
   "id": "3c884d07-8e04-4f04-8d4f-91c7cefcf714",
   "metadata": {},
   "source": [
    "## 4.1.1.) Hyperparameter Tuning for Random Forest"
   ]
  },
  {
   "cell_type": "markdown",
   "id": "ef6ccb13-28a1-471a-a585-e56b042bf45e",
   "metadata": {},
   "source": [
    "### APPROACH (A) \n",
    "## __*(CAUTION TAKES A LONG TIME!)*__"
   ]
  },
  {
   "cell_type": "code",
   "execution_count": null,
   "id": "09ebdfd6-4c2b-45fe-8077-d5faba342e90",
   "metadata": {},
   "outputs": [],
   "source": [
    "\n",
    "\n",
    "# Number of trees in random forest\n",
    "n_estimators = [int(x) for x in np.linspace(start = 200, stop = 2000, num = 10)]\n",
    "\n",
    "# Number of features to consider at every split\n",
    "max_features = ['auto', 'sqrt']\n",
    "\n",
    "# Maximum number of levels in tree\n",
    "max_depth = [int(x) for x in np.linspace(10, 110, num = 11)]\n",
    "max_depth.append(None)\n",
    "\n",
    "# Minimum number of samples required to split a node\n",
    "min_samples_split = [2, 5, 10]\n",
    "\n",
    "# Minimum number of samples required at each leaf node\n",
    "min_samples_leaf = [1, 2, 4]\n",
    "\n",
    "# Method of selecting samples for training each tree\n",
    "bootstrap = [True, False]\n",
    "\n",
    "# Create the random grid\n",
    "random_grid = {}\n",
    "\n",
    "paramgrid = {'n_estimators': n_estimators,\n",
    "               'max_features': max_features,\n",
    "               'max_depth': max_depth,\n",
    "               'min_samples_split': min_samples_split,\n",
    "               'min_samples_leaf': min_samples_leaf,\n",
    "               'bootstrap': bootstrap}\n",
    "\n",
    "random.seed(1)\n",
    "\n",
    "cv = EvolutionaryAlgorithmSearchCV(estimator=RandomForestClassifier(),\n",
    "                                   params=paramgrid,\n",
    "                                   scoring=\"accuracy\",\n",
    "                                   cv=StratifiedKFold(n_splits=4),\n",
    "                                   verbose=1,\n",
    "                                   population_size=50,\n",
    "                                   gene_mutation_prob=0.10,\n",
    "                                   gene_crossover_prob=0.5,\n",
    "                                   tournament_size=3,\n",
    "                                   generations_number=5,\n",
    "                                   n_jobs=4)\n",
    "cv.fit(X_train_scaled, y_train)"
   ]
  },
  {
   "cell_type": "markdown",
   "id": "ba77be02-2f47-4cbc-89a1-84f6b9e78b10",
   "metadata": {},
   "source": [
    "### APPROACH (B)\n",
    "## __*(CAUTION TAKES A LONG TIME!)*__"
   ]
  },
  {
   "cell_type": "code",
   "execution_count": null,
   "id": "1c9f0691-f7c9-4f79-88d3-e58d4e20800c",
   "metadata": {},
   "outputs": [],
   "source": [
    "# Grid Search: (select model) Tuning\n",
    "\n",
    "num_folds = 10\n",
    "seed = 7\n",
    "\n",
    "scoring = 'accuracy'\n",
    "\n",
    "n_estimators = [20, 100, 180, 1000]\n",
    "max_features = [1, 2, 3, 4]\n",
    "\n",
    "param_grid = dict(n_estimators=n_estimators, max_features=max_features)\n",
    "\n",
    "rf_model = RandomForestClassifier()\n",
    "\n",
    "kfold = StratifiedKFold(n_splits=num_folds, random_state=seed, shuffle=True)\n",
    "\n",
    "grid = GridSearchCV(estimator=rf_model, param_grid=param_grid, scoring=scoring, cv=kfold)\n",
    "grid_result = grid.fit(X_train_scaled, y_train)\n",
    "\n",
    "#Print Results\n",
    "print(\"Best: %f using %s\" % (grid_result.best_score_, grid_result.best_params_))\n",
    "means = grid_result.cv_results_['mean_test_score']\n",
    "stds = grid_result.cv_results_['std_test_score']\n",
    "params = grid_result.cv_results_['params']\n",
    "ranks = grid_result.cv_results_['rank_test_score']\n",
    "for mean, stdev, param, rank in zip(means, stds, params, ranks):\n",
    "    print(\"#%d %f (%f) with: %r\" % (rank, mean, stdev, param))"
   ]
  },
  {
   "cell_type": "markdown",
   "id": "e292f763-e14a-424f-b678-b2ce4a71ebdc",
   "metadata": {},
   "source": [
    "## 4.1.2.) Implementing Tuned Hyperparameters for Random Forest"
   ]
  },
  {
   "cell_type": "code",
   "execution_count": null,
   "id": "3b2b7c3e-e097-4852-81ca-e9cc3c6ac01e",
   "metadata": {},
   "outputs": [],
   "source": [
    "#Predicting on TRAINING set\n",
    "\n",
    "#Prepare the model with parameters decided in previous cell\n",
    "\n",
    "rf_model = RandomForestClassifier(n_estimators=180, max_features=4, max_depth=30, min_samples_split=5, min_samples_leaf=1, bootstrap=False)\n",
    "rf_model.fit(X_train_scaled, y_train)\n",
    "#Score predictions of training set\n",
    "\n",
    "training_predictions = rf_model.predict(X_train_scaled)\n",
    "\n",
    "print(accuracy_score(y_train, training_predictions))\n",
    "\n",
    "print('Micro Precision: {:.2f}'.format(precision_score(y_train, training_predictions, average='micro')))\n",
    "print('Micro Recall: {:.2f}'.format(recall_score(y_train, training_predictions, average='micro')))\n",
    "print('Micro F1-score: {:.2f}\\n'.format(f1_score(y_train, training_predictions, average='micro')))\n",
    "\n",
    "print('Macro Precision: {:.2f}'.format(precision_score(y_train, training_predictions, average='macro')))\n",
    "print('Macro Recall: {:.2f}'.format(recall_score(y_train, training_predictions, average='macro')))\n",
    "print('Macro F1-score: {:.2f}\\n'.format(f1_score(y_train, training_predictions, average='macro')))\n",
    "\n",
    "print('Weighted Precision: {:.2f}'.format(precision_score(y_train, training_predictions, average='weighted')))\n",
    "print('Weighted Recall: {:.2f}'.format(recall_score(y_train, training_predictions, average='weighted')))\n",
    "print('Weighted F1-score: {:.2f}'.format(f1_score(y_train, training_predictions, average='weighted')))\n",
    "\n",
    "\n",
    "print(classification_report(y_train, training_predictions, target_names=[\"Strong Sell\", \"Sell\", \"Pass\"])) #, \"Buy\", \"Strong Buy\", \"Very High Return\"]))"
   ]
  },
  {
   "cell_type": "code",
   "execution_count": null,
   "id": "17dd6f8d-ae65-44c2-929c-e144c2657ff5",
   "metadata": {},
   "outputs": [],
   "source": [
    "#Predicting on VALIDATION set\n",
    "\n",
    "#Prepare the model with parameters decided in previous cell\n",
    "\n",
    "rf_model = RandomForestClassifier(n_estimators=100, max_features=5, max_depth=30, min_samples_split=5, min_samples_leaf=1, bootstrap=False)\n",
    "rf_model.fit(X_train_scaled, y_train)\n",
    "\n",
    "#Score predictions of validation set\n",
    "\n",
    "predictions = rf_model.predict(X_validation_scaled)\n",
    "\n",
    "print(accuracy_score(y_validation, predictions))\n",
    "\n",
    "print('Micro Precision: {:.2f}'.format(precision_score(y_validation, predictions, average='micro')))\n",
    "print('Micro Recall: {:.2f}'.format(recall_score(y_validation, predictions, average='micro')))\n",
    "print('Micro F1-score: {:.2f}\\n'.format(f1_score(y_validation, predictions, average='micro')))\n",
    "\n",
    "print('Macro Precision: {:.2f}'.format(precision_score(y_validation, predictions, average='macro')))\n",
    "print('Macro Recall: {:.2f}'.format(recall_score(y_validation, predictions, average='macro')))\n",
    "print('Macro F1-score: {:.2f}\\n'.format(f1_score(y_validation, predictions, average='macro')))\n",
    "\n",
    "print('Weighted Precision: {:.2f}'.format(precision_score(y_validation, predictions, average='weighted')))\n",
    "print('Weighted Recall: {:.2f}'.format(recall_score(y_validation, predictions, average='weighted')))\n",
    "print('Weighted F1-score: {:.2f}'.format(f1_score(y_validation, predictions, average='weighted')))\n",
    "\n",
    "\n",
    "print(classification_report(y_validation, predictions, target_names=[\"Sell\", \"Pass\", \"Buy\"])) #\"Buy\", \"Strong Buy\", \"Very High Return\"]))\n",
    "\n",
    "print(confusion_matrix(y_validation, predictions))"
   ]
  },
  {
   "cell_type": "code",
   "execution_count": null,
   "id": "2b9cf804-7145-4f71-8642-0211232c40f9",
   "metadata": {},
   "outputs": [],
   "source": [
    "#Visualization of the Confusion Matrix\n",
    "\n",
    "df_matrix = pd.DataFrame(confusion_matrix(y_validation, predictions), columns=np.unique(y_validation), index = np.unique(y_validation))\n",
    "df_matrix.index.name = 'Actual'\n",
    "df_matrix.columns.name = 'Predicted'\n",
    "sns.heatmap(df_matrix, cmap=\"Blues\", annot=True, annot_kws={\"size\": 16}) "
   ]
  },
  {
   "cell_type": "code",
   "execution_count": null,
   "id": "8cee35e4-888e-435d-8423-687a6be280a4",
   "metadata": {},
   "outputs": [],
   "source": [
    "#Get ROC AUC score\n",
    "\n",
    "roc_auc_score(y_validation, pred_proba, multi_class=\"ovr\")"
   ]
  },
  {
   "cell_type": "markdown",
   "id": "7117736f-7676-4a2f-8f46-34a320ddc3c7",
   "metadata": {},
   "source": [
    "## 4.1.3.) Determining Feature Importance "
   ]
  },
  {
   "cell_type": "code",
   "execution_count": null,
   "id": "7f44ca23-9468-4b07-876a-282c2da22e3c",
   "metadata": {},
   "outputs": [],
   "source": [
    "#Feature importances\n",
    "\n",
    "importances = rf_model.feature_importances_"
   ]
  },
  {
   "cell_type": "code",
   "execution_count": null,
   "id": "dc3b506b-cc70-4a48-b74c-db71ef3e7ecc",
   "metadata": {},
   "outputs": [],
   "source": [
    "important_features = zip(X.columns, rf_model.feature_importances_)"
   ]
  },
  {
   "cell_type": "code",
   "execution_count": null,
   "id": "b2017f14-339d-44a8-a858-84fc6e35b0c9",
   "metadata": {},
   "outputs": [],
   "source": [
    "importances_df = pd.DataFrame(important_features)"
   ]
  },
  {
   "cell_type": "code",
   "execution_count": null,
   "id": "19d0dfe4-0ad1-4d0a-ae1c-47e49025a10a",
   "metadata": {},
   "outputs": [],
   "source": [
    "importances_df = importances_df.rename(columns={0: 'Feature', 1: 'Importance'})"
   ]
  },
  {
   "cell_type": "code",
   "execution_count": null,
   "id": "8c98185c-65b5-40db-8ab7-1a3f92470f4e",
   "metadata": {},
   "outputs": [],
   "source": [
    "importances_df = importances_df.set_index('Feature')"
   ]
  },
  {
   "cell_type": "code",
   "execution_count": null,
   "id": "f000a771-c54f-46aa-971f-ce38883b4f22",
   "metadata": {},
   "outputs": [],
   "source": [
    "importances_df = importances_df.sort_values(by='Importance', ascending=False)"
   ]
  },
  {
   "cell_type": "code",
   "execution_count": null,
   "id": "54e7d469-2443-473e-8d88-08acd334e322",
   "metadata": {},
   "outputs": [],
   "source": [
    "importances_df"
   ]
  },
  {
   "cell_type": "code",
   "execution_count": null,
   "id": "6e5fdbdf-e4aa-4ee1-a27d-0673b5b1a763",
   "metadata": {},
   "outputs": [],
   "source": [
    "#Plot the top 10 most important features\n",
    "\n",
    "importances_df[0:10].plot(\n",
    "    kind='barh',\n",
    "    color='green',\n",
    "    title='Feature Importance',\n",
    "    legend=True)"
   ]
  },
  {
   "cell_type": "markdown",
   "id": "755f975f-763e-4a22-8fd6-35354147715b",
   "metadata": {},
   "source": [
    "## 4.2.1.) Hyperparameter Tuning for XGBoost: Bayesian Optimization with HYPEROPT"
   ]
  },
  {
   "cell_type": "markdown",
   "id": "99da4029-82fb-48fe-9d48-1061d103528d",
   "metadata": {},
   "source": [
    "The available hyperopt optimization algorithms are -\n",
    "\n",
    "hp.choice(label, options) — Returns one of the options, which should be a list or tuple.\n",
    "\n",
    "hp.randint(label, upper) — Returns a random integer between the range [0, upper).\n",
    "\n",
    "hp.uniform(label, low, high) — Returns a value uniformly between low and high.\n",
    "\n",
    "hp.quniform(label, low, high, q) — Returns a value round(uniform(low, high) / q) * q, i.e it rounds the decimal values and returns an integer.\n",
    "\n",
    "hp.normal(label, mean, std) — Returns a real value that’s normally-distributed with mean and standard deviation sigma."
   ]
  },
  {
   "cell_type": "code",
   "execution_count": null,
   "id": "19c2413b-16f3-4c57-a7bb-881c98424dfa",
   "metadata": {},
   "outputs": [],
   "source": [
    "#Initialize domain space for range of values \n",
    " \n",
    "space={'max_depth': hp.quniform(\"max_depth\", 3, 18, 1),\n",
    "        'gamma': hp.uniform ('gamma', 1, 9),\n",
    "        'reg_alpha' : hp.quniform('reg_alpha', 40, 180, 1),\n",
    "        'reg_lambda' : hp.uniform('reg_lambda', 0, 1),\n",
    "        'colsample_bytree' : hp.uniform('colsample_bytree', 0.5, 1),\n",
    "        'min_child_weight' : hp.quniform('min_child_weight', 0, 10, 1),\n",
    "        'n_estimators': 180,\n",
    "        'seed': 0\n",
    "    }\n"
   ]
  },
  {
   "cell_type": "code",
   "execution_count": null,
   "id": "641f0dec-35dd-453f-8021-0560908347d1",
   "metadata": {},
   "outputs": [],
   "source": [
    "#Define \"objective\" function to yield the lowest output value, the “loss”.\n",
    "\n",
    "def objective(space):\n",
    "    xgb_model = xgb.XGBClassifier(\n",
    "                    n_estimators =space['n_estimators'], max_depth = int(space['max_depth']), gamma = space['gamma'],\n",
    "                    reg_alpha = int(space['reg_alpha']),min_child_weight=int(space['min_child_weight']),\n",
    "                    colsample_bytree=int(space['colsample_bytree']))\n",
    "    \n",
    "    evaluation = [(X_train_scaled, y_train), (X_validation_scaled, y_validation)]\n",
    "    \n",
    "    xgb_model.fit(X_train_scaled, y_train,\n",
    "            eval_set=evaluation, eval_metric=\"auc\",\n",
    "            early_stopping_rounds=10,verbose=False)\n",
    "    \n",
    "\n",
    "    pred = xgb_model.predict(X_validation_scaled)\n",
    "    accuracy = accuracy_score(y_validation, pred)\n",
    "    print (\"SCORE:\", accuracy)\n",
    "    return {'loss': -accuracy, 'status': STATUS_OK }"
   ]
  },
  {
   "cell_type": "code",
   "execution_count": null,
   "id": "af29159e-c5c8-4c53-aeca-7020e328df03",
   "metadata": {},
   "outputs": [],
   "source": [
    "#Establish Hyperopt Trials() object\n",
    "trials = Trials()\n",
    "\n",
    "#Getting the best hyperparameters with \"fmin\" function\n",
    "best_hyperparams = fmin(fn = objective,\n",
    "                        space = space,\n",
    "                        algo = tpe.suggest,\n",
    "                        max_evals = 100,\n",
    "                        trials = trials)"
   ]
  },
  {
   "cell_type": "code",
   "execution_count": null,
   "id": "a2006f83-dccf-4dcc-a766-ff58d823e1c3",
   "metadata": {},
   "outputs": [],
   "source": [
    "#Informs of the best hyperparameters from above search\n",
    "\n",
    "print(\"The best hyperparameters are : \",\"\\n\")\n",
    "print(best_hyperparams)"
   ]
  },
  {
   "cell_type": "markdown",
   "id": "d7adb727-6582-42bc-b1a5-aee50ba78a68",
   "metadata": {},
   "source": [
    "## 4.2.2.) Implementing Tuned Hyperparameters for XGBoost"
   ]
  },
  {
   "cell_type": "code",
   "execution_count": null,
   "id": "b4202248-a368-4a7b-8042-9a4b64bb508d",
   "metadata": {},
   "outputs": [],
   "source": [
    "#Establish XGB model instance\n",
    "xgb_model = xgb.XGBClassifier(colsample_bytree=0.83263437029644, gamma=4.6500330499023175, max_depth=9, min_child_weight=9.0, reg_alpha=23, reg_lambda=0.4074373399618115) \n",
    "\n",
    "#Fit training dataset to model\n",
    "xgb_model.fit(X_train_scaled, y_train)"
   ]
  },
  {
   "cell_type": "code",
   "execution_count": null,
   "id": "a901209f-53a7-432c-aed8-c452dace8095",
   "metadata": {},
   "outputs": [],
   "source": [
    "#Predicting on validation set\n",
    "\n",
    "predictions = xgb_model.predict(X_validation_scaled)\n",
    "\n",
    "print(accuracy_score(y_validation, predictions))\n",
    "\n",
    "print('Weighted Precision: {:.2f}'.format(precision_score(y_validation, predictions, average='weighted')))\n",
    "print('Weighted Recall: {:.2f}'.format(recall_score(y_validation, predictions, average='weighted')))\n",
    "print('Weighted F1-score: {:.2f}'.format(f1_score(y_validation, predictions, average='weighted')))\n",
    "\n",
    "print(classification_report(y_validation, predictions, target_names=[\"Sell\", \"Pass\", \"Buy\"])) #, \"Buy\", \"Strong Buy\", \"Very High Return\"]))\n",
    "\n",
    "print(confusion_matrix(y_validation, predictions))"
   ]
  },
  {
   "cell_type": "code",
   "execution_count": null,
   "id": "5b0af62e-8773-4e2d-9754-cd6c7ba4e69e",
   "metadata": {},
   "outputs": [],
   "source": [
    "#Predicting on training set\n",
    "\n",
    "training_predictions = xgb_model.predict(X_train_scaled)\n",
    "\n",
    "print(accuracy_score(y_train, training_predictions))\n",
    "\n",
    "print('Weighted Precision: {:.2f}'.format(precision_score(y_train, training_predictions, average='weighted')))\n",
    "print('Weighted Recall: {:.2f}'.format(recall_score(y_train, training_predictions, average='weighted')))\n",
    "print('Weighted F1-score: {:.2f}'.format(f1_score(y_train, training_predictions, average='weighted')))\n",
    "\n",
    "print(classification_report(y_train, training_predictions, target_names=[\"Strong Sell\", \"Sell\", \"Pass\"])) #, \"Buy\", \"Strong Buy\", \"Very High Return\"]))"
   ]
  },
  {
   "cell_type": "code",
   "execution_count": null,
   "id": "471ce7d6-30d6-45be-a8a1-187b577bc1dd",
   "metadata": {},
   "outputs": [],
   "source": [
    "#Visualization of the Confusion Matrix\n",
    "\n",
    "df_matrix = pd.DataFrame(confusion_matrix(y_validation, predictions), columns=np.unique(y_validation), index = np.unique(y_validation))\n",
    "df_matrix.index.name = 'Actual'\n",
    "df_matrix.columns.name = 'Predicted'\n",
    "sns.heatmap(df_matrix, cmap=\"Blues\", annot=True, annot_kws={\"size\": 16}) "
   ]
  },
  {
   "cell_type": "code",
   "execution_count": null,
   "id": "8d62b5df-0d8a-4180-a7ca-df48e83adc76",
   "metadata": {},
   "outputs": [],
   "source": [
    "#Get probabilities of predictions\n",
    "\n",
    "pred_proba = xgb_model.predict_proba(X_validation_scaled)\n",
    "pred_proba"
   ]
  },
  {
   "cell_type": "code",
   "execution_count": null,
   "id": "7997723b-2a52-4e7d-9d0e-84864a6f4e42",
   "metadata": {},
   "outputs": [],
   "source": [
    "proba_df = pd.DataFrame(pred_proba.round(2))"
   ]
  },
  {
   "cell_type": "code",
   "execution_count": null,
   "id": "64e26920-a552-41ba-a33a-9840bb966264",
   "metadata": {},
   "outputs": [],
   "source": [
    "#Formatting probabilities DataFrame\n",
    "\n",
    "proba_df[\"Actual\"] = y_validation.reset_index(drop=True)\n",
    "proba_df.columns = [\"Sell Probability\", \"Pass Probability\", \"Buy Probability\", \"Actual\"] #\"'Pass' Probability\", \"'Buy' Probability\", \"'Strong Buy' Probability\", \"'Very High Return' Prob.\", \"Actual\"]\n",
    "proba_df"
   ]
  },
  {
   "cell_type": "code",
   "execution_count": null,
   "id": "d8b19504-17eb-44a8-b663-d4490ac7462e",
   "metadata": {},
   "outputs": [],
   "source": [
    "#Labeling caterogires\n",
    "\n",
    "proba_df.loc[proba_df[\"Actual\"] == 0, \"Actual\"] = \"Sell\"\n",
    "proba_df.loc[proba_df[\"Actual\"] == 1, \"Actual\"] = \"Pass\"\n",
    "proba_df.loc[proba_df[\"Actual\"] == 2, \"Actual\"] = \"Buy\"\n",
    "\n",
    "proba_df.head(50)"
   ]
  },
  {
   "cell_type": "code",
   "execution_count": null,
   "id": "27c7a3bb-b6f4-4181-b4f8-62e5c5cc7330",
   "metadata": {},
   "outputs": [],
   "source": [
    "#Get ROC AUC score\n",
    "\n",
    "roc_auc_score(y_validation, pred_proba, multi_class=\"ovr\")"
   ]
  },
  {
   "cell_type": "markdown",
   "id": "9b41a519-cee4-4522-97e0-fddb2fd247fc",
   "metadata": {},
   "source": [
    "## 4.2.3.) Determining Feature Importance for XGBoost Model"
   ]
  },
  {
   "cell_type": "code",
   "execution_count": null,
   "id": "b39cdd6e-4d37-4cdf-8df2-65e2b18e11af",
   "metadata": {},
   "outputs": [],
   "source": [
    "#Feature importances\n",
    "\n",
    "importances = xgb_model.feature_importances_"
   ]
  },
  {
   "cell_type": "code",
   "execution_count": null,
   "id": "b45d369a-7f6f-4b0c-94fa-d76f5beff19f",
   "metadata": {},
   "outputs": [],
   "source": [
    "important_features = zip(X_validation.columns, xgb_model.feature_importances_)"
   ]
  },
  {
   "cell_type": "code",
   "execution_count": null,
   "id": "ea6fc64a-a24d-4de1-9d2b-f413dc6b47e3",
   "metadata": {},
   "outputs": [],
   "source": [
    "importances_df = pd.DataFrame(important_features)"
   ]
  },
  {
   "cell_type": "code",
   "execution_count": null,
   "id": "39990946-68ed-4a9f-b40b-fed9286df25c",
   "metadata": {},
   "outputs": [],
   "source": [
    "importances_df = importances_df.rename(columns={0: 'Feature', 1: 'Importance'})"
   ]
  },
  {
   "cell_type": "code",
   "execution_count": null,
   "id": "d96ee5ca-a8f2-4db2-8d76-c0ef545ea114",
   "metadata": {},
   "outputs": [],
   "source": [
    "importances_df = importances_df.set_index('Feature')"
   ]
  },
  {
   "cell_type": "code",
   "execution_count": null,
   "id": "12e149d8-1907-4c06-924b-cd68789a8be4",
   "metadata": {},
   "outputs": [],
   "source": [
    "importances_df = importances_df.sort_values(by='Importance', ascending=False)"
   ]
  },
  {
   "cell_type": "code",
   "execution_count": null,
   "id": "fc406313-43df-4470-8e59-e9c388bb4122",
   "metadata": {},
   "outputs": [],
   "source": [
    "importances_df"
   ]
  },
  {
   "cell_type": "code",
   "execution_count": null,
   "id": "90d39983-acd6-4c5f-9e2a-936ce8a1cf27",
   "metadata": {},
   "outputs": [],
   "source": [
    "#Plot the top 10 most important features\n",
    "\n",
    "importances_df[0:10].plot(\n",
    "    kind='barh',\n",
    "    color='green',\n",
    "    title='Feature Importance',\n",
    "    legend=True)"
   ]
  },
  {
   "cell_type": "markdown",
   "id": "61e2cd71-9ca8-4ab0-98cb-d1ad3cf3d59a",
   "metadata": {},
   "source": [
    "## 4.3.1.) Hyperparameter Tuning for KNN"
   ]
  },
  {
   "cell_type": "code",
   "execution_count": null,
   "id": "abdbad57-bccc-4f7f-b3af-7d15c9add9d9",
   "metadata": {},
   "outputs": [],
   "source": [
    "#List Hyperparameters that we want to tune.\n",
    "leaf_size = list(range(1,50))\n",
    "n_neighbors = list(range(1,30))\n",
    "p=[1,2]\n",
    "\n",
    "#Convert to dictionary\n",
    "hyperparameters = dict(leaf_size=leaf_size, n_neighbors=n_neighbors, p=p)\n",
    "\n",
    "#Create new KNN object\n",
    "knn_2 = KNeighborsClassifier()\n",
    "\n",
    "#Use GridSearch\n",
    "clf = GridSearchCV(knn_2, hyperparameters, cv=10)\n",
    "\n",
    "#Fit the model\n",
    "best_model = clf.fit(X_train_scaled, y_train)\n",
    "\n",
    "#Print The value of best Hyperparameters\n",
    "print('Best leaf_size:', best_model.best_estimator_.get_params()['leaf_size'])\n",
    "print('Best p:', best_model.best_estimator_.get_params()['p'])\n",
    "print('Best n_neighbors:', best_model.best_estimator_.get_params()['n_neighbors'])"
   ]
  },
  {
   "cell_type": "markdown",
   "id": "57b5a8db-499a-46fe-8b61-096bc84c117c",
   "metadata": {},
   "source": [
    "## 4.3.2.) Implementing Tuned Hyperparameters for KNN"
   ]
  },
  {
   "cell_type": "code",
   "execution_count": null,
   "id": "d9c0b47d-bf6e-41f8-b206-2739a537f132",
   "metadata": {},
   "outputs": [],
   "source": [
    "#Estimate accuracy on validation set\n",
    "\n",
    "kn_model = KNeighborsClassifier(n_neighbors=10, leaf_size=1, p=2)\n",
    "\n",
    "kn_model.fit(X_train_scaled, y_train)\n",
    "\n",
    "predictions = kn_model.predict(X_validation_scaled)\n",
    "\n",
    "print(accuracy_score(y_validation, predictions))\n",
    "\n",
    "print('Weighted Precision: {:.2f}'.format(precision_score(y_validation, predictions, average='weighted')))\n",
    "print('Weighted Recall: {:.2f}'.format(recall_score(y_validation, predictions, average='weighted')))\n",
    "print('Weighted F1-score: {:.2f}'.format(f1_score(y_validation, predictions, average='weighted')))\n",
    "\n",
    "print(classification_report(y_validation, predictions, target_names=[\"Sell\", \"Pass\", \"Buy\"])) #, \"Buy\", \"Strong Buy\", \"Very High Return\"]))\n",
    "\n",
    "print(confusion_matrix(y_validation, predictions))"
   ]
  },
  {
   "cell_type": "code",
   "execution_count": null,
   "id": "09e03cf7-e347-49fa-bf55-f30f00c2c220",
   "metadata": {},
   "outputs": [],
   "source": [
    "#Visualization of the Confusion Matrix\n",
    "\n",
    "df_matrix = pd.DataFrame(confusion_matrix(y_validation, predictions), columns=np.unique(y_validation), index = np.unique(y_validation))\n",
    "df_matrix.index.name = 'Actual'\n",
    "df_matrix.columns.name = 'Predicted'\n",
    "sns.heatmap(df_matrix, cmap=\"Blues\", annot=True, annot_kws={\"size\": 16}) "
   ]
  },
  {
   "cell_type": "markdown",
   "id": "dac5b0b2-e410-43ed-bf07-b3c4794861bb",
   "metadata": {
    "tags": []
   },
   "source": [
    "# __APPENDIX__"
   ]
  },
  {
   "cell_type": "markdown",
   "id": "56031260-c6c8-4c28-9a1a-b1973c9e32e3",
   "metadata": {},
   "source": [
    "## Extra Models to Test"
   ]
  },
  {
   "cell_type": "code",
   "execution_count": null,
   "id": "dc34b934-8237-45ae-a075-6fbf5d52d384",
   "metadata": {},
   "outputs": [],
   "source": [
    "#et_model = ExtraTreesClassifier()\n",
    "#et_model.fit(X_train_scaled, y_train)"
   ]
  },
  {
   "cell_type": "code",
   "execution_count": null,
   "id": "23a34fbc-e4a2-4e1b-8fd4-e62f906c6f8c",
   "metadata": {},
   "outputs": [],
   "source": [
    "#ab_model = AdaBoostClassifier()\n",
    "#ab_model.fit(X_train_scaled, y_train)"
   ]
  },
  {
   "cell_type": "code",
   "execution_count": null,
   "id": "63e0a2e9-29ac-4a20-a721-69bf9d1f5edd",
   "metadata": {},
   "outputs": [],
   "source": [
    "#gb_model = GradientBoostingClassifier()\n",
    "#ab_model.fit(X_train_scaled, y_train)"
   ]
  },
  {
   "cell_type": "markdown",
   "id": "25293db6-f8fb-4de7-a1c9-cd2af29702a1",
   "metadata": {},
   "source": []
  },
  {
   "cell_type": "code",
   "execution_count": null,
   "id": "4ecd2e36-1312-4fb5-bbf3-54c5c268233b",
   "metadata": {},
   "outputs": [],
   "source": []
  }
 ],
 "metadata": {
  "kernelspec": {
   "display_name": "Python 3 (ipykernel)",
   "language": "python",
   "name": "python3"
  },
  "language_info": {
   "codemirror_mode": {
    "name": "ipython",
    "version": 3
   },
   "file_extension": ".py",
   "mimetype": "text/x-python",
   "name": "python",
   "nbconvert_exporter": "python",
   "pygments_lexer": "ipython3",
   "version": "3.7.13"
  }
 },
 "nbformat": 4,
 "nbformat_minor": 5
}
